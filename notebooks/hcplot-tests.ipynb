{
 "cells": [
  {
   "cell_type": "code",
   "execution_count": 1,
   "metadata": {
    "collapsed": true
   },
   "outputs": [],
   "source": [
    "import sys\n",
    "sys.path = [\"/Users/bernhard/Development/hcplot/\"] + sys.path"
   ]
  },
  {
   "cell_type": "code",
   "execution_count": 2,
   "metadata": {
    "collapsed": false
   },
   "outputs": [
    {
     "name": "stdout",
     "output_type": "stream",
     "text": [
      "\n",
      "- Highsoft software products (www.highcharts.com) are not free for commercial and Governmental use.\n",
      "  (see https://shop.highsoft.com/faq#Non-Commercial-0 for conditions for Non-commercial use).\n",
      "- This product includes color specifications and designs developed by Cynthia Brewer\n",
      "  http://colorbrewer.org\n",
      "- D3 category colors and the interpolateRGB algorithm have been taken over from https://d3js.org/,\n",
      "  Copyright 2010-2017 Mike Bostock\n",
      "\n"
     ]
    }
   ],
   "source": [
    "from hcplot.highcharts import Figure, PlotOptions, DrillDown, DrillUpButton, SeriesOptions, Series, SeriesData, \\\n",
    "    Title, Legend, Chart, XAxis, YAxis, DataLabels, Position, SvgTheme, SvgButtonTheme, ButtonStates, Marker, \\\n",
    "    FillColor, LinearGradient, RadialGradient, GradientStop\n",
    "from hcplot.highcharts.series import ColumnOptions, BubbleOptions"
   ]
  },
  {
   "cell_type": "code",
   "execution_count": 3,
   "metadata": {
    "collapsed": false
   },
   "outputs": [],
   "source": [
    "f = Figure(\n",
    "    title=Title(text=\"Graph\"), \n",
    "    chart=Chart(type_=\"column\"), \n",
    "    xAxis=XAxis(type_=\"category\"), \n",
    "    legend=Legend(enabled=False), \n",
    "    plotOptions=PlotOptions(       \n",
    "        series=ColumnOptions(\n",
    "            borderWidth=0, \n",
    "            dataLabels=DataLabels(enabled=True)\n",
    "        )\n",
    "    ), \n",
    "    series=[\n",
    "        ColumnOptions(\n",
    "            name=\"Things\", \n",
    "            colorByPoint=True,\n",
    "            data=[\n",
    "                SeriesData(name='Dieren', y=5, drilldown='animals'),\n",
    "                SeriesData(name='Fruit', y=2, drilldown='fruits'),\n",
    "                SeriesData(name='Auto\\'s', y=4)\n",
    "            ]\n",
    "        )\n",
    "    ],\n",
    "    drilldown=DrillDown(\n",
    "        drillUpButton=DrillUpButton(\n",
    "            relativeTo='spacingBox',\n",
    "            position=Position(x=0, y=0),\n",
    "            theme=SvgButtonTheme(\n",
    "                fill='white', stroke_width=1, stroke='silver', r=0,\n",
    "                states=ButtonStates(\n",
    "                    hover=SvgTheme(fill='#a4edba'),\n",
    "                    select=SvgTheme(stroke='#039',fill='#a4edba')\n",
    "                )\n",
    "            )\n",
    "        ),\n",
    "        series=[\n",
    "            ColumnOptions(\n",
    "                id_='animals',\n",
    "                data=[\n",
    "                    ['Katten', 4],\n",
    "                    ['Honden', 2],\n",
    "                    ['Koeien', 1],\n",
    "                    ['Schapen', 2],\n",
    "                    ['Varkens', 1]\n",
    "                ]\n",
    "            ), \n",
    "            ColumnOptions(\n",
    "                id_='fruits',\n",
    "                data=[\n",
    "                    ['Appels', 4],\n",
    "                    ['Sinaasappels', 2]\n",
    "                ]\n",
    "            )\n",
    "        ]\n",
    "    )\n",
    ")"
   ]
  },
  {
   "cell_type": "code",
   "execution_count": 4,
   "metadata": {
    "collapsed": false
   },
   "outputs": [
    {
     "data": {
      "text/plain": [
       "{'chart': {'type': 'column'},\n",
       " 'drilldown': {'drillUpButton': {'position': {'x': 0.0, 'y': 0.0},\n",
       "   'relativeTo': 'spacingBox',\n",
       "   'theme': {'fill': 'white',\n",
       "    'r': 0,\n",
       "    'states': {'hover': {'fill': '#a4edba'},\n",
       "     'select': {'fill': '#a4edba', 'stroke': '#039'}},\n",
       "    'stroke': 'silver',\n",
       "    'strokewidth': 1}},\n",
       "  'series': [{'data': [['Katten', 4],\n",
       "     ['Honden', 2],\n",
       "     ['Koeien', 1],\n",
       "     ['Schapen', 2],\n",
       "     ['Varkens', 1]],\n",
       "    'id': 'animals'},\n",
       "   {'data': [['Appels', 4], ['Sinaasappels', 2]], 'id': 'fruits'}]},\n",
       " 'legend': {'enabled': False},\n",
       " 'plotOptions': {'series': {'borderWidth': 0,\n",
       "   'dataLabels': {'enabled': True}}},\n",
       " 'series': [{'colorByPoint': True,\n",
       "   'data': [{'drilldown': 'animals', 'name': 'Dieren', 'y': 5.0},\n",
       "    {'drilldown': 'fruits', 'name': 'Fruit', 'y': 2.0},\n",
       "    {'name': \"Auto's\", 'y': 4.0}],\n",
       "   'name': 'Things'}],\n",
       " 'title': {'text': 'Graph'},\n",
       " 'xAxis': {'type': 'category'}}"
      ]
     },
     "execution_count": 4,
     "metadata": {},
     "output_type": "execute_result"
    }
   ],
   "source": [
    "f.toDict()"
   ]
  },
  {
   "cell_type": "code",
   "execution_count": 5,
   "metadata": {
    "collapsed": true
   },
   "outputs": [],
   "source": [
    "data1 = [\n",
    "    [9, 81, 63],\n",
    "    [98, 5, 89],\n",
    "    [51, 50, 73],\n",
    "    [41, 22, 14],\n",
    "    [58, 24, 20],\n",
    "    [78, 37, 34],\n",
    "    [55, 56, 53],\n",
    "    [18, 45, 70],\n",
    "    [42, 44, 28],\n",
    "    [3, 52, 59],\n",
    "    [31, 18, 97],\n",
    "    [79, 91, 63],\n",
    "    [93, 23, 23],\n",
    "    [44, 83, 22]\n",
    "]\n",
    "\n",
    "data2 = [\n",
    "    [42, 38, 20],\n",
    "    [6, 18, 1],\n",
    "    [1, 93, 55],\n",
    "    [57, 2, 90],\n",
    "    [80, 76, 22],\n",
    "    [11, 74, 96],\n",
    "    [88, 56, 10],\n",
    "    [30, 47, 49],\n",
    "    [57, 62, 98],\n",
    "    [4, 16, 16],\n",
    "    [46, 10, 11],\n",
    "    [22, 87, 89],\n",
    "    [57, 91, 82],\n",
    "    [45, 15, 98]\n",
    "]\n",
    "\n",
    "f2 = Figure(\n",
    "    chart = Chart(type_='bubble', plotBorderWidth=1, zoomType='xy'),\n",
    "    title = Title (text='Highcharts bubbles with radial gradient fill'),\n",
    "    xAxis = XAxis(gridLineWidth=1),\n",
    "    yAxis = YAxis(startOnTick = False, endOnTick = False),\n",
    "    series=[\n",
    "        BubbleOptions(data=data1,\n",
    "            marker=Marker(\n",
    "                fillColor=FillColor (\n",
    "                    radialGradient=RadialGradient(cx=0.4, cy=0.3, r=0.7),\n",
    "                    stops=[\n",
    "                        GradientStop(stop=0.0, color='rgba(255,0,0,0.5)'),\n",
    "                        GradientStop(stop=1.0, color='rgba(0,0,255,0.5)')\n",
    "                    ]\n",
    "                )\n",
    "            )\n",
    "        ), \n",
    "        BubbleOptions(data=data2,\n",
    "            marker=Marker(\n",
    "                fillColor=\"rgba(0,255,255,0.5)\"\n",
    "            )\n",
    "        )\n",
    "    ]\n",
    ")"
   ]
  },
  {
   "cell_type": "code",
   "execution_count": 6,
   "metadata": {
    "collapsed": false
   },
   "outputs": [
    {
     "data": {
      "text/plain": [
       "{'chart': {'plotBorderWidth': 1, 'type': 'bubble', 'zoomType': 'xy'},\n",
       " 'series': [{'data': [[9, 81, 63],\n",
       "    [98, 5, 89],\n",
       "    [51, 50, 73],\n",
       "    [41, 22, 14],\n",
       "    [58, 24, 20],\n",
       "    [78, 37, 34],\n",
       "    [55, 56, 53],\n",
       "    [18, 45, 70],\n",
       "    [42, 44, 28],\n",
       "    [3, 52, 59],\n",
       "    [31, 18, 97],\n",
       "    [79, 91, 63],\n",
       "    [93, 23, 23],\n",
       "    [44, 83, 22]],\n",
       "   'marker': {'fillColor': {'radialGradient': {'cx': 0.4, 'cy': 0.3, 'r': 0.7},\n",
       "     'stops': [(0.0, 'rgba(255,0,0,0.500)'), (1.0, 'rgba(0,0,255,0.500)')]}}},\n",
       "  {'data': [[42, 38, 20],\n",
       "    [6, 18, 1],\n",
       "    [1, 93, 55],\n",
       "    [57, 2, 90],\n",
       "    [80, 76, 22],\n",
       "    [11, 74, 96],\n",
       "    [88, 56, 10],\n",
       "    [30, 47, 49],\n",
       "    [57, 62, 98],\n",
       "    [4, 16, 16],\n",
       "    [46, 10, 11],\n",
       "    [22, 87, 89],\n",
       "    [57, 91, 82],\n",
       "    [45, 15, 98]],\n",
       "   'marker': {'fillColor': 'rgba(0,255,255,0.500)'}}],\n",
       " 'title': {'text': 'Highcharts bubbles with radial gradient fill'},\n",
       " 'xAxis': {'gridLineWidth': 1},\n",
       " 'yAxis': {'endOnTick': False, 'startOnTick': False}}"
      ]
     },
     "execution_count": 6,
     "metadata": {},
     "output_type": "execute_result"
    }
   ],
   "source": [
    "f2.toDict()"
   ]
  },
  {
   "cell_type": "code",
   "execution_count": null,
   "metadata": {
    "collapsed": true
   },
   "outputs": [],
   "source": []
  },
  {
   "cell_type": "code",
   "execution_count": null,
   "metadata": {
    "collapsed": true
   },
   "outputs": [],
   "source": []
  }
 ],
 "metadata": {
  "kernelspec": {
   "display_name": "Python 3",
   "language": "python",
   "name": "python3"
  },
  "language_info": {
   "codemirror_mode": {
    "name": "ipython",
    "version": 3
   },
   "file_extension": ".py",
   "mimetype": "text/x-python",
   "name": "python",
   "nbconvert_exporter": "python",
   "pygments_lexer": "ipython3",
   "version": "3.5.2"
  }
 },
 "nbformat": 4,
 "nbformat_minor": 2
}
