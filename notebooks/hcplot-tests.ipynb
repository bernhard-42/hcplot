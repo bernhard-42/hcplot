{
 "cells": [
  {
   "cell_type": "code",
   "execution_count": 1,
   "metadata": {
    "collapsed": true
   },
   "outputs": [],
   "source": [
    "import sys\n",
    "sys.path = [\"/Users/bernhard/Development/hcplot/\"] + sys.path"
   ]
  },
  {
   "cell_type": "code",
   "execution_count": 2,
   "metadata": {
    "collapsed": false
   },
   "outputs": [
    {
     "name": "stdout",
     "output_type": "stream",
     "text": [
      "\n",
      "- Highsoft software products (www.highcharts.com) are not free for commercial and Governmental use.\n",
      "  (see https://shop.highsoft.com/faq#Non-Commercial-0 for conditions for Non-commercial use).\n",
      "- This product includes color specifications and designs developed by Cynthia Brewer\n",
      "  http://colorbrewer.org\n",
      "- D3 category colors and the interpolateRGB algorithm have been taken over from https://d3js.org/,\n",
      "  Copyright 2010-2017 Mike Bostock\n",
      "\n"
     ]
    }
   ],
   "source": [
    "from hcplot.highcharts import Figure, PlotOptions, DrillDown, DrillUpButton, SeriesOptions, Series, SeriesData, Title, Legend, Chart, XAxis, DataLabels, \\\n",
    "    Position, SvgTheme, SvgButtonTheme, ButtonStates\n",
    "from hcplot.highcharts.series import ColumnOptions"
   ]
  },
  {
   "cell_type": "code",
   "execution_count": 3,
   "metadata": {
    "collapsed": false
   },
   "outputs": [],
   "source": [
    "f = Figure(\n",
    "    title=Title(text=\"Graph\"), \n",
    "    chart=Chart(type_=\"column\"), \n",
    "    xAxis=XAxis(type_=\"category\"), \n",
    "    legend=Legend(enabled=False), \n",
    "    plotOptions=PlotOptions(       \n",
    "        series=ColumnOptions(\n",
    "            borderWidth=0, \n",
    "            dataLabels=DataLabels(enabled=True)\n",
    "        )\n",
    "    ), \n",
    "    series=[\n",
    "        ColumnOptions(\n",
    "            name=\"Things\", \n",
    "            colorByPoint=True,\n",
    "            data=[\n",
    "                SeriesData(name='Dieren', y=5, drilldown='animals'),\n",
    "                SeriesData(name='Fruit', y=2, drilldown='fruits'),\n",
    "                SeriesData(name='Auto\\'s', y=4)\n",
    "            ]\n",
    "        )\n",
    "    ],\n",
    "    drilldown=DrillDown(\n",
    "        drillUpButton=DrillUpButton(\n",
    "            relativeTo='spacingBox',\n",
    "            position=Position(x=0, y=0),\n",
    "            theme=SvgButtonTheme(\n",
    "                fill='white',\n",
    "                stroke_width=1,\n",
    "                stroke='silver',\n",
    "                r=0,\n",
    "                states=ButtonStates(\n",
    "                    hover=SvgTheme(\n",
    "                        fill='#a4edba'\n",
    "                    ),\n",
    "                    select=SvgTheme(\n",
    "                        stroke='#039',\n",
    "                        fill='#a4edba'\n",
    "                    )\n",
    "                )\n",
    "            )\n",
    "        ),\n",
    "        series=[\n",
    "            ColumnOptions(\n",
    "                id_='animals',\n",
    "                data=[\n",
    "                    ['Katten', 4],\n",
    "                    ['Honden', 2],\n",
    "                    ['Koeien', 1],\n",
    "                    ['Schapen', 2],\n",
    "                    ['Varkens', 1]\n",
    "                ]\n",
    "            ), \n",
    "            ColumnOptions(\n",
    "                id_='fruits',\n",
    "                data=[\n",
    "                    ['Appels', 4],\n",
    "                    ['Sinaasappels', 2]\n",
    "                ]\n",
    "            )\n",
    "        ]\n",
    "    )\n",
    ")"
   ]
  },
  {
   "cell_type": "code",
   "execution_count": 4,
   "metadata": {
    "collapsed": false
   },
   "outputs": [
    {
     "data": {
      "text/plain": [
       "{'chart': {'type': 'column'},\n",
       " 'drilldown': {'drillUpButton': {'position': {'x': 0.0, 'y': 0.0},\n",
       "   'relativeTo': 'spacingBox',\n",
       "   'theme': {'fill': 'white',\n",
       "    'r': 0,\n",
       "    'states': {'hover': {'fill': '#a4edba'},\n",
       "     'select': {'fill': '#a4edba', 'stroke': '#039'}},\n",
       "    'stroke': 'silver',\n",
       "    'strokewidth': 1}},\n",
       "  'series': [{'data': [['Katten', 4],\n",
       "     ['Honden', 2],\n",
       "     ['Koeien', 1],\n",
       "     ['Schapen', 2],\n",
       "     ['Varkens', 1]],\n",
       "    'id': 'animals'},\n",
       "   {'data': [['Appels', 4], ['Sinaasappels', 2]], 'id': 'fruits'}]},\n",
       " 'legend': {'enabled': False},\n",
       " 'plotOptions': {'series': {'borderWidth': 0,\n",
       "   'dataLabels': {'enabled': True}}},\n",
       " 'series': [{'colorByPoint': True,\n",
       "   'data': [{'drilldown': 'animals', 'name': 'Dieren', 'y': 5.0},\n",
       "    {'drilldown': 'fruits', 'name': 'Fruit', 'y': 2.0},\n",
       "    {'name': \"Auto's\", 'y': 4.0}],\n",
       "   'name': 'Things'}],\n",
       " 'title': {'text': 'Graph'},\n",
       " 'xAxis': {'type': 'category'}}"
      ]
     },
     "execution_count": 4,
     "metadata": {},
     "output_type": "execute_result"
    }
   ],
   "source": [
    "f.toDict()"
   ]
  },
  {
   "cell_type": "code",
   "execution_count": 5,
   "metadata": {
    "collapsed": false
   },
   "outputs": [
    {
     "name": "stdout",
     "output_type": "stream",
     "text": [
      "{\"xAxis\": {\"type\": \"category\"}, \"series\": [{\"colorByPoint\": true, \"name\": \"Things\", \"data\": [{\"drilldown\": \"animals\", \"name\": \"Dieren\", \"y\": 5.0}, {\"drilldown\": \"fruits\", \"name\": \"Fruit\", \"y\": 2.0}, {\"name\": \"Auto's\", \"y\": 4.0}]}], \"chart\": {\"type\": \"column\"}, \"plotOptions\": {\"series\": {\"borderWidth\": 0, \"dataLabels\": {\"enabled\": true}}}, \"title\": {\"text\": \"Graph\"}, \"drilldown\": {\"series\": [{\"id\": \"animals\", \"data\": [[\"Katten\", 4], [\"Honden\", 2], [\"Koeien\", 1], [\"Schapen\", 2], [\"Varkens\", 1]]}, {\"id\": \"fruits\", \"data\": [[\"Appels\", 4], [\"Sinaasappels\", 2]]}], \"drillUpButton\": {\"position\": {\"x\": 0.0, \"y\": 0.0}, \"relativeTo\": \"spacingBox\", \"theme\": {\"strokewidth\": 1, \"states\": {\"hover\": {\"fill\": \"#a4edba\"}, \"select\": {\"fill\": \"#a4edba\", \"stroke\": \"#039\"}}, \"stroke\": \"silver\", \"fill\": \"white\", \"r\": 0}}}, \"legend\": {\"enabled\": false}}\n"
     ]
    }
   ],
   "source": [
    "print(f.toJson())"
   ]
  },
  {
   "cell_type": "code",
   "execution_count": 288,
   "metadata": {
    "collapsed": false
   },
   "outputs": [],
   "source": [
    "from hcplot.highcharts.base import HCBase\n",
    "from hcplot.highcharts.types import Color\n",
    "from traitlets import Float, Instance, List, Tuple, TraitType, Undefined\n",
    "\n",
    "from traitlets import HasTraits\n",
    "import json\n",
    "\n",
    "\n",
    "class HCBase(HasTraits):\n",
    "\n",
    "    def handleList(self, value):\n",
    "        result = []\n",
    "        for el in value:\n",
    "            if isinstance(el, (tuple, list)):\n",
    "                result.append(self.handleList(el))\n",
    "            else:\n",
    "                print(\"->\", el, hasattr(el, \"class_traits\"))\n",
    "                result.append(el)\n",
    "        return result\n",
    "    \n",
    "    def toDict(self):\n",
    "        result = {}\n",
    "        for key, cls in self.class_traits().items():\n",
    "            value = getattr(self, key)\n",
    "            print(key, cls, value)\n",
    "            if value is not None:\n",
    "                if key[-1] == \"_\":\n",
    "                    key = key[:-1]\n",
    "                key = key.replace(\"_\", \"\")\n",
    "\n",
    "                if isinstance(value, HCBase):\n",
    "                    print(1)\n",
    "                    result[key] = value.toDict()\n",
    "                elif hasattr(cls, \"conv\"):\n",
    "                    print(2)\n",
    "                    result[key] = cls.conv(value)\n",
    "                else:\n",
    "                    print(3)\n",
    "                    if isinstance(value, (tuple, list)):\n",
    "                        print(4)\n",
    "                        if len(value) > 0:\n",
    "                            print(5)\n",
    "                            result[key] = []\n",
    "                            for el in value:\n",
    "                                if hasattr(el, \"class_traits\"):\n",
    "                                    for el2 in el.class_traits().items():\n",
    "                                        \n",
    "                                    print(8, el.class_traits().items())\n",
    "                                    result[key].append(el.conv())\n",
    "                                elif isinstance(value[0], HCBase):\n",
    "                                    print(9)\n",
    "                                    result[key].append(value.toDict())\n",
    "                                else:\n",
    "                                    print(10)\n",
    "                                    result[key].append(el)\n",
    "                    elif isinstance(value, dict):\n",
    "                        print(6)\n",
    "                        if len(value) > 0:\n",
    "                            result[key] = {k: v.toDict() for k, v in value.items()}\n",
    "                    else:\n",
    "                        print(7)\n",
    "                        result[key] = value\n",
    "        return result\n",
    "\n",
    "    def toJson(self, indent=None):\n",
    "        return json.dumps(self.toDict(), indent=indent)\n",
    "\n",
    "\n",
    "class LinearGradient(HCBase):\n",
    "    x1 = Float(0.0, allow_none=False)\n",
    "    x2 = Float(0.0, allow_none=False)\n",
    "    y1 = Float(1.0, allow_none=False)\n",
    "    y2 = Float(1.0, allow_none=False)\n",
    "\n",
    "\n",
    "class RadialGradient(HCBase):\n",
    "    cx = Float(0.0, allow_none=False)\n",
    "    cy = Float(0.0, allow_none=False)\n",
    "    r = Float(1.0, allow_none=False)\n",
    "\n",
    "\n",
    "class Gradient(TraitType):\n",
    "    default_value = 0\n",
    "    info_text = 'LinearGradient or RadialGradient'\n",
    "\n",
    "    def __init__(self, default_value=Undefined, allow_none=False, **kwargs):\n",
    "        super(__class__, self).__init__(default_value=default_value,          # noqa F821\n",
    "                                        allow_none=allow_none, **kwargs)\n",
    "\n",
    "    def validate(self, obj, value):\n",
    "        if type is None or type(value) in [LinearGradient, RadialGradient]:\n",
    "            return value\n",
    "        else:\n",
    "            self.error(obj, value)\n",
    "\n",
    "class GradientStop(HasTraits):\n",
    "    stop = Float(None, allow_none=True)\n",
    "    color = Color(None, allow_none= True)\n",
    "\n",
    "    \n",
    "class _GradientStop(TraitType):\n",
    "    default_value = None\n",
    "    info_text = 'GradientStop'\n",
    "\n",
    "    def __init__(self, default_value=Undefined, allow_none=False, **kwargs):\n",
    "        super(__class__, self).__init__(default_value=default_value,          # noqa F821\n",
    "                                        allow_none=allow_none, **kwargs)\n",
    "\n",
    "    def validate(self, obj, value):\n",
    "        if (value is None) or (type(value) == GradientStop):\n",
    "            return value\n",
    "        else:\n",
    "            self.error(obj, value)\n",
    "\n",
    "    @staticmethod\n",
    "    def conv(value):\n",
    "        return (value.stop, Color.conv(value.color))\n",
    "\n",
    "\n",
    "class FillColor(HCBase):\n",
    "    linearGradient = Instance(LinearGradient, allow_none=True)\n",
    "    radialGradient = Instance(RadialGradient, allow_none=True)\n",
    "    stops = List(_GradientStop(None, allow_none=True))\n"
   ]
  },
  {
   "cell_type": "code",
   "execution_count": 289,
   "metadata": {
    "collapsed": false
   },
   "outputs": [],
   "source": [
    "fc = FillColor(\n",
    "    linearGradient=LinearGradient(x1=0, x2=0, y1=200, y2=500),\n",
    "    stops=[GradientStop(stop=0.0, color=\"Green\"), GradientStop(stop=1.0, color=\"Red\")]\n",
    ")"
   ]
  },
  {
   "cell_type": "code",
   "execution_count": 290,
   "metadata": {
    "collapsed": false
   },
   "outputs": [
    {
     "name": "stdout",
     "output_type": "stream",
     "text": [
      "radialGradient <traitlets.traitlets.Instance object at 0x10ea62f98> None\n",
      "stops <traitlets.traitlets.List object at 0x10ea490b8> [<__main__.GradientStop object at 0x10e93d240>, <__main__.GradientStop object at 0x10e93d908>]\n",
      "3\n",
      "4\n",
      "5\n",
      "8 dict_items([('stop', <traitlets.traitlets.Float object at 0x10ea62f28>), ('color', <hcplot.highcharts.types.Color object at 0x10ea62f60>)])\n"
     ]
    },
    {
     "ename": "AttributeError",
     "evalue": "'GradientStop' object has no attribute 'conv'",
     "output_type": "error",
     "traceback": [
      "\u001b[0;31m---------------------------------------------------------------------------\u001b[0m",
      "\u001b[0;31mAttributeError\u001b[0m                            Traceback (most recent call last)",
      "\u001b[0;32m<ipython-input-290-ee104eb0f1c7>\u001b[0m in \u001b[0;36m<module>\u001b[0;34m()\u001b[0m\n\u001b[0;32m----> 1\u001b[0;31m \u001b[0mfc\u001b[0m\u001b[0;34m.\u001b[0m\u001b[0mtoDict\u001b[0m\u001b[0;34m(\u001b[0m\u001b[0;34m)\u001b[0m\u001b[0;34m\u001b[0m\u001b[0m\n\u001b[0m",
      "\u001b[0;32m<ipython-input-288-6a3dcb4eb51d>\u001b[0m in \u001b[0;36mtoDict\u001b[0;34m(self)\u001b[0m\n\u001b[1;32m     45\u001b[0m                                 \u001b[0;32mif\u001b[0m \u001b[0mhasattr\u001b[0m\u001b[0;34m(\u001b[0m\u001b[0mel\u001b[0m\u001b[0;34m,\u001b[0m \u001b[0;34m\"class_traits\"\u001b[0m\u001b[0;34m)\u001b[0m\u001b[0;34m:\u001b[0m\u001b[0;34m\u001b[0m\u001b[0m\n\u001b[1;32m     46\u001b[0m                                     \u001b[0mprint\u001b[0m\u001b[0;34m(\u001b[0m\u001b[0;36m8\u001b[0m\u001b[0;34m,\u001b[0m \u001b[0mel\u001b[0m\u001b[0;34m.\u001b[0m\u001b[0mclass_traits\u001b[0m\u001b[0;34m(\u001b[0m\u001b[0;34m)\u001b[0m\u001b[0;34m.\u001b[0m\u001b[0mitems\u001b[0m\u001b[0;34m(\u001b[0m\u001b[0;34m)\u001b[0m\u001b[0;34m)\u001b[0m\u001b[0;34m\u001b[0m\u001b[0m\n\u001b[0;32m---> 47\u001b[0;31m                                     \u001b[0mresult\u001b[0m\u001b[0;34m[\u001b[0m\u001b[0mkey\u001b[0m\u001b[0;34m]\u001b[0m\u001b[0;34m.\u001b[0m\u001b[0mappend\u001b[0m\u001b[0;34m(\u001b[0m\u001b[0mel\u001b[0m\u001b[0;34m.\u001b[0m\u001b[0mconv\u001b[0m\u001b[0;34m(\u001b[0m\u001b[0;34m)\u001b[0m\u001b[0;34m)\u001b[0m\u001b[0;34m\u001b[0m\u001b[0m\n\u001b[0m\u001b[1;32m     48\u001b[0m                                 \u001b[0;32melif\u001b[0m \u001b[0misinstance\u001b[0m\u001b[0;34m(\u001b[0m\u001b[0mvalue\u001b[0m\u001b[0;34m[\u001b[0m\u001b[0;36m0\u001b[0m\u001b[0;34m]\u001b[0m\u001b[0;34m,\u001b[0m \u001b[0mHCBase\u001b[0m\u001b[0;34m)\u001b[0m\u001b[0;34m:\u001b[0m\u001b[0;34m\u001b[0m\u001b[0m\n\u001b[1;32m     49\u001b[0m                                     \u001b[0mprint\u001b[0m\u001b[0;34m(\u001b[0m\u001b[0;36m9\u001b[0m\u001b[0;34m)\u001b[0m\u001b[0;34m\u001b[0m\u001b[0m\n",
      "\u001b[0;31mAttributeError\u001b[0m: 'GradientStop' object has no attribute 'conv'"
     ]
    }
   ],
   "source": [
    "fc.toDict()"
   ]
  },
  {
   "cell_type": "code",
   "execution_count": 76,
   "metadata": {
    "collapsed": false
   },
   "outputs": [],
   "source": [
    "class X(HCBase):\n",
    "    color = Color(None, allow_none=True)"
   ]
  },
  {
   "cell_type": "code",
   "execution_count": 77,
   "metadata": {
    "collapsed": true
   },
   "outputs": [],
   "source": [
    "x = X(color=\"Blue\")"
   ]
  },
  {
   "cell_type": "code",
   "execution_count": 78,
   "metadata": {
    "collapsed": false
   },
   "outputs": [
    {
     "name": "stdout",
     "output_type": "stream",
     "text": [
      "==> color <hcplot.highcharts.types.Color object at 0x10e7da5f8>\n"
     ]
    },
    {
     "data": {
      "text/plain": [
       "{'color': 'rgba(0,0,255,1.000)'}"
      ]
     },
     "execution_count": 78,
     "metadata": {},
     "output_type": "execute_result"
    }
   ],
   "source": [
    "x.toDict()"
   ]
  },
  {
   "cell_type": "code",
   "execution_count": 110,
   "metadata": {
    "collapsed": false
   },
   "outputs": [],
   "source": [
    "\n",
    "test = (0.0, Color((0,0,255)))"
   ]
  },
  {
   "cell_type": "code",
   "execution_count": 112,
   "metadata": {
    "collapsed": false
   },
   "outputs": [
    {
     "data": {
      "text/plain": [
       "True"
      ]
     },
     "execution_count": 112,
     "metadata": {},
     "output_type": "execute_result"
    }
   ],
   "source": [
    "isinstance(test[1], Color)"
   ]
  },
  {
   "cell_type": "code",
   "execution_count": null,
   "metadata": {
    "collapsed": true
   },
   "outputs": [],
   "source": [
    "fc.__class__"
   ]
  }
 ],
 "metadata": {
  "kernelspec": {
   "display_name": "Python 3",
   "language": "python",
   "name": "python3"
  },
  "language_info": {
   "codemirror_mode": {
    "name": "ipython",
    "version": 3
   },
   "file_extension": ".py",
   "mimetype": "text/x-python",
   "name": "python",
   "nbconvert_exporter": "python",
   "pygments_lexer": "ipython3",
   "version": "3.5.2"
  }
 },
 "nbformat": 4,
 "nbformat_minor": 2
}
