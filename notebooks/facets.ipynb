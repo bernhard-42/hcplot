{
 "cells": [
  {
   "cell_type": "code",
   "execution_count": 1,
   "metadata": {
    "collapsed": false
   },
   "outputs": [
    {
     "data": {
      "text/html": [
       "<style>.container { width:90% !important; }</style>"
      ],
      "text/plain": [
       "<IPython.core.display.HTML object>"
      ]
     },
     "metadata": {},
     "output_type": "display_data"
    }
   ],
   "source": [
    "from IPython.core.display import display, HTML\n",
    "display(HTML(\"<style>.container { width:90% !important; }</style>\"))"
   ]
  },
  {
   "cell_type": "code",
   "execution_count": 2,
   "metadata": {
    "collapsed": false
   },
   "outputs": [],
   "source": [
    "from hcplot import loadLibraries, Figure, Points, Line, mapping, single, grid, matrix, wrap, scales\n",
    "from hcplot.scale import brewer\n",
    "from hcplot.color import ColorBrewer, D3Colors"
   ]
  },
  {
   "cell_type": "code",
   "execution_count": 3,
   "metadata": {
    "collapsed": false
   },
   "outputs": [
    {
     "data": {
      "text/html": [
       "<style>.hcTable {\n",
       "    border-color:white !important; \n",
       "    border-width:0px !important;\n",
       "    border-spacing: 1px !important;\n",
       "}\n",
       "\n",
       "th.colHeader > div {\n",
       "  background-color:#f0f0f0;\n",
       "  text-align: center;\n",
       "}\n",
       "\n",
       "th.rowHeader > div {\n",
       "  background-color:#f0f0f0;\n",
       "  height: 100%;\n",
       "  width: inherit;\n",
       "  display: flex;\n",
       "  justify-content: center;\n",
       "  white-space: nowrap; \n",
       "  writing-mode: vertical-lr;\n",
       "}\n",
       "</style>"
      ],
      "text/plain": [
       "<IPython.core.display.HTML object>"
      ]
     },
     "metadata": {},
     "output_type": "display_data"
    },
    {
     "data": {
      "application/javascript": [
       "/**\n",
       "  * Copyright 2017 Bernhard Walter\n",
       "  *\n",
       "  * Licensed under the Apache License, Version 2.0 (the \"License\");\n",
       "  * you may not use this file except in compliance with the License.\n",
       "  * You may obtain a copy of the License at\n",
       "  *\n",
       "  *    http://www.apache.org/licenses/LICENSE-2.0\n",
       "  *\n",
       "  * Unless required by applicable law or agreed to in writing, software\n",
       "  * distributed under the License is distributed on an \"AS IS\" BASIS,\n",
       "  * WITHOUT WARRANTIES OR CONDITIONS OF ANY KIND, either express or implied.\n",
       "  * See the License for the specific language governing permissions and\n",
       "  * limitations under the License.\n",
       "  */\n",
       "\n",
       "require.config({\n",
       "    baseUrl: '/js',\n",
       "    shim: {\n",
       "        \"highcharts-more\":            ['highcharts'],\n",
       "        \"highcharts-export\":          ['highcharts'],\n",
       "        \"highcharts-offline-export\":  ['highcharts-export'],\n",
       "        \"highcharts-boost\":           ['highcharts']\n",
       "    },\n",
       "    paths: {\n",
       "        'highcharts':                 'http://code.highcharts.com/highcharts',\n",
       "        'highcharts-more':            'http://code.highcharts.com/highcharts-more',\n",
       "        'highcharts-export':          'http://code.highcharts.com/modules/exporting',\n",
       "        'highcharts-offline-export':  'http://code.highcharts.com/modules/offline-exporting',\n",
       "        'highcharts-boost':           'http://code.highcharts.com/modules/boost'\n",
       "    }\n",
       "});\n",
       "\n",
       "requirejs.onError = function (err) {\n",
       "    element.text(err.requireType, err.requireModules)\n",
       "}\n",
       "\n",
       "window.hc_charts = {}\n",
       "\n",
       "window.hc_charts.promise = new Promise(function(resolve, reject) {\n",
       "    var modules = ['highcharts', 'highcharts-more', 'highcharts-export', 'highcharts-offline-export', 'highcharts-boost'];\n",
       "    requirejs(modules, function(hc) {\n",
       "        element.text(\"Loaded HighCharts \" + Highcharts.version)\n",
       "        resolve(Highcharts)\n",
       "    });\n",
       "})"
      ],
      "text/plain": [
       "<IPython.core.display.Javascript object>"
      ]
     },
     "metadata": {},
     "output_type": "display_data"
    }
   ],
   "source": [
    "loadLibraries()"
   ]
  },
  {
   "cell_type": "code",
   "execution_count": 4,
   "metadata": {
    "collapsed": false
   },
   "outputs": [],
   "source": [
    "from ggplot import mpg, mtcars, diamonds"
   ]
  },
  {
   "cell_type": "code",
   "execution_count": null,
   "metadata": {
    "collapsed": false
   },
   "outputs": [],
   "source": [
    "%%sh \n",
    "cd /tmp\n",
    "wget -q https://raw.githubusercontent.com/pandas-dev/pandas/master/pandas/tests/data/iris.csv"
   ]
  },
  {
   "cell_type": "code",
   "execution_count": 5,
   "metadata": {
    "collapsed": false,
    "scrolled": true
   },
   "outputs": [],
   "source": [
    "import pandas as pd\n",
    "iris = pd.read_csv('/tmp/iris.csv')"
   ]
  },
  {
   "cell_type": "code",
   "execution_count": 12,
   "metadata": {
    "collapsed": false,
    "scrolled": false
   },
   "outputs": [
    {
     "data": {
      "text/html": [
       "<table id=\"hc_1c4ac6c8-a2e5-4dd5-aec7-b25937211cce\" class=\"hcTable\">\n",
       "  <tr id=\"hc_1c4ac6c8-a2e5-4dd5-aec7-b25937211cce_0\" class=\"hcTable\">\n",
       "\n",
       "    <th class=\"hcTable colHeader\" style=\"width:476px; height:20px; padding:1px 10px 1px 50px;\">\n",
       "        <div>class : 2seater</div>\n",
       "    </th>\n",
       "    <th class=\"hcTable colHeader\" style=\"width:476px; height:20px; padding:1px 10px 1px 50px;\">\n",
       "        <div>class : compact</div>\n",
       "    </th>\n",
       "    <th class=\"hcTable colHeader\" style=\"width:476px; height:20px; padding:1px 10px 1px 50px;\">\n",
       "        <div>class : midsize</div>\n",
       "    </th>\n",
       "  </tr>\n",
       "  <tr id=\"hc_1c4ac6c8-a2e5-4dd5-aec7-b25937211cce_0\" class=\"hcTable\">\n",
       "\n",
       "    <td class=\"hcTable\">\n",
       "        <div id=\"hc_1c4ac6c8-a2e5-4dd5-aec7-b25937211cce_0-0\" style=\"width:476px; height:314px; padding:1px 0px 30px 1px;\"></div>\n",
       "    </td>\n",
       "\n",
       "    <td class=\"hcTable\">\n",
       "        <div id=\"hc_1c4ac6c8-a2e5-4dd5-aec7-b25937211cce_0-1\" style=\"width:476px; height:314px; padding:1px 0px 30px 1px;\"></div>\n",
       "    </td>\n",
       "\n",
       "    <td class=\"hcTable\">\n",
       "        <div id=\"hc_1c4ac6c8-a2e5-4dd5-aec7-b25937211cce_0-2\" style=\"width:476px; height:314px; padding:1px 0px 30px 1px;\"></div>\n",
       "    </td>\n",
       "\n",
       "  </tr>\n",
       "  <tr id=\"hc_1c4ac6c8-a2e5-4dd5-aec7-b25937211cce_1\" class=\"hcTable\">\n",
       "\n",
       "    <th class=\"hcTable colHeader\" style=\"width:476px; height:20px; padding:1px 10px 1px 50px;\">\n",
       "        <div>class : minivan</div>\n",
       "    </th>\n",
       "    <th class=\"hcTable colHeader\" style=\"width:476px; height:20px; padding:1px 10px 1px 50px;\">\n",
       "        <div>class : pickup</div>\n",
       "    </th>\n",
       "    <th class=\"hcTable colHeader\" style=\"width:476px; height:20px; padding:1px 10px 1px 50px;\">\n",
       "        <div>class : subcompact</div>\n",
       "    </th>\n",
       "  </tr>\n",
       "  <tr id=\"hc_1c4ac6c8-a2e5-4dd5-aec7-b25937211cce_1\" class=\"hcTable\">\n",
       "\n",
       "    <td class=\"hcTable\">\n",
       "        <div id=\"hc_1c4ac6c8-a2e5-4dd5-aec7-b25937211cce_1-0\" style=\"width:476px; height:314px; padding:1px 0px 30px 1px;\"></div>\n",
       "    </td>\n",
       "\n",
       "    <td class=\"hcTable\">\n",
       "        <div id=\"hc_1c4ac6c8-a2e5-4dd5-aec7-b25937211cce_1-1\" style=\"width:476px; height:314px; padding:1px 0px 30px 1px;\"></div>\n",
       "    </td>\n",
       "\n",
       "    <td class=\"hcTable\">\n",
       "        <div id=\"hc_1c4ac6c8-a2e5-4dd5-aec7-b25937211cce_1-2\" style=\"width:476px; height:314px; padding:1px 0px 30px 1px;\"></div>\n",
       "    </td>\n",
       "\n",
       "  </tr>\n",
       "  <tr id=\"hc_1c4ac6c8-a2e5-4dd5-aec7-b25937211cce_2\" class=\"hcTable\">\n",
       "\n",
       "    <th class=\"hcTable colHeader\" style=\"width:476px; height:20px; padding:1px 10px 1px 50px;\">\n",
       "        <div>class : suv</div>\n",
       "    </th>\n",
       "    <th class=\"hcTable\" style=\"width:476px; height:20px; padding:1px 10px 1px 50px;\">\n",
       "        <div></div>\n",
       "    </th>\n",
       "    <th class=\"hcTable\" style=\"width:476px; height:20px; padding:1px 10px 1px 50px;\">\n",
       "        <div></div>\n",
       "    </th>\n",
       "  </tr>\n",
       "  <tr id=\"hc_1c4ac6c8-a2e5-4dd5-aec7-b25937211cce_2\" class=\"hcTable\">\n",
       "\n",
       "    <td class=\"hcTable\">\n",
       "        <div id=\"hc_1c4ac6c8-a2e5-4dd5-aec7-b25937211cce_2-0\" style=\"width:476px; height:314px; padding:1px 0px 30px 1px;\"></div>\n",
       "    </td>\n",
       "\n",
       "    <td class=\"hcTable\">\n",
       "        <div style=\"width:476px; height:284px; padding:1px 0px 25px 50px;\"></div>\n",
       "    </td>\n",
       "\n",
       "    <td class=\"hcTable\">\n",
       "        <div style=\"width:476px; height:284px; padding:1px 0px 25px 50px;\"></div>\n",
       "    </td>\n",
       "\n",
       "  </tr>\n",
       "</table>\n",
       "\n",
       "<script>\n",
       "    window.hc_charts.promise.then(function(HC) {\n",
       "\n",
       "//      console.log(\"0-0\")\n",
       "        HC.chart(\"hc_1c4ac6c8-a2e5-4dd5-aec7-b25937211cce_0-0\", {\"legend\": {\"enabled\": false}, \"credits\": false, \"xAxis\": {\"min\": null, \"tickWidth\": 1, \"lineWidth\": 1, \"max\": null, \"gridLineWidth\": 1, \"title\": {\"text\": null}}, \"yAxis\": {\"min\": null, \"tickWidth\": 1, \"lineWidth\": 1, \"max\": null, \"gridLineWidth\": 1, \"title\": {\"text\": null}}, \"chart\": {\"spacingRight\": 5, \"marginBottom\": 40, \"width\": 466, \"marginLeft\": 50, \"spacingLeft\": 5, \"height\": 314.0, \"spacingTop\": 5, \"zoomType\": \"xy\", \"spacingBottom\": 5}, \"title\": {\"text\": null}, \"series\": [{\"data\": [{\"x\": 7.0, \"marker\": {\"symbol\": \"triangle-down\"}, \"color\": \"rgb(231,41,138)\", \"y\": 24}, {\"x\": 6.2, \"marker\": {\"symbol\": \"triangle-down\"}, \"color\": \"rgb(231,41,138)\", \"y\": 25}, {\"x\": 6.2, \"marker\": {\"symbol\": \"triangle-down\"}, \"color\": \"rgb(231,41,138)\", \"y\": 26}, {\"x\": 5.7, \"marker\": {\"symbol\": \"triangle-down\"}, \"color\": \"rgb(231,41,138)\", \"y\": 23}, {\"x\": 5.7, \"marker\": {\"symbol\": \"triangle-down\"}, \"color\": \"rgb(231,41,138)\", \"y\": 26}], \"name\": \"hwy\", \"type\": \"scatter\", \"marker\": {\"radius\": 6, \"symbol\": \"diamond\"}, \"color\": \"rgba(124,181,236,0.300000)\"}], \"exporting\": {\"enabled\": false}});\n",
       "\n",
       "//      console.log(\"0-1\")\n",
       "        HC.chart(\"hc_1c4ac6c8-a2e5-4dd5-aec7-b25937211cce_0-1\", {\"legend\": {\"enabled\": false}, \"credits\": false, \"xAxis\": {\"min\": null, \"tickWidth\": 1, \"lineWidth\": 1, \"max\": null, \"gridLineWidth\": 1, \"title\": {\"text\": null}}, \"yAxis\": {\"min\": null, \"tickWidth\": 1, \"lineWidth\": 1, \"max\": null, \"gridLineWidth\": 1, \"title\": {\"text\": null}}, \"chart\": {\"spacingRight\": 5, \"marginBottom\": 40, \"width\": 466, \"marginLeft\": 50, \"spacingLeft\": 5, \"height\": 314.0, \"spacingTop\": 5, \"zoomType\": \"xy\", \"spacingBottom\": 5}, \"title\": {\"text\": null}, \"series\": [{\"data\": [{\"x\": 1.8, \"marker\": {\"symbol\": \"triangle\"}, \"color\": \"rgb(27,158,119)\", \"y\": 29}, {\"x\": 1.9, \"marker\": {\"symbol\": \"triangle\"}, \"color\": \"rgb(27,158,119)\", \"y\": 44}, {\"x\": 2.8, \"marker\": {\"symbol\": \"triangle\"}, \"color\": \"rgb(117,112,179)\", \"y\": 24}, {\"x\": 2.0, \"marker\": {\"symbol\": \"triangle\"}, \"color\": \"rgb(27,158,119)\", \"y\": 29}, {\"x\": 2.0, \"marker\": {\"symbol\": \"triangle\"}, \"color\": \"rgb(27,158,119)\", \"y\": 29}, {\"x\": 2.0, \"marker\": {\"symbol\": \"triangle\"}, \"color\": \"rgb(27,158,119)\", \"y\": 26}, {\"x\": 2.0, \"marker\": {\"symbol\": \"triangle\"}, \"color\": \"rgb(27,158,119)\", \"y\": 29}, {\"x\": 1.8, \"marker\": {\"symbol\": \"triangle\"}, \"color\": \"rgb(27,158,119)\", \"y\": 35}, {\"x\": 1.8, \"marker\": {\"symbol\": \"triangle\"}, \"color\": \"rgb(27,158,119)\", \"y\": 37}, {\"x\": 2.0, \"marker\": {\"symbol\": \"triangle\"}, \"color\": \"rgb(27,158,119)\", \"y\": 29}, {\"x\": 1.8, \"marker\": {\"symbol\": \"triangle\"}, \"color\": \"rgb(27,158,119)\", \"y\": 33}, {\"x\": 3.3, \"marker\": {\"symbol\": \"triangle\"}, \"color\": \"rgb(117,112,179)\", \"y\": 27}, {\"x\": 3.0, \"marker\": {\"symbol\": \"triangle\"}, \"color\": \"rgb(117,112,179)\", \"y\": 26}, {\"x\": 3.0, \"marker\": {\"symbol\": \"triangle\"}, \"color\": \"rgb(117,112,179)\", \"y\": 26}, {\"x\": 2.4, \"marker\": {\"symbol\": \"triangle\"}, \"color\": \"rgb(27,158,119)\", \"y\": 31}, {\"x\": 2.4, \"marker\": {\"symbol\": \"triangle\"}, \"color\": \"rgb(27,158,119)\", \"y\": 31}, {\"x\": 2.2, \"marker\": {\"symbol\": \"triangle\"}, \"color\": \"rgb(27,158,119)\", \"y\": 29}, {\"x\": 2.2, \"marker\": {\"symbol\": \"triangle\"}, \"color\": \"rgb(27,158,119)\", \"y\": 27}, {\"x\": 2.5, \"marker\": {\"symbol\": \"circle\"}, \"color\": \"rgb(27,158,119)\", \"y\": 27}, {\"x\": 2.5, \"marker\": {\"symbol\": \"circle\"}, \"color\": \"rgb(27,158,119)\", \"y\": 25}, {\"x\": 2.5, \"marker\": {\"symbol\": \"circle\"}, \"color\": \"rgb(27,158,119)\", \"y\": 27}, {\"x\": 2.5, \"marker\": {\"symbol\": \"circle\"}, \"color\": \"rgb(27,158,119)\", \"y\": 25}, {\"x\": 2.4, \"marker\": {\"symbol\": \"triangle\"}, \"color\": \"rgb(27,158,119)\", \"y\": 27}, {\"x\": 2.4, \"marker\": {\"symbol\": \"triangle\"}, \"color\": \"rgb(27,158,119)\", \"y\": 29}, {\"x\": 1.8, \"marker\": {\"symbol\": \"triangle\"}, \"color\": \"rgb(27,158,119)\", \"y\": 30}, {\"x\": 2.0, \"marker\": {\"symbol\": \"triangle\"}, \"color\": \"rgb(27,158,119)\", \"y\": 26}, {\"x\": 1.8, \"marker\": {\"symbol\": \"triangle\"}, \"color\": \"rgb(27,158,119)\", \"y\": 35}, {\"x\": 2.0, \"marker\": {\"symbol\": \"triangle\"}, \"color\": \"rgb(27,158,119)\", \"y\": 29}, {\"x\": 2.0, \"marker\": {\"symbol\": \"triangle\"}, \"color\": \"rgb(27,158,119)\", \"y\": 30}, {\"x\": 2.8, \"marker\": {\"symbol\": \"triangle\"}, \"color\": \"rgb(117,112,179)\", \"y\": 26}, {\"x\": 2.8, \"marker\": {\"symbol\": \"triangle\"}, \"color\": \"rgb(117,112,179)\", \"y\": 26}, {\"x\": 3.1, \"marker\": {\"symbol\": \"triangle\"}, \"color\": \"rgb(117,112,179)\", \"y\": 27}, {\"x\": 2.0, \"marker\": {\"symbol\": \"triangle\"}, \"color\": \"rgb(27,158,119)\", \"y\": 29}, {\"x\": 2.0, \"marker\": {\"symbol\": \"triangle\"}, \"color\": \"rgb(27,158,119)\", \"y\": 31}, {\"x\": 1.8, \"marker\": {\"symbol\": \"triangle\"}, \"color\": \"rgb(27,158,119)\", \"y\": 29}, {\"x\": 1.8, \"marker\": {\"symbol\": \"circle\"}, \"color\": \"rgb(27,158,119)\", \"y\": 26}, {\"x\": 1.8, \"marker\": {\"symbol\": \"circle\"}, \"color\": \"rgb(27,158,119)\", \"y\": 25}, {\"x\": 2.0, \"marker\": {\"symbol\": \"circle\"}, \"color\": \"rgb(27,158,119)\", \"y\": 27}, {\"x\": 2.8, \"marker\": {\"symbol\": \"circle\"}, \"color\": \"rgb(117,112,179)\", \"y\": 25}, {\"x\": 2.8, \"marker\": {\"symbol\": \"circle\"}, \"color\": \"rgb(117,112,179)\", \"y\": 25}, {\"x\": 2.0, \"marker\": {\"symbol\": \"circle\"}, \"color\": \"rgb(27,158,119)\", \"y\": 28}, {\"x\": 3.1, \"marker\": {\"symbol\": \"circle\"}, \"color\": \"rgb(117,112,179)\", \"y\": 25}, {\"x\": 2.5, \"marker\": {\"symbol\": \"triangle\"}, \"color\": \"rgb(217,95,2)\", \"y\": 29}, {\"x\": 2.5, \"marker\": {\"symbol\": \"triangle\"}, \"color\": \"rgb(217,95,2)\", \"y\": 29}, {\"x\": 2.8, \"marker\": {\"symbol\": \"triangle\"}, \"color\": \"rgb(117,112,179)\", \"y\": 23}, {\"x\": 2.8, \"marker\": {\"symbol\": \"triangle\"}, \"color\": \"rgb(117,112,179)\", \"y\": 24}, {\"x\": 3.1, \"marker\": {\"symbol\": \"circle\"}, \"color\": \"rgb(117,112,179)\", \"y\": 25}], \"name\": \"hwy\", \"type\": \"scatter\", \"marker\": {\"radius\": 6, \"symbol\": \"diamond\"}, \"color\": \"rgba(124,181,236,0.300000)\"}], \"exporting\": {\"enabled\": false}});\n",
       "\n",
       "//      console.log(\"0-2\")\n",
       "        HC.chart(\"hc_1c4ac6c8-a2e5-4dd5-aec7-b25937211cce_0-2\", {\"legend\": {\"enabled\": false}, \"credits\": false, \"xAxis\": {\"min\": null, \"tickWidth\": 1, \"lineWidth\": 1, \"max\": null, \"gridLineWidth\": 1, \"title\": {\"text\": null}}, \"yAxis\": {\"min\": null, \"tickWidth\": 1, \"lineWidth\": 1, \"max\": null, \"gridLineWidth\": 1, \"title\": {\"text\": null}}, \"chart\": {\"spacingRight\": 5, \"marginBottom\": 40, \"width\": 466, \"marginLeft\": 50, \"spacingLeft\": 5, \"height\": 314.0, \"spacingTop\": 5, \"zoomType\": \"xy\", \"spacingBottom\": 5}, \"title\": {\"text\": null}, \"series\": [{\"data\": [{\"x\": 3.0, \"marker\": {\"symbol\": \"triangle\"}, \"color\": \"rgb(117,112,179)\", \"y\": 25}, {\"x\": 3.0, \"marker\": {\"symbol\": \"triangle\"}, \"color\": \"rgb(117,112,179)\", \"y\": 26}, {\"x\": 2.4, \"marker\": {\"symbol\": \"triangle\"}, \"color\": \"rgb(27,158,119)\", \"y\": 30}, {\"x\": 3.5, \"marker\": {\"symbol\": \"triangle\"}, \"color\": \"rgb(117,112,179)\", \"y\": 26}, {\"x\": 3.5, \"marker\": {\"symbol\": \"triangle\"}, \"color\": \"rgb(117,112,179)\", \"y\": 27}, {\"x\": 2.5, \"marker\": {\"symbol\": \"triangle\"}, \"color\": \"rgb(27,158,119)\", \"y\": 31}, {\"x\": 2.4, \"marker\": {\"symbol\": \"triangle\"}, \"color\": \"rgb(27,158,119)\", \"y\": 31}, {\"x\": 2.5, \"marker\": {\"symbol\": \"triangle\"}, \"color\": \"rgb(117,112,179)\", \"y\": 26}, {\"x\": 2.5, \"marker\": {\"symbol\": \"triangle\"}, \"color\": \"rgb(117,112,179)\", \"y\": 26}, {\"x\": 3.3, \"marker\": {\"symbol\": \"triangle\"}, \"color\": \"rgb(117,112,179)\", \"y\": 28}, {\"x\": 3.5, \"marker\": {\"symbol\": \"triangle\"}, \"color\": \"rgb(117,112,179)\", \"y\": 25}, {\"x\": 2.8, \"marker\": {\"symbol\": \"triangle\"}, \"color\": \"rgb(117,112,179)\", \"y\": 26}, {\"x\": 2.5, \"marker\": {\"symbol\": \"triangle\"}, \"color\": \"rgb(27,158,119)\", \"y\": 32}, {\"x\": 3.1, \"marker\": {\"symbol\": \"triangle\"}, \"color\": \"rgb(117,112,179)\", \"y\": 26}, {\"x\": 2.2, \"marker\": {\"symbol\": \"triangle\"}, \"color\": \"rgb(27,158,119)\", \"y\": 29}, {\"x\": 3.8, \"marker\": {\"symbol\": \"triangle\"}, \"color\": \"rgb(117,112,179)\", \"y\": 27}, {\"x\": 1.8, \"marker\": {\"symbol\": \"triangle\"}, \"color\": \"rgb(27,158,119)\", \"y\": 29}, {\"x\": 1.8, \"marker\": {\"symbol\": \"triangle\"}, \"color\": \"rgb(27,158,119)\", \"y\": 29}, {\"x\": 2.0, \"marker\": {\"symbol\": \"triangle\"}, \"color\": \"rgb(27,158,119)\", \"y\": 28}, {\"x\": 2.0, \"marker\": {\"symbol\": \"triangle\"}, \"color\": \"rgb(27,158,119)\", \"y\": 29}, {\"x\": 2.4, \"marker\": {\"symbol\": \"triangle\"}, \"color\": \"rgb(27,158,119)\", \"y\": 27}, {\"x\": 2.8, \"marker\": {\"symbol\": \"triangle\"}, \"color\": \"rgb(117,112,179)\", \"y\": 26}, {\"x\": 3.8, \"marker\": {\"symbol\": \"triangle\"}, \"color\": \"rgb(117,112,179)\", \"y\": 26}, {\"x\": 3.5, \"marker\": {\"symbol\": \"triangle\"}, \"color\": \"rgb(117,112,179)\", \"y\": 28}, {\"x\": 3.0, \"marker\": {\"symbol\": \"triangle\"}, \"color\": \"rgb(117,112,179)\", \"y\": 26}, {\"x\": 2.4, \"marker\": {\"symbol\": \"triangle\"}, \"color\": \"rgb(27,158,119)\", \"y\": 31}, {\"x\": 2.4, \"marker\": {\"symbol\": \"triangle\"}, \"color\": \"rgb(27,158,119)\", \"y\": 31}, {\"x\": 2.2, \"marker\": {\"symbol\": \"triangle\"}, \"color\": \"rgb(27,158,119)\", \"y\": 27}, {\"x\": 5.3, \"marker\": {\"symbol\": \"triangle\"}, \"color\": \"rgb(231,41,138)\", \"y\": 25}, {\"x\": 3.8, \"marker\": {\"symbol\": \"triangle\"}, \"color\": \"rgb(117,112,179)\", \"y\": 28}, {\"x\": 3.0, \"marker\": {\"symbol\": \"triangle\"}, \"color\": \"rgb(117,112,179)\", \"y\": 26}, {\"x\": 2.4, \"marker\": {\"symbol\": \"triangle\"}, \"color\": \"rgb(27,158,119)\", \"y\": 26}, {\"x\": 3.6, \"marker\": {\"symbol\": \"triangle\"}, \"color\": \"rgb(117,112,179)\", \"y\": 26}, {\"x\": 3.6, \"marker\": {\"symbol\": \"triangle\"}, \"color\": \"rgb(117,112,179)\", \"y\": 26}, {\"x\": 2.4, \"marker\": {\"symbol\": \"triangle\"}, \"color\": \"rgb(27,158,119)\", \"y\": 27}, {\"x\": 3.5, \"marker\": {\"symbol\": \"triangle\"}, \"color\": \"rgb(117,112,179)\", \"y\": 29}, {\"x\": 2.4, \"marker\": {\"symbol\": \"triangle\"}, \"color\": \"rgb(27,158,119)\", \"y\": 30}, {\"x\": 4.2, \"marker\": {\"symbol\": \"circle\"}, \"color\": \"rgb(231,41,138)\", \"y\": 23}, {\"x\": 3.1, \"marker\": {\"symbol\": \"circle\"}, \"color\": \"rgb(117,112,179)\", \"y\": 25}, {\"x\": 3.1, \"marker\": {\"symbol\": \"triangle\"}, \"color\": \"rgb(117,112,179)\", \"y\": 26}, {\"x\": 2.8, \"marker\": {\"symbol\": \"circle\"}, \"color\": \"rgb(117,112,179)\", \"y\": 24}], \"name\": \"hwy\", \"type\": \"scatter\", \"marker\": {\"radius\": 6, \"symbol\": \"diamond\"}, \"color\": \"rgba(124,181,236,0.300000)\"}], \"exporting\": {\"enabled\": false}});\n",
       "\n",
       "//      console.log(\"1-0\")\n",
       "        HC.chart(\"hc_1c4ac6c8-a2e5-4dd5-aec7-b25937211cce_1-0\", {\"legend\": {\"enabled\": false}, \"credits\": false, \"xAxis\": {\"min\": null, \"tickWidth\": 1, \"lineWidth\": 1, \"max\": null, \"gridLineWidth\": 1, \"title\": {\"text\": null}}, \"yAxis\": {\"min\": null, \"tickWidth\": 1, \"lineWidth\": 1, \"max\": null, \"gridLineWidth\": 1, \"title\": {\"text\": null}}, \"chart\": {\"spacingRight\": 5, \"marginBottom\": 40, \"width\": 466, \"marginLeft\": 50, \"spacingLeft\": 5, \"height\": 314.0, \"spacingTop\": 5, \"zoomType\": \"xy\", \"spacingBottom\": 5}, \"title\": {\"text\": null}, \"series\": [{\"data\": [{\"x\": 3.3, \"marker\": {\"symbol\": \"triangle\"}, \"color\": \"rgb(117,112,179)\", \"y\": 24}, {\"x\": 3.3, \"marker\": {\"symbol\": \"triangle\"}, \"color\": \"rgb(117,112,179)\", \"y\": 24}, {\"x\": 3.3, \"marker\": {\"symbol\": \"triangle\"}, \"color\": \"rgb(117,112,179)\", \"y\": 22}, {\"x\": 3.0, \"marker\": {\"symbol\": \"triangle\"}, \"color\": \"rgb(117,112,179)\", \"y\": 24}, {\"x\": 2.4, \"marker\": {\"symbol\": \"triangle\"}, \"color\": \"rgb(27,158,119)\", \"y\": 24}, {\"x\": 3.8, \"marker\": {\"symbol\": \"triangle\"}, \"color\": \"rgb(117,112,179)\", \"y\": 21}, {\"x\": 3.3, \"marker\": {\"symbol\": \"triangle\"}, \"color\": \"rgb(117,112,179)\", \"y\": 17}, {\"x\": 3.8, \"marker\": {\"symbol\": \"triangle\"}, \"color\": \"rgb(117,112,179)\", \"y\": 22}, {\"x\": 4.0, \"marker\": {\"symbol\": \"triangle\"}, \"color\": \"rgb(117,112,179)\", \"y\": 23}, {\"x\": 3.3, \"marker\": {\"symbol\": \"triangle\"}, \"color\": \"rgb(117,112,179)\", \"y\": 22}, {\"x\": 3.8, \"marker\": {\"symbol\": \"triangle\"}, \"color\": \"rgb(117,112,179)\", \"y\": 23}], \"name\": \"hwy\", \"type\": \"scatter\", \"marker\": {\"radius\": 6, \"symbol\": \"diamond\"}, \"color\": \"rgba(124,181,236,0.300000)\"}], \"exporting\": {\"enabled\": false}});\n",
       "\n",
       "//      console.log(\"1-1\")\n",
       "        HC.chart(\"hc_1c4ac6c8-a2e5-4dd5-aec7-b25937211cce_1-1\", {\"legend\": {\"enabled\": false}, \"credits\": false, \"xAxis\": {\"min\": null, \"tickWidth\": 1, \"lineWidth\": 1, \"max\": null, \"gridLineWidth\": 1, \"title\": {\"text\": null}}, \"yAxis\": {\"min\": null, \"tickWidth\": 1, \"lineWidth\": 1, \"max\": null, \"gridLineWidth\": 1, \"title\": {\"text\": null}}, \"chart\": {\"spacingRight\": 5, \"marginBottom\": 40, \"width\": 466, \"marginLeft\": 50, \"spacingLeft\": 5, \"height\": 314.0, \"spacingTop\": 5, \"zoomType\": \"xy\", \"spacingBottom\": 5}, \"title\": {\"text\": null}, \"series\": [{\"data\": [{\"x\": 5.7, \"marker\": {\"symbol\": \"circle\"}, \"color\": \"rgb(231,41,138)\", \"y\": 17}, {\"x\": 5.9, \"marker\": {\"symbol\": \"circle\"}, \"color\": \"rgb(231,41,138)\", \"y\": 15}, {\"x\": 4.7, \"marker\": {\"symbol\": \"circle\"}, \"color\": \"rgb(231,41,138)\", \"y\": 12}, {\"x\": 4.7, \"marker\": {\"symbol\": \"circle\"}, \"color\": \"rgb(231,41,138)\", \"y\": 16}, {\"x\": 4.7, \"marker\": {\"symbol\": \"circle\"}, \"color\": \"rgb(231,41,138)\", \"y\": 17}, {\"x\": 4.7, \"marker\": {\"symbol\": \"circle\"}, \"color\": \"rgb(231,41,138)\", \"y\": 17}, {\"x\": 3.7, \"marker\": {\"symbol\": \"circle\"}, \"color\": \"rgb(117,112,179)\", \"y\": 19}, {\"x\": 5.2, \"marker\": {\"symbol\": \"circle\"}, \"color\": \"rgb(231,41,138)\", \"y\": 15}, {\"x\": 4.2, \"marker\": {\"symbol\": \"circle\"}, \"color\": \"rgb(117,112,179)\", \"y\": 17}, {\"x\": 3.9, \"marker\": {\"symbol\": \"circle\"}, \"color\": \"rgb(117,112,179)\", \"y\": 17}, {\"x\": 4.7, \"marker\": {\"symbol\": \"circle\"}, \"color\": \"rgb(231,41,138)\", \"y\": 19}, {\"x\": 4.7, \"marker\": {\"symbol\": \"circle\"}, \"color\": \"rgb(231,41,138)\", \"y\": 19}, {\"x\": 4.7, \"marker\": {\"symbol\": \"circle\"}, \"color\": \"rgb(231,41,138)\", \"y\": 12}, {\"x\": 5.2, \"marker\": {\"symbol\": \"circle\"}, \"color\": \"rgb(231,41,138)\", \"y\": 17}, {\"x\": 4.7, \"marker\": {\"symbol\": \"circle\"}, \"color\": \"rgb(231,41,138)\", \"y\": 12}, {\"x\": 4.7, \"marker\": {\"symbol\": \"circle\"}, \"color\": \"rgb(231,41,138)\", \"y\": 16}, {\"x\": 3.9, \"marker\": {\"symbol\": \"circle\"}, \"color\": \"rgb(117,112,179)\", \"y\": 17}, {\"x\": 3.7, \"marker\": {\"symbol\": \"circle\"}, \"color\": \"rgb(117,112,179)\", \"y\": 18}, {\"x\": 4.6, \"marker\": {\"symbol\": \"circle\"}, \"color\": \"rgb(231,41,138)\", \"y\": 16}, {\"x\": 2.7, \"marker\": {\"symbol\": \"circle\"}, \"color\": \"rgb(27,158,119)\", \"y\": 20}, {\"x\": 4.6, \"marker\": {\"symbol\": \"circle\"}, \"color\": \"rgb(231,41,138)\", \"y\": 16}, {\"x\": 4.6, \"marker\": {\"symbol\": \"circle\"}, \"color\": \"rgb(231,41,138)\", \"y\": 17}, {\"x\": 5.4, \"marker\": {\"symbol\": \"circle\"}, \"color\": \"rgb(231,41,138)\", \"y\": 15}, {\"x\": 5.4, \"marker\": {\"symbol\": \"circle\"}, \"color\": \"rgb(231,41,138)\", \"y\": 17}, {\"x\": 5.2, \"marker\": {\"symbol\": \"circle\"}, \"color\": \"rgb(231,41,138)\", \"y\": 16}, {\"x\": 4.0, \"marker\": {\"symbol\": \"circle\"}, \"color\": \"rgb(117,112,179)\", \"y\": 20}, {\"x\": 5.2, \"marker\": {\"symbol\": \"circle\"}, \"color\": \"rgb(231,41,138)\", \"y\": 15}, {\"x\": 4.2, \"marker\": {\"symbol\": \"circle\"}, \"color\": \"rgb(117,112,179)\", \"y\": 17}, {\"x\": 3.4, \"marker\": {\"symbol\": \"circle\"}, \"color\": \"rgb(117,112,179)\", \"y\": 19}, {\"x\": 3.4, \"marker\": {\"symbol\": \"circle\"}, \"color\": \"rgb(117,112,179)\", \"y\": 17}, {\"x\": 2.7, \"marker\": {\"symbol\": \"circle\"}, \"color\": \"rgb(27,158,119)\", \"y\": 22}, {\"x\": 2.7, \"marker\": {\"symbol\": \"circle\"}, \"color\": \"rgb(27,158,119)\", \"y\": 20}, {\"x\": 4.0, \"marker\": {\"symbol\": \"circle\"}, \"color\": \"rgb(117,112,179)\", \"y\": 18}], \"name\": \"hwy\", \"type\": \"scatter\", \"marker\": {\"radius\": 6, \"symbol\": \"diamond\"}, \"color\": \"rgba(124,181,236,0.300000)\"}], \"exporting\": {\"enabled\": false}});\n",
       "\n",
       "//      console.log(\"1-2\")\n",
       "        HC.chart(\"hc_1c4ac6c8-a2e5-4dd5-aec7-b25937211cce_1-2\", {\"legend\": {\"enabled\": false}, \"credits\": false, \"xAxis\": {\"min\": null, \"tickWidth\": 1, \"lineWidth\": 1, \"max\": null, \"gridLineWidth\": 1, \"title\": {\"text\": null}}, \"yAxis\": {\"min\": null, \"tickWidth\": 1, \"lineWidth\": 1, \"max\": null, \"gridLineWidth\": 1, \"title\": {\"text\": null}}, \"chart\": {\"spacingRight\": 5, \"marginBottom\": 40, \"width\": 466, \"marginLeft\": 50, \"spacingLeft\": 5, \"height\": 314.0, \"spacingTop\": 5, \"zoomType\": \"xy\", \"spacingBottom\": 5}, \"title\": {\"text\": null}, \"series\": [{\"data\": [{\"x\": 1.9, \"marker\": {\"symbol\": \"triangle\"}, \"color\": \"rgb(27,158,119)\", \"y\": 44}, {\"x\": 2.5, \"marker\": {\"symbol\": \"circle\"}, \"color\": \"rgb(27,158,119)\", \"y\": 26}, {\"x\": 2.5, \"marker\": {\"symbol\": \"circle\"}, \"color\": \"rgb(27,158,119)\", \"y\": 26}, {\"x\": 2.2, \"marker\": {\"symbol\": \"circle\"}, \"color\": \"rgb(27,158,119)\", \"y\": 26}, {\"x\": 1.9, \"marker\": {\"symbol\": \"triangle\"}, \"color\": \"rgb(27,158,119)\", \"y\": 41}, {\"x\": 2.0, \"marker\": {\"symbol\": \"triangle\"}, \"color\": \"rgb(27,158,119)\", \"y\": 29}, {\"x\": 2.0, \"marker\": {\"symbol\": \"triangle\"}, \"color\": \"rgb(27,158,119)\", \"y\": 26}, {\"x\": 2.5, \"marker\": {\"symbol\": \"triangle\"}, \"color\": \"rgb(217,95,2)\", \"y\": 28}, {\"x\": 2.5, \"marker\": {\"symbol\": \"triangle\"}, \"color\": \"rgb(217,95,2)\", \"y\": 29}, {\"x\": 2.2, \"marker\": {\"symbol\": \"circle\"}, \"color\": \"rgb(27,158,119)\", \"y\": 26}, {\"x\": 2.0, \"marker\": {\"symbol\": \"triangle\"}, \"color\": \"rgb(27,158,119)\", \"y\": 29}, {\"x\": 2.7, \"marker\": {\"symbol\": \"triangle\"}, \"color\": \"rgb(117,112,179)\", \"y\": 24}, {\"x\": 2.0, \"marker\": {\"symbol\": \"triangle\"}, \"color\": \"rgb(27,158,119)\", \"y\": 27}, {\"x\": 2.0, \"marker\": {\"symbol\": \"triangle\"}, \"color\": \"rgb(27,158,119)\", \"y\": 28}, {\"x\": 2.0, \"marker\": {\"symbol\": \"triangle\"}, \"color\": \"rgb(27,158,119)\", \"y\": 26}, {\"x\": 2.0, \"marker\": {\"symbol\": \"triangle\"}, \"color\": \"rgb(27,158,119)\", \"y\": 29}, {\"x\": 1.8, \"marker\": {\"symbol\": \"triangle\"}, \"color\": \"rgb(27,158,119)\", \"y\": 36}, {\"x\": 1.8, \"marker\": {\"symbol\": \"triangle\"}, \"color\": \"rgb(27,158,119)\", \"y\": 36}, {\"x\": 1.8, \"marker\": {\"symbol\": \"triangle\"}, \"color\": \"rgb(27,158,119)\", \"y\": 34}, {\"x\": 1.6, \"marker\": {\"symbol\": \"triangle\"}, \"color\": \"rgb(27,158,119)\", \"y\": 32}, {\"x\": 1.6, \"marker\": {\"symbol\": \"triangle\"}, \"color\": \"rgb(27,158,119)\", \"y\": 29}, {\"x\": 1.6, \"marker\": {\"symbol\": \"triangle\"}, \"color\": \"rgb(27,158,119)\", \"y\": 32}, {\"x\": 2.7, \"marker\": {\"symbol\": \"triangle\"}, \"color\": \"rgb(117,112,179)\", \"y\": 24}, {\"x\": 1.6, \"marker\": {\"symbol\": \"triangle\"}, \"color\": \"rgb(27,158,119)\", \"y\": 33}, {\"x\": 1.6, \"marker\": {\"symbol\": \"triangle\"}, \"color\": \"rgb(27,158,119)\", \"y\": 32}, {\"x\": 2.7, \"marker\": {\"symbol\": \"triangle\"}, \"color\": \"rgb(117,112,179)\", \"y\": 24}, {\"x\": 3.8, \"marker\": {\"symbol\": \"triangle-down\"}, \"color\": \"rgb(117,112,179)\", \"y\": 26}, {\"x\": 3.8, \"marker\": {\"symbol\": \"triangle-down\"}, \"color\": \"rgb(117,112,179)\", \"y\": 25}, {\"x\": 4.0, \"marker\": {\"symbol\": \"triangle-down\"}, \"color\": \"rgb(117,112,179)\", \"y\": 26}, {\"x\": 5.4, \"marker\": {\"symbol\": \"triangle-down\"}, \"color\": \"rgb(231,41,138)\", \"y\": 20}, {\"x\": 4.6, \"marker\": {\"symbol\": \"triangle-down\"}, \"color\": \"rgb(231,41,138)\", \"y\": 22}, {\"x\": 4.6, \"marker\": {\"symbol\": \"triangle-down\"}, \"color\": \"rgb(231,41,138)\", \"y\": 23}, {\"x\": 4.6, \"marker\": {\"symbol\": \"triangle-down\"}, \"color\": \"rgb(231,41,138)\", \"y\": 22}, {\"x\": 4.6, \"marker\": {\"symbol\": \"triangle-down\"}, \"color\": \"rgb(231,41,138)\", \"y\": 21}, {\"x\": 4.0, \"marker\": {\"symbol\": \"triangle-down\"}, \"color\": \"rgb(117,112,179)\", \"y\": 24}], \"name\": \"hwy\", \"type\": \"scatter\", \"marker\": {\"radius\": 6, \"symbol\": \"diamond\"}, \"color\": \"rgba(124,181,236,0.300000)\"}], \"exporting\": {\"enabled\": false}});\n",
       "\n",
       "//      console.log(\"2-0\")\n",
       "        HC.chart(\"hc_1c4ac6c8-a2e5-4dd5-aec7-b25937211cce_2-0\", {\"legend\": {\"enabled\": false}, \"credits\": {\"position\": {\"y\": -5}}, \"xAxis\": {\"min\": null, \"tickWidth\": 1, \"lineWidth\": 1, \"max\": null, \"gridLineWidth\": 1, \"title\": {\"text\": null}}, \"yAxis\": {\"min\": null, \"tickWidth\": 1, \"lineWidth\": 1, \"max\": null, \"gridLineWidth\": 1, \"title\": {\"text\": null}}, \"chart\": {\"spacingRight\": 5, \"marginBottom\": 40, \"width\": 466, \"marginLeft\": 50, \"spacingLeft\": 5, \"height\": 314.0, \"spacingTop\": 5, \"zoomType\": \"xy\", \"spacingBottom\": 5}, \"title\": {\"text\": null}, \"series\": [{\"data\": [{\"x\": 5.4, \"marker\": {\"symbol\": \"triangle-down\"}, \"color\": \"rgb(231,41,138)\", \"y\": 18}, {\"x\": 4.0, \"marker\": {\"symbol\": \"circle\"}, \"color\": \"rgb(117,112,179)\", \"y\": 17}, {\"x\": 4.7, \"marker\": {\"symbol\": \"circle\"}, \"color\": \"rgb(231,41,138)\", \"y\": 15}, {\"x\": 5.7, \"marker\": {\"symbol\": \"circle\"}, \"color\": \"rgb(231,41,138)\", \"y\": 18}, {\"x\": 4.0, \"marker\": {\"symbol\": \"circle\"}, \"color\": \"rgb(117,112,179)\", \"y\": 19}, {\"x\": 4.0, \"marker\": {\"symbol\": \"circle\"}, \"color\": \"rgb(117,112,179)\", \"y\": 17}, {\"x\": 6.0, \"marker\": {\"symbol\": \"triangle-down\"}, \"color\": \"rgb(231,41,138)\", \"y\": 17}, {\"x\": 4.6, \"marker\": {\"symbol\": \"circle\"}, \"color\": \"rgb(231,41,138)\", \"y\": 19}, {\"x\": 5.0, \"marker\": {\"symbol\": \"circle\"}, \"color\": \"rgb(231,41,138)\", \"y\": 17}, {\"x\": 5.7, \"marker\": {\"symbol\": \"triangle-down\"}, \"color\": \"rgb(231,41,138)\", \"y\": 17}, {\"x\": 5.3, \"marker\": {\"symbol\": \"triangle-down\"}, \"color\": \"rgb(231,41,138)\", \"y\": 15}, {\"x\": 5.3, \"marker\": {\"symbol\": \"triangle-down\"}, \"color\": \"rgb(231,41,138)\", \"y\": 20}, {\"x\": 6.5, \"marker\": {\"symbol\": \"circle\"}, \"color\": \"rgb(231,41,138)\", \"y\": 17}, {\"x\": 5.7, \"marker\": {\"symbol\": \"circle\"}, \"color\": \"rgb(231,41,138)\", \"y\": 15}, {\"x\": 5.3, \"marker\": {\"symbol\": \"circle\"}, \"color\": \"rgb(231,41,138)\", \"y\": 14}, {\"x\": 5.3, \"marker\": {\"symbol\": \"circle\"}, \"color\": \"rgb(231,41,138)\", \"y\": 19}, {\"x\": 4.0, \"marker\": {\"symbol\": \"circle\"}, \"color\": \"rgb(117,112,179)\", \"y\": 19}, {\"x\": 5.3, \"marker\": {\"symbol\": \"triangle-down\"}, \"color\": \"rgb(231,41,138)\", \"y\": 20}, {\"x\": 5.4, \"marker\": {\"symbol\": \"triangle-down\"}, \"color\": \"rgb(231,41,138)\", \"y\": 17}, {\"x\": 3.0, \"marker\": {\"symbol\": \"circle\"}, \"color\": \"rgb(117,112,179)\", \"y\": 22}, {\"x\": 5.4, \"marker\": {\"symbol\": \"triangle-down\"}, \"color\": \"rgb(231,41,138)\", \"y\": 17}, {\"x\": 5.4, \"marker\": {\"symbol\": \"triangle-down\"}, \"color\": \"rgb(231,41,138)\", \"y\": 16}, {\"x\": 2.5, \"marker\": {\"symbol\": \"circle\"}, \"color\": \"rgb(27,158,119)\", \"y\": 23}, {\"x\": 2.5, \"marker\": {\"symbol\": \"circle\"}, \"color\": \"rgb(27,158,119)\", \"y\": 26}, {\"x\": 2.5, \"marker\": {\"symbol\": \"circle\"}, \"color\": \"rgb(27,158,119)\", \"y\": 25}, {\"x\": 2.5, \"marker\": {\"symbol\": \"circle\"}, \"color\": \"rgb(27,158,119)\", \"y\": 27}, {\"x\": 2.5, \"marker\": {\"symbol\": \"circle\"}, \"color\": \"rgb(27,158,119)\", \"y\": 24}, {\"x\": 5.4, \"marker\": {\"symbol\": \"triangle-down\"}, \"color\": \"rgb(231,41,138)\", \"y\": 18}, {\"x\": 4.6, \"marker\": {\"symbol\": \"circle\"}, \"color\": \"rgb(231,41,138)\", \"y\": 15}, {\"x\": 5.7, \"marker\": {\"symbol\": \"circle\"}, \"color\": \"rgb(231,41,138)\", \"y\": 18}, {\"x\": 4.0, \"marker\": {\"symbol\": \"circle\"}, \"color\": \"rgb(117,112,179)\", \"y\": 17}, {\"x\": 4.0, \"marker\": {\"symbol\": \"circle\"}, \"color\": \"rgb(117,112,179)\", \"y\": 19}, {\"x\": 4.6, \"marker\": {\"symbol\": \"circle\"}, \"color\": \"rgb(231,41,138)\", \"y\": 19}, {\"x\": 5.6, \"marker\": {\"symbol\": \"circle\"}, \"color\": \"rgb(231,41,138)\", \"y\": 18}, {\"x\": 4.0, \"marker\": {\"symbol\": \"circle\"}, \"color\": \"rgb(117,112,179)\", \"y\": 20}, {\"x\": 3.3, \"marker\": {\"symbol\": \"circle\"}, \"color\": \"rgb(117,112,179)\", \"y\": 17}, {\"x\": 3.3, \"marker\": {\"symbol\": \"circle\"}, \"color\": \"rgb(117,112,179)\", \"y\": 17}, {\"x\": 5.0, \"marker\": {\"symbol\": \"circle\"}, \"color\": \"rgb(231,41,138)\", \"y\": 17}, {\"x\": 5.9, \"marker\": {\"symbol\": \"circle\"}, \"color\": \"rgb(231,41,138)\", \"y\": 15}, {\"x\": 4.6, \"marker\": {\"symbol\": \"triangle-down\"}, \"color\": \"rgb(231,41,138)\", \"y\": 17}, {\"x\": 4.4, \"marker\": {\"symbol\": \"circle\"}, \"color\": \"rgb(231,41,138)\", \"y\": 18}, {\"x\": 4.7, \"marker\": {\"symbol\": \"circle\"}, \"color\": \"rgb(231,41,138)\", \"y\": 17}, {\"x\": 3.7, \"marker\": {\"symbol\": \"circle\"}, \"color\": \"rgb(117,112,179)\", \"y\": 19}, {\"x\": 4.0, \"marker\": {\"symbol\": \"circle\"}, \"color\": \"rgb(117,112,179)\", \"y\": 20}, {\"x\": 4.7, \"marker\": {\"symbol\": \"circle\"}, \"color\": \"rgb(231,41,138)\", \"y\": 17}, {\"x\": 4.7, \"marker\": {\"symbol\": \"circle\"}, \"color\": \"rgb(231,41,138)\", \"y\": 12}, {\"x\": 4.7, \"marker\": {\"symbol\": \"circle\"}, \"color\": \"rgb(231,41,138)\", \"y\": 19}, {\"x\": 5.7, \"marker\": {\"symbol\": \"circle\"}, \"color\": \"rgb(231,41,138)\", \"y\": 18}, {\"x\": 6.1, \"marker\": {\"symbol\": \"circle\"}, \"color\": \"rgb(231,41,138)\", \"y\": 14}, {\"x\": 4.0, \"marker\": {\"symbol\": \"circle\"}, \"color\": \"rgb(231,41,138)\", \"y\": 15}, {\"x\": 5.2, \"marker\": {\"symbol\": \"circle\"}, \"color\": \"rgb(231,41,138)\", \"y\": 16}, {\"x\": 4.2, \"marker\": {\"symbol\": \"circle\"}, \"color\": \"rgb(231,41,138)\", \"y\": 18}, {\"x\": 4.7, \"marker\": {\"symbol\": \"circle\"}, \"color\": \"rgb(231,41,138)\", \"y\": 17}, {\"x\": 4.0, \"marker\": {\"symbol\": \"circle\"}, \"color\": \"rgb(117,112,179)\", \"y\": 20}, {\"x\": 3.4, \"marker\": {\"symbol\": \"circle\"}, \"color\": \"rgb(117,112,179)\", \"y\": 17}, {\"x\": 3.4, \"marker\": {\"symbol\": \"circle\"}, \"color\": \"rgb(117,112,179)\", \"y\": 19}, {\"x\": 2.7, \"marker\": {\"symbol\": \"circle\"}, \"color\": \"rgb(27,158,119)\", \"y\": 20}, {\"x\": 2.7, \"marker\": {\"symbol\": \"circle\"}, \"color\": \"rgb(27,158,119)\", \"y\": 20}, {\"x\": 4.7, \"marker\": {\"symbol\": \"circle\"}, \"color\": \"rgb(231,41,138)\", \"y\": 17}, {\"x\": 4.7, \"marker\": {\"symbol\": \"circle\"}, \"color\": \"rgb(231,41,138)\", \"y\": 12}, {\"x\": 3.9, \"marker\": {\"symbol\": \"circle\"}, \"color\": \"rgb(117,112,179)\", \"y\": 17}, {\"x\": 2.5, \"marker\": {\"symbol\": \"circle\"}, \"color\": \"rgb(27,158,119)\", \"y\": 25}], \"name\": \"hwy\", \"type\": \"scatter\", \"marker\": {\"radius\": 6, \"symbol\": \"diamond\"}, \"color\": \"rgba(124,181,236,0.300000)\"}], \"exporting\": {\"enabled\": false}});\n",
       "\n",
       "//      console.log(\"2-1\")\n",
       "        HC.chart(\"hc_1c4ac6c8-a2e5-4dd5-aec7-b25937211cce_2-1\", {\"legend\": {\"enabled\": false}, \"credits\": false, \"chart\": {\"spacingLeft\": 5, \"spacingRight\": 5, \"spacingTop\": 5, \"zoomType\": \"xy\", \"spacingBottom\": 5}, \"title\": {\"text\": null}, \"series\": [], \"exporting\": {\"enabled\": false}});\n",
       "\n",
       "//      console.log(\"2-2\")\n",
       "        HC.chart(\"hc_1c4ac6c8-a2e5-4dd5-aec7-b25937211cce_2-2\", {\"legend\": {\"enabled\": false}, \"credits\": false, \"chart\": {\"spacingLeft\": 5, \"spacingRight\": 5, \"spacingTop\": 5, \"zoomType\": \"xy\", \"spacingBottom\": 5}, \"title\": {\"text\": null}, \"series\": [], \"exporting\": {\"enabled\": false}});\n",
       "\n",
       "    });\n",
       "</script>\n"
      ],
      "text/plain": [
       "<hcplot.figure.Figure at 0x1068c4dd8>"
      ]
     },
     "execution_count": 12,
     "metadata": {},
     "output_type": "execute_result"
    }
   ],
   "source": [
    "fig1 = Figure(mpg, \n",
    "              mapping(\"displ\", \"hwy\", color=\"cyl\", shape=\"drv\"),\n",
    "              wrap([\"class\"], ncols=3, scales=\"free\"),\n",
    "              width=1280) \\\n",
    "     + Points(scales(color=brewer(\"qual\", \"Dark2\")), size=6, alpha=0.3)\n",
    "fig1"
   ]
  },
  {
   "cell_type": "code",
   "execution_count": 8,
   "metadata": {
    "collapsed": false,
    "scrolled": false
   },
   "outputs": [
    {
     "data": {
      "text/html": [
       "<table id=\"hc_9684053b-d4d4-4455-ae85-8b1b4a403249\" class=\"hcTable\">\n",
       "  <tr id=\"hc_9684053b-d4d4-4455-ae85-8b1b4a403249_0\" class=\"hcTable\">\n",
       "\n",
       "    <th class=\"hcTable colHeader\" style=\"width:306px; height:20px; padding:1px 10px 1px 50px;\">\n",
       "        <div>cyl : 4</div>\n",
       "    </th>\n",
       "    <th class=\"hcTable colHeader\" style=\"width:256px; height:20px; padding:1px 10px 1px 1px;\">\n",
       "        <div>cyl : 5</div>\n",
       "    </th>\n",
       "    <th class=\"hcTable colHeader\" style=\"width:256px; height:20px; padding:1px 10px 1px 1px;\">\n",
       "        <div>cyl : 6</div>\n",
       "    </th>\n",
       "    <th class=\"hcTable colHeader\" style=\"width:256px; height:20px; padding:1px 10px 1px 1px;\">\n",
       "        <div>cyl : 8</div>\n",
       "    </th>  <th class=\"hcTable\" style=\"width:20px; height:20px; padding:1px 0px 1px 1px;\">\n",
       "                    </th>  </tr>\n",
       "  <tr id=\"hc_9684053b-d4d4-4455-ae85-8b1b4a403249_0\" class=\"hcTable\">\n",
       "\n",
       "    <td class=\"hcTable\">\n",
       "        <div id=\"hc_9684053b-d4d4-4455-ae85-8b1b4a403249_0-0\" style=\"width:306px; height:170px; padding:1px 0px 1px 1px;\"></div>\n",
       "    </td>\n",
       "\n",
       "    <td class=\"hcTable\">\n",
       "        <div id=\"hc_9684053b-d4d4-4455-ae85-8b1b4a403249_0-1\" style=\"width:256px; height:170px; padding:1px 0px 1px 1px;\"></div>\n",
       "    </td>\n",
       "\n",
       "    <td class=\"hcTable\">\n",
       "        <div id=\"hc_9684053b-d4d4-4455-ae85-8b1b4a403249_0-2\" style=\"width:256px; height:170px; padding:1px 0px 1px 1px;\"></div>\n",
       "    </td>\n",
       "\n",
       "    <td class=\"hcTable\">\n",
       "        <div id=\"hc_9684053b-d4d4-4455-ae85-8b1b4a403249_0-3\" style=\"width:256px; height:170px; padding:1px 0px 1px 1px;\"></div>\n",
       "    </td>\n",
       "\n",
       "    <th class=\"hcTable rowHeader\" style=\"width:20px; height:170px; padding:1px 0px 1px 1px;\">\n",
       "        <div>drv : 4</div>\n",
       "    </th>\n",
       "  </tr>\n",
       "  <tr id=\"hc_9684053b-d4d4-4455-ae85-8b1b4a403249_1\" class=\"hcTable\">\n",
       "\n",
       "    <td class=\"hcTable\">\n",
       "        <div id=\"hc_9684053b-d4d4-4455-ae85-8b1b4a403249_1-0\" style=\"width:306px; height:170px; padding:1px 0px 1px 1px;\"></div>\n",
       "    </td>\n",
       "\n",
       "    <td class=\"hcTable\">\n",
       "        <div id=\"hc_9684053b-d4d4-4455-ae85-8b1b4a403249_1-1\" style=\"width:256px; height:170px; padding:1px 0px 1px 1px;\"></div>\n",
       "    </td>\n",
       "\n",
       "    <td class=\"hcTable\">\n",
       "        <div id=\"hc_9684053b-d4d4-4455-ae85-8b1b4a403249_1-2\" style=\"width:256px; height:170px; padding:1px 0px 1px 1px;\"></div>\n",
       "    </td>\n",
       "\n",
       "    <td class=\"hcTable\">\n",
       "        <div id=\"hc_9684053b-d4d4-4455-ae85-8b1b4a403249_1-3\" style=\"width:256px; height:170px; padding:1px 0px 1px 1px;\"></div>\n",
       "    </td>\n",
       "\n",
       "    <th class=\"hcTable rowHeader\" style=\"width:20px; height:170px; padding:1px 0px 1px 1px;\">\n",
       "        <div>drv : f</div>\n",
       "    </th>\n",
       "  </tr>\n",
       "  <tr id=\"hc_9684053b-d4d4-4455-ae85-8b1b4a403249_2\" class=\"hcTable\">\n",
       "\n",
       "    <td class=\"hcTable\">\n",
       "        <div id=\"hc_9684053b-d4d4-4455-ae85-8b1b4a403249_2-0\" style=\"width:306px; height:195px; padding:1px 0px 25px 1px;\"></div>\n",
       "    </td>\n",
       "\n",
       "    <td class=\"hcTable\">\n",
       "        <div id=\"hc_9684053b-d4d4-4455-ae85-8b1b4a403249_2-1\" style=\"width:256px; height:195px; padding:1px 0px 25px 1px;\"></div>\n",
       "    </td>\n",
       "\n",
       "    <td class=\"hcTable\">\n",
       "        <div id=\"hc_9684053b-d4d4-4455-ae85-8b1b4a403249_2-2\" style=\"width:256px; height:195px; padding:1px 0px 25px 1px;\"></div>\n",
       "    </td>\n",
       "\n",
       "    <td class=\"hcTable\">\n",
       "        <div id=\"hc_9684053b-d4d4-4455-ae85-8b1b4a403249_2-3\" style=\"width:256px; height:195px; padding:1px 0px 25px 1px;\"></div>\n",
       "    </td>\n",
       "\n",
       "    <th class=\"hcTable rowHeader\" style=\"width:20px; height:195px; padding:1px 0px 25px 1px;\">\n",
       "        <div>drv : r</div>\n",
       "    </th>\n",
       "  </tr>\n",
       "</table>\n",
       "\n",
       "<script>\n",
       "    window.hc_charts.promise.then(function(HC) {\n",
       "\n",
       "//      console.log(\"0-0\")\n",
       "        HC.chart(\"hc_9684053b-d4d4-4455-ae85-8b1b4a403249_0-0\", {\"legend\": {\"enabled\": false}, \"credits\": false, \"xAxis\": {\"min\": 1.6, \"tickWidth\": 1, \"lineWidth\": 1, \"max\": 7.0, \"gridLineWidth\": 1, \"title\": {\"text\": null}, \"labels\": {\"enabled\": false}}, \"yAxis\": {\"min\": 9, \"tickWidth\": 1, \"lineWidth\": 1, \"max\": 35, \"gridLineWidth\": 1, \"title\": {\"text\": null}}, \"chart\": {\"spacingRight\": 5, \"width\": 296, \"spacingLeft\": 5, \"marginLeft\": 50, \"spacingTop\": 5, \"zoomType\": \"xy\", \"spacingBottom\": 5}, \"title\": {\"text\": null}, \"series\": [{\"data\": [{\"x\": 1.8, \"y\": 18.0}, {\"x\": 1.8, \"y\": 16.0}, {\"x\": 2.0, \"y\": 20.0}, {\"x\": 2.0, \"y\": 19.0}, {\"x\": 2.5, \"y\": 18.0}, {\"x\": 2.5, \"y\": 18.0}, {\"x\": 2.5, \"y\": 20.0}, {\"x\": 2.5, \"y\": 19.0}, {\"x\": 2.5, \"y\": 20.0}, {\"x\": 2.5, \"y\": 18.0}, {\"x\": 2.2, \"y\": 21.0}, {\"x\": 2.2, \"y\": 19.0}, {\"x\": 2.5, \"y\": 19.0}, {\"x\": 2.5, \"y\": 19.0}, {\"x\": 2.5, \"y\": 20.0}, {\"x\": 2.5, \"y\": 20.0}, {\"x\": 2.5, \"y\": 19.0}, {\"x\": 2.5, \"y\": 20.0}, {\"x\": 2.7, \"y\": 15.0}, {\"x\": 2.7, \"y\": 16.0}, {\"x\": 2.7, \"y\": 15.0}, {\"x\": 2.7, \"y\": 16.0}, {\"x\": 2.7, \"y\": 17.0}], \"name\": \"cty\", \"type\": \"scatter\", \"marker\": {\"radius\": 5, \"symbol\": \"diamond\"}, \"color\": \"rgba(124,181,236,0.500000)\"}], \"exporting\": {\"enabled\": false}});\n",
       "\n",
       "//      console.log(\"0-1\")\n",
       "        HC.chart(\"hc_9684053b-d4d4-4455-ae85-8b1b4a403249_0-1\", {\"legend\": {\"enabled\": false}, \"credits\": false, \"xAxis\": {\"min\": 1.6, \"tickWidth\": 1, \"lineWidth\": 1, \"max\": 7.0, \"gridLineWidth\": 1, \"title\": {\"text\": null}, \"labels\": {\"enabled\": false}}, \"yAxis\": {\"min\": 9, \"tickWidth\": 1, \"lineWidth\": 1, \"max\": 35, \"gridLineWidth\": 1, \"title\": {\"text\": null}, \"labels\": {\"enabled\": false}}, \"chart\": {\"spacingLeft\": 5, \"spacingRight\": 5, \"spacingTop\": 5, \"zoomType\": \"xy\", \"spacingBottom\": 5}, \"title\": {\"text\": null}, \"series\": [{\"data\": [], \"name\": \"cty\", \"type\": \"scatter\", \"marker\": {\"radius\": 5, \"symbol\": \"diamond\"}, \"color\": \"rgba(124,181,236,0.500000)\"}], \"exporting\": {\"enabled\": false}});\n",
       "\n",
       "//      console.log(\"0-2\")\n",
       "        HC.chart(\"hc_9684053b-d4d4-4455-ae85-8b1b4a403249_0-2\", {\"legend\": {\"enabled\": false}, \"credits\": false, \"xAxis\": {\"min\": 1.6, \"tickWidth\": 1, \"lineWidth\": 1, \"max\": 7.0, \"gridLineWidth\": 1, \"title\": {\"text\": null}, \"labels\": {\"enabled\": false}}, \"yAxis\": {\"min\": 9, \"tickWidth\": 1, \"lineWidth\": 1, \"max\": 35, \"gridLineWidth\": 1, \"title\": {\"text\": null}, \"labels\": {\"enabled\": false}}, \"chart\": {\"spacingLeft\": 5, \"spacingRight\": 5, \"spacingTop\": 5, \"zoomType\": \"xy\", \"spacingBottom\": 5}, \"title\": {\"text\": null}, \"series\": [{\"data\": [{\"x\": 2.8, \"y\": 15.0}, {\"x\": 2.8, \"y\": 17.0}, {\"x\": 3.1, \"y\": 17.0}, {\"x\": 3.1, \"y\": 15.0}, {\"x\": 2.8, \"y\": 15.0}, {\"x\": 3.1, \"y\": 17.0}, {\"x\": 3.7, \"y\": 15.0}, {\"x\": 3.7, \"y\": 14.0}, {\"x\": 3.9, \"y\": 13.0}, {\"x\": 3.9, \"y\": 14.0}, {\"x\": 3.9, \"y\": 13.0}, {\"x\": 4.0, \"y\": 14.0}, {\"x\": 4.0, \"y\": 15.0}, {\"x\": 4.0, \"y\": 14.0}, {\"x\": 4.0, \"y\": 13.0}, {\"x\": 4.2, \"y\": 14.0}, {\"x\": 4.2, \"y\": 14.0}, {\"x\": 3.0, \"y\": 17.0}, {\"x\": 3.7, \"y\": 15.0}, {\"x\": 4.0, \"y\": 15.0}, {\"x\": 4.0, \"y\": 14.0}, {\"x\": 4.0, \"y\": 13.0}, {\"x\": 3.3, \"y\": 14.0}, {\"x\": 3.3, \"y\": 15.0}, {\"x\": 4.0, \"y\": 14.0}, {\"x\": 3.4, \"y\": 15.0}, {\"x\": 3.4, \"y\": 15.0}, {\"x\": 4.0, \"y\": 16.0}, {\"x\": 3.4, \"y\": 15.0}, {\"x\": 3.4, \"y\": 15.0}, {\"x\": 4.0, \"y\": 15.0}, {\"x\": 4.0, \"y\": 16.0}], \"name\": \"cty\", \"type\": \"scatter\", \"marker\": {\"radius\": 5, \"symbol\": \"diamond\"}, \"color\": \"rgba(124,181,236,0.500000)\"}], \"exporting\": {\"enabled\": false}});\n",
       "\n",
       "//      console.log(\"0-3\")\n",
       "        HC.chart(\"hc_9684053b-d4d4-4455-ae85-8b1b4a403249_0-3\", {\"legend\": {\"enabled\": false}, \"credits\": false, \"xAxis\": {\"min\": 1.6, \"tickWidth\": 1, \"lineWidth\": 1, \"max\": 7.0, \"gridLineWidth\": 1, \"title\": {\"text\": null}, \"labels\": {\"enabled\": false}}, \"yAxis\": {\"min\": 9, \"tickWidth\": 1, \"lineWidth\": 1, \"max\": 35, \"gridLineWidth\": 1, \"title\": {\"text\": null}, \"labels\": {\"enabled\": false}}, \"chart\": {\"spacingLeft\": 5, \"spacingRight\": 5, \"spacingTop\": 5, \"zoomType\": \"xy\", \"spacingBottom\": 5}, \"title\": {\"text\": null}, \"series\": [{\"data\": [{\"x\": 4.2, \"y\": 16.0}, {\"x\": 5.3, \"y\": 14.0}, {\"x\": 5.3, \"y\": 11.0}, {\"x\": 5.7, \"y\": 11.0}, {\"x\": 6.5, \"y\": 14.0}, {\"x\": 4.7, \"y\": 14.0}, {\"x\": 4.7, \"y\": 14.0}, {\"x\": 4.7, \"y\": 9.0}, {\"x\": 5.2, \"y\": 11.0}, {\"x\": 5.2, \"y\": 11.0}, {\"x\": 4.7, \"y\": 13.0}, {\"x\": 4.7, \"y\": 9.0}, {\"x\": 4.7, \"y\": 13.0}, {\"x\": 5.2, \"y\": 11.0}, {\"x\": 5.7, \"y\": 13.0}, {\"x\": 5.9, \"y\": 11.0}, {\"x\": 4.7, \"y\": 12.0}, {\"x\": 4.7, \"y\": 9.0}, {\"x\": 4.7, \"y\": 13.0}, {\"x\": 4.7, \"y\": 13.0}, {\"x\": 4.7, \"y\": 12.0}, {\"x\": 4.7, \"y\": 9.0}, {\"x\": 5.2, \"y\": 11.0}, {\"x\": 5.2, \"y\": 11.0}, {\"x\": 5.7, \"y\": 13.0}, {\"x\": 5.9, \"y\": 11.0}, {\"x\": 4.6, \"y\": 13.0}, {\"x\": 5.0, \"y\": 13.0}, {\"x\": 4.6, \"y\": 13.0}, {\"x\": 4.6, \"y\": 13.0}, {\"x\": 4.6, \"y\": 13.0}, {\"x\": 5.4, \"y\": 11.0}, {\"x\": 5.4, \"y\": 13.0}, {\"x\": 4.7, \"y\": 14.0}, {\"x\": 4.7, \"y\": 9.0}, {\"x\": 4.7, \"y\": 14.0}, {\"x\": 5.7, \"y\": 13.0}, {\"x\": 6.1, \"y\": 11.0}, {\"x\": 4.0, \"y\": 11.0}, {\"x\": 4.2, \"y\": 12.0}, {\"x\": 4.4, \"y\": 12.0}, {\"x\": 4.6, \"y\": 11.0}, {\"x\": 4.6, \"y\": 13.0}, {\"x\": 5.0, \"y\": 13.0}, {\"x\": 5.6, \"y\": 12.0}, {\"x\": 4.7, \"y\": 14.0}, {\"x\": 4.7, \"y\": 11.0}, {\"x\": 5.7, \"y\": 13.0}], \"name\": \"cty\", \"type\": \"scatter\", \"marker\": {\"radius\": 5, \"symbol\": \"diamond\"}, \"color\": \"rgba(124,181,236,0.500000)\"}], \"exporting\": {\"enabled\": false}});\n",
       "\n",
       "//      console.log(\"1-0\")\n",
       "        HC.chart(\"hc_9684053b-d4d4-4455-ae85-8b1b4a403249_1-0\", {\"legend\": {\"enabled\": false}, \"credits\": false, \"xAxis\": {\"min\": 1.6, \"tickWidth\": 1, \"lineWidth\": 1, \"max\": 7.0, \"gridLineWidth\": 1, \"title\": {\"text\": null}, \"labels\": {\"enabled\": false}}, \"yAxis\": {\"min\": 9, \"tickWidth\": 1, \"lineWidth\": 1, \"max\": 35, \"gridLineWidth\": 1, \"title\": {\"text\": null}}, \"chart\": {\"spacingRight\": 5, \"width\": 296, \"spacingLeft\": 5, \"marginLeft\": 50, \"spacingTop\": 5, \"zoomType\": \"xy\", \"spacingBottom\": 5}, \"title\": {\"text\": null}, \"series\": [{\"data\": [{\"x\": 1.8, \"y\": 18.0}, {\"x\": 1.8, \"y\": 21.0}, {\"x\": 2.0, \"y\": 20.0}, {\"x\": 2.0, \"y\": 21.0}, {\"x\": 2.4, \"y\": 19.0}, {\"x\": 2.4, \"y\": 22.0}, {\"x\": 2.4, \"y\": 18.0}, {\"x\": 1.6, \"y\": 28.0}, {\"x\": 1.6, \"y\": 24.0}, {\"x\": 1.6, \"y\": 25.0}, {\"x\": 1.6, \"y\": 23.0}, {\"x\": 1.6, \"y\": 24.0}, {\"x\": 1.8, \"y\": 26.0}, {\"x\": 1.8, \"y\": 25.0}, {\"x\": 1.8, \"y\": 24.0}, {\"x\": 2.0, \"y\": 21.0}, {\"x\": 2.4, \"y\": 18.0}, {\"x\": 2.4, \"y\": 18.0}, {\"x\": 2.4, \"y\": 21.0}, {\"x\": 2.4, \"y\": 21.0}, {\"x\": 2.0, \"y\": 19.0}, {\"x\": 2.0, \"y\": 19.0}, {\"x\": 2.0, \"y\": 20.0}, {\"x\": 2.0, \"y\": 20.0}, {\"x\": 2.4, \"y\": 21.0}, {\"x\": 2.4, \"y\": 19.0}, {\"x\": 2.5, \"y\": 23.0}, {\"x\": 2.5, \"y\": 23.0}, {\"x\": 2.2, \"y\": 21.0}, {\"x\": 2.2, \"y\": 21.0}, {\"x\": 2.4, \"y\": 21.0}, {\"x\": 2.4, \"y\": 21.0}, {\"x\": 2.2, \"y\": 21.0}, {\"x\": 2.2, \"y\": 21.0}, {\"x\": 2.4, \"y\": 21.0}, {\"x\": 2.4, \"y\": 22.0}, {\"x\": 1.8, \"y\": 24.0}, {\"x\": 1.8, \"y\": 24.0}, {\"x\": 1.8, \"y\": 26.0}, {\"x\": 1.8, \"y\": 28.0}, {\"x\": 1.8, \"y\": 26.0}, {\"x\": 2.0, \"y\": 21.0}, {\"x\": 2.0, \"y\": 19.0}, {\"x\": 2.0, \"y\": 21.0}, {\"x\": 2.0, \"y\": 22.0}, {\"x\": 1.9, \"y\": 33.0}, {\"x\": 2.0, \"y\": 21.0}, {\"x\": 2.0, \"y\": 19.0}, {\"x\": 2.0, \"y\": 22.0}, {\"x\": 2.0, \"y\": 21.0}, {\"x\": 1.9, \"y\": 35.0}, {\"x\": 1.9, \"y\": 29.0}, {\"x\": 2.0, \"y\": 21.0}, {\"x\": 2.0, \"y\": 19.0}, {\"x\": 1.8, \"y\": 21.0}, {\"x\": 1.8, \"y\": 18.0}, {\"x\": 2.0, \"y\": 19.0}, {\"x\": 2.0, \"y\": 21.0}], \"name\": \"cty\", \"type\": \"scatter\", \"marker\": {\"radius\": 5, \"symbol\": \"diamond\"}, \"color\": \"rgba(124,181,236,0.500000)\"}], \"exporting\": {\"enabled\": false}});\n",
       "\n",
       "//      console.log(\"1-1\")\n",
       "        HC.chart(\"hc_9684053b-d4d4-4455-ae85-8b1b4a403249_1-1\", {\"legend\": {\"enabled\": false}, \"credits\": false, \"xAxis\": {\"min\": 1.6, \"tickWidth\": 1, \"lineWidth\": 1, \"max\": 7.0, \"gridLineWidth\": 1, \"title\": {\"text\": null}, \"labels\": {\"enabled\": false}}, \"yAxis\": {\"min\": 9, \"tickWidth\": 1, \"lineWidth\": 1, \"max\": 35, \"gridLineWidth\": 1, \"title\": {\"text\": null}, \"labels\": {\"enabled\": false}}, \"chart\": {\"spacingLeft\": 5, \"spacingRight\": 5, \"spacingTop\": 5, \"zoomType\": \"xy\", \"spacingBottom\": 5}, \"title\": {\"text\": null}, \"series\": [{\"data\": [{\"x\": 2.5, \"y\": 21.0}, {\"x\": 2.5, \"y\": 21.0}, {\"x\": 2.5, \"y\": 20.0}, {\"x\": 2.5, \"y\": 20.0}], \"name\": \"cty\", \"type\": \"scatter\", \"marker\": {\"radius\": 5, \"symbol\": \"diamond\"}, \"color\": \"rgba(124,181,236,0.500000)\"}], \"exporting\": {\"enabled\": false}});\n",
       "\n",
       "//      console.log(\"1-2\")\n",
       "        HC.chart(\"hc_9684053b-d4d4-4455-ae85-8b1b4a403249_1-2\", {\"legend\": {\"enabled\": false}, \"credits\": false, \"xAxis\": {\"min\": 1.6, \"tickWidth\": 1, \"lineWidth\": 1, \"max\": 7.0, \"gridLineWidth\": 1, \"title\": {\"text\": null}, \"labels\": {\"enabled\": false}}, \"yAxis\": {\"min\": 9, \"tickWidth\": 1, \"lineWidth\": 1, \"max\": 35, \"gridLineWidth\": 1, \"title\": {\"text\": null}, \"labels\": {\"enabled\": false}}, \"chart\": {\"spacingLeft\": 5, \"spacingRight\": 5, \"spacingTop\": 5, \"zoomType\": \"xy\", \"spacingBottom\": 5}, \"title\": {\"text\": null}, \"series\": [{\"data\": [{\"x\": 2.8, \"y\": 16.0}, {\"x\": 2.8, \"y\": 18.0}, {\"x\": 3.1, \"y\": 18.0}, {\"x\": 3.1, \"y\": 18.0}, {\"x\": 3.5, \"y\": 18.0}, {\"x\": 3.6, \"y\": 17.0}, {\"x\": 3.0, \"y\": 17.0}, {\"x\": 3.3, \"y\": 16.0}, {\"x\": 3.3, \"y\": 16.0}, {\"x\": 3.3, \"y\": 17.0}, {\"x\": 3.3, \"y\": 17.0}, {\"x\": 3.3, \"y\": 11.0}, {\"x\": 3.8, \"y\": 15.0}, {\"x\": 3.8, \"y\": 15.0}, {\"x\": 3.8, \"y\": 16.0}, {\"x\": 4.0, \"y\": 16.0}, {\"x\": 2.5, \"y\": 18.0}, {\"x\": 2.5, \"y\": 18.0}, {\"x\": 3.3, \"y\": 19.0}, {\"x\": 2.7, \"y\": 17.0}, {\"x\": 2.7, \"y\": 16.0}, {\"x\": 2.7, \"y\": 17.0}, {\"x\": 3.5, \"y\": 19.0}, {\"x\": 3.5, \"y\": 19.0}, {\"x\": 3.0, \"y\": 18.0}, {\"x\": 3.0, \"y\": 19.0}, {\"x\": 3.5, \"y\": 19.0}, {\"x\": 3.1, \"y\": 18.0}, {\"x\": 3.8, \"y\": 16.0}, {\"x\": 3.8, \"y\": 17.0}, {\"x\": 3.8, \"y\": 18.0}, {\"x\": 3.0, \"y\": 18.0}, {\"x\": 3.0, \"y\": 18.0}, {\"x\": 3.5, \"y\": 19.0}, {\"x\": 3.0, \"y\": 18.0}, {\"x\": 3.0, \"y\": 18.0}, {\"x\": 3.3, \"y\": 18.0}, {\"x\": 2.8, \"y\": 17.0}, {\"x\": 2.8, \"y\": 16.0}, {\"x\": 2.8, \"y\": 17.0}, {\"x\": 2.8, \"y\": 16.0}, {\"x\": 2.8, \"y\": 18.0}, {\"x\": 3.6, \"y\": 17.0}], \"name\": \"cty\", \"type\": \"scatter\", \"marker\": {\"radius\": 5, \"symbol\": \"diamond\"}, \"color\": \"rgba(124,181,236,0.500000)\"}], \"exporting\": {\"enabled\": false}});\n",
       "\n",
       "//      console.log(\"1-3\")\n",
       "        HC.chart(\"hc_9684053b-d4d4-4455-ae85-8b1b4a403249_1-3\", {\"legend\": {\"enabled\": false}, \"credits\": false, \"xAxis\": {\"min\": 1.6, \"tickWidth\": 1, \"lineWidth\": 1, \"max\": 7.0, \"gridLineWidth\": 1, \"title\": {\"text\": null}, \"labels\": {\"enabled\": false}}, \"yAxis\": {\"min\": 9, \"tickWidth\": 1, \"lineWidth\": 1, \"max\": 35, \"gridLineWidth\": 1, \"title\": {\"text\": null}, \"labels\": {\"enabled\": false}}, \"chart\": {\"spacingLeft\": 5, \"spacingRight\": 5, \"spacingTop\": 5, \"zoomType\": \"xy\", \"spacingBottom\": 5}, \"title\": {\"text\": null}, \"series\": [{\"data\": [{\"x\": 5.3, \"y\": 16.0}], \"name\": \"cty\", \"type\": \"scatter\", \"marker\": {\"radius\": 5, \"symbol\": \"diamond\"}, \"color\": \"rgba(124,181,236,0.500000)\"}], \"exporting\": {\"enabled\": false}});\n",
       "\n",
       "//      console.log(\"2-0\")\n",
       "        HC.chart(\"hc_9684053b-d4d4-4455-ae85-8b1b4a403249_2-0\", {\"legend\": {\"enabled\": false}, \"credits\": false, \"xAxis\": {\"min\": 1.6, \"tickWidth\": 1, \"lineWidth\": 1, \"max\": 7.0, \"gridLineWidth\": 1, \"title\": {\"text\": null}}, \"yAxis\": {\"min\": 9, \"tickWidth\": 1, \"lineWidth\": 1, \"max\": 35, \"gridLineWidth\": 1, \"title\": {\"text\": null}}, \"chart\": {\"spacingRight\": 5, \"marginBottom\": 40, \"width\": 296, \"marginLeft\": 50, \"spacingLeft\": 5, \"height\": 200.66666666666666, \"spacingTop\": 5, \"zoomType\": \"xy\", \"spacingBottom\": 5}, \"title\": {\"text\": null}, \"series\": [{\"data\": [], \"name\": \"cty\", \"type\": \"scatter\", \"marker\": {\"radius\": 5, \"symbol\": \"diamond\"}, \"color\": \"rgba(124,181,236,0.500000)\"}], \"exporting\": {\"enabled\": false}});\n",
       "\n",
       "//      console.log(\"2-1\")\n",
       "        HC.chart(\"hc_9684053b-d4d4-4455-ae85-8b1b4a403249_2-1\", {\"legend\": {\"enabled\": false}, \"credits\": false, \"xAxis\": {\"min\": 1.6, \"tickWidth\": 1, \"lineWidth\": 1, \"max\": 7.0, \"gridLineWidth\": 1, \"title\": {\"text\": null}}, \"yAxis\": {\"min\": 9, \"tickWidth\": 1, \"lineWidth\": 1, \"max\": 35, \"gridLineWidth\": 1, \"title\": {\"text\": null}, \"labels\": {\"enabled\": false}}, \"chart\": {\"spacingRight\": 5, \"marginBottom\": 40, \"spacingLeft\": 5, \"height\": 200.66666666666666, \"spacingTop\": 5, \"zoomType\": \"xy\", \"spacingBottom\": 5}, \"title\": {\"text\": null}, \"series\": [{\"data\": [], \"name\": \"cty\", \"type\": \"scatter\", \"marker\": {\"radius\": 5, \"symbol\": \"diamond\"}, \"color\": \"rgba(124,181,236,0.500000)\"}], \"exporting\": {\"enabled\": false}});\n",
       "\n",
       "//      console.log(\"2-2\")\n",
       "        HC.chart(\"hc_9684053b-d4d4-4455-ae85-8b1b4a403249_2-2\", {\"legend\": {\"enabled\": false}, \"credits\": false, \"xAxis\": {\"min\": 1.6, \"tickWidth\": 1, \"lineWidth\": 1, \"max\": 7.0, \"gridLineWidth\": 1, \"title\": {\"text\": null}}, \"yAxis\": {\"min\": 9, \"tickWidth\": 1, \"lineWidth\": 1, \"max\": 35, \"gridLineWidth\": 1, \"title\": {\"text\": null}, \"labels\": {\"enabled\": false}}, \"chart\": {\"spacingRight\": 5, \"marginBottom\": 40, \"spacingLeft\": 5, \"height\": 200.66666666666666, \"spacingTop\": 5, \"zoomType\": \"xy\", \"spacingBottom\": 5}, \"title\": {\"text\": null}, \"series\": [{\"data\": [{\"x\": 3.8, \"y\": 18.0}, {\"x\": 3.8, \"y\": 18.0}, {\"x\": 4.0, \"y\": 17.0}, {\"x\": 4.0, \"y\": 16.0}], \"name\": \"cty\", \"type\": \"scatter\", \"marker\": {\"radius\": 5, \"symbol\": \"diamond\"}, \"color\": \"rgba(124,181,236,0.500000)\"}], \"exporting\": {\"enabled\": false}});\n",
       "\n",
       "//      console.log(\"2-3\")\n",
       "        HC.chart(\"hc_9684053b-d4d4-4455-ae85-8b1b4a403249_2-3\", {\"legend\": {\"enabled\": false}, \"credits\": {\"position\": {\"y\": -5}}, \"xAxis\": {\"min\": 1.6, \"tickWidth\": 1, \"lineWidth\": 1, \"max\": 7.0, \"gridLineWidth\": 1, \"title\": {\"text\": null}}, \"yAxis\": {\"min\": 9, \"tickWidth\": 1, \"lineWidth\": 1, \"max\": 35, \"gridLineWidth\": 1, \"title\": {\"text\": null}, \"labels\": {\"enabled\": false}}, \"chart\": {\"spacingRight\": 5, \"marginBottom\": 40, \"spacingLeft\": 5, \"height\": 200.66666666666666, \"spacingTop\": 5, \"zoomType\": \"xy\", \"spacingBottom\": 5}, \"title\": {\"text\": null}, \"series\": [{\"data\": [{\"x\": 5.3, \"y\": 14.0}, {\"x\": 5.3, \"y\": 11.0}, {\"x\": 5.3, \"y\": 14.0}, {\"x\": 5.7, \"y\": 13.0}, {\"x\": 6.0, \"y\": 12.0}, {\"x\": 5.7, \"y\": 16.0}, {\"x\": 5.7, \"y\": 15.0}, {\"x\": 6.2, \"y\": 16.0}, {\"x\": 6.2, \"y\": 15.0}, {\"x\": 7.0, \"y\": 15.0}, {\"x\": 4.6, \"y\": 11.0}, {\"x\": 5.4, \"y\": 11.0}, {\"x\": 5.4, \"y\": 12.0}, {\"x\": 4.6, \"y\": 15.0}, {\"x\": 4.6, \"y\": 15.0}, {\"x\": 4.6, \"y\": 15.0}, {\"x\": 4.6, \"y\": 15.0}, {\"x\": 5.4, \"y\": 14.0}, {\"x\": 5.4, \"y\": 11.0}, {\"x\": 5.4, \"y\": 11.0}, {\"x\": 5.4, \"y\": 12.0}], \"name\": \"cty\", \"type\": \"scatter\", \"marker\": {\"radius\": 5, \"symbol\": \"diamond\"}, \"color\": \"rgba(124,181,236,0.500000)\"}], \"exporting\": {\"enabled\": false}});\n",
       "\n",
       "    });\n",
       "</script>\n"
      ],
      "text/plain": [
       "<hcplot.figure.Figure at 0x1068c41d0>"
      ]
     },
     "execution_count": 8,
     "metadata": {},
     "output_type": "execute_result"
    }
   ],
   "source": [
    "fig2 = Figure(mpg, \n",
    "              mapping(\"displ\", \"cty\"), \n",
    "              grid([\"drv\"], [\"cyl\"], labels=True, scales=\"fixed\"), \n",
    "              width=1024)\n",
    "fig2 + Points(size=5, alpha=0.5)\n",
    "fig2"
   ]
  },
  {
   "cell_type": "code",
   "execution_count": null,
   "metadata": {
    "collapsed": false
   },
   "outputs": [],
   "source": [
    "fig3 = Figure(mtcars, \n",
    "              mapping(\"mpg\", \"wt\"), \n",
    "              grid([\"vs\",\"am\"], [\"gear\"], scales=\"fixed\"), \n",
    "              width=800, ratio=0.75)\n",
    "fig3 + Points(size=3)\n",
    "fig3"
   ]
  },
  {
   "cell_type": "code",
   "execution_count": null,
   "metadata": {
    "collapsed": false,
    "scrolled": false
   },
   "outputs": [],
   "source": [
    "fig4 = Figure(iris, \n",
    "              mapping([\"PetalLength\", \"PetalWidth\", \"SepalWidth\", \"SepalLength\"], color=\"Name\", shape=\"Name\"),\n",
    "              matrix(scales=\"free\"),\n",
    "              width=960, ratio=1)\n",
    "fig4 + Points(scales(color=brewer(\"qual\", \"Dark2\")), size=3)\n",
    "fig4"
   ]
  },
  {
   "cell_type": "code",
   "execution_count": null,
   "metadata": {
    "collapsed": true
   },
   "outputs": [],
   "source": []
  }
 ],
 "metadata": {
  "kernelspec": {
   "display_name": "Python 3",
   "language": "python",
   "name": "python3"
  },
  "language_info": {
   "codemirror_mode": {
    "name": "ipython",
    "version": 3
   },
   "file_extension": ".py",
   "mimetype": "text/x-python",
   "name": "python",
   "nbconvert_exporter": "python",
   "pygments_lexer": "ipython3",
   "version": "3.5.2"
  }
 },
 "nbformat": 4,
 "nbformat_minor": 2
}
