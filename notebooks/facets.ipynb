{
 "cells": [
  {
   "cell_type": "code",
   "execution_count": null,
   "metadata": {
    "collapsed": false
   },
   "outputs": [],
   "source": [
    "from IPython.core.display import display, HTML\n",
    "display(HTML(\"<style>.container { width:90% !important; }</style>\"))"
   ]
  },
  {
   "cell_type": "code",
   "execution_count": null,
   "metadata": {
    "collapsed": false
   },
   "outputs": [],
   "source": [
    "from hcplot import loadLibraries, Figure, Points, Line, mapping, single, grid, matrix, wrap, scales\n",
    "from hcplot.scale import brewer\n",
    "from hcplot.color import ColorBrewer, D3Colors"
   ]
  },
  {
   "cell_type": "code",
   "execution_count": null,
   "metadata": {
    "collapsed": false
   },
   "outputs": [],
   "source": [
    "loadLibraries()"
   ]
  },
  {
   "cell_type": "code",
   "execution_count": null,
   "metadata": {
    "collapsed": false
   },
   "outputs": [],
   "source": [
    "from ggplot import mpg, mtcars, diamonds"
   ]
  },
  {
   "cell_type": "code",
   "execution_count": null,
   "metadata": {
    "collapsed": false
   },
   "outputs": [],
   "source": [
    "%%sh \n",
    "cd /tmp\n",
    "wget -q https://raw.githubusercontent.com/pandas-dev/pandas/master/pandas/tests/data/iris.csv"
   ]
  },
  {
   "cell_type": "code",
   "execution_count": null,
   "metadata": {
    "collapsed": false,
    "scrolled": true
   },
   "outputs": [],
   "source": [
    "import pandas as pd\n",
    "iris = pd.read_csv('/tmp/iris.csv')"
   ]
  },
  {
   "cell_type": "code",
   "execution_count": null,
   "metadata": {
    "collapsed": false,
    "scrolled": false
   },
   "outputs": [],
   "source": [
    "fig1 = Figure(mpg, \n",
    "              mapping(\"displ\", \"hwy\", color=\"cyl\", shape=\"drv\"),\n",
    "              wrap([\"class\"], ncols=3, scales=\"free\"),\n",
    "              width=1280) \\\n",
    "     + Points(scales(color=brewer(\"qual\", \"Pastel1\")), size=4)\n",
    "fig1"
   ]
  },
  {
   "cell_type": "code",
   "execution_count": null,
   "metadata": {
    "collapsed": false,
    "scrolled": false
   },
   "outputs": [],
   "source": [
    "fig2 = Figure(mpg, \n",
    "              mapping(\"displ\", \"cty\"), \n",
    "              grid([\"drv\"], [\"cyl\"], labels=True, scales=\"fixed\"), \n",
    "              width=1024)\n",
    "fig2 + Points()\n",
    "fig2"
   ]
  },
  {
   "cell_type": "code",
   "execution_count": null,
   "metadata": {
    "collapsed": false
   },
   "outputs": [],
   "source": [
    "fig3 = Figure(mtcars, \n",
    "              mapping(\"mpg\", \"wt\"), \n",
    "              grid([\"vs\",\"am\"], [\"gear\"], scales=\"fixed\"), \n",
    "              width=800, ratio=0.75)\n",
    "fig3 + Points(size=3)\n",
    "fig3"
   ]
  },
  {
   "cell_type": "code",
   "execution_count": null,
   "metadata": {
    "collapsed": false,
    "scrolled": false
   },
   "outputs": [],
   "source": [
    "fig4 = Figure(iris, \n",
    "              mapping([\"PetalLength\", \"PetalWidth\", \"SepalWidth\", \"SepalLength\"], color=\"Name\", shape=\"Name\"),\n",
    "              matrix(scales=\"free\"),\n",
    "              width=960, ratio=1)\n",
    "fig4 + Points(scales(color=brewer(\"qual\", \"Dark2\")), size=3)\n",
    "fig4"
   ]
  },
  {
   "cell_type": "code",
   "execution_count": null,
   "metadata": {
    "collapsed": true
   },
   "outputs": [],
   "source": []
  }
 ],
 "metadata": {
  "kernelspec": {
   "display_name": "Python 3",
   "language": "python",
   "name": "python3"
  },
  "language_info": {
   "codemirror_mode": {
    "name": "ipython",
    "version": 3
   },
   "file_extension": ".py",
   "mimetype": "text/x-python",
   "name": "python",
   "nbconvert_exporter": "python",
   "pygments_lexer": "ipython3",
   "version": "3.5.2"
  }
 },
 "nbformat": 4,
 "nbformat_minor": 2
}
