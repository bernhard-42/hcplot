{
 "cells": [
  {
   "cell_type": "code",
   "execution_count": 1,
   "metadata": {
    "collapsed": false
   },
   "outputs": [
    {
     "data": {
      "text/html": [
       "<style>.container { width:95% !important; }</style>"
      ],
      "text/plain": [
       "<IPython.core.display.HTML object>"
      ]
     },
     "metadata": {},
     "output_type": "display_data"
    }
   ],
   "source": [
    "from IPython.core.display import display, HTML\n",
    "display(HTML(\"<style>.container { width:95% !important; }</style>\"))"
   ]
  },
  {
   "cell_type": "code",
   "execution_count": 2,
   "metadata": {
    "collapsed": false
   },
   "outputs": [],
   "source": [
    "from hcplot import loadLibraries, Figure, Points, mapping, layout"
   ]
  },
  {
   "cell_type": "code",
   "execution_count": 3,
   "metadata": {
    "collapsed": false
   },
   "outputs": [
    {
     "data": {
      "application/javascript": [
       "/**\n",
       "  * Copyright 2017 Bernhard Walter\n",
       "  *\n",
       "  * Licensed under the Apache License, Version 2.0 (the \"License\");\n",
       "  * you may not use this file except in compliance with the License.\n",
       "  * You may obtain a copy of the License at\n",
       "  *\n",
       "  *    http://www.apache.org/licenses/LICENSE-2.0\n",
       "  *\n",
       "  * Unless required by applicable law or agreed to in writing, software\n",
       "  * distributed under the License is distributed on an \"AS IS\" BASIS,\n",
       "  * WITHOUT WARRANTIES OR CONDITIONS OF ANY KIND, either express or implied.\n",
       "  * See the License for the specific language governing permissions and\n",
       "  * limitations under the License.\n",
       "  */\n",
       "\n",
       "require.config({\n",
       "    baseUrl: '/js',\n",
       "    shim: {\n",
       "        \"highcharts-more\":            ['highcharts'],\n",
       "        \"highcharts-export\":          ['highcharts'],\n",
       "        \"highcharts-offline-export\":  ['highcharts-export'],\n",
       "        \"highcharts-boost\":           ['highcharts']\n",
       "    },\n",
       "    paths: {\n",
       "        'highcharts':                 'http://code.highcharts.com/highcharts',\n",
       "        'highcharts-more':            'http://code.highcharts.com/highcharts-more',\n",
       "        'highcharts-export':          'http://code.highcharts.com/modules/exporting',\n",
       "        'highcharts-offline-export':  'http://code.highcharts.com/modules/offline-exporting',\n",
       "        'highcharts-boost':           'http://code.highcharts.com/modules/boost'\n",
       "    }\n",
       "});\n",
       "\n",
       "requirejs.onError = function (err) {\n",
       "    element.text(err.requireType, err.requireModules)\n",
       "}\n",
       "\n",
       "window.hc_charts = {}\n",
       "\n",
       "window.hc_charts.promise = new Promise(function(resolve, reject) {\n",
       "    var modules = ['highcharts', 'highcharts-more', 'highcharts-export', 'highcharts-offline-export', 'highcharts-boost'];\n",
       "    requirejs(modules, function(hc) {\n",
       "        element.text(\"Loaded HighCharts \" + Highcharts.version)\n",
       "        resolve(Highcharts)\n",
       "    });\n",
       "})"
      ],
      "text/plain": [
       "<IPython.core.display.Javascript object>"
      ]
     },
     "metadata": {},
     "output_type": "display_data"
    }
   ],
   "source": [
    "loadLibraries()"
   ]
  },
  {
   "cell_type": "code",
   "execution_count": 4,
   "metadata": {
    "collapsed": false
   },
   "outputs": [],
   "source": [
    "from ggplot import mpg"
   ]
  },
  {
   "cell_type": "code",
   "execution_count": 5,
   "metadata": {
    "collapsed": false
   },
   "outputs": [
    {
     "data": {
      "text/html": [
       "<div id=\"hc_e2afbd50-367a-460e-a9c1-5b2878f3ff75\">\n",
       "  <div id=\"hc_e2afbd50-367a-460e-a9c1-5b2878f3ff75_0\">\n",
       "    <div id=\"hc_e2afbd50-367a-460e-a9c1-5b2878f3ff75_0-0\"  style=\"display:inline-block; width:1044px; height:1034px\" ></div>\n",
       "  </div>\n",
       "</div>\n",
       "\n",
       "<script>\n",
       "    window.hc_charts.promise.then(function(HC) {\n",
       "\n",
       "//      CHART 0-0\n",
       "        HC.chart(\"hc_e2afbd50-367a-460e-a9c1-5b2878f3ff75_0-0\", {\"title\": {\"text\": null}, \"yAxis\": {\"tickWidth\": 1, \"lineWidth\": 1, \"title\": {\"text\": null}, \"min\": 5, \"max\": 35, \"minorGridLineWidth\": 1}, \"series\": [{\"type\": \"scatter\", \"name\": \"cty\", \"data\": [[1.8, 18.0], [1.8, 21.0], [2.0, 20.0], [2.0, 21.0], [2.8, 16.0], [2.8, 18.0], [3.1, 18.0], [1.8, 18.0], [1.8, 16.0], [2.0, 20.0], [2.0, 19.0], [2.8, 15.0], [2.8, 17.0], [3.1, 17.0], [3.1, 15.0], [2.8, 15.0], [3.1, 17.0], [4.2, 16.0], [5.3, 14.0], [5.3, 11.0], [5.3, 14.0], [5.7, 13.0], [6.0, 12.0], [5.7, 16.0], [5.7, 15.0], [6.2, 16.0], [6.2, 15.0], [7.0, 15.0], [5.3, 14.0], [5.3, 11.0], [5.7, 11.0], [6.5, 14.0], [2.4, 19.0], [2.4, 22.0], [3.1, 18.0], [3.5, 18.0], [3.6, 17.0], [2.4, 18.0], [3.0, 17.0], [3.3, 16.0], [3.3, 16.0], [3.3, 17.0], [3.3, 17.0], [3.3, 11.0], [3.8, 15.0], [3.8, 15.0], [3.8, 16.0], [4.0, 16.0], [3.7, 15.0], [3.7, 14.0], [3.9, 13.0], [3.9, 14.0], [4.7, 14.0], [4.7, 14.0], [4.7, 9.0], [5.2, 11.0], [5.2, 11.0], [3.9, 13.0], [4.7, 13.0], [4.7, 9.0], [4.7, 13.0], [5.2, 11.0], [5.7, 13.0], [5.9, 11.0], [4.7, 12.0], [4.7, 9.0], [4.7, 13.0], [4.7, 13.0], [4.7, 12.0], [4.7, 9.0], [5.2, 11.0], [5.2, 11.0], [5.7, 13.0], [5.9, 11.0], [4.6, 11.0], [5.4, 11.0], [5.4, 12.0], [4.0, 14.0], [4.0, 15.0], [4.0, 14.0], [4.0, 13.0], [4.6, 13.0], [5.0, 13.0], [4.2, 14.0], [4.2, 14.0], [4.6, 13.0], [4.6, 13.0], [4.6, 13.0], [5.4, 11.0], [5.4, 13.0], [3.8, 18.0], [3.8, 18.0], [4.0, 17.0], [4.0, 16.0], [4.6, 15.0], [4.6, 15.0], [4.6, 15.0], [4.6, 15.0], [5.4, 14.0], [1.6, 28.0], [1.6, 24.0], [1.6, 25.0], [1.6, 23.0], [1.6, 24.0], [1.8, 26.0], [1.8, 25.0], [1.8, 24.0], [2.0, 21.0], [2.4, 18.0], [2.4, 18.0], [2.4, 21.0], [2.4, 21.0], [2.5, 18.0], [2.5, 18.0], [3.3, 19.0], [2.0, 19.0], [2.0, 19.0], [2.0, 20.0], [2.0, 20.0], [2.7, 17.0], [2.7, 16.0], [2.7, 17.0], [3.0, 17.0], [3.7, 15.0], [4.0, 15.0], [4.7, 14.0], [4.7, 9.0], [4.7, 14.0], [5.7, 13.0], [6.1, 11.0], [4.0, 11.0], [4.2, 12.0], [4.4, 12.0], [4.6, 11.0], [5.4, 11.0], [5.4, 11.0], [5.4, 12.0], [4.0, 14.0], [4.0, 13.0], [4.6, 13.0], [5.0, 13.0], [2.4, 21.0], [2.4, 19.0], [2.5, 23.0], [2.5, 23.0], [3.5, 19.0], [3.5, 19.0], [3.0, 18.0], [3.0, 19.0], [3.5, 19.0], [3.3, 14.0], [3.3, 15.0], [4.0, 14.0], [5.6, 12.0], [3.1, 18.0], [3.8, 16.0], [3.8, 17.0], [3.8, 18.0], [5.3, 16.0], [2.5, 18.0], [2.5, 18.0], [2.5, 20.0], [2.5, 19.0], [2.5, 20.0], [2.5, 18.0], [2.2, 21.0], [2.2, 19.0], [2.5, 19.0], [2.5, 19.0], [2.5, 20.0], [2.5, 20.0], [2.5, 19.0], [2.5, 20.0], [2.7, 15.0], [2.7, 16.0], [3.4, 15.0], [3.4, 15.0], [4.0, 16.0], [4.7, 14.0], [2.2, 21.0], [2.2, 21.0], [2.4, 21.0], [2.4, 21.0], [3.0, 18.0], [3.0, 18.0], [3.5, 19.0], [2.2, 21.0], [2.2, 21.0], [2.4, 21.0], [2.4, 22.0], [3.0, 18.0], [3.0, 18.0], [3.3, 18.0], [1.8, 24.0], [1.8, 24.0], [1.8, 26.0], [1.8, 28.0], [1.8, 26.0], [4.7, 11.0], [5.7, 13.0], [2.7, 15.0], [2.7, 16.0], [2.7, 17.0], [3.4, 15.0], [3.4, 15.0], [4.0, 15.0], [4.0, 16.0], [2.0, 21.0], [2.0, 19.0], [2.0, 21.0], [2.0, 22.0], [2.8, 17.0], [1.9, 33.0], [2.0, 21.0], [2.0, 19.0], [2.0, 22.0], [2.0, 21.0], [2.5, 21.0], [2.5, 21.0], [2.8, 16.0], [2.8, 17.0], [1.9, 35.0], [1.9, 29.0], [2.0, 21.0], [2.0, 19.0], [2.5, 20.0], [2.5, 20.0], [1.8, 21.0], [1.8, 18.0], [2.0, 19.0], [2.0, 21.0], [2.8, 16.0], [2.8, 18.0], [3.6, 17.0]], \"marker\": {\"radius\": 2}}], \"legend\": {\"enabled\": false}, \"exporting\": {\"enabled\": false}, \"chart\": {\"zoomType\": \"xy\"}, \"xAxis\": {\"tickWidth\": 1, \"lineWidth\": 1, \"title\": {\"text\": null}, \"min\": 0, \"max\": 10, \"gridLineWidth\": 1}});\n",
       "\n",
       "    });\n",
       "</script>\n"
      ],
      "text/plain": [
       "<hcplot.figure.Figure at 0x10fd798d0>"
      ]
     },
     "execution_count": 5,
     "metadata": {},
     "output_type": "execute_result"
    }
   ],
   "source": [
    "fig1 = Figure(mpg, mapping(\"displ\", \"cty\"))\n",
    "fig1 + Points()\n",
    "fig1"
   ]
  },
  {
   "cell_type": "code",
   "execution_count": 6,
   "metadata": {
    "collapsed": false
   },
   "outputs": [
    {
     "data": {
      "text/html": [
       "<div id=\"hc_90cc99cc-569c-438e-85e1-16ad379a7f70\">\n",
       "  <div id=\"hc_90cc99cc-569c-438e-85e1-16ad379a7f70_0\">\n",
       "    <div id=\"hc_90cc99cc-569c-438e-85e1-16ad379a7f70_0-0\"  style=\"display:inline-block; width:361px; height:331px\" ></div>\n",
       "    <div id=\"hc_90cc99cc-569c-438e-85e1-16ad379a7f70_0-1\"  style=\"display:inline-block; width:331px; height:331px\" ></div>\n",
       "    <div id=\"hc_90cc99cc-569c-438e-85e1-16ad379a7f70_0-2\"  style=\"display:inline-block; width:331px; height:331px\" ></div>\n",
       "  </div>\n",
       "  <div id=\"hc_90cc99cc-569c-438e-85e1-16ad379a7f70_1\">\n",
       "    <div id=\"hc_90cc99cc-569c-438e-85e1-16ad379a7f70_1-0\"  style=\"display:inline-block; width:361px; height:331px\" ></div>\n",
       "    <div id=\"hc_90cc99cc-569c-438e-85e1-16ad379a7f70_1-1\"  style=\"display:inline-block; width:331px; height:331px\" ></div>\n",
       "    <div id=\"hc_90cc99cc-569c-438e-85e1-16ad379a7f70_1-2\"  style=\"display:inline-block; width:331px; height:331px\" ></div>\n",
       "  </div>\n",
       "  <div id=\"hc_90cc99cc-569c-438e-85e1-16ad379a7f70_2\">\n",
       "    <div id=\"hc_90cc99cc-569c-438e-85e1-16ad379a7f70_2-0\"  style=\"display:inline-block; width:361px; height:331px\" ></div>\n",
       "    <div id=\"hc_90cc99cc-569c-438e-85e1-16ad379a7f70_2-1\"  style=\"display:inline-block; width:331px; height:331px\" ></div>\n",
       "    <div id=\"hc_90cc99cc-569c-438e-85e1-16ad379a7f70_2-2\"  style=\"display:inline-block; width:331px; height:331px\" ></div>\n",
       "  </div>\n",
       "  <div id=\"hc_90cc99cc-569c-438e-85e1-16ad379a7f70_3\">\n",
       "    <div id=\"hc_90cc99cc-569c-438e-85e1-16ad379a7f70_3-0\"  style=\"display:inline-block; width:361px; height:351px\" ></div>\n",
       "    <div id=\"hc_90cc99cc-569c-438e-85e1-16ad379a7f70_3-1\"  style=\"display:inline-block; width:331px; height:351px\" ></div>\n",
       "    <div id=\"hc_90cc99cc-569c-438e-85e1-16ad379a7f70_3-2\"  style=\"display:inline-block; width:331px; height:351px\" ></div>\n",
       "  </div>\n",
       "</div>\n",
       "\n",
       "<script>\n",
       "    window.hc_charts.promise.then(function(HC) {\n",
       "\n",
       "//      CHART 0-0\n",
       "        HC.chart(\"hc_90cc99cc-569c-438e-85e1-16ad379a7f70_0-0\", {\"title\": {\"text\": null}, \"yAxis\": {\"tickWidth\": 1, \"lineWidth\": 1, \"title\": {\"text\": \"cyl : 4\"}, \"min\": 5, \"max\": 35, \"minorGridLineWidth\": 1}, \"series\": [{\"type\": \"scatter\", \"name\": \"cty\", \"data\": [[1.8, 18.0], [1.8, 16.0], [2.0, 20.0], [2.0, 19.0], [2.5, 18.0], [2.5, 18.0], [2.5, 20.0], [2.5, 19.0], [2.5, 20.0], [2.5, 18.0], [2.2, 21.0], [2.2, 19.0], [2.5, 19.0], [2.5, 19.0], [2.5, 20.0], [2.5, 20.0], [2.5, 19.0], [2.5, 20.0], [2.7, 15.0], [2.7, 16.0], [2.7, 15.0], [2.7, 16.0], [2.7, 17.0]], \"marker\": {\"radius\": 2}}], \"legend\": {\"enabled\": false}, \"exporting\": {\"enabled\": false}, \"chart\": {\"zoomType\": \"xy\"}, \"xAxis\": {\"tickWidth\": 1, \"lineWidth\": 1, \"title\": {\"text\": null}, \"min\": 0, \"max\": 10, \"gridLineWidth\": 1, \"labels\": {\"enabled\": false}}, \"credits\": false});\n",
       "\n",
       "//      CHART 0-1\n",
       "        HC.chart(\"hc_90cc99cc-569c-438e-85e1-16ad379a7f70_0-1\", {\"title\": {\"text\": null}, \"yAxis\": {\"tickWidth\": 1, \"lineWidth\": 1, \"title\": {\"text\": null}, \"min\": 5, \"max\": 35, \"labels\": {\"enabled\": false}, \"minorGridLineWidth\": 1}, \"series\": [{\"type\": \"scatter\", \"name\": \"cty\", \"data\": [[1.8, 18.0], [1.8, 21.0], [2.0, 20.0], [2.0, 21.0], [2.4, 19.0], [2.4, 22.0], [2.4, 18.0], [1.6, 28.0], [1.6, 24.0], [1.6, 25.0], [1.6, 23.0], [1.6, 24.0], [1.8, 26.0], [1.8, 25.0], [1.8, 24.0], [2.0, 21.0], [2.4, 18.0], [2.4, 18.0], [2.4, 21.0], [2.4, 21.0], [2.0, 19.0], [2.0, 19.0], [2.0, 20.0], [2.0, 20.0], [2.4, 21.0], [2.4, 19.0], [2.5, 23.0], [2.5, 23.0], [2.2, 21.0], [2.2, 21.0], [2.4, 21.0], [2.4, 21.0], [2.2, 21.0], [2.2, 21.0], [2.4, 21.0], [2.4, 22.0], [1.8, 24.0], [1.8, 24.0], [1.8, 26.0], [1.8, 28.0], [1.8, 26.0], [2.0, 21.0], [2.0, 19.0], [2.0, 21.0], [2.0, 22.0], [1.9, 33.0], [2.0, 21.0], [2.0, 19.0], [2.0, 22.0], [2.0, 21.0], [1.9, 35.0], [1.9, 29.0], [2.0, 21.0], [2.0, 19.0], [1.8, 21.0], [1.8, 18.0], [2.0, 19.0], [2.0, 21.0]], \"marker\": {\"radius\": 2}}], \"legend\": {\"enabled\": false}, \"exporting\": {\"enabled\": false}, \"chart\": {\"zoomType\": \"xy\"}, \"xAxis\": {\"tickWidth\": 1, \"lineWidth\": 1, \"title\": {\"text\": null}, \"min\": 0, \"max\": 10, \"gridLineWidth\": 1, \"labels\": {\"enabled\": false}}, \"credits\": false});\n",
       "\n",
       "//      CHART 0-2\n",
       "        HC.chart(\"hc_90cc99cc-569c-438e-85e1-16ad379a7f70_0-2\", {\"title\": {\"text\": null}, \"yAxis\": {\"tickWidth\": 1, \"lineWidth\": 1, \"title\": {\"text\": null}, \"min\": 5, \"max\": 35, \"labels\": {\"enabled\": false}, \"minorGridLineWidth\": 1}, \"series\": [{\"type\": \"scatter\", \"name\": \"cty\", \"data\": [], \"marker\": {\"radius\": 2}}], \"legend\": {\"enabled\": false}, \"exporting\": {\"enabled\": false}, \"chart\": {\"zoomType\": \"xy\"}, \"xAxis\": {\"tickWidth\": 1, \"lineWidth\": 1, \"title\": {\"text\": null}, \"min\": 0, \"max\": 10, \"gridLineWidth\": 1, \"labels\": {\"enabled\": false}}, \"credits\": false});\n",
       "\n",
       "//      CHART 1-0\n",
       "        HC.chart(\"hc_90cc99cc-569c-438e-85e1-16ad379a7f70_1-0\", {\"title\": {\"text\": null}, \"yAxis\": {\"tickWidth\": 1, \"lineWidth\": 1, \"title\": {\"text\": \"cyl : 5\"}, \"min\": 5, \"max\": 35, \"minorGridLineWidth\": 1}, \"series\": [{\"type\": \"scatter\", \"name\": \"cty\", \"data\": [], \"marker\": {\"radius\": 2}}], \"legend\": {\"enabled\": false}, \"exporting\": {\"enabled\": false}, \"chart\": {\"zoomType\": \"xy\"}, \"xAxis\": {\"tickWidth\": 1, \"lineWidth\": 1, \"title\": {\"text\": null}, \"min\": 0, \"max\": 10, \"gridLineWidth\": 1, \"labels\": {\"enabled\": false}}, \"credits\": false});\n",
       "\n",
       "//      CHART 1-1\n",
       "        HC.chart(\"hc_90cc99cc-569c-438e-85e1-16ad379a7f70_1-1\", {\"title\": {\"text\": null}, \"yAxis\": {\"tickWidth\": 1, \"lineWidth\": 1, \"title\": {\"text\": null}, \"min\": 5, \"max\": 35, \"labels\": {\"enabled\": false}, \"minorGridLineWidth\": 1}, \"series\": [{\"type\": \"scatter\", \"name\": \"cty\", \"data\": [[2.5, 21.0], [2.5, 21.0], [2.5, 20.0], [2.5, 20.0]], \"marker\": {\"radius\": 2}}], \"legend\": {\"enabled\": false}, \"exporting\": {\"enabled\": false}, \"chart\": {\"zoomType\": \"xy\"}, \"xAxis\": {\"tickWidth\": 1, \"lineWidth\": 1, \"title\": {\"text\": null}, \"min\": 0, \"max\": 10, \"gridLineWidth\": 1, \"labels\": {\"enabled\": false}}, \"credits\": false});\n",
       "\n",
       "//      CHART 1-2\n",
       "        HC.chart(\"hc_90cc99cc-569c-438e-85e1-16ad379a7f70_1-2\", {\"title\": {\"text\": null}, \"yAxis\": {\"tickWidth\": 1, \"lineWidth\": 1, \"title\": {\"text\": null}, \"min\": 5, \"max\": 35, \"labels\": {\"enabled\": false}, \"minorGridLineWidth\": 1}, \"series\": [{\"type\": \"scatter\", \"name\": \"cty\", \"data\": [], \"marker\": {\"radius\": 2}}], \"legend\": {\"enabled\": false}, \"exporting\": {\"enabled\": false}, \"chart\": {\"zoomType\": \"xy\"}, \"xAxis\": {\"tickWidth\": 1, \"lineWidth\": 1, \"title\": {\"text\": null}, \"min\": 0, \"max\": 10, \"gridLineWidth\": 1, \"labels\": {\"enabled\": false}}, \"credits\": false});\n",
       "\n",
       "//      CHART 2-0\n",
       "        HC.chart(\"hc_90cc99cc-569c-438e-85e1-16ad379a7f70_2-0\", {\"title\": {\"text\": null}, \"yAxis\": {\"tickWidth\": 1, \"lineWidth\": 1, \"title\": {\"text\": \"cyl : 6\"}, \"min\": 5, \"max\": 35, \"minorGridLineWidth\": 1}, \"series\": [{\"type\": \"scatter\", \"name\": \"cty\", \"data\": [[2.8, 15.0], [2.8, 17.0], [3.1, 17.0], [3.1, 15.0], [2.8, 15.0], [3.1, 17.0], [3.7, 15.0], [3.7, 14.0], [3.9, 13.0], [3.9, 14.0], [3.9, 13.0], [4.0, 14.0], [4.0, 15.0], [4.0, 14.0], [4.0, 13.0], [4.2, 14.0], [4.2, 14.0], [3.0, 17.0], [3.7, 15.0], [4.0, 15.0], [4.0, 14.0], [4.0, 13.0], [3.3, 14.0], [3.3, 15.0], [4.0, 14.0], [3.4, 15.0], [3.4, 15.0], [4.0, 16.0], [3.4, 15.0], [3.4, 15.0], [4.0, 15.0], [4.0, 16.0]], \"marker\": {\"radius\": 2}}], \"legend\": {\"enabled\": false}, \"exporting\": {\"enabled\": false}, \"chart\": {\"zoomType\": \"xy\"}, \"xAxis\": {\"tickWidth\": 1, \"lineWidth\": 1, \"title\": {\"text\": null}, \"min\": 0, \"max\": 10, \"gridLineWidth\": 1, \"labels\": {\"enabled\": false}}, \"credits\": false});\n",
       "\n",
       "//      CHART 2-1\n",
       "        HC.chart(\"hc_90cc99cc-569c-438e-85e1-16ad379a7f70_2-1\", {\"title\": {\"text\": null}, \"yAxis\": {\"tickWidth\": 1, \"lineWidth\": 1, \"title\": {\"text\": null}, \"min\": 5, \"max\": 35, \"labels\": {\"enabled\": false}, \"minorGridLineWidth\": 1}, \"series\": [{\"type\": \"scatter\", \"name\": \"cty\", \"data\": [[2.8, 16.0], [2.8, 18.0], [3.1, 18.0], [3.1, 18.0], [3.5, 18.0], [3.6, 17.0], [3.0, 17.0], [3.3, 16.0], [3.3, 16.0], [3.3, 17.0], [3.3, 17.0], [3.3, 11.0], [3.8, 15.0], [3.8, 15.0], [3.8, 16.0], [4.0, 16.0], [2.5, 18.0], [2.5, 18.0], [3.3, 19.0], [2.7, 17.0], [2.7, 16.0], [2.7, 17.0], [3.5, 19.0], [3.5, 19.0], [3.0, 18.0], [3.0, 19.0], [3.5, 19.0], [3.1, 18.0], [3.8, 16.0], [3.8, 17.0], [3.8, 18.0], [3.0, 18.0], [3.0, 18.0], [3.5, 19.0], [3.0, 18.0], [3.0, 18.0], [3.3, 18.0], [2.8, 17.0], [2.8, 16.0], [2.8, 17.0], [2.8, 16.0], [2.8, 18.0], [3.6, 17.0]], \"marker\": {\"radius\": 2}}], \"legend\": {\"enabled\": false}, \"exporting\": {\"enabled\": false}, \"chart\": {\"zoomType\": \"xy\"}, \"xAxis\": {\"tickWidth\": 1, \"lineWidth\": 1, \"title\": {\"text\": null}, \"min\": 0, \"max\": 10, \"gridLineWidth\": 1, \"labels\": {\"enabled\": false}}, \"credits\": false});\n",
       "\n",
       "//      CHART 2-2\n",
       "        HC.chart(\"hc_90cc99cc-569c-438e-85e1-16ad379a7f70_2-2\", {\"title\": {\"text\": null}, \"yAxis\": {\"tickWidth\": 1, \"lineWidth\": 1, \"title\": {\"text\": null}, \"min\": 5, \"max\": 35, \"labels\": {\"enabled\": false}, \"minorGridLineWidth\": 1}, \"series\": [{\"type\": \"scatter\", \"name\": \"cty\", \"data\": [[3.8, 18.0], [3.8, 18.0], [4.0, 17.0], [4.0, 16.0]], \"marker\": {\"radius\": 2}}], \"legend\": {\"enabled\": false}, \"exporting\": {\"enabled\": false}, \"chart\": {\"zoomType\": \"xy\"}, \"xAxis\": {\"tickWidth\": 1, \"lineWidth\": 1, \"title\": {\"text\": null}, \"min\": 0, \"max\": 10, \"gridLineWidth\": 1, \"labels\": {\"enabled\": false}}, \"credits\": false});\n",
       "\n",
       "//      CHART 3-0\n",
       "        HC.chart(\"hc_90cc99cc-569c-438e-85e1-16ad379a7f70_3-0\", {\"title\": {\"text\": null}, \"yAxis\": {\"tickWidth\": 1, \"lineWidth\": 1, \"title\": {\"text\": \"cyl : 8\"}, \"min\": 5, \"max\": 35, \"minorGridLineWidth\": 1}, \"series\": [{\"type\": \"scatter\", \"name\": \"cty\", \"data\": [[4.2, 16.0], [5.3, 14.0], [5.3, 11.0], [5.7, 11.0], [6.5, 14.0], [4.7, 14.0], [4.7, 14.0], [4.7, 9.0], [5.2, 11.0], [5.2, 11.0], [4.7, 13.0], [4.7, 9.0], [4.7, 13.0], [5.2, 11.0], [5.7, 13.0], [5.9, 11.0], [4.7, 12.0], [4.7, 9.0], [4.7, 13.0], [4.7, 13.0], [4.7, 12.0], [4.7, 9.0], [5.2, 11.0], [5.2, 11.0], [5.7, 13.0], [5.9, 11.0], [4.6, 13.0], [5.0, 13.0], [4.6, 13.0], [4.6, 13.0], [4.6, 13.0], [5.4, 11.0], [5.4, 13.0], [4.7, 14.0], [4.7, 9.0], [4.7, 14.0], [5.7, 13.0], [6.1, 11.0], [4.0, 11.0], [4.2, 12.0], [4.4, 12.0], [4.6, 11.0], [4.6, 13.0], [5.0, 13.0], [5.6, 12.0], [4.7, 14.0], [4.7, 11.0], [5.7, 13.0]], \"marker\": {\"radius\": 2}}], \"legend\": {\"enabled\": false}, \"exporting\": {\"enabled\": false}, \"chart\": {\"zoomType\": \"xy\"}, \"xAxis\": {\"tickWidth\": 1, \"lineWidth\": 1, \"title\": {\"text\": \"drv : 4\"}, \"min\": 0, \"max\": 10, \"gridLineWidth\": 1}, \"credits\": false});\n",
       "\n",
       "//      CHART 3-1\n",
       "        HC.chart(\"hc_90cc99cc-569c-438e-85e1-16ad379a7f70_3-1\", {\"title\": {\"text\": null}, \"yAxis\": {\"tickWidth\": 1, \"lineWidth\": 1, \"title\": {\"text\": null}, \"min\": 5, \"max\": 35, \"labels\": {\"enabled\": false}, \"minorGridLineWidth\": 1}, \"series\": [{\"type\": \"scatter\", \"name\": \"cty\", \"data\": [[5.3, 16.0]], \"marker\": {\"radius\": 2}}], \"legend\": {\"enabled\": false}, \"exporting\": {\"enabled\": false}, \"chart\": {\"zoomType\": \"xy\"}, \"xAxis\": {\"tickWidth\": 1, \"lineWidth\": 1, \"title\": {\"text\": \"drv : f\"}, \"min\": 0, \"max\": 10, \"gridLineWidth\": 1}, \"credits\": false});\n",
       "\n",
       "//      CHART 3-2\n",
       "        HC.chart(\"hc_90cc99cc-569c-438e-85e1-16ad379a7f70_3-2\", {\"title\": {\"text\": null}, \"yAxis\": {\"tickWidth\": 1, \"lineWidth\": 1, \"title\": {\"text\": null}, \"min\": 5, \"max\": 35, \"labels\": {\"enabled\": false}, \"minorGridLineWidth\": 1}, \"series\": [{\"type\": \"scatter\", \"name\": \"cty\", \"data\": [[5.3, 14.0], [5.3, 11.0], [5.3, 14.0], [5.7, 13.0], [6.0, 12.0], [5.7, 16.0], [5.7, 15.0], [6.2, 16.0], [6.2, 15.0], [7.0, 15.0], [4.6, 11.0], [5.4, 11.0], [5.4, 12.0], [4.6, 15.0], [4.6, 15.0], [4.6, 15.0], [4.6, 15.0], [5.4, 14.0], [5.4, 11.0], [5.4, 11.0], [5.4, 12.0]], \"marker\": {\"radius\": 2}}], \"legend\": {\"enabled\": false}, \"exporting\": {\"enabled\": false}, \"chart\": {\"zoomType\": \"xy\"}, \"xAxis\": {\"tickWidth\": 1, \"lineWidth\": 1, \"title\": {\"text\": \"drv : r\"}, \"min\": 0, \"max\": 10, \"gridLineWidth\": 1}});\n",
       "\n",
       "    });\n",
       "</script>\n"
      ],
      "text/plain": [
       "<hcplot.figure.Figure at 0x10fd79e10>"
      ]
     },
     "execution_count": 6,
     "metadata": {},
     "output_type": "execute_result"
    }
   ],
   "source": [
    "fig2 = Figure(mpg, mapping(\"displ\", \"cty\"), layout(\"grid\", [\"cyl\"], [\"drv\"]))\n",
    "fig2 + Points()\n",
    "fig2"
   ]
  },
  {
   "cell_type": "code",
   "execution_count": null,
   "metadata": {
    "collapsed": true
   },
   "outputs": [],
   "source": []
  }
 ],
 "metadata": {
  "kernelspec": {
   "display_name": "Python 3",
   "language": "python",
   "name": "python3"
  },
  "language_info": {
   "codemirror_mode": {
    "name": "ipython",
    "version": 3
   },
   "file_extension": ".py",
   "mimetype": "text/x-python",
   "name": "python",
   "nbconvert_exporter": "python",
   "pygments_lexer": "ipython3",
   "version": "3.5.2"
  }
 },
 "nbformat": 4,
 "nbformat_minor": 2
}
