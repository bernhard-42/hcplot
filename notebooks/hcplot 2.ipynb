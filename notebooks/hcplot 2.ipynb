{
 "cells": [
  {
   "cell_type": "code",
   "execution_count": 1,
   "metadata": {
    "collapsed": false
   },
   "outputs": [
    {
     "data": {
      "text/html": [
       "<style>.container { width:95% !important; }</style>"
      ],
      "text/plain": [
       "<IPython.core.display.HTML object>"
      ]
     },
     "metadata": {},
     "output_type": "display_data"
    }
   ],
   "source": [
    "from IPython.core.display import display, HTML\n",
    "display(HTML(\"<style>.container { width:95% !important; }</style>\"))"
   ]
  },
  {
   "cell_type": "code",
   "execution_count": 2,
   "metadata": {
    "collapsed": false
   },
   "outputs": [],
   "source": [
    "from hcplot import loadLibraries, Figure, Points, mapping, single, pivot"
   ]
  },
  {
   "cell_type": "code",
   "execution_count": 3,
   "metadata": {
    "collapsed": false
   },
   "outputs": [
    {
     "data": {
      "text/html": [
       "<style>.hcTable {\n",
       "    border-color:white !important; \n",
       "    border-width:0px !important;\n",
       "}\n",
       "\n",
       "th.colHeader > div {\n",
       "  margin-left: 10px;\n",
       "  margin-right: 5px;\n",
       "  background-color:#f0f0f0;\n",
       "  text-align: center;\n",
       "}\n",
       "\n",
       "th.rowHeader > div {\n",
       "  margin-top: 10px;\n",
       "  margin-bottom: 20px;\n",
       "  background-color:#f0f0f0;\n",
       "  height: 100%;\n",
       "  display: flex;\n",
       "  justify-content: center;\n",
       "  white-space: nowrap; \n",
       "  writing-mode: vertical-lr;\n",
       "}</style>"
      ],
      "text/plain": [
       "<IPython.core.display.HTML object>"
      ]
     },
     "metadata": {},
     "output_type": "display_data"
    },
    {
     "data": {
      "application/javascript": [
       "/**\n",
       "  * Copyright 2017 Bernhard Walter\n",
       "  *\n",
       "  * Licensed under the Apache License, Version 2.0 (the \"License\");\n",
       "  * you may not use this file except in compliance with the License.\n",
       "  * You may obtain a copy of the License at\n",
       "  *\n",
       "  *    http://www.apache.org/licenses/LICENSE-2.0\n",
       "  *\n",
       "  * Unless required by applicable law or agreed to in writing, software\n",
       "  * distributed under the License is distributed on an \"AS IS\" BASIS,\n",
       "  * WITHOUT WARRANTIES OR CONDITIONS OF ANY KIND, either express or implied.\n",
       "  * See the License for the specific language governing permissions and\n",
       "  * limitations under the License.\n",
       "  */\n",
       "\n",
       "require.config({\n",
       "    baseUrl: '/js',\n",
       "    shim: {\n",
       "        \"highcharts-more\":            ['highcharts'],\n",
       "        \"highcharts-export\":          ['highcharts'],\n",
       "        \"highcharts-offline-export\":  ['highcharts-export'],\n",
       "        \"highcharts-boost\":           ['highcharts']\n",
       "    },\n",
       "    paths: {\n",
       "        'highcharts':                 'http://code.highcharts.com/highcharts',\n",
       "        'highcharts-more':            'http://code.highcharts.com/highcharts-more',\n",
       "        'highcharts-export':          'http://code.highcharts.com/modules/exporting',\n",
       "        'highcharts-offline-export':  'http://code.highcharts.com/modules/offline-exporting',\n",
       "        'highcharts-boost':           'http://code.highcharts.com/modules/boost'\n",
       "    }\n",
       "});\n",
       "\n",
       "requirejs.onError = function (err) {\n",
       "    element.text(err.requireType, err.requireModules)\n",
       "}\n",
       "\n",
       "window.hc_charts = {}\n",
       "\n",
       "window.hc_charts.promise = new Promise(function(resolve, reject) {\n",
       "    var modules = ['highcharts', 'highcharts-more', 'highcharts-export', 'highcharts-offline-export', 'highcharts-boost'];\n",
       "    requirejs(modules, function(hc) {\n",
       "        element.text(\"Loaded HighCharts \" + Highcharts.version)\n",
       "        resolve(Highcharts)\n",
       "    });\n",
       "})"
      ],
      "text/plain": [
       "<IPython.core.display.Javascript object>"
      ]
     },
     "metadata": {},
     "output_type": "display_data"
    }
   ],
   "source": [
    "loadLibraries()"
   ]
  },
  {
   "cell_type": "code",
   "execution_count": 4,
   "metadata": {
    "collapsed": false
   },
   "outputs": [],
   "source": [
    "from ggplot import mpg, mtcars"
   ]
  },
  {
   "cell_type": "code",
   "execution_count": 11,
   "metadata": {
    "collapsed": false
   },
   "outputs": [
    {
     "data": {
      "text/html": [
       "<table id=\"hc_fac99789-a961-49fb-9fed-7a0d0a02cdcb\" class=\"hcTable\">\n",
       "  <tr id=\"hc_fac99789-a961-49fb-9fed-7a0d0a02cdcb_0\" class=\"hcTable\">\n",
       "    \n",
       "                <td class=\"hcTable\">\n",
       "                    <div id=\"hc_fac99789-a961-49fb-9fed-7a0d0a02cdcb_0-0\" style=\"width:600px; height:450px; padding-bottom:50px;\"></div>\n",
       "                </td>\n",
       "                  </tr>\n",
       "</table>\n",
       "\n",
       "<script>\n",
       "    window.hc_charts.promise.then(function(HC) {\n",
       "\n",
       "//      CHART 0-0\n",
       "        HC.chart(\"hc_fac99789-a961-49fb-9fed-7a0d0a02cdcb_0-0\", {\"yAxis\": {\"tickWidth\": 1, \"max\": 35, \"gridLineWidth\": 1, \"min\": 5, \"title\": {\"text\": null}, \"lineWidth\": 1}, \"chart\": {\"marginBottom\": 40, \"spacingLeft\": 5, \"height\": 430.0, \"zoomType\": \"xy\", \"spacingBottom\": 5, \"marginLeft\": 50, \"spacingRight\": 5, \"width\": 640, \"spacingTop\": 5}, \"legend\": {\"enabled\": false}, \"credits\": {\"position\": {\"y\": -5}}, \"series\": [{\"name\": \"cty\", \"type\": \"scatter\", \"marker\": {\"radius\": 2}, \"data\": [[1.8, 18.0], [1.8, 21.0], [2.0, 20.0], [2.0, 21.0], [2.8, 16.0], [2.8, 18.0], [3.1, 18.0], [1.8, 18.0], [1.8, 16.0], [2.0, 20.0], [2.0, 19.0], [2.8, 15.0], [2.8, 17.0], [3.1, 17.0], [3.1, 15.0], [2.8, 15.0], [3.1, 17.0], [4.2, 16.0], [5.3, 14.0], [5.3, 11.0], [5.3, 14.0], [5.7, 13.0], [6.0, 12.0], [5.7, 16.0], [5.7, 15.0], [6.2, 16.0], [6.2, 15.0], [7.0, 15.0], [5.3, 14.0], [5.3, 11.0], [5.7, 11.0], [6.5, 14.0], [2.4, 19.0], [2.4, 22.0], [3.1, 18.0], [3.5, 18.0], [3.6, 17.0], [2.4, 18.0], [3.0, 17.0], [3.3, 16.0], [3.3, 16.0], [3.3, 17.0], [3.3, 17.0], [3.3, 11.0], [3.8, 15.0], [3.8, 15.0], [3.8, 16.0], [4.0, 16.0], [3.7, 15.0], [3.7, 14.0], [3.9, 13.0], [3.9, 14.0], [4.7, 14.0], [4.7, 14.0], [4.7, 9.0], [5.2, 11.0], [5.2, 11.0], [3.9, 13.0], [4.7, 13.0], [4.7, 9.0], [4.7, 13.0], [5.2, 11.0], [5.7, 13.0], [5.9, 11.0], [4.7, 12.0], [4.7, 9.0], [4.7, 13.0], [4.7, 13.0], [4.7, 12.0], [4.7, 9.0], [5.2, 11.0], [5.2, 11.0], [5.7, 13.0], [5.9, 11.0], [4.6, 11.0], [5.4, 11.0], [5.4, 12.0], [4.0, 14.0], [4.0, 15.0], [4.0, 14.0], [4.0, 13.0], [4.6, 13.0], [5.0, 13.0], [4.2, 14.0], [4.2, 14.0], [4.6, 13.0], [4.6, 13.0], [4.6, 13.0], [5.4, 11.0], [5.4, 13.0], [3.8, 18.0], [3.8, 18.0], [4.0, 17.0], [4.0, 16.0], [4.6, 15.0], [4.6, 15.0], [4.6, 15.0], [4.6, 15.0], [5.4, 14.0], [1.6, 28.0], [1.6, 24.0], [1.6, 25.0], [1.6, 23.0], [1.6, 24.0], [1.8, 26.0], [1.8, 25.0], [1.8, 24.0], [2.0, 21.0], [2.4, 18.0], [2.4, 18.0], [2.4, 21.0], [2.4, 21.0], [2.5, 18.0], [2.5, 18.0], [3.3, 19.0], [2.0, 19.0], [2.0, 19.0], [2.0, 20.0], [2.0, 20.0], [2.7, 17.0], [2.7, 16.0], [2.7, 17.0], [3.0, 17.0], [3.7, 15.0], [4.0, 15.0], [4.7, 14.0], [4.7, 9.0], [4.7, 14.0], [5.7, 13.0], [6.1, 11.0], [4.0, 11.0], [4.2, 12.0], [4.4, 12.0], [4.6, 11.0], [5.4, 11.0], [5.4, 11.0], [5.4, 12.0], [4.0, 14.0], [4.0, 13.0], [4.6, 13.0], [5.0, 13.0], [2.4, 21.0], [2.4, 19.0], [2.5, 23.0], [2.5, 23.0], [3.5, 19.0], [3.5, 19.0], [3.0, 18.0], [3.0, 19.0], [3.5, 19.0], [3.3, 14.0], [3.3, 15.0], [4.0, 14.0], [5.6, 12.0], [3.1, 18.0], [3.8, 16.0], [3.8, 17.0], [3.8, 18.0], [5.3, 16.0], [2.5, 18.0], [2.5, 18.0], [2.5, 20.0], [2.5, 19.0], [2.5, 20.0], [2.5, 18.0], [2.2, 21.0], [2.2, 19.0], [2.5, 19.0], [2.5, 19.0], [2.5, 20.0], [2.5, 20.0], [2.5, 19.0], [2.5, 20.0], [2.7, 15.0], [2.7, 16.0], [3.4, 15.0], [3.4, 15.0], [4.0, 16.0], [4.7, 14.0], [2.2, 21.0], [2.2, 21.0], [2.4, 21.0], [2.4, 21.0], [3.0, 18.0], [3.0, 18.0], [3.5, 19.0], [2.2, 21.0], [2.2, 21.0], [2.4, 21.0], [2.4, 22.0], [3.0, 18.0], [3.0, 18.0], [3.3, 18.0], [1.8, 24.0], [1.8, 24.0], [1.8, 26.0], [1.8, 28.0], [1.8, 26.0], [4.7, 11.0], [5.7, 13.0], [2.7, 15.0], [2.7, 16.0], [2.7, 17.0], [3.4, 15.0], [3.4, 15.0], [4.0, 15.0], [4.0, 16.0], [2.0, 21.0], [2.0, 19.0], [2.0, 21.0], [2.0, 22.0], [2.8, 17.0], [1.9, 33.0], [2.0, 21.0], [2.0, 19.0], [2.0, 22.0], [2.0, 21.0], [2.5, 21.0], [2.5, 21.0], [2.8, 16.0], [2.8, 17.0], [1.9, 35.0], [1.9, 29.0], [2.0, 21.0], [2.0, 19.0], [2.5, 20.0], [2.5, 20.0], [1.8, 21.0], [1.8, 18.0], [2.0, 19.0], [2.0, 21.0], [2.8, 16.0], [2.8, 18.0], [3.6, 17.0]]}], \"exporting\": {\"enabled\": false}, \"title\": {\"text\": null}, \"xAxis\": {\"tickWidth\": 1, \"max\": 10, \"gridLineWidth\": 1, \"min\": 0, \"title\": {\"text\": null}, \"lineWidth\": 1}});\n",
       "\n",
       "    });\n",
       "</script>\n"
      ],
      "text/plain": [
       "<hcplot.figure.Figure at 0x111986f98>"
      ]
     },
     "execution_count": 11,
     "metadata": {},
     "output_type": "execute_result"
    }
   ],
   "source": [
    "fig1 = Figure(mpg, \n",
    "              mapping(\"displ\", \"cty\"),\n",
    "              layout=single(600))\n",
    "fig1 + Points()\n",
    "fig1"
   ]
  },
  {
   "cell_type": "code",
   "execution_count": 12,
   "metadata": {
    "collapsed": false,
    "scrolled": false
   },
   "outputs": [
    {
     "data": {
      "text/html": [
       "<table id=\"hc_9afdc814-f08b-4ed0-943e-f4af8de963ad\" class=\"hcTable\">\n",
       "  <tr id=\"hc_9afdc814-f08b-4ed0-943e-f4af8de963ad_0\" class=\"hcTable\">\n",
       "    \n",
       "                <td class=\"hcTable\">\n",
       "                    <div id=\"hc_9afdc814-f08b-4ed0-943e-f4af8de963ad_0-0\" style=\"width:320px; height:213px;\"></div>\n",
       "                </td>\n",
       "                    \n",
       "                <td class=\"hcTable\">\n",
       "                    <div id=\"hc_9afdc814-f08b-4ed0-943e-f4af8de963ad_0-1\" style=\"width:320px; height:213px;\"></div>\n",
       "                </td>\n",
       "                    \n",
       "                <td class=\"hcTable\">\n",
       "                    <div id=\"hc_9afdc814-f08b-4ed0-943e-f4af8de963ad_0-2\" style=\"width:320px; height:213px;\"></div>\n",
       "                </td>\n",
       "                    \n",
       "                <td class=\"hcTable\">\n",
       "                    <div id=\"hc_9afdc814-f08b-4ed0-943e-f4af8de963ad_0-3\" style=\"width:320px; height:213px;\"></div>\n",
       "                </td>\n",
       "                  </tr>\n",
       "  <tr id=\"hc_9afdc814-f08b-4ed0-943e-f4af8de963ad_1\" class=\"hcTable\">\n",
       "    \n",
       "                <td class=\"hcTable\">\n",
       "                    <div id=\"hc_9afdc814-f08b-4ed0-943e-f4af8de963ad_1-0\" style=\"width:320px; height:213px;\"></div>\n",
       "                </td>\n",
       "                    \n",
       "                <td class=\"hcTable\">\n",
       "                    <div id=\"hc_9afdc814-f08b-4ed0-943e-f4af8de963ad_1-1\" style=\"width:320px; height:213px;\"></div>\n",
       "                </td>\n",
       "                    \n",
       "                <td class=\"hcTable\">\n",
       "                    <div id=\"hc_9afdc814-f08b-4ed0-943e-f4af8de963ad_1-2\" style=\"width:320px; height:213px;\"></div>\n",
       "                </td>\n",
       "                    \n",
       "                <td class=\"hcTable\">\n",
       "                    <div id=\"hc_9afdc814-f08b-4ed0-943e-f4af8de963ad_1-3\" style=\"width:320px; height:213px;\"></div>\n",
       "                </td>\n",
       "                  </tr>\n",
       "  <tr id=\"hc_9afdc814-f08b-4ed0-943e-f4af8de963ad_2\" class=\"hcTable\">\n",
       "    \n",
       "                <td class=\"hcTable\">\n",
       "                    <div id=\"hc_9afdc814-f08b-4ed0-943e-f4af8de963ad_2-0\" style=\"width:320px; height:263px; padding-bottom:50px;\"></div>\n",
       "                </td>\n",
       "                    \n",
       "                <td class=\"hcTable\">\n",
       "                    <div id=\"hc_9afdc814-f08b-4ed0-943e-f4af8de963ad_2-1\" style=\"width:320px; height:263px; padding-bottom:50px;\"></div>\n",
       "                </td>\n",
       "                    \n",
       "                <td class=\"hcTable\">\n",
       "                    <div id=\"hc_9afdc814-f08b-4ed0-943e-f4af8de963ad_2-2\" style=\"width:320px; height:263px; padding-bottom:50px;\"></div>\n",
       "                </td>\n",
       "                    \n",
       "                <td class=\"hcTable\">\n",
       "                    <div id=\"hc_9afdc814-f08b-4ed0-943e-f4af8de963ad_2-3\" style=\"width:320px; height:263px; padding-bottom:50px;\"></div>\n",
       "                </td>\n",
       "                  </tr>\n",
       "</table>\n",
       "\n",
       "<script>\n",
       "    window.hc_charts.promise.then(function(HC) {\n",
       "\n",
       "//      CHART 0-0\n",
       "        HC.chart(\"hc_9afdc814-f08b-4ed0-943e-f4af8de963ad_0-0\", {\"yAxis\": {\"tickWidth\": 1, \"max\": 35, \"gridLineWidth\": 1, \"min\": 5, \"title\": {\"text\": null}, \"lineWidth\": 1}, \"chart\": {\"spacingLeft\": 5, \"zoomType\": \"xy\", \"spacingBottom\": 5, \"marginLeft\": 50, \"spacingRight\": 5, \"width\": 360, \"spacingTop\": 5}, \"legend\": {\"enabled\": false}, \"credits\": false, \"series\": [{\"name\": \"cty\", \"type\": \"scatter\", \"marker\": {\"radius\": 2}, \"data\": [[1.8, 18.0], [1.8, 16.0], [2.0, 20.0], [2.0, 19.0], [2.5, 18.0], [2.5, 18.0], [2.5, 20.0], [2.5, 19.0], [2.5, 20.0], [2.5, 18.0], [2.2, 21.0], [2.2, 19.0], [2.5, 19.0], [2.5, 19.0], [2.5, 20.0], [2.5, 20.0], [2.5, 19.0], [2.5, 20.0], [2.7, 15.0], [2.7, 16.0], [2.7, 15.0], [2.7, 16.0], [2.7, 17.0]]}], \"exporting\": {\"enabled\": false}, \"title\": {\"text\": null}, \"xAxis\": {\"tickWidth\": 1, \"max\": 10, \"gridLineWidth\": 1, \"labels\": {\"enabled\": false}, \"min\": 0, \"title\": {\"text\": null}, \"lineWidth\": 1}});\n",
       "\n",
       "//      CHART 0-1\n",
       "        HC.chart(\"hc_9afdc814-f08b-4ed0-943e-f4af8de963ad_0-1\", {\"yAxis\": {\"tickWidth\": 1, \"max\": 35, \"gridLineWidth\": 1, \"labels\": {\"enabled\": false}, \"min\": 5, \"title\": {\"text\": null}, \"lineWidth\": 1}, \"chart\": {\"spacingBottom\": 5, \"spacingLeft\": 5, \"spacingRight\": 5, \"zoomType\": \"xy\", \"spacingTop\": 5}, \"legend\": {\"enabled\": false}, \"credits\": false, \"series\": [{\"name\": \"cty\", \"type\": \"scatter\", \"marker\": {\"radius\": 2}, \"data\": []}], \"exporting\": {\"enabled\": false}, \"title\": {\"text\": null}, \"xAxis\": {\"tickWidth\": 1, \"max\": 10, \"gridLineWidth\": 1, \"labels\": {\"enabled\": false}, \"min\": 0, \"title\": {\"text\": null}, \"lineWidth\": 1}});\n",
       "\n",
       "//      CHART 0-2\n",
       "        HC.chart(\"hc_9afdc814-f08b-4ed0-943e-f4af8de963ad_0-2\", {\"yAxis\": {\"tickWidth\": 1, \"max\": 35, \"gridLineWidth\": 1, \"labels\": {\"enabled\": false}, \"min\": 5, \"title\": {\"text\": null}, \"lineWidth\": 1}, \"chart\": {\"spacingBottom\": 5, \"spacingLeft\": 5, \"spacingRight\": 5, \"zoomType\": \"xy\", \"spacingTop\": 5}, \"legend\": {\"enabled\": false}, \"credits\": false, \"series\": [{\"name\": \"cty\", \"type\": \"scatter\", \"marker\": {\"radius\": 2}, \"data\": [[2.8, 15.0], [2.8, 17.0], [3.1, 17.0], [3.1, 15.0], [2.8, 15.0], [3.1, 17.0], [3.7, 15.0], [3.7, 14.0], [3.9, 13.0], [3.9, 14.0], [3.9, 13.0], [4.0, 14.0], [4.0, 15.0], [4.0, 14.0], [4.0, 13.0], [4.2, 14.0], [4.2, 14.0], [3.0, 17.0], [3.7, 15.0], [4.0, 15.0], [4.0, 14.0], [4.0, 13.0], [3.3, 14.0], [3.3, 15.0], [4.0, 14.0], [3.4, 15.0], [3.4, 15.0], [4.0, 16.0], [3.4, 15.0], [3.4, 15.0], [4.0, 15.0], [4.0, 16.0]]}], \"exporting\": {\"enabled\": false}, \"title\": {\"text\": null}, \"xAxis\": {\"tickWidth\": 1, \"max\": 10, \"gridLineWidth\": 1, \"labels\": {\"enabled\": false}, \"min\": 0, \"title\": {\"text\": null}, \"lineWidth\": 1}});\n",
       "\n",
       "//      CHART 0-3\n",
       "        HC.chart(\"hc_9afdc814-f08b-4ed0-943e-f4af8de963ad_0-3\", {\"yAxis\": {\"tickWidth\": 1, \"max\": 35, \"gridLineWidth\": 1, \"labels\": {\"enabled\": false}, \"min\": 5, \"title\": {\"text\": null}, \"lineWidth\": 1}, \"chart\": {\"spacingBottom\": 5, \"spacingLeft\": 5, \"spacingRight\": 5, \"zoomType\": \"xy\", \"spacingTop\": 5}, \"legend\": {\"enabled\": false}, \"credits\": false, \"series\": [{\"name\": \"cty\", \"type\": \"scatter\", \"marker\": {\"radius\": 2}, \"data\": [[4.2, 16.0], [5.3, 14.0], [5.3, 11.0], [5.7, 11.0], [6.5, 14.0], [4.7, 14.0], [4.7, 14.0], [4.7, 9.0], [5.2, 11.0], [5.2, 11.0], [4.7, 13.0], [4.7, 9.0], [4.7, 13.0], [5.2, 11.0], [5.7, 13.0], [5.9, 11.0], [4.7, 12.0], [4.7, 9.0], [4.7, 13.0], [4.7, 13.0], [4.7, 12.0], [4.7, 9.0], [5.2, 11.0], [5.2, 11.0], [5.7, 13.0], [5.9, 11.0], [4.6, 13.0], [5.0, 13.0], [4.6, 13.0], [4.6, 13.0], [4.6, 13.0], [5.4, 11.0], [5.4, 13.0], [4.7, 14.0], [4.7, 9.0], [4.7, 14.0], [5.7, 13.0], [6.1, 11.0], [4.0, 11.0], [4.2, 12.0], [4.4, 12.0], [4.6, 11.0], [4.6, 13.0], [5.0, 13.0], [5.6, 12.0], [4.7, 14.0], [4.7, 11.0], [5.7, 13.0]]}], \"exporting\": {\"enabled\": false}, \"title\": {\"text\": null}, \"xAxis\": {\"tickWidth\": 1, \"max\": 10, \"gridLineWidth\": 1, \"labels\": {\"enabled\": false}, \"min\": 0, \"title\": {\"text\": null}, \"lineWidth\": 1}});\n",
       "\n",
       "//      CHART 1-0\n",
       "        HC.chart(\"hc_9afdc814-f08b-4ed0-943e-f4af8de963ad_1-0\", {\"yAxis\": {\"tickWidth\": 1, \"max\": 35, \"gridLineWidth\": 1, \"min\": 5, \"title\": {\"text\": null}, \"lineWidth\": 1}, \"chart\": {\"spacingLeft\": 5, \"zoomType\": \"xy\", \"spacingBottom\": 5, \"marginLeft\": 50, \"spacingRight\": 5, \"width\": 360, \"spacingTop\": 5}, \"legend\": {\"enabled\": false}, \"credits\": false, \"series\": [{\"name\": \"cty\", \"type\": \"scatter\", \"marker\": {\"radius\": 2}, \"data\": [[1.8, 18.0], [1.8, 21.0], [2.0, 20.0], [2.0, 21.0], [2.4, 19.0], [2.4, 22.0], [2.4, 18.0], [1.6, 28.0], [1.6, 24.0], [1.6, 25.0], [1.6, 23.0], [1.6, 24.0], [1.8, 26.0], [1.8, 25.0], [1.8, 24.0], [2.0, 21.0], [2.4, 18.0], [2.4, 18.0], [2.4, 21.0], [2.4, 21.0], [2.0, 19.0], [2.0, 19.0], [2.0, 20.0], [2.0, 20.0], [2.4, 21.0], [2.4, 19.0], [2.5, 23.0], [2.5, 23.0], [2.2, 21.0], [2.2, 21.0], [2.4, 21.0], [2.4, 21.0], [2.2, 21.0], [2.2, 21.0], [2.4, 21.0], [2.4, 22.0], [1.8, 24.0], [1.8, 24.0], [1.8, 26.0], [1.8, 28.0], [1.8, 26.0], [2.0, 21.0], [2.0, 19.0], [2.0, 21.0], [2.0, 22.0], [1.9, 33.0], [2.0, 21.0], [2.0, 19.0], [2.0, 22.0], [2.0, 21.0], [1.9, 35.0], [1.9, 29.0], [2.0, 21.0], [2.0, 19.0], [1.8, 21.0], [1.8, 18.0], [2.0, 19.0], [2.0, 21.0]]}], \"exporting\": {\"enabled\": false}, \"title\": {\"text\": null}, \"xAxis\": {\"tickWidth\": 1, \"max\": 10, \"gridLineWidth\": 1, \"labels\": {\"enabled\": false}, \"min\": 0, \"title\": {\"text\": null}, \"lineWidth\": 1}});\n",
       "\n",
       "//      CHART 1-1\n",
       "        HC.chart(\"hc_9afdc814-f08b-4ed0-943e-f4af8de963ad_1-1\", {\"yAxis\": {\"tickWidth\": 1, \"max\": 35, \"gridLineWidth\": 1, \"labels\": {\"enabled\": false}, \"min\": 5, \"title\": {\"text\": null}, \"lineWidth\": 1}, \"chart\": {\"spacingBottom\": 5, \"spacingLeft\": 5, \"spacingRight\": 5, \"zoomType\": \"xy\", \"spacingTop\": 5}, \"legend\": {\"enabled\": false}, \"credits\": false, \"series\": [{\"name\": \"cty\", \"type\": \"scatter\", \"marker\": {\"radius\": 2}, \"data\": [[2.5, 21.0], [2.5, 21.0], [2.5, 20.0], [2.5, 20.0]]}], \"exporting\": {\"enabled\": false}, \"title\": {\"text\": null}, \"xAxis\": {\"tickWidth\": 1, \"max\": 10, \"gridLineWidth\": 1, \"labels\": {\"enabled\": false}, \"min\": 0, \"title\": {\"text\": null}, \"lineWidth\": 1}});\n",
       "\n",
       "//      CHART 1-2\n",
       "        HC.chart(\"hc_9afdc814-f08b-4ed0-943e-f4af8de963ad_1-2\", {\"yAxis\": {\"tickWidth\": 1, \"max\": 35, \"gridLineWidth\": 1, \"labels\": {\"enabled\": false}, \"min\": 5, \"title\": {\"text\": null}, \"lineWidth\": 1}, \"chart\": {\"spacingBottom\": 5, \"spacingLeft\": 5, \"spacingRight\": 5, \"zoomType\": \"xy\", \"spacingTop\": 5}, \"legend\": {\"enabled\": false}, \"credits\": false, \"series\": [{\"name\": \"cty\", \"type\": \"scatter\", \"marker\": {\"radius\": 2}, \"data\": [[2.8, 16.0], [2.8, 18.0], [3.1, 18.0], [3.1, 18.0], [3.5, 18.0], [3.6, 17.0], [3.0, 17.0], [3.3, 16.0], [3.3, 16.0], [3.3, 17.0], [3.3, 17.0], [3.3, 11.0], [3.8, 15.0], [3.8, 15.0], [3.8, 16.0], [4.0, 16.0], [2.5, 18.0], [2.5, 18.0], [3.3, 19.0], [2.7, 17.0], [2.7, 16.0], [2.7, 17.0], [3.5, 19.0], [3.5, 19.0], [3.0, 18.0], [3.0, 19.0], [3.5, 19.0], [3.1, 18.0], [3.8, 16.0], [3.8, 17.0], [3.8, 18.0], [3.0, 18.0], [3.0, 18.0], [3.5, 19.0], [3.0, 18.0], [3.0, 18.0], [3.3, 18.0], [2.8, 17.0], [2.8, 16.0], [2.8, 17.0], [2.8, 16.0], [2.8, 18.0], [3.6, 17.0]]}], \"exporting\": {\"enabled\": false}, \"title\": {\"text\": null}, \"xAxis\": {\"tickWidth\": 1, \"max\": 10, \"gridLineWidth\": 1, \"labels\": {\"enabled\": false}, \"min\": 0, \"title\": {\"text\": null}, \"lineWidth\": 1}});\n",
       "\n",
       "//      CHART 1-3\n",
       "        HC.chart(\"hc_9afdc814-f08b-4ed0-943e-f4af8de963ad_1-3\", {\"yAxis\": {\"tickWidth\": 1, \"max\": 35, \"gridLineWidth\": 1, \"labels\": {\"enabled\": false}, \"min\": 5, \"title\": {\"text\": null}, \"lineWidth\": 1}, \"chart\": {\"spacingBottom\": 5, \"spacingLeft\": 5, \"spacingRight\": 5, \"zoomType\": \"xy\", \"spacingTop\": 5}, \"legend\": {\"enabled\": false}, \"credits\": false, \"series\": [{\"name\": \"cty\", \"type\": \"scatter\", \"marker\": {\"radius\": 2}, \"data\": [[5.3, 16.0]]}], \"exporting\": {\"enabled\": false}, \"title\": {\"text\": null}, \"xAxis\": {\"tickWidth\": 1, \"max\": 10, \"gridLineWidth\": 1, \"labels\": {\"enabled\": false}, \"min\": 0, \"title\": {\"text\": null}, \"lineWidth\": 1}});\n",
       "\n",
       "//      CHART 2-0\n",
       "        HC.chart(\"hc_9afdc814-f08b-4ed0-943e-f4af8de963ad_2-0\", {\"yAxis\": {\"tickWidth\": 1, \"max\": 35, \"gridLineWidth\": 1, \"min\": 5, \"title\": {\"text\": null}, \"lineWidth\": 1}, \"chart\": {\"marginBottom\": 40, \"spacingLeft\": 5, \"height\": 243.33333333333331, \"zoomType\": \"xy\", \"spacingBottom\": 5, \"marginLeft\": 50, \"spacingRight\": 5, \"width\": 360, \"spacingTop\": 5}, \"legend\": {\"enabled\": false}, \"credits\": false, \"series\": [{\"name\": \"cty\", \"type\": \"scatter\", \"marker\": {\"radius\": 2}, \"data\": []}], \"exporting\": {\"enabled\": false}, \"title\": {\"text\": null}, \"xAxis\": {\"tickWidth\": 1, \"max\": 10, \"gridLineWidth\": 1, \"min\": 0, \"title\": {\"text\": null}, \"lineWidth\": 1}});\n",
       "\n",
       "//      CHART 2-1\n",
       "        HC.chart(\"hc_9afdc814-f08b-4ed0-943e-f4af8de963ad_2-1\", {\"yAxis\": {\"tickWidth\": 1, \"max\": 35, \"gridLineWidth\": 1, \"labels\": {\"enabled\": false}, \"min\": 5, \"title\": {\"text\": null}, \"lineWidth\": 1}, \"chart\": {\"marginBottom\": 40, \"spacingLeft\": 5, \"zoomType\": \"xy\", \"spacingBottom\": 5, \"spacingRight\": 5, \"height\": 243.33333333333331, \"spacingTop\": 5}, \"legend\": {\"enabled\": false}, \"credits\": false, \"series\": [{\"name\": \"cty\", \"type\": \"scatter\", \"marker\": {\"radius\": 2}, \"data\": []}], \"exporting\": {\"enabled\": false}, \"title\": {\"text\": null}, \"xAxis\": {\"tickWidth\": 1, \"max\": 10, \"gridLineWidth\": 1, \"min\": 0, \"title\": {\"text\": null}, \"lineWidth\": 1}});\n",
       "\n",
       "//      CHART 2-2\n",
       "        HC.chart(\"hc_9afdc814-f08b-4ed0-943e-f4af8de963ad_2-2\", {\"yAxis\": {\"tickWidth\": 1, \"max\": 35, \"gridLineWidth\": 1, \"labels\": {\"enabled\": false}, \"min\": 5, \"title\": {\"text\": null}, \"lineWidth\": 1}, \"chart\": {\"marginBottom\": 40, \"spacingLeft\": 5, \"zoomType\": \"xy\", \"spacingBottom\": 5, \"spacingRight\": 5, \"height\": 243.33333333333331, \"spacingTop\": 5}, \"legend\": {\"enabled\": false}, \"credits\": false, \"series\": [{\"name\": \"cty\", \"type\": \"scatter\", \"marker\": {\"radius\": 2}, \"data\": [[3.8, 18.0], [3.8, 18.0], [4.0, 17.0], [4.0, 16.0]]}], \"exporting\": {\"enabled\": false}, \"title\": {\"text\": null}, \"xAxis\": {\"tickWidth\": 1, \"max\": 10, \"gridLineWidth\": 1, \"min\": 0, \"title\": {\"text\": null}, \"lineWidth\": 1}});\n",
       "\n",
       "//      CHART 2-3\n",
       "        HC.chart(\"hc_9afdc814-f08b-4ed0-943e-f4af8de963ad_2-3\", {\"yAxis\": {\"tickWidth\": 1, \"max\": 35, \"gridLineWidth\": 1, \"labels\": {\"enabled\": false}, \"min\": 5, \"title\": {\"text\": null}, \"lineWidth\": 1}, \"chart\": {\"marginBottom\": 40, \"spacingLeft\": 5, \"zoomType\": \"xy\", \"spacingBottom\": 5, \"spacingRight\": 5, \"height\": 243.33333333333331, \"spacingTop\": 5}, \"legend\": {\"enabled\": false}, \"credits\": {\"position\": {\"y\": -5}}, \"series\": [{\"name\": \"cty\", \"type\": \"scatter\", \"marker\": {\"radius\": 2}, \"data\": [[5.3, 14.0], [5.3, 11.0], [5.3, 14.0], [5.7, 13.0], [6.0, 12.0], [5.7, 16.0], [5.7, 15.0], [6.2, 16.0], [6.2, 15.0], [7.0, 15.0], [4.6, 11.0], [5.4, 11.0], [5.4, 12.0], [4.6, 15.0], [4.6, 15.0], [4.6, 15.0], [4.6, 15.0], [5.4, 14.0], [5.4, 11.0], [5.4, 11.0], [5.4, 12.0]]}], \"exporting\": {\"enabled\": false}, \"title\": {\"text\": null}, \"xAxis\": {\"tickWidth\": 1, \"max\": 10, \"gridLineWidth\": 1, \"min\": 0, \"title\": {\"text\": null}, \"lineWidth\": 1}});\n",
       "\n",
       "    });\n",
       "</script>\n"
      ],
      "text/plain": [
       "<hcplot.figure.Figure at 0x106910390>"
      ]
     },
     "execution_count": 12,
     "metadata": {},
     "output_type": "execute_result"
    }
   ],
   "source": [
    "fig2 = Figure(mpg, \n",
    "              mapping(\"displ\", \"cty\"), \n",
    "              layout=pivot([\"drv\"], [\"cyl\"], 1280))\n",
    "fig2 + Points()\n",
    "fig2"
   ]
  },
  {
   "cell_type": "code",
   "execution_count": 13,
   "metadata": {
    "collapsed": false
   },
   "outputs": [
    {
     "data": {
      "text/html": [
       "<table id=\"hc_ee853815-9be7-4f53-a043-88e8406a66af\" class=\"hcTable\">\n",
       "  <tr id=\"hc_ee853815-9be7-4f53-a043-88e8406a66af_-2\" class=\"hcTable\">\n",
       "\n",
       "                <th class=\"hcTable colHeader\" style=\"width:306px; height:20px; padding-left:50px;\">\n",
       "                    <div>am : 0</div>\n",
       "                </th>\n",
       "                <th class=\"hcTable colHeader\" style=\"width:256px; height:20px;\">\n",
       "                    <div>am : 1</div>\n",
       "                </th>\n",
       "                <th class=\"hcTable colHeader\" style=\"width:256px; height:20px;\">\n",
       "                    <div>am : 0</div>\n",
       "                </th>\n",
       "                <th class=\"hcTable colHeader\" style=\"width:256px; height:20px;\">\n",
       "                    <div>am : 1</div>\n",
       "                </th>\n",
       "                <th class=\"hcTable\" style=\"width:20px; height:20px;\"></th>  </tr>\n",
       "  <tr id=\"hc_ee853815-9be7-4f53-a043-88e8406a66af_-1\" class=\"hcTable\">\n",
       "\n",
       "                <th class=\"hcTable colHeader\" style=\"width:306px; height:20px; padding-left:50px;\">\n",
       "                    <div>vs : 0</div>\n",
       "                </th>\n",
       "                <th class=\"hcTable colHeader\" style=\"width:256px; height:20px;\">\n",
       "                    <div>vs : 0</div>\n",
       "                </th>\n",
       "                <th class=\"hcTable colHeader\" style=\"width:256px; height:20px;\">\n",
       "                    <div>vs : 1</div>\n",
       "                </th>\n",
       "                <th class=\"hcTable colHeader\" style=\"width:256px; height:20px;\">\n",
       "                    <div>vs : 1</div>\n",
       "                </th>\n",
       "                <th class=\"hcTable\" style=\"width:20px; height:20px;\"></th>  </tr>\n",
       "  <tr id=\"hc_ee853815-9be7-4f53-a043-88e8406a66af_0\" class=\"hcTable\">\n",
       "    \n",
       "                <td class=\"hcTable\">\n",
       "                    <div id=\"hc_ee853815-9be7-4f53-a043-88e8406a66af_0-0\" style=\"width:256px; height:192px;\"></div>\n",
       "                </td>\n",
       "                    \n",
       "                <td class=\"hcTable\">\n",
       "                    <div id=\"hc_ee853815-9be7-4f53-a043-88e8406a66af_0-1\" style=\"width:256px; height:192px;\"></div>\n",
       "                </td>\n",
       "                    \n",
       "                <td class=\"hcTable\">\n",
       "                    <div id=\"hc_ee853815-9be7-4f53-a043-88e8406a66af_0-2\" style=\"width:256px; height:192px;\"></div>\n",
       "                </td>\n",
       "                    \n",
       "                <td class=\"hcTable\">\n",
       "                    <div id=\"hc_ee853815-9be7-4f53-a043-88e8406a66af_0-3\" style=\"width:256px; height:192px;\"></div>\n",
       "                </td>\n",
       "                \n",
       "                <th class=\"hcTable rowHeader\" style=\"width:20px; height:192px;\">\n",
       "                    <div>gear : 3</div>\n",
       "                </th>  </tr>\n",
       "  <tr id=\"hc_ee853815-9be7-4f53-a043-88e8406a66af_1\" class=\"hcTable\">\n",
       "    \n",
       "                <td class=\"hcTable\">\n",
       "                    <div id=\"hc_ee853815-9be7-4f53-a043-88e8406a66af_1-0\" style=\"width:256px; height:192px;\"></div>\n",
       "                </td>\n",
       "                    \n",
       "                <td class=\"hcTable\">\n",
       "                    <div id=\"hc_ee853815-9be7-4f53-a043-88e8406a66af_1-1\" style=\"width:256px; height:192px;\"></div>\n",
       "                </td>\n",
       "                    \n",
       "                <td class=\"hcTable\">\n",
       "                    <div id=\"hc_ee853815-9be7-4f53-a043-88e8406a66af_1-2\" style=\"width:256px; height:192px;\"></div>\n",
       "                </td>\n",
       "                    \n",
       "                <td class=\"hcTable\">\n",
       "                    <div id=\"hc_ee853815-9be7-4f53-a043-88e8406a66af_1-3\" style=\"width:256px; height:192px;\"></div>\n",
       "                </td>\n",
       "                \n",
       "                <th class=\"hcTable rowHeader\" style=\"width:20px; height:192px;\">\n",
       "                    <div>gear : 4</div>\n",
       "                </th>  </tr>\n",
       "  <tr id=\"hc_ee853815-9be7-4f53-a043-88e8406a66af_2\" class=\"hcTable\">\n",
       "    \n",
       "                <td class=\"hcTable\">\n",
       "                    <div id=\"hc_ee853815-9be7-4f53-a043-88e8406a66af_2-0\" style=\"width:256px; height:242px; padding-bottom:50px;\"></div>\n",
       "                </td>\n",
       "                    \n",
       "                <td class=\"hcTable\">\n",
       "                    <div id=\"hc_ee853815-9be7-4f53-a043-88e8406a66af_2-1\" style=\"width:256px; height:242px; padding-bottom:50px;\"></div>\n",
       "                </td>\n",
       "                    \n",
       "                <td class=\"hcTable\">\n",
       "                    <div id=\"hc_ee853815-9be7-4f53-a043-88e8406a66af_2-2\" style=\"width:256px; height:242px; padding-bottom:50px;\"></div>\n",
       "                </td>\n",
       "                    \n",
       "                <td class=\"hcTable\">\n",
       "                    <div id=\"hc_ee853815-9be7-4f53-a043-88e8406a66af_2-3\" style=\"width:256px; height:242px; padding-bottom:50px;\"></div>\n",
       "                </td>\n",
       "                \n",
       "                <th class=\"hcTable rowHeader\" style=\"width:20px; height:242px; padding-bottom:50px;\">\n",
       "                    <div>gear : 5</div>\n",
       "                </th>  </tr>\n",
       "</table>\n",
       "\n",
       "<script>\n",
       "    window.hc_charts.promise.then(function(HC) {\n",
       "\n",
       "//      CHART 0-0\n",
       "        HC.chart(\"hc_ee853815-9be7-4f53-a043-88e8406a66af_0-0\", {\"yAxis\": {\"tickWidth\": 1, \"max\": 6, \"gridLineWidth\": 1, \"min\": 0, \"title\": {\"text\": null}, \"lineWidth\": 1}, \"chart\": {\"spacingLeft\": 5, \"zoomType\": \"xy\", \"spacingBottom\": 5, \"marginLeft\": 50, \"spacingRight\": 5, \"width\": 296, \"spacingTop\": 5}, \"legend\": {\"enabled\": false}, \"credits\": false, \"series\": [{\"name\": \"wt\", \"type\": \"scatter\", \"marker\": {\"radius\": 2}, \"data\": [[18.7, 3.44], [14.3, 3.57], [16.4, 4.07], [17.3, 3.73], [15.2, 3.78], [10.4, 5.25], [10.4, 5.4239999999999995], [14.7, 5.345], [15.5, 3.52], [15.2, 3.435], [13.3, 3.84], [19.2, 3.845]]}], \"exporting\": {\"enabled\": false}, \"title\": {\"text\": null}, \"xAxis\": {\"tickWidth\": 1, \"max\": 35, \"gridLineWidth\": 1, \"labels\": {\"enabled\": false}, \"min\": 10, \"title\": {\"text\": null}, \"lineWidth\": 1}});\n",
       "\n",
       "//      CHART 0-1\n",
       "        HC.chart(\"hc_ee853815-9be7-4f53-a043-88e8406a66af_0-1\", {\"yAxis\": {\"tickWidth\": 1, \"max\": 6, \"gridLineWidth\": 1, \"labels\": {\"enabled\": false}, \"min\": 0, \"title\": {\"text\": null}, \"lineWidth\": 1}, \"chart\": {\"spacingBottom\": 5, \"spacingLeft\": 5, \"spacingRight\": 5, \"zoomType\": \"xy\", \"spacingTop\": 5}, \"legend\": {\"enabled\": false}, \"credits\": false, \"series\": [{\"name\": \"wt\", \"type\": \"scatter\", \"marker\": {\"radius\": 2}, \"data\": []}], \"exporting\": {\"enabled\": false}, \"title\": {\"text\": null}, \"xAxis\": {\"tickWidth\": 1, \"max\": 35, \"gridLineWidth\": 1, \"labels\": {\"enabled\": false}, \"min\": 10, \"title\": {\"text\": null}, \"lineWidth\": 1}});\n",
       "\n",
       "//      CHART 0-2\n",
       "        HC.chart(\"hc_ee853815-9be7-4f53-a043-88e8406a66af_0-2\", {\"yAxis\": {\"tickWidth\": 1, \"max\": 6, \"gridLineWidth\": 1, \"labels\": {\"enabled\": false}, \"min\": 0, \"title\": {\"text\": null}, \"lineWidth\": 1}, \"chart\": {\"spacingBottom\": 5, \"spacingLeft\": 5, \"spacingRight\": 5, \"zoomType\": \"xy\", \"spacingTop\": 5}, \"legend\": {\"enabled\": false}, \"credits\": false, \"series\": [{\"name\": \"wt\", \"type\": \"scatter\", \"marker\": {\"radius\": 2}, \"data\": [[21.4, 3.215], [18.1, 3.46], [21.5, 2.465]]}], \"exporting\": {\"enabled\": false}, \"title\": {\"text\": null}, \"xAxis\": {\"tickWidth\": 1, \"max\": 35, \"gridLineWidth\": 1, \"labels\": {\"enabled\": false}, \"min\": 10, \"title\": {\"text\": null}, \"lineWidth\": 1}});\n",
       "\n",
       "//      CHART 0-3\n",
       "        HC.chart(\"hc_ee853815-9be7-4f53-a043-88e8406a66af_0-3\", {\"yAxis\": {\"tickWidth\": 1, \"max\": 6, \"gridLineWidth\": 1, \"labels\": {\"enabled\": false}, \"min\": 0, \"title\": {\"text\": null}, \"lineWidth\": 1}, \"chart\": {\"spacingBottom\": 5, \"spacingLeft\": 5, \"spacingRight\": 5, \"zoomType\": \"xy\", \"spacingTop\": 5}, \"legend\": {\"enabled\": false}, \"credits\": false, \"series\": [{\"name\": \"wt\", \"type\": \"scatter\", \"marker\": {\"radius\": 2}, \"data\": []}], \"exporting\": {\"enabled\": false}, \"title\": {\"text\": null}, \"xAxis\": {\"tickWidth\": 1, \"max\": 35, \"gridLineWidth\": 1, \"labels\": {\"enabled\": false}, \"min\": 10, \"title\": {\"text\": null}, \"lineWidth\": 1}});\n",
       "\n",
       "//      CHART 1-0\n",
       "        HC.chart(\"hc_ee853815-9be7-4f53-a043-88e8406a66af_1-0\", {\"yAxis\": {\"tickWidth\": 1, \"max\": 6, \"gridLineWidth\": 1, \"min\": 0, \"title\": {\"text\": null}, \"lineWidth\": 1}, \"chart\": {\"spacingLeft\": 5, \"zoomType\": \"xy\", \"spacingBottom\": 5, \"marginLeft\": 50, \"spacingRight\": 5, \"width\": 296, \"spacingTop\": 5}, \"legend\": {\"enabled\": false}, \"credits\": false, \"series\": [{\"name\": \"wt\", \"type\": \"scatter\", \"marker\": {\"radius\": 2}, \"data\": []}], \"exporting\": {\"enabled\": false}, \"title\": {\"text\": null}, \"xAxis\": {\"tickWidth\": 1, \"max\": 35, \"gridLineWidth\": 1, \"labels\": {\"enabled\": false}, \"min\": 10, \"title\": {\"text\": null}, \"lineWidth\": 1}});\n",
       "\n",
       "//      CHART 1-1\n",
       "        HC.chart(\"hc_ee853815-9be7-4f53-a043-88e8406a66af_1-1\", {\"yAxis\": {\"tickWidth\": 1, \"max\": 6, \"gridLineWidth\": 1, \"labels\": {\"enabled\": false}, \"min\": 0, \"title\": {\"text\": null}, \"lineWidth\": 1}, \"chart\": {\"spacingBottom\": 5, \"spacingLeft\": 5, \"spacingRight\": 5, \"zoomType\": \"xy\", \"spacingTop\": 5}, \"legend\": {\"enabled\": false}, \"credits\": false, \"series\": [{\"name\": \"wt\", \"type\": \"scatter\", \"marker\": {\"radius\": 2}, \"data\": [[21.0, 2.62], [21.0, 2.875]]}], \"exporting\": {\"enabled\": false}, \"title\": {\"text\": null}, \"xAxis\": {\"tickWidth\": 1, \"max\": 35, \"gridLineWidth\": 1, \"labels\": {\"enabled\": false}, \"min\": 10, \"title\": {\"text\": null}, \"lineWidth\": 1}});\n",
       "\n",
       "//      CHART 1-2\n",
       "        HC.chart(\"hc_ee853815-9be7-4f53-a043-88e8406a66af_1-2\", {\"yAxis\": {\"tickWidth\": 1, \"max\": 6, \"gridLineWidth\": 1, \"labels\": {\"enabled\": false}, \"min\": 0, \"title\": {\"text\": null}, \"lineWidth\": 1}, \"chart\": {\"spacingBottom\": 5, \"spacingLeft\": 5, \"spacingRight\": 5, \"zoomType\": \"xy\", \"spacingTop\": 5}, \"legend\": {\"enabled\": false}, \"credits\": false, \"series\": [{\"name\": \"wt\", \"type\": \"scatter\", \"marker\": {\"radius\": 2}, \"data\": [[24.4, 3.19], [22.8, 3.15], [19.2, 3.44], [17.8, 3.44]]}], \"exporting\": {\"enabled\": false}, \"title\": {\"text\": null}, \"xAxis\": {\"tickWidth\": 1, \"max\": 35, \"gridLineWidth\": 1, \"labels\": {\"enabled\": false}, \"min\": 10, \"title\": {\"text\": null}, \"lineWidth\": 1}});\n",
       "\n",
       "//      CHART 1-3\n",
       "        HC.chart(\"hc_ee853815-9be7-4f53-a043-88e8406a66af_1-3\", {\"yAxis\": {\"tickWidth\": 1, \"max\": 6, \"gridLineWidth\": 1, \"labels\": {\"enabled\": false}, \"min\": 0, \"title\": {\"text\": null}, \"lineWidth\": 1}, \"chart\": {\"spacingBottom\": 5, \"spacingLeft\": 5, \"spacingRight\": 5, \"zoomType\": \"xy\", \"spacingTop\": 5}, \"legend\": {\"enabled\": false}, \"credits\": false, \"series\": [{\"name\": \"wt\", \"type\": \"scatter\", \"marker\": {\"radius\": 2}, \"data\": [[22.8, 2.32], [32.4, 2.2], [30.4, 1.615], [33.9, 1.835], [27.3, 1.935], [21.4, 2.78]]}], \"exporting\": {\"enabled\": false}, \"title\": {\"text\": null}, \"xAxis\": {\"tickWidth\": 1, \"max\": 35, \"gridLineWidth\": 1, \"labels\": {\"enabled\": false}, \"min\": 10, \"title\": {\"text\": null}, \"lineWidth\": 1}});\n",
       "\n",
       "//      CHART 2-0\n",
       "        HC.chart(\"hc_ee853815-9be7-4f53-a043-88e8406a66af_2-0\", {\"yAxis\": {\"tickWidth\": 1, \"max\": 6, \"gridLineWidth\": 1, \"min\": 0, \"title\": {\"text\": null}, \"lineWidth\": 1}, \"chart\": {\"marginBottom\": 40, \"spacingLeft\": 5, \"height\": 222.0, \"zoomType\": \"xy\", \"spacingBottom\": 5, \"marginLeft\": 50, \"spacingRight\": 5, \"width\": 296, \"spacingTop\": 5}, \"legend\": {\"enabled\": false}, \"credits\": false, \"series\": [{\"name\": \"wt\", \"type\": \"scatter\", \"marker\": {\"radius\": 2}, \"data\": []}], \"exporting\": {\"enabled\": false}, \"title\": {\"text\": null}, \"xAxis\": {\"tickWidth\": 1, \"max\": 35, \"gridLineWidth\": 1, \"min\": 10, \"title\": {\"text\": null}, \"lineWidth\": 1}});\n",
       "\n",
       "//      CHART 2-1\n",
       "        HC.chart(\"hc_ee853815-9be7-4f53-a043-88e8406a66af_2-1\", {\"yAxis\": {\"tickWidth\": 1, \"max\": 6, \"gridLineWidth\": 1, \"labels\": {\"enabled\": false}, \"min\": 0, \"title\": {\"text\": null}, \"lineWidth\": 1}, \"chart\": {\"marginBottom\": 40, \"spacingLeft\": 5, \"zoomType\": \"xy\", \"spacingBottom\": 5, \"spacingRight\": 5, \"height\": 222.0, \"spacingTop\": 5}, \"legend\": {\"enabled\": false}, \"credits\": false, \"series\": [{\"name\": \"wt\", \"type\": \"scatter\", \"marker\": {\"radius\": 2}, \"data\": [[26.0, 2.14], [15.8, 3.17], [19.7, 2.77], [15.0, 3.57]]}], \"exporting\": {\"enabled\": false}, \"title\": {\"text\": null}, \"xAxis\": {\"tickWidth\": 1, \"max\": 35, \"gridLineWidth\": 1, \"min\": 10, \"title\": {\"text\": null}, \"lineWidth\": 1}});\n",
       "\n",
       "//      CHART 2-2\n",
       "        HC.chart(\"hc_ee853815-9be7-4f53-a043-88e8406a66af_2-2\", {\"yAxis\": {\"tickWidth\": 1, \"max\": 6, \"gridLineWidth\": 1, \"labels\": {\"enabled\": false}, \"min\": 0, \"title\": {\"text\": null}, \"lineWidth\": 1}, \"chart\": {\"marginBottom\": 40, \"spacingLeft\": 5, \"zoomType\": \"xy\", \"spacingBottom\": 5, \"spacingRight\": 5, \"height\": 222.0, \"spacingTop\": 5}, \"legend\": {\"enabled\": false}, \"credits\": false, \"series\": [{\"name\": \"wt\", \"type\": \"scatter\", \"marker\": {\"radius\": 2}, \"data\": []}], \"exporting\": {\"enabled\": false}, \"title\": {\"text\": null}, \"xAxis\": {\"tickWidth\": 1, \"max\": 35, \"gridLineWidth\": 1, \"min\": 10, \"title\": {\"text\": null}, \"lineWidth\": 1}});\n",
       "\n",
       "//      CHART 2-3\n",
       "        HC.chart(\"hc_ee853815-9be7-4f53-a043-88e8406a66af_2-3\", {\"yAxis\": {\"tickWidth\": 1, \"max\": 6, \"gridLineWidth\": 1, \"labels\": {\"enabled\": false}, \"min\": 0, \"title\": {\"text\": null}, \"lineWidth\": 1}, \"chart\": {\"marginBottom\": 40, \"spacingLeft\": 5, \"zoomType\": \"xy\", \"spacingBottom\": 5, \"spacingRight\": 5, \"height\": 222.0, \"spacingTop\": 5}, \"legend\": {\"enabled\": false}, \"credits\": {\"position\": {\"y\": -5}}, \"series\": [{\"name\": \"wt\", \"type\": \"scatter\", \"marker\": {\"radius\": 2}, \"data\": [[30.4, 1.5130000000000001]]}], \"exporting\": {\"enabled\": false}, \"title\": {\"text\": null}, \"xAxis\": {\"tickWidth\": 1, \"max\": 35, \"gridLineWidth\": 1, \"min\": 10, \"title\": {\"text\": null}, \"lineWidth\": 1}});\n",
       "\n",
       "    });\n",
       "</script>\n"
      ],
      "text/plain": [
       "<hcplot.figure.Figure at 0x111986c88>"
      ]
     },
     "execution_count": 13,
     "metadata": {},
     "output_type": "execute_result"
    }
   ],
   "source": [
    "fig3 = Figure(mtcars, \n",
    "              mapping(\"mpg\", \"wt\"), \n",
    "              layout=pivot([\"gear\"], [\"vs\",\"am\"], labels=True, width=1024, ratio=0.75))\n",
    "fig3 + Points()\n",
    "fig3"
   ]
  },
  {
   "cell_type": "code",
   "execution_count": 10,
   "metadata": {
    "collapsed": false
   },
   "outputs": [
    {
     "data": {
      "text/html": [
       "<style>\n",
       ".hcTable {\n",
       "    border-color:white !important; \n",
       "    border-width:0px !important;\n",
       "}\n",
       "\n",
       "th.colHeader > div {\n",
       "  margin-left: 10px;\n",
       "  margin-right: 5px;\n",
       "  background-color:white; // #f0f0f0;\n",
       "  text-align: center;\n",
       "}\n",
       "\n",
       "th.rowHeader > div {\n",
       "  margin-top: 10px;\n",
       "  margin-bottom: 20px;\n",
       "  background-color:white; // #f0f0f0;\n",
       "  height: 100%;\n",
       "  display: flex;\n",
       "  justify-content: center;\n",
       "  white-space: nowrap; \n",
       "  writing-mode: vertical-lr;\n",
       "}\n",
       "</style>"
      ],
      "text/plain": [
       "<IPython.core.display.HTML object>"
      ]
     },
     "metadata": {},
     "output_type": "display_data"
    }
   ],
   "source": [
    "%%html\n",
    "<style>\n",
    ".hcTable {\n",
    "    border-color:white !important; \n",
    "    border-width:0px !important;\n",
    "}\n",
    "\n",
    "th.colHeader > div {\n",
    "  margin-left: 10px;\n",
    "  margin-right: 5px;\n",
    "  background-color:white; // #f0f0f0;\n",
    "  text-align: center;\n",
    "}\n",
    "\n",
    "th.rowHeader > div {\n",
    "  margin-top: 10px;\n",
    "  margin-bottom: 20px;\n",
    "  background-color:white; // #f0f0f0;\n",
    "  height: 100%;\n",
    "  display: flex;\n",
    "  justify-content: center;\n",
    "  white-space: nowrap; \n",
    "  writing-mode: vertical-lr;\n",
    "}\n",
    "</style>"
   ]
  },
  {
   "cell_type": "code",
   "execution_count": null,
   "metadata": {
    "collapsed": true
   },
   "outputs": [],
   "source": []
  }
 ],
 "metadata": {
  "kernelspec": {
   "display_name": "Python 3",
   "language": "python",
   "name": "python3"
  },
  "language_info": {
   "codemirror_mode": {
    "name": "ipython",
    "version": 3
   },
   "file_extension": ".py",
   "mimetype": "text/x-python",
   "name": "python",
   "nbconvert_exporter": "python",
   "pygments_lexer": "ipython3",
   "version": "3.5.2"
  }
 },
 "nbformat": 4,
 "nbformat_minor": 2
}
