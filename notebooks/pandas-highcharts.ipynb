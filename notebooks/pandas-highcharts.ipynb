{
 "cells": [
  {
   "cell_type": "code",
   "execution_count": 20,
   "metadata": {
    "collapsed": false
   },
   "outputs": [
    {
     "data": {
      "text/html": [
       "\n",
       "<script src=\"//code.highcharts.com/stock/highstock.js\"></script>\n",
       "<script src=\"//code.highcharts.com/highcharts-more.js\"></script>\n",
       "<script src=\"//code.highcharts.com/modules/exporting.js\"></script>\n"
      ],
      "text/plain": [
       "<IPython.core.display.HTML object>"
      ]
     },
     "metadata": {},
     "output_type": "display_data"
    }
   ],
   "source": [
    "import pandas as pd\n",
    "from pandas_highcharts.core import serialize\n",
    "from pandas_highcharts.display import display_charts, load_highcharts\n",
    "from pandas.compat import StringIO\n",
    "\n",
    "from IPython.core.display import display, HTML\n",
    "\n",
    "def show(div, js):\n",
    "    display(HTML(\"\"\"\n",
    "    <div id=\"%s\"</div>\n",
    "    <script type=\"text/javascript\">%s</script>\n",
    "    \"\"\" % (div, js)))\n",
    "\n",
    "load_highcharts()"
   ]
  },
  {
   "cell_type": "code",
   "execution_count": 8,
   "metadata": {
    "collapsed": false
   },
   "outputs": [],
   "source": [
    "dat = \"\"\"ts;A;B;C\n",
    "2015-01-01 00:00:00;27451873;29956800;113\n",
    "2015-01-01 01:00:00;20259882;17906600;76\n",
    "2015-01-01 02:00:00;11592256;12311600;48\n",
    "2015-01-01 03:00:00;11795562;11750100;50\n",
    "2015-01-01 04:00:00;9396718;10203900;43\n",
    "2015-01-01 05:00:00;14902826;14341100;53\"\"\"\n",
    "df = pd.read_csv(StringIO(dat), sep=';', index_col='ts', parse_dates=['ts'])"
   ]
  },
  {
   "cell_type": "code",
   "execution_count": 9,
   "metadata": {
    "collapsed": false
   },
   "outputs": [
    {
     "data": {
      "text/html": [
       "<div>\n",
       "<table border=\"1\" class=\"dataframe\">\n",
       "  <thead>\n",
       "    <tr style=\"text-align: right;\">\n",
       "      <th></th>\n",
       "      <th>A</th>\n",
       "      <th>B</th>\n",
       "      <th>C</th>\n",
       "    </tr>\n",
       "    <tr>\n",
       "      <th>ts</th>\n",
       "      <th></th>\n",
       "      <th></th>\n",
       "      <th></th>\n",
       "    </tr>\n",
       "  </thead>\n",
       "  <tbody>\n",
       "    <tr>\n",
       "      <th>2015-01-01 00:00:00</th>\n",
       "      <td>27451873</td>\n",
       "      <td>29956800</td>\n",
       "      <td>113</td>\n",
       "    </tr>\n",
       "    <tr>\n",
       "      <th>2015-01-01 01:00:00</th>\n",
       "      <td>20259882</td>\n",
       "      <td>17906600</td>\n",
       "      <td>76</td>\n",
       "    </tr>\n",
       "    <tr>\n",
       "      <th>2015-01-01 02:00:00</th>\n",
       "      <td>11592256</td>\n",
       "      <td>12311600</td>\n",
       "      <td>48</td>\n",
       "    </tr>\n",
       "    <tr>\n",
       "      <th>2015-01-01 03:00:00</th>\n",
       "      <td>11795562</td>\n",
       "      <td>11750100</td>\n",
       "      <td>50</td>\n",
       "    </tr>\n",
       "    <tr>\n",
       "      <th>2015-01-01 04:00:00</th>\n",
       "      <td>9396718</td>\n",
       "      <td>10203900</td>\n",
       "      <td>43</td>\n",
       "    </tr>\n",
       "    <tr>\n",
       "      <th>2015-01-01 05:00:00</th>\n",
       "      <td>14902826</td>\n",
       "      <td>14341100</td>\n",
       "      <td>53</td>\n",
       "    </tr>\n",
       "  </tbody>\n",
       "</table>\n",
       "</div>"
      ],
      "text/plain": [
       "                            A         B    C\n",
       "ts                                          \n",
       "2015-01-01 00:00:00  27451873  29956800  113\n",
       "2015-01-01 01:00:00  20259882  17906600   76\n",
       "2015-01-01 02:00:00  11592256  12311600   48\n",
       "2015-01-01 03:00:00  11795562  11750100   50\n",
       "2015-01-01 04:00:00   9396718  10203900   43\n",
       "2015-01-01 05:00:00  14902826  14341100   53"
      ]
     },
     "execution_count": 9,
     "metadata": {},
     "output_type": "execute_result"
    }
   ],
   "source": [
    "df"
   ]
  },
  {
   "cell_type": "code",
   "execution_count": 23,
   "metadata": {
    "collapsed": false
   },
   "outputs": [
    {
     "data": {
      "text/html": [
       "\n",
       "    <div id=\"my-chart1\"</div>\n",
       "    <script type=\"text/javascript\">new Highcharts.Chart({\"xAxis\":{\"type\":\"datetime\",\"title\":{\"text\":\"ts\"}},\"legend\":{\"enabled\":true},\"series\":[{\"data\":[[1420070400000,27451873],[1420074000000,20259882],[1420077600000,11592256],[1420081200000,11795562],[1420084800000,9396718],[1420088400000,14902826]],\"name\":\"A\",\"yAxis\":0},{\"data\":[[1420070400000,29956800],[1420074000000,17906600],[1420077600000,12311600],[1420081200000,11750100],[1420084800000,10203900],[1420088400000,14341100]],\"name\":\"B\",\"yAxis\":0},{\"data\":[[1420070400000,113],[1420074000000,76],[1420077600000,48],[1420081200000,50],[1420084800000,43],[1420088400000,53]],\"name\":\"C\",\"yAxis\":0}],\"chart\":{\"renderTo\":\"my-chart1\"},\"yAxis\":[{}],\"title\":{\"text\":\"My Chart\"}});</script>\n",
       "    "
      ],
      "text/plain": [
       "<IPython.core.display.HTML object>"
      ]
     },
     "metadata": {},
     "output_type": "display_data"
    }
   ],
   "source": [
    "# Basic line plot\n",
    "chart = serialize(df, render_to=\"my-chart1\", title=\"My Chart\")\n",
    "show(\"my-chart1\", chart)"
   ]
  },
  {
   "cell_type": "code",
   "execution_count": 24,
   "metadata": {
    "collapsed": false
   },
   "outputs": [
    {
     "data": {
      "text/html": [
       "\n",
       "    <div id=\"my-chart2\"</div>\n",
       "    <script type=\"text/javascript\">new Highcharts.Chart({\"xAxis\":{\"type\":\"datetime\",\"title\":{\"text\":\"ts\"}},\"legend\":{\"enabled\":true},\"series\":[{\"data\":[[1420070400000,27451873],[1420074000000,20259882],[1420077600000,11592256],[1420081200000,11795562],[1420084800000,9396718],[1420088400000,14902826]],\"name\":\"A\",\"yAxis\":0},{\"data\":[[1420070400000,29956800],[1420074000000,17906600],[1420077600000,12311600],[1420081200000,11750100],[1420084800000,10203900],[1420088400000,14341100]],\"name\":\"B\",\"yAxis\":0},{\"data\":[[1420070400000,113],[1420074000000,76],[1420077600000,48],[1420081200000,50],[1420084800000,43],[1420088400000,53]],\"name\":\"C\",\"yAxis\":0}],\"chart\":{\"renderTo\":\"my-chart2\",\"type\":\"column\"},\"yAxis\":[{}],\"title\":{\"text\":\"Test\"}});</script>\n",
       "    "
      ],
      "text/plain": [
       "<IPython.core.display.HTML object>"
      ]
     },
     "metadata": {},
     "output_type": "display_data"
    }
   ],
   "source": [
    "# Basic column plot\n",
    "chart = serialize(df, render_to=\"my-chart2\", title=\"Test\", kind=\"bar\")\n",
    "show(\"my-chart2\", chart)"
   ]
  },
  {
   "cell_type": "code",
   "execution_count": 25,
   "metadata": {
    "collapsed": false
   },
   "outputs": [
    {
     "data": {
      "text/html": [
       "\n",
       "    <div id=\"my-chart3\"</div>\n",
       "    <script type=\"text/javascript\">new Highcharts.Chart({\"xAxis\":{\"type\":\"datetime\",\"title\":{\"text\":\"ts\"}},\"legend\":{\"enabled\":true},\"series\":[{\"data\":[[1420070400000,27451873],[1420074000000,20259882],[1420077600000,11592256],[1420081200000,11795562],[1420084800000,9396718],[1420088400000,14902826]],\"name\":\"A\",\"yAxis\":0},{\"data\":[[1420070400000,29956800],[1420074000000,17906600],[1420077600000,12311600],[1420081200000,11750100],[1420084800000,10203900],[1420088400000,14341100]],\"name\":\"B\",\"yAxis\":0},{\"data\":[[1420070400000,113],[1420074000000,76],[1420077600000,48],[1420081200000,50],[1420084800000,43],[1420088400000,53]],\"name\":\"C\",\"yAxis\":0}],\"chart\":{\"renderTo\":\"my-chart3\",\"type\":\"bar\"},\"yAxis\":[{}],\"title\":{\"text\":\"Test\"}});</script>\n",
       "    "
      ],
      "text/plain": [
       "<IPython.core.display.HTML object>"
      ]
     },
     "metadata": {},
     "output_type": "display_data"
    }
   ],
   "source": [
    "# Basic column plot\n",
    "chart = serialize(df, render_to=\"my-chart3\", title=\"Test\", kind=\"barh\")\n",
    "show(\"my-chart3\", chart)"
   ]
  },
  {
   "cell_type": "code",
   "execution_count": 26,
   "metadata": {
    "collapsed": false
   },
   "outputs": [
    {
     "data": {
      "text/html": [
       "\n",
       "    <div id=\"my-chart4\"</div>\n",
       "    <script type=\"text/javascript\">new Highcharts.Chart({\"xAxis\":{\"type\":\"datetime\",\"title\":{\"text\":\"ts\"}},\"legend\":{\"enabled\":true},\"series\":[{\"data\":[[1420070400000,27451873],[1420074000000,20259882],[1420077600000,11592256],[1420081200000,11795562],[1420084800000,9396718],[1420088400000,14902826]],\"name\":\"A\",\"yAxis\":0},{\"data\":[[1420070400000,29956800],[1420074000000,17906600],[1420077600000,12311600],[1420081200000,11750100],[1420084800000,10203900],[1420088400000,14341100]],\"name\":\"B\",\"yAxis\":0},{\"data\":[[1420070400000,113],[1420074000000,76],[1420077600000,48],[1420081200000,50],[1420084800000,43],[1420088400000,53]],\"name\":\"C (right)\",\"yAxis\":1}],\"chart\":{\"renderTo\":\"my-chart4\"},\"yAxis\":[{},{\"opposite\":true}],\"title\":{\"text\":\"Test\"}});</script>\n",
       "    "
      ],
      "text/plain": [
       "<IPython.core.display.HTML object>"
      ]
     },
     "metadata": {},
     "output_type": "display_data"
    }
   ],
   "source": [
    "# Plot C on secondary axis\n",
    "chart = serialize(df, render_to=\"my-chart4\", title=\"Test\", secondary_y = [\"C\"])\n",
    "show(\"my-chart4\", chart)"
   ]
  },
  {
   "cell_type": "code",
   "execution_count": 27,
   "metadata": {
    "collapsed": false
   },
   "outputs": [
    {
     "data": {
      "text/html": [
       "\n",
       "    <div id=\"my-chart5\"</div>\n",
       "    <script type=\"text/javascript\">new Highcharts.Chart({\"xAxis\":{\"type\":\"datetime\",\"title\":{\"text\":\"ts\"}},\"legend\":{\"enabled\":true},\"series\":[{\"data\":[[1420070400000,27451873],[1420074000000,20259882],[1420077600000,11592256],[1420081200000,11795562],[1420084800000,9396718],[1420088400000,14902826]],\"name\":\"A\",\"yAxis\":0},{\"data\":[[1420070400000,29956800],[1420074000000,17906600],[1420077600000,12311600],[1420081200000,11750100],[1420084800000,10203900],[1420088400000,14341100]],\"name\":\"B\",\"yAxis\":0},{\"data\":[[1420070400000,113],[1420074000000,76],[1420077600000,48],[1420081200000,50],[1420084800000,43],[1420088400000,53]],\"name\":\"C\",\"yAxis\":0}],\"chart\":{\"width\":1000,\"renderTo\":\"my-chart5\",\"height\":700},\"yAxis\":[{}],\"title\":{\"text\":\"Test\"}});</script>\n",
       "    "
      ],
      "text/plain": [
       "<IPython.core.display.HTML object>"
      ]
     },
     "metadata": {},
     "output_type": "display_data"
    }
   ],
   "source": [
    "# Plot on a 1000x700 div\n",
    "chart = serialize(df, render_to=\"my-chart5\", title=\"Test\", figsize = (1000, 700))\n",
    "show(\"my-chart5\", chart)"
   ]
  },
  {
   "cell_type": "code",
   "execution_count": 29,
   "metadata": {
    "collapsed": false
   },
   "outputs": [
    {
     "name": "stdout",
     "output_type": "stream",
     "text": [
      "{'x': 1, 'z': 24, 'y': 2, 'self': <__main__.Test object at 0x10c67b6d8>}\n"
     ]
    },
    {
     "data": {
      "text/plain": [
       "<__main__.Test at 0x10c67b6d8>"
      ]
     },
     "execution_count": 29,
     "metadata": {},
     "output_type": "execute_result"
    }
   ],
   "source": [
    "class Test(object):\n",
    "    def __init__(self, x=None, y=None, z=24):\n",
    "        print(locals())\n",
    "Test(1,2)"
   ]
  },
  {
   "cell_type": "code",
   "execution_count": 460,
   "metadata": {
    "collapsed": false
   },
   "outputs": [],
   "source": [
    "from traitlets import HasTraits, Unicode, Integer, Bool, List, Tuple, Float, Any, TraitType, Instance, Type, Undefined\n",
    "\n",
    "from uuid import uuid4\n",
    "from hcplot.utils.color import web2rgba, css3Colors\n",
    "class HCBase(HasTraits):\n",
    "\n",
    "    def toDict(self):\n",
    "        result = {}\n",
    "        for key, cls in self.class_traits().items():\n",
    "            value = getattr(self, key)\n",
    "            if isinstance(value, HCBase):\n",
    "                result[key] = value.toDict()\n",
    "            elif isinstance(value, (list,tuple)):\n",
    "                tmp = [el.toDict() if isinstance(el, HCBase) else el for el in value]\n",
    "                if len(tmp) > 0:\n",
    "                    result[key] = tmp \n",
    "            else:\n",
    "                if value is not None and value != [] and value != {}:\n",
    "                    if hasattr(cls, \"conv\"):\n",
    "                        result[key] = cls.conv(value)\n",
    "                    else:\n",
    "                        result[key] = value\n",
    "        return result"
   ]
  },
  {
   "cell_type": "code",
   "execution_count": 509,
   "metadata": {
    "collapsed": false
   },
   "outputs": [],
   "source": [
    "\n",
    "class Color(TraitType):\n",
    "    \"\"\"A color trait.\"\"\"\n",
    "\n",
    "    default_value = \"rgba(124,181,236,1.0)\"\n",
    "    info_text = 'an rgba color'\n",
    "    \n",
    "    def __init__(self, default_value=Undefined, allow_none=False, **kwargs):\n",
    "        super(__class__, self).__init__(default_value=default_value,\n",
    "                                        allow_none=allow_none, **kwargs)\n",
    "\n",
    "    def validate(self, obj, value):\n",
    "        if isinstance(value, tuple) and (len(value) == 3 or len(value) == 4):\n",
    "            return value\n",
    "        else:\n",
    "            try:\n",
    "                rgba = web2rgba(value)\n",
    "                return rgba\n",
    "            except Exception:\n",
    "                self.error(obj, value)\n",
    "\n",
    "    @staticmethod\n",
    "    def conv(value):\n",
    "        return \"rgba(%d,%d,%d,%5.3f)\" % value\n",
    "    \n",
    "\n",
    "class Function(TraitType):\n",
    "    \"\"\"A Javascript Function trait.\"\"\"\n",
    "\n",
    "    default_value = \"function() {}\"\n",
    "    info_text = 'string representation of a javascript function'\n",
    "    \n",
    "    def __init__(self, default_value=Undefined, allow_none=False, **kwargs):\n",
    "        super(__class__, self).__init__(default_value=default_value,\n",
    "                                        allow_none=allow_none, **kwargs)\n",
    "\n",
    "    def validate(self, obj, value):\n",
    "        if isinstance(value, str) and value.startswith(\"function()\"):\n",
    "            return value\n",
    "        else:\n",
    "            self.error(obj, value)\n",
    "\n",
    "\n",
    "class CSSObject(TraitType):\n",
    "    \"\"\"A CSS trait.\"\"\"\n",
    "\n",
    "    default_value = {}\n",
    "    info_text = 'a CSS dict {\"key\": value, ...}'\n",
    "    \n",
    "    def __init__(self, default_value=Undefined, allow_none=False, **kwargs):\n",
    "        super(__class__, self).__init__(default_value=default_value,\n",
    "                                        allow_none=allow_none, **kwargs)\n",
    "\n",
    "    def validate(self, obj, value):\n",
    "        if isinstance(value, dict):\n",
    "            return value\n",
    "        else:\n",
    "            self.error(obj, value)\n",
    "    \n",
    "    \n",
    "class Shadow(HCBase):\n",
    "    color = Color(None, allow_none=True)\n",
    "    offsetX = Integer(None, allow_none=True)\n",
    "    offsetY = Integer(None, allow_none=True)\n",
    "    opacity = Float(None, allow_none=True)\n",
    "    width = Integer(None, allow_none=True)\n",
    "    \n",
    "\n",
    "class _Shadow(TraitType):\n",
    "    default_value = True\n",
    "    info_text = 'Boolean or an Shadow object'\n",
    "    \n",
    "    def __init__(self, default_value=Undefined, allow_none=False, **kwargs):\n",
    "        super(__class__, self).__init__(default_value=default_value,\n",
    "                                        allow_none=allow_none, **kwargs)\n",
    "\n",
    "    def validate(self, obj, value):\n",
    "        if type(value) == type(True) or isinstance(value, Shadow):\n",
    "            return value\n",
    "        else:\n",
    "            self.error(obj, value)\n",
    "\n",
    "class Animation(HCBase):\n",
    "    duration = Float(None, allow_none=True)\n",
    "    easing = Unicode(None, allow_none=True)\n",
    "\n",
    "    \n",
    "class _Animation(TraitType):\n",
    "    default_value = True\n",
    "    info_text = 'Boolean or an Animation object'\n",
    "    \n",
    "    def __init__(self, default_value=Undefined, allow_none=False, **kwargs):\n",
    "        super(__class__, self).__init__(default_value=default_value,\n",
    "                                        allow_none=allow_none, **kwargs)\n",
    "\n",
    "    def validate(self, obj, value):\n",
    "        if type(value) == type(True) or isinstance(value, Animation):\n",
    "            return value\n",
    "        else:\n",
    "            self.error(obj, value)\n",
    "\n",
    "\n",
    "class BooleanOrString(TraitType):\n",
    "    default_value = True\n",
    "    info_text = 'Boolean or String'\n",
    "    \n",
    "    def __init__(self, default_value=Undefined, allow_none=False, **kwargs):\n",
    "        super(__class__, self).__init__(default_value=default_value,\n",
    "                                        allow_none=allow_none, **kwargs)\n",
    "\n",
    "    def validate(self, obj, value):\n",
    "        if type(value) == type(True) or isinstance(value, str):\n",
    "            return value\n",
    "        else:\n",
    "            self.error(obj, value)\n",
    "\n",
    "\n",
    "class NumberOrString(TraitType):\n",
    "    default_value = True\n",
    "    info_text = 'Number or String'\n",
    "    \n",
    "    def __init__(self, default_value=Undefined, allow_none=False, **kwargs):\n",
    "        super(__class__, self).__init__(default_value=default_value,\n",
    "                                        allow_none=allow_none, **kwargs)\n",
    "\n",
    "    def validate(self, obj, value):\n",
    "        if type(value) in [int, float] or isinstance(value, str):\n",
    "            return value\n",
    "        else:\n",
    "            self.error(obj, value)\n",
    "\n",
    "\n",
    "class IntegerOrPercentageString(TraitType):\n",
    "    default_value = \"50%\"\n",
    "    info_text = 'Integer or PercentageString(\"50%\")'\n",
    "    \n",
    "    def __init__(self, default_value=Undefined, allow_none=False, **kwargs):\n",
    "        super(__class__, self).__init__(default_value=default_value,\n",
    "                                        allow_none=allow_none, **kwargs)\n",
    "\n",
    "    def validate(self, obj, value):\n",
    "        if type(value) == int or (type(value) == str  and value[-1] == \"%\"):\n",
    "            return value\n",
    "        else:\n",
    "            self.error(obj, value)\n",
    "            \n",
    "            \n",
    "class XYFloat(HCBase):\n",
    "    x = Float(None, allow_none=True)\n",
    "    y = Float(None, allow_none=True)\n",
    "\n",
    "\n",
    "class XYInteger(HCBase):\n",
    "    x = Integer(None, allow_none=True)\n",
    "    y = Integer(None, allow_none=True)\n",
    "\n",
    "\n",
    "class Position(XYFloat):\n",
    "    align = Unicode(None, allow_none=True)\n",
    "    verticalAlign = Unicode(None, allow_none=True)\n",
    "\n",
    "    def __init__(self, **kwargs):\n",
    "        super(__class__, self).__init__(**kwargs)    \n",
    "\n",
    "        \n",
    "class SubTitle(XYInteger):\n",
    "    align = Unicode(None, allow_none=True)\n",
    "    floating = Bool(None, allow_none=True)\n",
    "    style = CSSObject(None, allow_none=True)\n",
    "    text = Unicode(None, allow_none=True)\n",
    "    useHTML = Bool(None, allow_none=True)\n",
    "    verticalAlign = Unicode(None, allow_none=True)\n",
    "    widthAdjust = Integer(None, allow_none=True)\n",
    "\n",
    "\n",
    "class Title(SubTitle):\n",
    "    def __init__(self, **kwargs):\n",
    "        super(__class__, self).__init__(**kwargs)    \n",
    "\n",
    "class AxisStop2(TraitType):\n",
    "    default_value = ()\n",
    "    info_text = 'Tuple (Float, Color)'\n",
    "    \n",
    "    def __init__(self, default_value=Undefined, allow_none=False, **kwargs):\n",
    "        super(__class__, self).__init__(default_value=default_value,\n",
    "                                        allow_none=allow_none, **kwargs)\n",
    "\n",
    "    def validate(self, obj, value):\n",
    "        print(value)\n",
    "        if isinstance(value, (tuple, list)) and len(value) == 2 and \\\n",
    "           isinstance(value[0], float) and isinstance(value[1], Color):\n",
    "            return value\n",
    "        else:\n",
    "            self.error(obj, value)    \n",
    "    \n",
    "class AxisStop(HCBase):\n",
    "    stop = Float(allow_none=False)\n",
    "    color = Color(allow_none=False)\n",
    "\n",
    "\n",
    "class _AxisStop(TraitType):\n",
    "    default_value = ()\n",
    "    info_text = 'AxisStop object'\n",
    "    \n",
    "    def __init__(self, default_value=Undefined, allow_none=False, **kwargs):\n",
    "        super(__class__, self).__init__(default_value=default_value,\n",
    "                                        allow_none=allow_none, **kwargs)\n",
    "\n",
    "    def validate(self, obj, value):\n",
    "        if isinstance(value, AxisStop):\n",
    "            return value\n",
    "        else:\n",
    "            self.error(obj, value)     \n",
    "\n",
    "    @staticmethod\n",
    "    def conv(value):\n",
    "        return (value.stop, value.color)\n",
    "        \n",
    "        \n",
    "class Marker(XYFloat):\n",
    "    \n",
    "    color = Color(None, allow_none=True)\n",
    "    position = Instance(Position, allow_none=True)\n",
    "    name = Unicode(None, allow_none=True)\n",
    "    animation = _Animation(None, allow_none=True)\n",
    "    style = CSSObject(None, allow_none=True)\n",
    "    click = Function(None, allow_none=True)\n",
    "    title = Instance(Title, allow_none=True)\n",
    "    subtitle = Instance(SubTitle, allow_none=True)\n",
    "    shadow = _Shadow(None, allow_none=True)\n",
    "    test = BooleanOrString(None, allow_none=True)\n",
    "    width = IntegerOrPercentageString(None, allow_none=True)\n",
    "    center = List(IntegerOrPercentageString(), maxlen=2)\n",
    "    positions = List(Instance(Position))\n",
    "    stops = List(Tuple(Float(), Color()))\n",
    "    col = List(List(NumberOrString(None, allow_none=True)))\n",
    "    \n",
    "    def __init__(self, **kwargs):\n",
    "        super(__class__, self).__init__(**kwargs)\n",
    "        \n",
    "        "
   ]
  },
  {
   "cell_type": "code",
   "execution_count": 514,
   "metadata": {
    "collapsed": false,
    "scrolled": false
   },
   "outputs": [
    {
     "data": {
      "text/plain": [
       "{'animation': {'duration': 0.5},\n",
       " 'center': [20, '50%'],\n",
       " 'click': 'function(){console.log(\"yep\")}',\n",
       " 'col': [[None, 'Apples', 'Pears', 'Oranges'],\n",
       "  ['Ola', 1, 4, 3],\n",
       "  ['Kari', 5, 4, 2]],\n",
       " 'color': [255, 0, 0, 1.0],\n",
       " 'position': {'x': 1.0, 'y': 2.0},\n",
       " 'positions': [{'align': 'top', 'x': 0.0}],\n",
       " 'shadow': {'color': [0, 0, 255, 1.0]},\n",
       " 'stops': [(0.1, (255, 0, 0, 1.0)), (0.2, (0, 128, 0, 1.0))],\n",
       " 'style': {'width': '10px'},\n",
       " 'subtitle': {'x': 10, 'y': 20},\n",
       " 'test': True,\n",
       " 'width': 23,\n",
       " 'x': 4.2}"
      ]
     },
     "execution_count": 514,
     "metadata": {},
     "output_type": "execute_result"
    }
   ],
   "source": [
    "m = Marker(color=\"Red\", \n",
    "           x=4.2, \n",
    "           position=Position(x=1, y=2), \n",
    "           animation=Animation(duration=0.5),\n",
    "           subtitle=SubTitle(x=10, y=20), \n",
    "           style={\"width\": \"10px\"}, \n",
    "           click=\"function(){console.log(\\\"yep\\\")}\",\n",
    "           shadow=Shadow(color=\"Blue\"),\n",
    "           test=True,\n",
    "           width=23,\n",
    "           center=(20, \"50%\"),\n",
    "           stops=[(0.1, \"Red\"), (0.2, \"Green\")],\n",
    "           positions=[Position(x=0, align=\"top\")],\n",
    "           col=[\n",
    "            [None, 'Apples', 'Pears', 'Oranges'],\n",
    "            ['Ola', 1, 4, 3],\n",
    "            ['Kari', 5, 4, 2]\n",
    "            ]\n",
    "          )\n",
    "m.toDict()"
   ]
  },
  {
   "cell_type": "code",
   "execution_count": 484,
   "metadata": {
    "collapsed": true
   },
   "outputs": [],
   "source": [
    "color = Color(\"#abc\")"
   ]
  },
  {
   "cell_type": "code",
   "execution_count": 124,
   "metadata": {
    "collapsed": false
   },
   "outputs": [
    {
     "data": {
      "text/plain": [
       "{}"
      ]
     },
     "execution_count": 124,
     "metadata": {},
     "output_type": "execute_result"
    }
   ],
   "source": [
    "Position(x=1, y=2).toDict()"
   ]
  },
  {
   "cell_type": "code",
   "execution_count": 163,
   "metadata": {
    "collapsed": false
   },
   "outputs": [
    {
     "ename": "TraitError",
     "evalue": "The 'x' trait of a Position instance must be an int, but a value of 1.2 <class 'float'> was specified.",
     "output_type": "error",
     "traceback": [
      "\u001b[0;31m---------------------------------------------------------------------------\u001b[0m",
      "\u001b[0;31mTraitError\u001b[0m                                Traceback (most recent call last)",
      "\u001b[0;32m<ipython-input-163-a83d9e271728>\u001b[0m in \u001b[0;36m<module>\u001b[0;34m()\u001b[0m\n\u001b[0;32m----> 1\u001b[0;31m \u001b[0mm\u001b[0m\u001b[0;34m.\u001b[0m\u001b[0mposition\u001b[0m\u001b[0;34m.\u001b[0m\u001b[0mx\u001b[0m \u001b[0;34m=\u001b[0m \u001b[0;36m1.2\u001b[0m\u001b[0;34m\u001b[0m\u001b[0m\n\u001b[0m",
      "\u001b[0;32m/opt/miniconda/envs/py3/lib/python3.5/site-packages/traitlets/traitlets.py\u001b[0m in \u001b[0;36m__set__\u001b[0;34m(self, obj, value)\u001b[0m\n\u001b[1;32m    581\u001b[0m             \u001b[0;32mraise\u001b[0m \u001b[0mTraitError\u001b[0m\u001b[0;34m(\u001b[0m\u001b[0;34m'The \"%s\" trait is read-only.'\u001b[0m \u001b[0;34m%\u001b[0m \u001b[0mself\u001b[0m\u001b[0;34m.\u001b[0m\u001b[0mname\u001b[0m\u001b[0;34m)\u001b[0m\u001b[0;34m\u001b[0m\u001b[0m\n\u001b[1;32m    582\u001b[0m         \u001b[0;32melse\u001b[0m\u001b[0;34m:\u001b[0m\u001b[0;34m\u001b[0m\u001b[0m\n\u001b[0;32m--> 583\u001b[0;31m             \u001b[0mself\u001b[0m\u001b[0;34m.\u001b[0m\u001b[0mset\u001b[0m\u001b[0;34m(\u001b[0m\u001b[0mobj\u001b[0m\u001b[0;34m,\u001b[0m \u001b[0mvalue\u001b[0m\u001b[0;34m)\u001b[0m\u001b[0;34m\u001b[0m\u001b[0m\n\u001b[0m\u001b[1;32m    584\u001b[0m \u001b[0;34m\u001b[0m\u001b[0m\n\u001b[1;32m    585\u001b[0m     \u001b[0;32mdef\u001b[0m \u001b[0m_validate\u001b[0m\u001b[0;34m(\u001b[0m\u001b[0mself\u001b[0m\u001b[0;34m,\u001b[0m \u001b[0mobj\u001b[0m\u001b[0;34m,\u001b[0m \u001b[0mvalue\u001b[0m\u001b[0;34m)\u001b[0m\u001b[0;34m:\u001b[0m\u001b[0;34m\u001b[0m\u001b[0m\n",
      "\u001b[0;32m/opt/miniconda/envs/py3/lib/python3.5/site-packages/traitlets/traitlets.py\u001b[0m in \u001b[0;36mset\u001b[0;34m(self, obj, value)\u001b[0m\n\u001b[1;32m    555\u001b[0m \u001b[0;34m\u001b[0m\u001b[0m\n\u001b[1;32m    556\u001b[0m     \u001b[0;32mdef\u001b[0m \u001b[0mset\u001b[0m\u001b[0;34m(\u001b[0m\u001b[0mself\u001b[0m\u001b[0;34m,\u001b[0m \u001b[0mobj\u001b[0m\u001b[0;34m,\u001b[0m \u001b[0mvalue\u001b[0m\u001b[0;34m)\u001b[0m\u001b[0;34m:\u001b[0m\u001b[0;34m\u001b[0m\u001b[0m\n\u001b[0;32m--> 557\u001b[0;31m         \u001b[0mnew_value\u001b[0m \u001b[0;34m=\u001b[0m \u001b[0mself\u001b[0m\u001b[0;34m.\u001b[0m\u001b[0m_validate\u001b[0m\u001b[0;34m(\u001b[0m\u001b[0mobj\u001b[0m\u001b[0;34m,\u001b[0m \u001b[0mvalue\u001b[0m\u001b[0;34m)\u001b[0m\u001b[0;34m\u001b[0m\u001b[0m\n\u001b[0m\u001b[1;32m    558\u001b[0m         \u001b[0;32mtry\u001b[0m\u001b[0;34m:\u001b[0m\u001b[0;34m\u001b[0m\u001b[0m\n\u001b[1;32m    559\u001b[0m             \u001b[0mold_value\u001b[0m \u001b[0;34m=\u001b[0m \u001b[0mobj\u001b[0m\u001b[0;34m.\u001b[0m\u001b[0m_trait_values\u001b[0m\u001b[0;34m[\u001b[0m\u001b[0mself\u001b[0m\u001b[0;34m.\u001b[0m\u001b[0mname\u001b[0m\u001b[0;34m]\u001b[0m\u001b[0;34m\u001b[0m\u001b[0m\n",
      "\u001b[0;32m/opt/miniconda/envs/py3/lib/python3.5/site-packages/traitlets/traitlets.py\u001b[0m in \u001b[0;36m_validate\u001b[0;34m(self, obj, value)\u001b[0m\n\u001b[1;32m    587\u001b[0m             \u001b[0;32mreturn\u001b[0m \u001b[0mvalue\u001b[0m\u001b[0;34m\u001b[0m\u001b[0m\n\u001b[1;32m    588\u001b[0m         \u001b[0;32mif\u001b[0m \u001b[0mhasattr\u001b[0m\u001b[0;34m(\u001b[0m\u001b[0mself\u001b[0m\u001b[0;34m,\u001b[0m \u001b[0;34m'validate'\u001b[0m\u001b[0;34m)\u001b[0m\u001b[0;34m:\u001b[0m\u001b[0;34m\u001b[0m\u001b[0m\n\u001b[0;32m--> 589\u001b[0;31m             \u001b[0mvalue\u001b[0m \u001b[0;34m=\u001b[0m \u001b[0mself\u001b[0m\u001b[0;34m.\u001b[0m\u001b[0mvalidate\u001b[0m\u001b[0;34m(\u001b[0m\u001b[0mobj\u001b[0m\u001b[0;34m,\u001b[0m \u001b[0mvalue\u001b[0m\u001b[0;34m)\u001b[0m\u001b[0;34m\u001b[0m\u001b[0m\n\u001b[0m\u001b[1;32m    590\u001b[0m         \u001b[0;32mif\u001b[0m \u001b[0mobj\u001b[0m\u001b[0;34m.\u001b[0m\u001b[0m_cross_validation_lock\u001b[0m \u001b[0;32mis\u001b[0m \u001b[0;32mFalse\u001b[0m\u001b[0;34m:\u001b[0m\u001b[0;34m\u001b[0m\u001b[0m\n\u001b[1;32m    591\u001b[0m             \u001b[0mvalue\u001b[0m \u001b[0;34m=\u001b[0m \u001b[0mself\u001b[0m\u001b[0;34m.\u001b[0m\u001b[0m_cross_validate\u001b[0m\u001b[0;34m(\u001b[0m\u001b[0mobj\u001b[0m\u001b[0;34m,\u001b[0m \u001b[0mvalue\u001b[0m\u001b[0;34m)\u001b[0m\u001b[0;34m\u001b[0m\u001b[0m\n",
      "\u001b[0;32m/opt/miniconda/envs/py3/lib/python3.5/site-packages/traitlets/traitlets.py\u001b[0m in \u001b[0;36mvalidate\u001b[0;34m(self, obj, value)\u001b[0m\n\u001b[1;32m   1866\u001b[0m     \u001b[0;32mdef\u001b[0m \u001b[0mvalidate\u001b[0m\u001b[0;34m(\u001b[0m\u001b[0mself\u001b[0m\u001b[0;34m,\u001b[0m \u001b[0mobj\u001b[0m\u001b[0;34m,\u001b[0m \u001b[0mvalue\u001b[0m\u001b[0;34m)\u001b[0m\u001b[0;34m:\u001b[0m\u001b[0;34m\u001b[0m\u001b[0m\n\u001b[1;32m   1867\u001b[0m         \u001b[0;32mif\u001b[0m \u001b[0;32mnot\u001b[0m \u001b[0misinstance\u001b[0m\u001b[0;34m(\u001b[0m\u001b[0mvalue\u001b[0m\u001b[0;34m,\u001b[0m \u001b[0mint\u001b[0m\u001b[0;34m)\u001b[0m\u001b[0;34m:\u001b[0m\u001b[0;34m\u001b[0m\u001b[0m\n\u001b[0;32m-> 1868\u001b[0;31m             \u001b[0mself\u001b[0m\u001b[0;34m.\u001b[0m\u001b[0merror\u001b[0m\u001b[0;34m(\u001b[0m\u001b[0mobj\u001b[0m\u001b[0;34m,\u001b[0m \u001b[0mvalue\u001b[0m\u001b[0;34m)\u001b[0m\u001b[0;34m\u001b[0m\u001b[0m\n\u001b[0m\u001b[1;32m   1869\u001b[0m         \u001b[0;32mreturn\u001b[0m \u001b[0m_validate_bounds\u001b[0m\u001b[0;34m(\u001b[0m\u001b[0mself\u001b[0m\u001b[0;34m,\u001b[0m \u001b[0mobj\u001b[0m\u001b[0;34m,\u001b[0m \u001b[0mvalue\u001b[0m\u001b[0;34m)\u001b[0m\u001b[0;34m\u001b[0m\u001b[0m\n\u001b[1;32m   1870\u001b[0m \u001b[0;34m\u001b[0m\u001b[0m\n",
      "\u001b[0;32m/opt/miniconda/envs/py3/lib/python3.5/site-packages/traitlets/traitlets.py\u001b[0m in \u001b[0;36merror\u001b[0;34m(self, obj, value)\u001b[0m\n\u001b[1;32m    621\u001b[0m             \u001b[0me\u001b[0m \u001b[0;34m=\u001b[0m \u001b[0;34m\"The '%s' trait must be %s, but a value of %r was specified.\"\u001b[0m\u001b[0;31m \u001b[0m\u001b[0;31m\\\u001b[0m\u001b[0;34m\u001b[0m\u001b[0m\n\u001b[1;32m    622\u001b[0m                 \u001b[0;34m%\u001b[0m \u001b[0;34m(\u001b[0m\u001b[0mself\u001b[0m\u001b[0;34m.\u001b[0m\u001b[0mname\u001b[0m\u001b[0;34m,\u001b[0m \u001b[0mself\u001b[0m\u001b[0;34m.\u001b[0m\u001b[0minfo\u001b[0m\u001b[0;34m(\u001b[0m\u001b[0;34m)\u001b[0m\u001b[0;34m,\u001b[0m \u001b[0mrepr_type\u001b[0m\u001b[0;34m(\u001b[0m\u001b[0mvalue\u001b[0m\u001b[0;34m)\u001b[0m\u001b[0;34m)\u001b[0m\u001b[0;34m\u001b[0m\u001b[0m\n\u001b[0;32m--> 623\u001b[0;31m         \u001b[0;32mraise\u001b[0m \u001b[0mTraitError\u001b[0m\u001b[0;34m(\u001b[0m\u001b[0me\u001b[0m\u001b[0;34m)\u001b[0m\u001b[0;34m\u001b[0m\u001b[0m\n\u001b[0m\u001b[1;32m    624\u001b[0m \u001b[0;34m\u001b[0m\u001b[0m\n\u001b[1;32m    625\u001b[0m     \u001b[0;32mdef\u001b[0m \u001b[0mget_metadata\u001b[0m\u001b[0;34m(\u001b[0m\u001b[0mself\u001b[0m\u001b[0;34m,\u001b[0m \u001b[0mkey\u001b[0m\u001b[0;34m,\u001b[0m \u001b[0mdefault\u001b[0m\u001b[0;34m=\u001b[0m\u001b[0;32mNone\u001b[0m\u001b[0;34m)\u001b[0m\u001b[0;34m:\u001b[0m\u001b[0;34m\u001b[0m\u001b[0m\n",
      "\u001b[0;31mTraitError\u001b[0m: The 'x' trait of a Position instance must be an int, but a value of 1.2 <class 'float'> was specified."
     ]
    }
   ],
   "source": []
  },
  {
   "cell_type": "code",
   "execution_count": 118,
   "metadata": {
    "collapsed": false
   },
   "outputs": [],
   "source": [
    "from traitlets.config.configurable import Configurable\n",
    "from traitlets import Integer, Float, Unicode, Bool\n",
    "\n",
    "class MyClass(Configurable):\n",
    "    name = Unicode(u'defaultname', help=\"the name of the object\").tag(config=True)\n",
    "    ranking = Integer(0, help=\"the class's ranking\").tag(config=True)\n",
    "    value = Float(99.0)"
   ]
  },
  {
   "cell_type": "code",
   "execution_count": 119,
   "metadata": {
    "collapsed": true
   },
   "outputs": [],
   "source": [
    "c = MyClass()"
   ]
  },
  {
   "cell_type": "code",
   "execution_count": 124,
   "metadata": {
    "collapsed": false
   },
   "outputs": [],
   "source": [
    "c.name = \"23\""
   ]
  },
  {
   "cell_type": "code",
   "execution_count": 125,
   "metadata": {
    "collapsed": false
   },
   "outputs": [
    {
     "data": {
      "text/plain": [
       "'23'"
      ]
     },
     "execution_count": 125,
     "metadata": {},
     "output_type": "execute_result"
    }
   ],
   "source": [
    "c.name"
   ]
  },
  {
   "cell_type": "code",
   "execution_count": 126,
   "metadata": {
    "collapsed": true
   },
   "outputs": [],
   "source": [
    "c2 = MyClass(name=\"wert\", ranking=5, value=42.0)"
   ]
  },
  {
   "cell_type": "code",
   "execution_count": 127,
   "metadata": {
    "collapsed": false
   },
   "outputs": [
    {
     "data": {
      "text/plain": [
       "42.0"
      ]
     },
     "execution_count": 127,
     "metadata": {},
     "output_type": "execute_result"
    }
   ],
   "source": [
    "c2.value"
   ]
  },
  {
   "cell_type": "code",
   "execution_count": 129,
   "metadata": {
    "collapsed": false
   },
   "outputs": [
    {
     "data": {
      "text/plain": [
       "['__class__',\n",
       " '__delattr__',\n",
       " '__dict__',\n",
       " '__dir__',\n",
       " '__doc__',\n",
       " '__eq__',\n",
       " '__format__',\n",
       " '__ge__',\n",
       " '__getattribute__',\n",
       " '__getstate__',\n",
       " '__gt__',\n",
       " '__hash__',\n",
       " '__init__',\n",
       " '__le__',\n",
       " '__lt__',\n",
       " '__module__',\n",
       " '__ne__',\n",
       " '__new__',\n",
       " '__reduce__',\n",
       " '__reduce_ex__',\n",
       " '__repr__',\n",
       " '__setattr__',\n",
       " '__setstate__',\n",
       " '__sizeof__',\n",
       " '__str__',\n",
       " '__subclasshook__',\n",
       " '__weakref__',\n",
       " '_add_notifiers',\n",
       " '_config_changed',\n",
       " '_cross_validation_lock',\n",
       " '_find_my_config',\n",
       " '_load_config',\n",
       " '_notify_trait',\n",
       " '_register_validator',\n",
       " '_remove_notifiers',\n",
       " '_trait_default_generators',\n",
       " '_trait_notifiers',\n",
       " '_trait_validators',\n",
       " '_trait_values',\n",
       " 'add_traits',\n",
       " 'class_config_rst_doc',\n",
       " 'class_config_section',\n",
       " 'class_get_help',\n",
       " 'class_get_trait_help',\n",
       " 'class_own_trait_events',\n",
       " 'class_own_traits',\n",
       " 'class_print_help',\n",
       " 'class_trait_names',\n",
       " 'class_traits',\n",
       " 'config',\n",
       " 'cross_validation_lock',\n",
       " 'has_trait',\n",
       " 'hold_trait_notifications',\n",
       " 'name',\n",
       " 'notify_change',\n",
       " 'observe',\n",
       " 'on_trait_change',\n",
       " 'parent',\n",
       " 'ranking',\n",
       " 'section_names',\n",
       " 'set_trait',\n",
       " 'setup_instance',\n",
       " 'trait_events',\n",
       " 'trait_metadata',\n",
       " 'trait_names',\n",
       " 'traits',\n",
       " 'unobserve',\n",
       " 'unobserve_all',\n",
       " 'update_config',\n",
       " 'value']"
      ]
     },
     "execution_count": 129,
     "metadata": {},
     "output_type": "execute_result"
    }
   ],
   "source": [
    "dir(c2)"
   ]
  },
  {
   "cell_type": "code",
   "execution_count": null,
   "metadata": {
    "collapsed": true
   },
   "outputs": [],
   "source": []
  }
 ],
 "metadata": {
  "kernelspec": {
   "display_name": "Python 3",
   "language": "python",
   "name": "python3"
  },
  "language_info": {
   "codemirror_mode": {
    "name": "ipython",
    "version": 3
   },
   "file_extension": ".py",
   "mimetype": "text/x-python",
   "name": "python",
   "nbconvert_exporter": "python",
   "pygments_lexer": "ipython3",
   "version": "3.5.2"
  }
 },
 "nbformat": 4,
 "nbformat_minor": 2
}
