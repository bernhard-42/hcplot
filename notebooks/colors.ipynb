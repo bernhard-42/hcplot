{
 "cells": [
  {
   "cell_type": "code",
   "execution_count": null,
   "metadata": {
    "collapsed": false
   },
   "outputs": [],
   "source": [
    "from IPython.core.display import display, HTML\n",
    "display(HTML(\"<style>.container { width:90% !important; }</style>\"))"
   ]
  },
  {
   "cell_type": "code",
   "execution_count": null,
   "metadata": {
    "collapsed": false
   },
   "outputs": [],
   "source": [
    "from hcplot import loadLibraries, Figure, Points, Line, mapping, single, grid, matrix, wrap, scales\n",
    "from hcplot.scale import brewer, identity\n",
    "from hcplot.color import ColorBrewer, D3Colors"
   ]
  },
  {
   "cell_type": "code",
   "execution_count": null,
   "metadata": {
    "collapsed": false
   },
   "outputs": [],
   "source": [
    "loadLibraries()"
   ]
  },
  {
   "cell_type": "code",
   "execution_count": null,
   "metadata": {
    "collapsed": false
   },
   "outputs": [],
   "source": [
    "# from hcplot.scale import brewer\n",
    "import numpy as np\n",
    "import pandas as pd\n",
    "from hcplot.color import Color\n",
    "\n",
    "def createDF(colors, x, y):\n",
    "    r, g, b = [[c[i] for c in colors] for i in range(3)]\n",
    "    return pd.DataFrame({\"X\":x, \"R\":r, \"G\":g, \"B\":b, \n",
    "                         \"Demo\": [y]*len(colors), \"Color\": Color.rgb2web(colors)})\n",
    "    \n",
    "def rgbDF(typ, palette):\n",
    "    colors = brewer(typ, palette, True)(-1)\n",
    "    x = list(range(len(colors)))\n",
    "    return createDF(colors, x, -30)\n",
    "\n",
    "def rgbiDF(typ, palette, size):\n",
    "    xmax = len(brewer(typ, palette, True)(-1)) - 1\n",
    "    x = np.linspace(0,1,size)\n",
    "    colors = brewer(typ, palette, False)(x)\n",
    "    return createDF(colors, x*xmax, -10)\n"
   ]
  },
  {
   "cell_type": "code",
   "execution_count": null,
   "metadata": {
    "collapsed": false
   },
   "outputs": [],
   "source": [
    "def plotColor(data1, data2):\n",
    "    fig = Figure(data1) \\\n",
    "        + Line(         mapping(\"X\",\"R\"), color=\"#ff0000\", lineType=\"Dot\", marker=\"triangle\")             \\\n",
    "        + Line(         mapping(\"X\",\"G\"), color=\"#00ff00\", lineType=\"Dot\", marker=\"triangle\")             \\\n",
    "        + Line(         mapping(\"X\",\"B\"), color=\"#0000ff\", lineType=\"Dot\", marker=\"triangle\")             \\\n",
    "        + Line(  data2, mapping(\"X\",\"R\"), color=\"#ff0000\", lineWidth=1,    showMarker=False)              \\\n",
    "        + Line(  data2, mapping(\"X\",\"G\"), color=\"#00ff00\", lineWidth=1,    showMarker=False)              \\\n",
    "        + Line(  data2, mapping(\"X\",\"B\"), color=\"#0000ff\", lineWidth=1,    showMarker=False)              \\\n",
    "        + Points(data1, mapping(\"X\", \"Demo\", color=\"Color\"), scales(color=identity()), shape=\"circle\", size=12) \\\n",
    "        + Points(data2, mapping(\"X\", \"Demo\", color=\"Color\"), scales(color=identity()), shape=\"square\", size=6)\n",
    "    return fig"
   ]
  },
  {
   "cell_type": "code",
   "execution_count": null,
   "metadata": {
    "collapsed": false
   },
   "outputs": [],
   "source": [
    "typ, palette = \"div\", \"Spectral\"\n",
    "plotColor(rgbDF(typ, palette), rgbiDF(typ, palette, 200))"
   ]
  },
  {
   "cell_type": "code",
   "execution_count": null,
   "metadata": {
    "collapsed": false
   },
   "outputs": [],
   "source": [
    "typ, palette = \"seq\", \"YlOrBr\"\n",
    "plotColor(rgbDF(typ, palette), rgbiDF(typ, palette, 1000))"
   ]
  },
  {
   "cell_type": "code",
   "execution_count": null,
   "metadata": {
    "collapsed": true
   },
   "outputs": [],
   "source": []
  }
 ],
 "metadata": {
  "kernelspec": {
   "display_name": "Python 3",
   "language": "python",
   "name": "python3"
  },
  "language_info": {
   "codemirror_mode": {
    "name": "ipython",
    "version": 3
   },
   "file_extension": ".py",
   "mimetype": "text/x-python",
   "name": "python",
   "nbconvert_exporter": "python",
   "pygments_lexer": "ipython3",
   "version": "3.5.2"
  }
 },
 "nbformat": 4,
 "nbformat_minor": 2
}
