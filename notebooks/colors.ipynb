{
 "cells": [
  {
   "cell_type": "code",
   "execution_count": null,
   "metadata": {
    "collapsed": false
   },
   "outputs": [],
   "source": [
    "from IPython.core.display import display, HTML\n",
    "display(HTML(\"<style>.container { width:90% !important; }</style>\"))"
   ]
  },
  {
   "cell_type": "code",
   "execution_count": null,
   "metadata": {
    "collapsed": false,
    "scrolled": true
   },
   "outputs": [],
   "source": [
    "from hcplot import loadLibraries, Figure, mapping, single, grid, matrix, wrap, scale\n",
    "from hcplot.geoms import Line, Points\n",
    "from hcplot.scales import Brewer, Alpha, D3, Hue\n",
    "from hcplot.utils.showcolors import plotPalettes, plotScales\n",
    "loadLibraries()"
   ]
  },
  {
   "cell_type": "markdown",
   "metadata": {},
   "source": [
    "# ColorBrewer\n",
    "\n",
    "## Discrete"
   ]
  },
  {
   "cell_type": "code",
   "execution_count": null,
   "metadata": {
    "collapsed": false
   },
   "outputs": [],
   "source": [
    "plotPalettes(Brewer, \"qual\")"
   ]
  },
  {
   "cell_type": "code",
   "execution_count": null,
   "metadata": {
    "collapsed": false
   },
   "outputs": [],
   "source": [
    "plotPalettes(Brewer, \"seq\")"
   ]
  },
  {
   "cell_type": "code",
   "execution_count": null,
   "metadata": {
    "collapsed": false,
    "scrolled": false
   },
   "outputs": [],
   "source": [
    "plotPalettes(Brewer, \"div\")"
   ]
  },
  {
   "cell_type": "markdown",
   "metadata": {},
   "source": [
    "## Interpolated"
   ]
  },
  {
   "cell_type": "code",
   "execution_count": null,
   "metadata": {
    "collapsed": false
   },
   "outputs": [],
   "source": [
    "import numpy as np\n",
    "import pandas as pd\n",
    "\n",
    "def createDF(colors, x, y):\n",
    "    r, g, b = [[c[i] for c in colors] for i in range(3)]\n",
    "    return pd.DataFrame({\"X\":x, \"R\":r, \"G\":g, \"B\":b, \"Demo\": [y]*len(colors)})\n",
    "    \n",
    "def rgbDF(typ, palette, size):\n",
    "    colors1 = Brewer(typ, palette, True, False)(-1)\n",
    "    l1 = len(colors1)\n",
    "    x1 = list(range(l1))\n",
    "    \n",
    "    x2 = np.linspace(0, l1-1, size)\n",
    "    colors2 = Brewer(typ, palette, False, False)(x2)\n",
    "\n",
    "    return createDF(colors1, x1, -30), createDF(colors2, x2, -10)  \n",
    "\n",
    "\n",
    "def plotColor(typ, palette, size):\n",
    "    data1, data2 = rgbDF(typ, palette, size)\n",
    "    colorScale1 = Brewer(typ, palette)\n",
    "    colorScale2 = Brewer(typ, palette, discrete=False)\n",
    "    \n",
    "    fig = (Figure(width=1280, ratio=0.5)\n",
    "        +  Line  (data1, mapping(\"X\",\"R\"), color=\"red\",   lineType=\"Dot\", marker=\"triangle\") \n",
    "        +  Line  (data1, mapping(\"X\",\"G\"), color=\"green\", lineType=\"Dot\", marker=\"triangle\") \n",
    "        +  Line  (data1, mapping(\"X\",\"B\"), color=\"blue\",  lineType=\"Dot\", marker=\"triangle\") \n",
    "        +  Line  (data2, mapping(\"X\",\"R\"), color=\"red\",   lineWidth=1,    showMarker=False)  \n",
    "        +  Line  (data2, mapping(\"X\",\"G\"), color=\"green\", lineWidth=1,    showMarker=False)  \n",
    "        +  Line  (data2, mapping(\"X\",\"B\"), color=\"blue\",  lineWidth=1,    showMarker=False)  \n",
    "        +  Points(data1, mapping(\"X\", \"Demo\", color=\"X\"), scale(color=colorScale1), shape=\"circle\", size=12)\n",
    "        +  Points(data2, mapping(\"X\", \"Demo\", color=\"X\"), scale(color=colorScale2), shape=\"square\", size=6)\n",
    "    )    \n",
    "    return fig"
   ]
  },
  {
   "cell_type": "code",
   "execution_count": null,
   "metadata": {
    "collapsed": false
   },
   "outputs": [],
   "source": [
    "fig = plotColor(\"div\", \"Spectral\", 200)\n",
    "fig"
   ]
  },
  {
   "cell_type": "code",
   "execution_count": null,
   "metadata": {
    "collapsed": false
   },
   "outputs": [],
   "source": [
    "fig = plotColor(\"seq\", \"BuGn\", 200)\n",
    "fig"
   ]
  },
  {
   "cell_type": "code",
   "execution_count": null,
   "metadata": {
    "collapsed": false
   },
   "outputs": [],
   "source": [
    "fig = plotColor(\"seq\", \"Greys\", 200)\n",
    "fig"
   ]
  },
  {
   "cell_type": "markdown",
   "metadata": {},
   "source": [
    "# D3"
   ]
  },
  {
   "cell_type": "code",
   "execution_count": null,
   "metadata": {
    "collapsed": false,
    "scrolled": false
   },
   "outputs": [],
   "source": [
    "plotPalettes(D3, None)"
   ]
  },
  {
   "cell_type": "markdown",
   "metadata": {},
   "source": [
    "# HCL (Hue)"
   ]
  },
  {
   "cell_type": "code",
   "execution_count": null,
   "metadata": {
    "collapsed": false
   },
   "outputs": [],
   "source": [
    "size = 11\n",
    "palettes = [Hue(\"qual\", h=Hue.dynamic,  c=40, l=70)(size),\n",
    "            Hue(\"qual\", h=Hue.harmonic, c=40, l=70)(size),\n",
    "            Hue(\"qual\", h=Hue.cold,     c=40, l=70)(size),\n",
    "            Hue(\"qual\", h=Hue.warm,     c=40, l=70)(size)]\n",
    "\n",
    "plotScales(palettes)"
   ]
  },
  {
   "cell_type": "code",
   "execution_count": null,
   "metadata": {
    "collapsed": false
   },
   "outputs": [],
   "source": [
    "size = 11\n",
    "palettes = [Hue(\"seq\", h= 40, c=104, l=(10, 60))(size),\n",
    "            Hue(\"seq\", h=136, c=119, l=(10, 60))(size),\n",
    "            Hue(\"seq\", h=284, c= 73, l=(10, 60))(size),\n",
    "            Hue(\"seq\", h=260, c=  0, l=(30, 90))(size)]\n",
    "\n",
    "plotScales(palettes)"
   ]
  },
  {
   "cell_type": "code",
   "execution_count": null,
   "metadata": {
    "collapsed": false
   },
   "outputs": [],
   "source": [
    "import math \n",
    "size = 15\n",
    "\n",
    "palettes = [Hue(\"seq\", h=136, c=(120, 0), l=(30, 90), fc=lambda i: math.pow(i, 3))(size),\n",
    "            Hue(\"seq\", h=136, c=(120, 0), l=(30, 90))(size)]\n",
    "                 \n",
    "plotScales(palettes)"
   ]
  },
  {
   "cell_type": "code",
   "execution_count": null,
   "metadata": {
    "collapsed": false
   },
   "outputs": [],
   "source": [
    "size = 15\n",
    "\n",
    "palettes = [Hue(\"div\", h=[270,  0], c=(70, 0, 70), l=(30, 90, 30), fc=lambda i: math.pow(i, 2))(size),\n",
    "            Hue(\"div\", h=[120, 60], c=(70, 0, 70), l=(80, 90, 80), fc=lambda i: math.pow(i, 2))(size),\n",
    "            Hue(\"div\", h=[0,  120], c=(70, 0, 70), l=(40, 90, 40), fc=lambda i: math.pow(i, 2))(size),\n",
    "]\n",
    "                 \n",
    "plotScales(palettes)"
   ]
  },
  {
   "cell_type": "code",
   "execution_count": null,
   "metadata": {
    "collapsed": false
   },
   "outputs": [],
   "source": [
    "size = 15\n",
    "\n",
    "palettes = [Hue(\"div\", h=[120, 60], c=(70, 0, 70), l=(80, 90, 80), fc=None)(size),\n",
    "            Hue(\"div\", h=[120, 60], c=(70, 0, 70), l=(80, 90, 80), fc=lambda i: math.pow(i, 2))(size),\n",
    "            Hue(\"div\", h=[120, 60], c=(70, 0, 70), l=(80, 90, 80), fc=lambda i: math.pow(i, 3))(size),\n",
    "            Hue(\"div\", h=[120, 60], c=(70, 0, 70), l=(80, 90, 80), fc=lambda i: math.pow(i, 4))(size),\n",
    "            Hue(\"div\", h=[120, 60], c=(70, 0, 70), l=(80, 90, 80), fc=lambda i: math.pow(i, 5))(size),\n",
    "]\n",
    "                 \n",
    "plotScales(palettes)"
   ]
  },
  {
   "cell_type": "code",
   "execution_count": null,
   "metadata": {
    "collapsed": true
   },
   "outputs": [],
   "source": []
  }
 ],
 "metadata": {
  "kernelspec": {
   "display_name": "Python 3",
   "language": "python",
   "name": "python3"
  },
  "language_info": {
   "codemirror_mode": {
    "name": "ipython",
    "version": 3
   },
   "file_extension": ".py",
   "mimetype": "text/x-python",
   "name": "python",
   "nbconvert_exporter": "python",
   "pygments_lexer": "ipython3",
   "version": "3.5.2"
  }
 },
 "nbformat": 4,
 "nbformat_minor": 2
}
