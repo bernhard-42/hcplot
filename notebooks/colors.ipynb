{
 "cells": [
  {
   "cell_type": "code",
   "execution_count": 32,
   "metadata": {
    "collapsed": false
   },
   "outputs": [
    {
     "data": {
      "text/html": [
       "<style>.container { width:90% !important; }</style>"
      ],
      "text/plain": [
       "<IPython.core.display.HTML object>"
      ]
     },
     "metadata": {},
     "output_type": "display_data"
    }
   ],
   "source": [
    "from IPython.core.display import display, HTML\n",
    "display(HTML(\"<style>.container { width:90% !important; }</style>\"))"
   ]
  },
  {
   "cell_type": "code",
   "execution_count": null,
   "metadata": {
    "collapsed": false,
    "scrolled": true
   },
   "outputs": [],
   "source": [
    "from hcplot import loadLibraries, Figure, mapping, single, grid, matrix, wrap, scale\n",
    "from hcplot.geoms import Line, Points\n",
    "from hcplot.scales import Brewer, Alpha, D3, Hue\n",
    "from hcplot.utils.showcolors import plotPalettes, plotScales\n",
    "loadLibraries()"
   ]
  },
  {
   "cell_type": "markdown",
   "metadata": {},
   "source": [
    "# ColorBrewer\n",
    "\n",
    "## Discrete"
   ]
  },
  {
   "cell_type": "code",
   "execution_count": null,
   "metadata": {
    "collapsed": false
   },
   "outputs": [],
   "source": [
    "plotPalettes(Brewer, \"qual\")"
   ]
  },
  {
   "cell_type": "code",
   "execution_count": null,
   "metadata": {
    "collapsed": false
   },
   "outputs": [],
   "source": [
    "plotPalettes(Brewer, \"seq\")"
   ]
  },
  {
   "cell_type": "code",
   "execution_count": null,
   "metadata": {
    "collapsed": false,
    "scrolled": false
   },
   "outputs": [],
   "source": [
    "plotPalettes(Brewer, \"div\")"
   ]
  },
  {
   "cell_type": "markdown",
   "metadata": {},
   "source": [
    "## Interpolated"
   ]
  },
  {
   "cell_type": "code",
   "execution_count": null,
   "metadata": {
    "collapsed": false
   },
   "outputs": [],
   "source": [
    "import numpy as np\n",
    "import pandas as pd\n",
    "\n",
    "def createDF(colors, x, y):\n",
    "    r, g, b = [[c[i] for c in colors] for i in range(3)]\n",
    "    return pd.DataFrame({\"X\":x, \"R\":r, \"G\":g, \"B\":b, \"Demo\": [y]*len(colors)})\n",
    "    \n",
    "def rgbDF(typ, palette, size):\n",
    "    colors1 = Brewer(typ, palette, True, False)(-1)\n",
    "    l1 = len(colors1)\n",
    "    x1 = list(range(l1))\n",
    "    \n",
    "    x2 = np.linspace(0, l1-1, size)\n",
    "    colors2 = Brewer(typ, palette, False, False)(x2)\n",
    "\n",
    "    return createDF(colors1, x1, -30), createDF(colors2, x2, -10)  \n",
    "\n",
    "\n",
    "def plotColor(typ, palette, size):\n",
    "    data1, data2 = rgbDF(typ, palette, size)\n",
    "    colorScale1 = Brewer(typ, palette)\n",
    "    colorScale2 = Brewer(typ, palette, discrete=False)\n",
    "    \n",
    "    fig = (Figure(width=1280, ratio=0.5)\n",
    "        +  Line  (data1, mapping(\"X\",\"R\"), color=\"red\",   lineType=\"Dot\", marker=\"triangle\") \n",
    "        +  Line  (data1, mapping(\"X\",\"G\"), color=\"green\", lineType=\"Dot\", marker=\"triangle\") \n",
    "        +  Line  (data1, mapping(\"X\",\"B\"), color=\"blue\",  lineType=\"Dot\", marker=\"triangle\") \n",
    "        +  Line  (data2, mapping(\"X\",\"R\"), color=\"red\",   lineWidth=1,    showMarker=False)  \n",
    "        +  Line  (data2, mapping(\"X\",\"G\"), color=\"green\", lineWidth=1,    showMarker=False)  \n",
    "        +  Line  (data2, mapping(\"X\",\"B\"), color=\"blue\",  lineWidth=1,    showMarker=False)  \n",
    "        +  Points(data1, mapping(\"X\", \"Demo\", color=\"X\"), scale(color=colorScale1), shape=\"circle\", size=12)\n",
    "        +  Points(data2, mapping(\"X\", \"Demo\", color=\"X\"), scale(color=colorScale2), shape=\"square\", size=6)\n",
    "    )    \n",
    "    return fig"
   ]
  },
  {
   "cell_type": "code",
   "execution_count": null,
   "metadata": {
    "collapsed": false
   },
   "outputs": [],
   "source": [
    "fig = plotColor(\"div\", \"Spectral\", 200)\n",
    "fig"
   ]
  },
  {
   "cell_type": "code",
   "execution_count": null,
   "metadata": {
    "collapsed": false
   },
   "outputs": [],
   "source": [
    "fig = plotColor(\"seq\", \"BuGn\", 200)\n",
    "fig"
   ]
  },
  {
   "cell_type": "code",
   "execution_count": null,
   "metadata": {
    "collapsed": false
   },
   "outputs": [],
   "source": [
    "fig = plotColor(\"seq\", \"Greys\", 200)\n",
    "fig"
   ]
  },
  {
   "cell_type": "markdown",
   "metadata": {},
   "source": [
    "# D3"
   ]
  },
  {
   "cell_type": "code",
   "execution_count": null,
   "metadata": {
    "collapsed": false,
    "scrolled": false
   },
   "outputs": [],
   "source": [
    "plotPalettes(D3, None)"
   ]
  },
  {
   "cell_type": "markdown",
   "metadata": {},
   "source": [
    "# HCL (Hue)"
   ]
  },
  {
   "cell_type": "code",
   "execution_count": null,
   "metadata": {
    "collapsed": false
   },
   "outputs": [],
   "source": [
    "size = 11\n",
    "palettes = [Hue(\"qual\", h=Hue.dynamic,  c=40, l=70)(size),\n",
    "            Hue(\"qual\", h=Hue.harmonic, c=40, l=70)(size),\n",
    "            Hue(\"qual\", h=Hue.cold,     c=40, l=70)(size),\n",
    "            Hue(\"qual\", h=Hue.warm,     c=40, l=70)(size)]\n",
    "\n",
    "plotScales(palettes)"
   ]
  },
  {
   "cell_type": "code",
   "execution_count": null,
   "metadata": {
    "collapsed": false
   },
   "outputs": [],
   "source": [
    "size = 11\n",
    "palettes = [Hue(\"seq\", h= 40, c=104, l=(10, 60))(size),\n",
    "            Hue(\"seq\", h=136, c=119, l=(10, 60))(size),\n",
    "            Hue(\"seq\", h=284, c= 73, l=(10, 60))(size),\n",
    "            Hue(\"seq\", h=260, c=  0, l=(30, 90))(size)]\n",
    "\n",
    "plotScales(palettes)"
   ]
  },
  {
   "cell_type": "code",
   "execution_count": null,
   "metadata": {
    "collapsed": false
   },
   "outputs": [],
   "source": [
    "import math \n",
    "size = 15\n",
    "\n",
    "palettes = [Hue(\"seq\", h=136, c=(120, 0), l=(30, 90), fc=lambda i: math.pow(i, 3))(size),\n",
    "            Hue(\"seq\", h=136, c=(120, 0), l=(30, 90))(size)]\n",
    "                 \n",
    "plotScales(palettes)"
   ]
  },
  {
   "cell_type": "code",
   "execution_count": null,
   "metadata": {
    "collapsed": false
   },
   "outputs": [],
   "source": [
    "size = 15\n",
    "\n",
    "palettes = [Hue(\"div\", h=[270,  0], c=(70, 0, 70), l=(30, 90, 30), fc=lambda i: math.pow(i, 2))(size),\n",
    "            Hue(\"div\", h=[120, 60], c=(70, 0, 70), l=(80, 90, 80), fc=lambda i: math.pow(i, 2))(size),\n",
    "            Hue(\"div\", h=[0,  120], c=(70, 0, 70), l=(40, 90, 40), fc=lambda i: math.pow(i, 2))(size),\n",
    "]\n",
    "                 \n",
    "plotScales(palettes)"
   ]
  },
  {
   "cell_type": "code",
   "execution_count": 33,
   "metadata": {
    "collapsed": false
   },
   "outputs": [
    {
     "data": {
      "text/html": [
       "<table id=\"hc_68d90191-b590-4e86-8a8c-d8dbba50de9b\" class=\"hcTable\">\n",
       "  <tr id=\"hc_68d90191-b590-4e86-8a8c-d8dbba50de9b_0\" class=\"hcTable\">\n",
       "\n",
       "    <td class=\"hcTable\">\n",
       "        <div id=\"hc_68d90191-b590-4e86-8a8c-d8dbba50de9b_0-0\" style=\"width:1100px; height:375px; padding:1px 0px 25px 1px;\"></div>\n",
       "    </td>\n",
       "\n",
       "  </tr>\n",
       "</table>\n",
       "\n",
       "<script>\n",
       "    window.hc_charts.promise.then(function(HC) {\n",
       "\n",
       "//      Chart 0-0\n",
       "        HC.chart(\"hc_68d90191-b590-4e86-8a8c-d8dbba50de9b_0-0\", {\"yAxis\": {\"max\": 4, \"min\": 0, \"gridLineWidth\": 1, \"tickWidth\": 1, \"lineWidth\": 1, \"title\": {\"text\": null}}, \"xAxis\": {\"max\": 14, \"min\": 0, \"gridLineWidth\": 1, \"tickWidth\": 1, \"lineWidth\": 1, \"title\": {\"text\": null}}, \"exporting\": {\"enabled\": false}, \"series\": [{\"name\": \"Y0\", \"type\": \"scatter\", \"marker\": {\"lineWidth\": 1, \"radius\": 30, \"symbol\": \"square\"}, \"color\": \"rgba(124,181,236,1.000000)\", \"data\": [{\"x\": 0, \"color\": \"rgb(157,215,74)\", \"y\": 0}, {\"x\": 1, \"color\": \"rgb(169,217,99)\", \"y\": 0}, {\"x\": 2, \"color\": \"rgb(180,219,121)\", \"y\": 0}, {\"x\": 3, \"color\": \"rgb(190,220,143)\", \"y\": 0}, {\"x\": 4, \"color\": \"rgb(200,222,164)\", \"y\": 0}, {\"x\": 5, \"color\": \"rgb(209,223,185)\", \"y\": 0}, {\"x\": 6, \"color\": \"rgb(218,225,206)\", \"y\": 0}, {\"x\": 7, \"color\": \"rgb(226,226,226)\", \"y\": 0}, {\"x\": 8, \"color\": \"rgb(237,219,206)\", \"y\": 0}, {\"x\": 9, \"color\": \"rgb(246,211,186)\", \"y\": 0}, {\"x\": 10, \"color\": \"rgb(254,203,166)\", \"y\": 0}, {\"x\": 11, \"color\": \"rgb(261,195,146)\", \"y\": 0}, {\"x\": 12, \"color\": \"rgb(267,188,126)\", \"y\": 0}, {\"x\": 13, \"color\": \"rgb(273,179,105)\", \"y\": 0}, {\"x\": 14, \"color\": \"rgb(277,171,84)\", \"y\": 0}]}, {\"name\": \"Y1\", \"type\": \"scatter\", \"marker\": {\"lineWidth\": 1, \"radius\": 30, \"symbol\": \"square\"}, \"color\": \"rgba(124,181,236,1.000000)\", \"data\": [{\"x\": 0, \"color\": \"rgb(157,215,74)\", \"y\": 1}, {\"x\": 1, \"color\": \"rgb(175,215,115)\", \"y\": 1}, {\"x\": 2, \"color\": \"rgb(189,215,147)\", \"y\": 1}, {\"x\": 3, \"color\": \"rgb(200,216,172)\", \"y\": 1}, {\"x\": 4, \"color\": \"rgb(209,218,193)\", \"y\": 1}, {\"x\": 5, \"color\": \"rgb(216,220,209)\", \"y\": 1}, {\"x\": 6, \"color\": \"rgb(222,223,220)\", \"y\": 1}, {\"x\": 7, \"color\": \"rgb(226,226,226)\", \"y\": 1}, {\"x\": 8, \"color\": \"rgb(225,222,220)\", \"y\": 1}, {\"x\": 9, \"color\": \"rgb(227,216,209)\", \"y\": 1}, {\"x\": 10, \"color\": \"rgb(233,210,194)\", \"y\": 1}, {\"x\": 11, \"color\": \"rgb(242,202,174)\", \"y\": 1}, {\"x\": 12, \"color\": \"rgb(252,193,149)\", \"y\": 1}, {\"x\": 13, \"color\": \"rgb(264,183,119)\", \"y\": 1}, {\"x\": 14, \"color\": \"rgb(277,171,84)\", \"y\": 1}]}, {\"name\": \"Y2\", \"type\": \"scatter\", \"marker\": {\"lineWidth\": 1, \"radius\": 30, \"symbol\": \"square\"}, \"color\": \"rgba(124,181,236,1.000000)\", \"data\": [{\"x\": 0, \"color\": \"rgb(157,215,74)\", \"y\": 2}, {\"x\": 1, \"color\": \"rgb(180,213,128)\", \"y\": 2}, {\"x\": 2, \"color\": \"rgb(194,213,164)\", \"y\": 2}, {\"x\": 3, \"color\": \"rgb(204,214,189)\", \"y\": 2}, {\"x\": 4, \"color\": \"rgb(212,216,205)\", \"y\": 2}, {\"x\": 5, \"color\": \"rgb(218,219,216)\", \"y\": 2}, {\"x\": 6, \"color\": \"rgb(222,222,222)\", \"y\": 2}, {\"x\": 7, \"color\": \"rgb(226,226,226)\", \"y\": 2}, {\"x\": 8, \"color\": \"rgb(223,222,222)\", \"y\": 2}, {\"x\": 9, \"color\": \"rgb(221,218,216)\", \"y\": 2}, {\"x\": 10, \"color\": \"rgb(223,212,205)\", \"y\": 2}, {\"x\": 11, \"color\": \"rgb(229,206,189)\", \"y\": 2}, {\"x\": 12, \"color\": \"rgb(241,197,165)\", \"y\": 2}, {\"x\": 13, \"color\": \"rgb(257,186,132)\", \"y\": 2}, {\"x\": 14, \"color\": \"rgb(277,171,84)\", \"y\": 2}]}, {\"name\": \"Y3\", \"type\": \"scatter\", \"marker\": {\"lineWidth\": 1, \"radius\": 30, \"symbol\": \"square\"}, \"color\": \"rgba(124,181,236,1.000000)\", \"data\": [{\"x\": 0, \"color\": \"rgb(157,215,74)\", \"y\": 3}, {\"x\": 1, \"color\": \"rgb(183,212,139)\", \"y\": 3}, {\"x\": 2, \"color\": \"rgb(198,211,176)\", \"y\": 3}, {\"x\": 3, \"color\": \"rgb(207,212,198)\", \"y\": 3}, {\"x\": 4, \"color\": \"rgb(213,215,210)\", \"y\": 3}, {\"x\": 5, \"color\": \"rgb(218,218,217)\", \"y\": 3}, {\"x\": 6, \"color\": \"rgb(222,222,222)\", \"y\": 3}, {\"x\": 7, \"color\": \"rgb(226,226,226)\", \"y\": 3}, {\"x\": 8, \"color\": \"rgb(222,222,222)\", \"y\": 3}, {\"x\": 9, \"color\": \"rgb(219,218,217)\", \"y\": 3}, {\"x\": 10, \"color\": \"rgb(218,213,210)\", \"y\": 3}, {\"x\": 11, \"color\": \"rgb(221,208,198)\", \"y\": 3}, {\"x\": 12, \"color\": \"rgb(232,200,177)\", \"y\": 3}, {\"x\": 13, \"color\": \"rgb(250,188,142)\", \"y\": 3}, {\"x\": 14, \"color\": \"rgb(277,171,84)\", \"y\": 3}]}, {\"name\": \"Y4\", \"type\": \"scatter\", \"marker\": {\"lineWidth\": 1, \"radius\": 30, \"symbol\": \"square\"}, \"color\": \"rgba(124,181,236,1.000000)\", \"data\": [{\"x\": 0, \"color\": \"rgb(157,215,74)\", \"y\": 4}, {\"x\": 1, \"color\": \"rgb(187,210,148)\", \"y\": 4}, {\"x\": 2, \"color\": \"rgb(201,210,185)\", \"y\": 4}, {\"x\": 3, \"color\": \"rgb(208,211,203)\", \"y\": 4}, {\"x\": 4, \"color\": \"rgb(214,215,213)\", \"y\": 4}, {\"x\": 5, \"color\": \"rgb(218,218,218)\", \"y\": 4}, {\"x\": 6, \"color\": \"rgb(222,222,222)\", \"y\": 4}, {\"x\": 7, \"color\": \"rgb(226,226,226)\", \"y\": 4}, {\"x\": 8, \"color\": \"rgb(222,222,222)\", \"y\": 4}, {\"x\": 9, \"color\": \"rgb(218,218,218)\", \"y\": 4}, {\"x\": 10, \"color\": \"rgb(216,214,213)\", \"y\": 4}, {\"x\": 11, \"color\": \"rgb(217,209,203)\", \"y\": 4}, {\"x\": 12, \"color\": \"rgb(225,202,185)\", \"y\": 4}, {\"x\": 13, \"color\": \"rgb(245,191,151)\", \"y\": 4}, {\"x\": 14, \"color\": \"rgb(277,171,84)\", \"y\": 4}]}], \"legend\": {\"enabled\": false}, \"chart\": {\"spacingTop\": 5, \"zoomType\": \"xy\", \"spacingLeft\": 5, \"marginBottom\": 40, \"spacingRight\": 5, \"marginLeft\": 50, \"height\": 380.0, \"width\": 1090, \"spacingBottom\": 5}, \"title\": {\"text\": null}, \"credits\": {\"position\": {\"y\": -5}}});\n",
       "\n",
       "    });\n",
       "</script>\n"
      ],
      "text/plain": [
       "<hcplot.figure.Figure at 0x112dc2ef0>"
      ]
     },
     "execution_count": 33,
     "metadata": {},
     "output_type": "execute_result"
    }
   ],
   "source": [
    "size = 15\n",
    "\n",
    "palettes = [Hue(\"div\", h=[120, 60], c=(70, 0, 70), l=(80, 90, 80), fc=None)(size),\n",
    "            Hue(\"div\", h=[120, 60], c=(70, 0, 70), l=(80, 90, 80), fc=lambda i: math.pow(i, 2))(size),\n",
    "            Hue(\"div\", h=[120, 60], c=(70, 0, 70), l=(80, 90, 80), fc=lambda i: math.pow(i, 3))(size),\n",
    "            Hue(\"div\", h=[120, 60], c=(70, 0, 70), l=(80, 90, 80), fc=lambda i: math.pow(i, 4))(size),\n",
    "            Hue(\"div\", h=[120, 60], c=(70, 0, 70), l=(80, 90, 80), fc=lambda i: math.pow(i, 5))(size),\n",
    "]\n",
    "                 \n",
    "plotScales(palettes)"
   ]
  },
  {
   "cell_type": "code",
   "execution_count": null,
   "metadata": {
    "collapsed": true
   },
   "outputs": [],
   "source": []
  }
 ],
 "metadata": {
  "kernelspec": {
   "display_name": "Python 3",
   "language": "python",
   "name": "python3"
  },
  "language_info": {
   "codemirror_mode": {
    "name": "ipython",
    "version": 3
   },
   "file_extension": ".py",
   "mimetype": "text/x-python",
   "name": "python",
   "nbconvert_exporter": "python",
   "pygments_lexer": "ipython3",
   "version": "3.5.2"
  }
 },
 "nbformat": 4,
 "nbformat_minor": 2
}
