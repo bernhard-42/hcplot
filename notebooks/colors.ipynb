{
 "cells": [
  {
   "cell_type": "code",
   "execution_count": 1,
   "metadata": {
    "collapsed": false
   },
   "outputs": [
    {
     "data": {
      "text/html": [
       "<style>.container { width:90% !important; }</style>"
      ],
      "text/plain": [
       "<IPython.core.display.HTML object>"
      ]
     },
     "metadata": {},
     "output_type": "display_data"
    }
   ],
   "source": [
    "from IPython.core.display import display, HTML\n",
    "display(HTML(\"<style>.container { width:90% !important; }</style>\"))"
   ]
  },
  {
   "cell_type": "code",
   "execution_count": 2,
   "metadata": {
    "collapsed": false
   },
   "outputs": [
    {
     "name": "stdout",
     "output_type": "stream",
     "text": [
      "\n",
      "- Highsoft software products (www.highcharts.com) are not free for commercial and Governmental use. \n",
      "  Conditions vor Non-commercial use see https://shop.highsoft.com/faq#Non-Commercial-0\n",
      "\n",
      "- This product includes color specifications and designs developed by Cynthia Brewer ( http://colorbrewer.org ).\n",
      "\n",
      "- D3 category colors and the interpolateRGB algorithm have been taken over from https://d3js.org/, Copyright 2010-2017 Mike Bostock\n",
      "\n"
     ]
    }
   ],
   "source": [
    "from hcplot import loadLibraries, Figure, Points, Line, mapping, single, grid, matrix, wrap, scales\n",
    "from hcplot.scale import brewer, identity\n",
    "from hcplot.color import ColorBrewer, D3Colors"
   ]
  },
  {
   "cell_type": "code",
   "execution_count": 3,
   "metadata": {
    "collapsed": false
   },
   "outputs": [
    {
     "data": {
      "text/html": [
       "<style>.hcTable {\n",
       "    border-color:white !important; \n",
       "    border-width:0px !important;\n",
       "    border-spacing: 1px !important;\n",
       "}\n",
       "\n",
       "th.colHeader > div {\n",
       "  background-color:#f0f0f0;\n",
       "  text-align: center;\n",
       "}\n",
       "\n",
       "th.rowHeader > div {\n",
       "  background-color:#f0f0f0;\n",
       "  height: 100%;\n",
       "  width: inherit;\n",
       "  display: flex;\n",
       "  justify-content: center;\n",
       "  white-space: nowrap; \n",
       "  writing-mode: vertical-lr;\n",
       "}\n",
       "</style>"
      ],
      "text/plain": [
       "<IPython.core.display.HTML object>"
      ]
     },
     "metadata": {},
     "output_type": "display_data"
    },
    {
     "data": {
      "application/javascript": [
       "/**\n",
       "  * Copyright 2017 Bernhard Walter\n",
       "  *\n",
       "  * Licensed under the Apache License, Version 2.0 (the \"License\");\n",
       "  * you may not use this file except in compliance with the License.\n",
       "  * You may obtain a copy of the License at\n",
       "  *\n",
       "  *    http://www.apache.org/licenses/LICENSE-2.0\n",
       "  *\n",
       "  * Unless required by applicable law or agreed to in writing, software\n",
       "  * distributed under the License is distributed on an \"AS IS\" BASIS,\n",
       "  * WITHOUT WARRANTIES OR CONDITIONS OF ANY KIND, either express or implied.\n",
       "  * See the License for the specific language governing permissions and\n",
       "  * limitations under the License.\n",
       "  */\n",
       "\n",
       "require.config({\n",
       "    baseUrl: '/js',\n",
       "    shim: {\n",
       "        \"highcharts-more\":            ['highcharts'],\n",
       "        \"highcharts-export\":          ['highcharts'],\n",
       "        \"highcharts-offline-export\":  ['highcharts-export'],\n",
       "        \"highcharts-boost\":           ['highcharts']\n",
       "    },\n",
       "    paths: {\n",
       "        'highcharts':                 'http://code.highcharts.com/highcharts',\n",
       "        'highcharts-more':            'http://code.highcharts.com/highcharts-more',\n",
       "        'highcharts-export':          'http://code.highcharts.com/modules/exporting',\n",
       "        'highcharts-offline-export':  'http://code.highcharts.com/modules/offline-exporting',\n",
       "        'highcharts-boost':           'http://code.highcharts.com/modules/boost'\n",
       "    }\n",
       "});\n",
       "\n",
       "requirejs.onError = function (err) {\n",
       "    element.text(err.requireType, err.requireModules)\n",
       "}\n",
       "\n",
       "window.hc_charts = {}\n",
       "\n",
       "window.hc_charts.promise = new Promise(function(resolve, reject) {\n",
       "    var modules = ['highcharts', 'highcharts-more', 'highcharts-export', 'highcharts-offline-export', 'highcharts-boost'];\n",
       "    requirejs(modules, function(hc) {\n",
       "        element.text(\"Loaded HighCharts \" + Highcharts.version)\n",
       "        resolve(Highcharts)\n",
       "    });\n",
       "})"
      ],
      "text/plain": [
       "<IPython.core.display.Javascript object>"
      ]
     },
     "metadata": {},
     "output_type": "display_data"
    }
   ],
   "source": [
    "loadLibraries()"
   ]
  },
  {
   "cell_type": "code",
   "execution_count": 22,
   "metadata": {
    "collapsed": true
   },
   "outputs": [],
   "source": [
    "import numpy as np\n",
    "import pandas as pd\n",
    "from hcplot.color import Color\n",
    "from hcplot.scale import brewer\n",
    "\n",
    "def createDF(colors, x, y):\n",
    "    r, g, b = [[c[i] for c in colors] for i in range(3)]\n",
    "    return pd.DataFrame({\"X\":x, \"R\":r, \"G\":g, \"B\":b, \n",
    "                         \"Demo\": [y]*len(colors), \"Color\": Color.rgb2web(colors)})\n",
    "    \n",
    "def rgbDF(typ, palette, size):\n",
    "    colors1 = brewer(typ, palette, True)(-1)\n",
    "    l1 = len(colors1)\n",
    "    x1 = list(range(l1))\n",
    "    \n",
    "    x2 = np.linspace(0, l1-1, size)\n",
    "    colors2 = brewer(typ, palette, False)(x2)\n",
    "\n",
    "    return createDF(colors1, x1, -30), createDF(colors2, x2, -10)  \n"
   ]
  },
  {
   "cell_type": "code",
   "execution_count": 39,
   "metadata": {
    "collapsed": false
   },
   "outputs": [],
   "source": [
    "def plotColor(typ, palette, size):\n",
    "    data1, data2 = rgbDF(typ, palette, size)\n",
    "    fig = (Figure(data1)\n",
    "        +  Line  (       mapping(\"X\",\"R\"), color=\"#ff0000\", lineType=\"Dot\", marker=\"triangle\") \n",
    "        +  Line  (       mapping(\"X\",\"G\"), color=\"#00ff00\", lineType=\"Dot\", marker=\"triangle\") \n",
    "        +  Line  (       mapping(\"X\",\"B\"), color=\"#0000ff\", lineType=\"Dot\", marker=\"triangle\") \n",
    "        +  Line  (data2, mapping(\"X\",\"R\"), color=\"#ff0000\", lineWidth=1,    showMarker=False)  \n",
    "        +  Line  (data2, mapping(\"X\",\"G\"), color=\"#00ff00\", lineWidth=1,    showMarker=False)  \n",
    "        +  Line  (data2, mapping(\"X\",\"B\"), color=\"#0000ff\", lineWidth=1,    showMarker=False)  \n",
    "        +  Points(data1, mapping(\"X\", \"Demo\", color=\"X\"), scales(color=brewer(typ, palette)),                 shape=\"circle\", size=12)\n",
    "        +  Points(data2, mapping(\"X\", \"Demo\", color=\"X\"), scales(color=brewer(typ, palette, discrete=False)), shape=\"square\", size=6)\n",
    "    )    \n",
    "    return fig"
   ]
  },
  {
   "cell_type": "code",
   "execution_count": 44,
   "metadata": {
    "collapsed": false
   },
   "outputs": [
    {
     "data": {
      "text/plain": [
       "[(142, 1, 82),\n",
       " (231, 149, 195),\n",
       " (245, 242, 239),\n",
       " (155, 206, 100),\n",
       " (39, 100, 25)]"
      ]
     },
     "execution_count": 44,
     "metadata": {},
     "output_type": "execute_result"
    }
   ],
   "source": [
    "brewer(\"div\", \"PiYG\", discrete=False)([1,2,3,4,5])"
   ]
  },
  {
   "cell_type": "code",
   "execution_count": 40,
   "metadata": {
    "collapsed": false
   },
   "outputs": [
    {
     "ename": "TypeError",
     "evalue": "'int' object is not iterable",
     "output_type": "error",
     "traceback": [
      "\u001b[0;31m---------------------------------------------------------------------------\u001b[0m",
      "\u001b[0;31mTypeError\u001b[0m                                 Traceback (most recent call last)",
      "\u001b[0;32m<ipython-input-40-1d249e959791>\u001b[0m in \u001b[0;36m<module>\u001b[0;34m()\u001b[0m\n\u001b[0;32m----> 1\u001b[0;31m \u001b[0mplotColor\u001b[0m\u001b[0;34m(\u001b[0m\u001b[0;34m\"div\"\u001b[0m\u001b[0;34m,\u001b[0m \u001b[0;34m\"PiYG\"\u001b[0m\u001b[0;34m,\u001b[0m \u001b[0;36m100\u001b[0m\u001b[0;34m)\u001b[0m\u001b[0;34m\u001b[0m\u001b[0m\n\u001b[0m\u001b[1;32m      2\u001b[0m \u001b[0;31m# plotColor(\"seq\", \"BuGn\", 100)\u001b[0m\u001b[0;34m\u001b[0m\u001b[0;34m\u001b[0m\u001b[0m\n",
      "\u001b[0;32m<ipython-input-39-f5d53a088edb>\u001b[0m in \u001b[0;36mplotColor\u001b[0;34m(typ, palette, size)\u001b[0m\n\u001b[1;32m      9\u001b[0m         \u001b[0;34m+\u001b[0m  \u001b[0mLine\u001b[0m  \u001b[0;34m(\u001b[0m\u001b[0mdata2\u001b[0m\u001b[0;34m,\u001b[0m \u001b[0mmapping\u001b[0m\u001b[0;34m(\u001b[0m\u001b[0;34m\"X\"\u001b[0m\u001b[0;34m,\u001b[0m\u001b[0;34m\"B\"\u001b[0m\u001b[0;34m)\u001b[0m\u001b[0;34m,\u001b[0m \u001b[0mcolor\u001b[0m\u001b[0;34m=\u001b[0m\u001b[0;34m\"#0000ff\"\u001b[0m\u001b[0;34m,\u001b[0m \u001b[0mlineWidth\u001b[0m\u001b[0;34m=\u001b[0m\u001b[0;36m1\u001b[0m\u001b[0;34m,\u001b[0m    \u001b[0mshowMarker\u001b[0m\u001b[0;34m=\u001b[0m\u001b[0;32mFalse\u001b[0m\u001b[0;34m)\u001b[0m\u001b[0;34m\u001b[0m\u001b[0m\n\u001b[1;32m     10\u001b[0m         \u001b[0;34m+\u001b[0m  \u001b[0mPoints\u001b[0m\u001b[0;34m(\u001b[0m\u001b[0mdata1\u001b[0m\u001b[0;34m,\u001b[0m \u001b[0mmapping\u001b[0m\u001b[0;34m(\u001b[0m\u001b[0;34m\"X\"\u001b[0m\u001b[0;34m,\u001b[0m \u001b[0;34m\"Demo\"\u001b[0m\u001b[0;34m,\u001b[0m \u001b[0mcolor\u001b[0m\u001b[0;34m=\u001b[0m\u001b[0;34m\"X\"\u001b[0m\u001b[0;34m)\u001b[0m\u001b[0;34m,\u001b[0m \u001b[0mscales\u001b[0m\u001b[0;34m(\u001b[0m\u001b[0mcolor\u001b[0m\u001b[0;34m=\u001b[0m\u001b[0mbrewer\u001b[0m\u001b[0;34m(\u001b[0m\u001b[0mtyp\u001b[0m\u001b[0;34m,\u001b[0m \u001b[0mpalette\u001b[0m\u001b[0;34m)\u001b[0m\u001b[0;34m)\u001b[0m\u001b[0;34m,\u001b[0m                 \u001b[0mshape\u001b[0m\u001b[0;34m=\u001b[0m\u001b[0;34m\"circle\"\u001b[0m\u001b[0;34m,\u001b[0m \u001b[0msize\u001b[0m\u001b[0;34m=\u001b[0m\u001b[0;36m12\u001b[0m\u001b[0;34m)\u001b[0m\u001b[0;34m\u001b[0m\u001b[0m\n\u001b[0;32m---> 11\u001b[0;31m         \u001b[0;34m+\u001b[0m  \u001b[0mPoints\u001b[0m\u001b[0;34m(\u001b[0m\u001b[0mdata2\u001b[0m\u001b[0;34m,\u001b[0m \u001b[0mmapping\u001b[0m\u001b[0;34m(\u001b[0m\u001b[0;34m\"X\"\u001b[0m\u001b[0;34m,\u001b[0m \u001b[0;34m\"Demo\"\u001b[0m\u001b[0;34m,\u001b[0m \u001b[0mcolor\u001b[0m\u001b[0;34m=\u001b[0m\u001b[0;34m\"X\"\u001b[0m\u001b[0;34m)\u001b[0m\u001b[0;34m,\u001b[0m \u001b[0mscales\u001b[0m\u001b[0;34m(\u001b[0m\u001b[0mcolor\u001b[0m\u001b[0;34m=\u001b[0m\u001b[0mbrewer\u001b[0m\u001b[0;34m(\u001b[0m\u001b[0mtyp\u001b[0m\u001b[0;34m,\u001b[0m \u001b[0mpalette\u001b[0m\u001b[0;34m,\u001b[0m \u001b[0mdiscrete\u001b[0m\u001b[0;34m=\u001b[0m\u001b[0;32mFalse\u001b[0m\u001b[0;34m)\u001b[0m\u001b[0;34m)\u001b[0m\u001b[0;34m,\u001b[0m \u001b[0mshape\u001b[0m\u001b[0;34m=\u001b[0m\u001b[0;34m\"square\"\u001b[0m\u001b[0;34m,\u001b[0m \u001b[0msize\u001b[0m\u001b[0;34m=\u001b[0m\u001b[0;36m6\u001b[0m\u001b[0;34m)\u001b[0m\u001b[0;34m\u001b[0m\u001b[0m\n\u001b[0m\u001b[1;32m     12\u001b[0m     )    \n\u001b[1;32m     13\u001b[0m     \u001b[0;32mreturn\u001b[0m \u001b[0mfig\u001b[0m\u001b[0;34m\u001b[0m\u001b[0m\n",
      "\u001b[0;32m/opt/miniconda/envs/py3/lib/python3.5/site-packages/hcplot/figure.py\u001b[0m in \u001b[0;36m__add__\u001b[0;34m(self, layers)\u001b[0m\n\u001b[1;32m    134\u001b[0m \u001b[0;34m\u001b[0m\u001b[0m\n\u001b[1;32m    135\u001b[0m     \u001b[0;32mdef\u001b[0m \u001b[0m__add__\u001b[0m\u001b[0;34m(\u001b[0m\u001b[0mself\u001b[0m\u001b[0;34m,\u001b[0m \u001b[0mlayers\u001b[0m\u001b[0;34m)\u001b[0m\u001b[0;34m:\u001b[0m\u001b[0;34m\u001b[0m\u001b[0m\n\u001b[0;32m--> 136\u001b[0;31m         \u001b[0mlayers\u001b[0m\u001b[0;34m.\u001b[0m\u001b[0msetFigure\u001b[0m\u001b[0;34m(\u001b[0m\u001b[0mself\u001b[0m\u001b[0;34m)\u001b[0m\u001b[0;34m\u001b[0m\u001b[0m\n\u001b[0m\u001b[1;32m    137\u001b[0m         \u001b[0mself\u001b[0m\u001b[0;34m.\u001b[0m\u001b[0mlayers\u001b[0m\u001b[0;34m.\u001b[0m\u001b[0mappend\u001b[0m\u001b[0;34m(\u001b[0m\u001b[0mlayers\u001b[0m\u001b[0;34m)\u001b[0m\u001b[0;34m\u001b[0m\u001b[0m\n\u001b[1;32m    138\u001b[0m         \u001b[0;32mreturn\u001b[0m \u001b[0mself\u001b[0m\u001b[0;34m\u001b[0m\u001b[0m\n",
      "\u001b[0;32m/opt/miniconda/envs/py3/lib/python3.5/site-packages/hcplot/layer.py\u001b[0m in \u001b[0;36msetFigure\u001b[0;34m(self, figure)\u001b[0m\n\u001b[1;32m     56\u001b[0m             \u001b[0mself\u001b[0m\u001b[0;34m.\u001b[0m\u001b[0mdata\u001b[0m \u001b[0;34m=\u001b[0m \u001b[0mData\u001b[0m\u001b[0;34m(\u001b[0m\u001b[0mself\u001b[0m\u001b[0;34m.\u001b[0m\u001b[0mdata\u001b[0m\u001b[0;34m)\u001b[0m\u001b[0;34m\u001b[0m\u001b[0m\n\u001b[1;32m     57\u001b[0m             \u001b[0;31m# apply merged mapping and scales to local data\u001b[0m\u001b[0;34m\u001b[0m\u001b[0;34m\u001b[0m\u001b[0m\n\u001b[0;32m---> 58\u001b[0;31m             \u001b[0mself\u001b[0m\u001b[0;34m.\u001b[0m\u001b[0mcoding\u001b[0m \u001b[0;34m=\u001b[0m \u001b[0mself\u001b[0m\u001b[0;34m.\u001b[0m\u001b[0mcreatePlotConfig\u001b[0m\u001b[0;34m(\u001b[0m\u001b[0mself\u001b[0m\u001b[0;34m.\u001b[0m\u001b[0mmapping\u001b[0m\u001b[0;34m,\u001b[0m \u001b[0mself\u001b[0m\u001b[0;34m.\u001b[0m\u001b[0mscales\u001b[0m\u001b[0;34m,\u001b[0m \u001b[0mself\u001b[0m\u001b[0;34m.\u001b[0m\u001b[0mlayer\u001b[0m\u001b[0;34m)\u001b[0m\u001b[0;34m\u001b[0m\u001b[0m\n\u001b[0m\u001b[1;32m     59\u001b[0m             \u001b[0;32mfor\u001b[0m \u001b[0mk\u001b[0m\u001b[0;34m,\u001b[0m\u001b[0mv\u001b[0m \u001b[0;32min\u001b[0m \u001b[0mself\u001b[0m\u001b[0;34m.\u001b[0m\u001b[0mcoding\u001b[0m\u001b[0;34m.\u001b[0m\u001b[0mitems\u001b[0m\u001b[0;34m(\u001b[0m\u001b[0;34m)\u001b[0m\u001b[0;34m:\u001b[0m\u001b[0;34m\u001b[0m\u001b[0m\n\u001b[1;32m     60\u001b[0m                 \u001b[0mself\u001b[0m\u001b[0;34m.\u001b[0m\u001b[0musePlotLevel\u001b[0m\u001b[0;34m[\u001b[0m\u001b[0mk\u001b[0m\u001b[0;34m]\u001b[0m \u001b[0;34m=\u001b[0m \u001b[0mv\u001b[0m \u001b[0;32mif\u001b[0m \u001b[0misinstance\u001b[0m\u001b[0;34m(\u001b[0m\u001b[0mv\u001b[0m\u001b[0;34m,\u001b[0m \u001b[0mstr\u001b[0m\u001b[0;34m)\u001b[0m \u001b[0;32melse\u001b[0m \u001b[0;34m\"%s._%d\"\u001b[0m \u001b[0;34m%\u001b[0m \u001b[0;34m(\u001b[0m\u001b[0mk\u001b[0m\u001b[0;34m,\u001b[0m \u001b[0mself\u001b[0m\u001b[0;34m.\u001b[0m\u001b[0mlayer\u001b[0m\u001b[0;34m)\u001b[0m\u001b[0;34m\u001b[0m\u001b[0m\n",
      "\u001b[0;32m/opt/miniconda/envs/py3/lib/python3.5/site-packages/hcplot/base.py\u001b[0m in \u001b[0;36mcreatePlotConfig\u001b[0;34m(self, mapping, scales, layer)\u001b[0m\n\u001b[1;32m     74\u001b[0m                     \u001b[0mdf\u001b[0m\u001b[0;34m[\u001b[0m\u001b[0mlayerAttr\u001b[0m\u001b[0;34m]\u001b[0m \u001b[0;34m=\u001b[0m \u001b[0mdf\u001b[0m\u001b[0;34m[\u001b[0m\u001b[0mname\u001b[0m\u001b[0;34m]\u001b[0m\u001b[0;34m.\u001b[0m\u001b[0mastype\u001b[0m\u001b[0;34m(\u001b[0m\u001b[0;34m\"category\"\u001b[0m\u001b[0;34m)\u001b[0m\u001b[0;34m\u001b[0m\u001b[0m\n\u001b[1;32m     75\u001b[0m                     \u001b[0mcount\u001b[0m \u001b[0;34m=\u001b[0m \u001b[0mdf\u001b[0m\u001b[0;34m[\u001b[0m\u001b[0mlayerAttr\u001b[0m\u001b[0;34m]\u001b[0m\u001b[0;34m.\u001b[0m\u001b[0mcat\u001b[0m\u001b[0;34m.\u001b[0m\u001b[0mcategories\u001b[0m\u001b[0;34m.\u001b[0m\u001b[0msize\u001b[0m\u001b[0;34m\u001b[0m\u001b[0m\n\u001b[0;32m---> 76\u001b[0;31m                     \u001b[0mnewValues\u001b[0m \u001b[0;34m=\u001b[0m \u001b[0mscales\u001b[0m\u001b[0;34m[\u001b[0m\u001b[0mattr\u001b[0m\u001b[0;34m]\u001b[0m\u001b[0;34m(\u001b[0m\u001b[0mcount\u001b[0m\u001b[0;34m)\u001b[0m\u001b[0;34m\u001b[0m\u001b[0m\n\u001b[0m\u001b[1;32m     77\u001b[0m                     \u001b[0;32mif\u001b[0m \u001b[0mattr\u001b[0m \u001b[0;34m==\u001b[0m \u001b[0;34m\"color\"\u001b[0m\u001b[0;34m:\u001b[0m\u001b[0;34m\u001b[0m\u001b[0m\n\u001b[1;32m     78\u001b[0m                         \u001b[0mnewValues\u001b[0m \u001b[0;34m=\u001b[0m \u001b[0mColor\u001b[0m\u001b[0;34m.\u001b[0m\u001b[0mrgb2str\u001b[0m\u001b[0;34m(\u001b[0m\u001b[0mnewValues\u001b[0m\u001b[0;34m)\u001b[0m\u001b[0;34m\u001b[0m\u001b[0m\n",
      "\u001b[0;32m/opt/miniconda/envs/py3/lib/python3.5/site-packages/hcplot/scale.py\u001b[0m in \u001b[0;36m<lambda>\u001b[0;34m(array)\u001b[0m\n\u001b[1;32m     35\u001b[0m                     \u001b[0;32mreturn\u001b[0m \u001b[0mgetattr\u001b[0m\u001b[0;34m(\u001b[0m\u001b[0mColorBrewer\u001b[0m\u001b[0;34m,\u001b[0m \u001b[0mtyp\u001b[0m\u001b[0;34m)\u001b[0m\u001b[0;34m(\u001b[0m\u001b[0mpalette\u001b[0m\u001b[0;34m,\u001b[0m \u001b[0;32mFalse\u001b[0m\u001b[0;34m,\u001b[0m \u001b[0marray\u001b[0m\u001b[0;34m=\u001b[0m\u001b[0mscaledArray\u001b[0m\u001b[0;34m)\u001b[0m\u001b[0;34m\u001b[0m\u001b[0m\n\u001b[1;32m     36\u001b[0m \u001b[0;34m\u001b[0m\u001b[0m\n\u001b[0;32m---> 37\u001b[0;31m             \u001b[0;32mreturn\u001b[0m \u001b[0;32mlambda\u001b[0m \u001b[0marray\u001b[0m\u001b[0;34m:\u001b[0m \u001b[0mconv\u001b[0m\u001b[0;34m(\u001b[0m\u001b[0marray\u001b[0m\u001b[0;34m)\u001b[0m\u001b[0;34m\u001b[0m\u001b[0m\n\u001b[0m\u001b[1;32m     38\u001b[0m \u001b[0;34m\u001b[0m\u001b[0m\n\u001b[1;32m     39\u001b[0m \u001b[0;34m\u001b[0m\u001b[0m\n",
      "\u001b[0;32m/opt/miniconda/envs/py3/lib/python3.5/site-packages/hcplot/scale.py\u001b[0m in \u001b[0;36mconv\u001b[0;34m(array)\u001b[0m\n\u001b[1;32m     27\u001b[0m         \u001b[0;32melse\u001b[0m\u001b[0;34m:\u001b[0m\u001b[0;34m\u001b[0m\u001b[0m\n\u001b[1;32m     28\u001b[0m             \u001b[0;32mdef\u001b[0m \u001b[0mconv\u001b[0m\u001b[0;34m(\u001b[0m\u001b[0marray\u001b[0m\u001b[0;34m)\u001b[0m\u001b[0;34m:\u001b[0m\u001b[0;34m\u001b[0m\u001b[0m\n\u001b[0;32m---> 29\u001b[0;31m                 \u001b[0mmina\u001b[0m \u001b[0;34m=\u001b[0m \u001b[0mmin\u001b[0m\u001b[0;34m(\u001b[0m\u001b[0marray\u001b[0m\u001b[0;34m)\u001b[0m\u001b[0;34m\u001b[0m\u001b[0m\n\u001b[0m\u001b[1;32m     30\u001b[0m                 \u001b[0md\u001b[0m \u001b[0;34m=\u001b[0m \u001b[0mmax\u001b[0m\u001b[0;34m(\u001b[0m\u001b[0marray\u001b[0m\u001b[0;34m)\u001b[0m \u001b[0;34m-\u001b[0m \u001b[0mmina\u001b[0m\u001b[0;34m\u001b[0m\u001b[0m\n\u001b[1;32m     31\u001b[0m                 \u001b[0;32mif\u001b[0m \u001b[0md\u001b[0m \u001b[0;34m==\u001b[0m \u001b[0;36m0\u001b[0m\u001b[0;34m:\u001b[0m\u001b[0;34m\u001b[0m\u001b[0m\n",
      "\u001b[0;31mTypeError\u001b[0m: 'int' object is not iterable"
     ]
    }
   ],
   "source": [
    "plotColor(\"div\", \"PiYG\", 100)\n",
    "# plotColor(\"seq\", \"BuGn\", 100)"
   ]
  },
  {
   "cell_type": "code",
   "execution_count": 7,
   "metadata": {
    "collapsed": false
   },
   "outputs": [
    {
     "ename": "NameError",
     "evalue": "name 'data1' is not defined",
     "output_type": "error",
     "traceback": [
      "\u001b[0;31m---------------------------------------------------------------------------\u001b[0m",
      "\u001b[0;31mNameError\u001b[0m                                 Traceback (most recent call last)",
      "\u001b[0;32m<ipython-input-7-5a83f4e8b475>\u001b[0m in \u001b[0;36m<module>\u001b[0;34m()\u001b[0m\n\u001b[1;32m      1\u001b[0m \u001b[0mtyp\u001b[0m\u001b[0;34m,\u001b[0m \u001b[0mpalette\u001b[0m \u001b[0;34m=\u001b[0m \u001b[0;34m\"div\"\u001b[0m\u001b[0;34m,\u001b[0m \u001b[0;34m\"Spectral\"\u001b[0m\u001b[0;34m\u001b[0m\u001b[0m\n\u001b[0;32m----> 2\u001b[0;31m \u001b[0mplotColor\u001b[0m\u001b[0;34m(\u001b[0m\u001b[0;34m\"div\"\u001b[0m\u001b[0;34m,\u001b[0m \u001b[0;34m\"Spectral\"\u001b[0m\u001b[0;34m)\u001b[0m\u001b[0;34m\u001b[0m\u001b[0m\n\u001b[0m",
      "\u001b[0;32m<ipython-input-6-9a455cd2c921>\u001b[0m in \u001b[0;36mplotColor\u001b[0;34m(typ, palette)\u001b[0m\n\u001b[1;32m      1\u001b[0m \u001b[0;32mdef\u001b[0m \u001b[0mplotColor\u001b[0m\u001b[0;34m(\u001b[0m\u001b[0mtyp\u001b[0m\u001b[0;34m,\u001b[0m \u001b[0mpalette\u001b[0m\u001b[0;34m)\u001b[0m\u001b[0;34m:\u001b[0m\u001b[0;34m\u001b[0m\u001b[0m\n\u001b[0;32m----> 2\u001b[0;31m     \u001b[0mfig\u001b[0m \u001b[0;34m=\u001b[0m \u001b[0mFigure\u001b[0m\u001b[0;34m(\u001b[0m\u001b[0mdata1\u001b[0m\u001b[0;34m)\u001b[0m         \u001b[0;34m+\u001b[0m \u001b[0mLine\u001b[0m\u001b[0;34m(\u001b[0m         \u001b[0mmapping\u001b[0m\u001b[0;34m(\u001b[0m\u001b[0;34m\"X\"\u001b[0m\u001b[0;34m,\u001b[0m\u001b[0;34m\"R\"\u001b[0m\u001b[0;34m)\u001b[0m\u001b[0;34m,\u001b[0m \u001b[0mcolor\u001b[0m\u001b[0;34m=\u001b[0m\u001b[0;34m\"#ff0000\"\u001b[0m\u001b[0;34m,\u001b[0m \u001b[0mlineType\u001b[0m\u001b[0;34m=\u001b[0m\u001b[0;34m\"Dot\"\u001b[0m\u001b[0;34m,\u001b[0m \u001b[0mmarker\u001b[0m\u001b[0;34m=\u001b[0m\u001b[0;34m\"triangle\"\u001b[0m\u001b[0;34m)\u001b[0m                     \u001b[0;34m+\u001b[0m \u001b[0mLine\u001b[0m\u001b[0;34m(\u001b[0m         \u001b[0mmapping\u001b[0m\u001b[0;34m(\u001b[0m\u001b[0;34m\"X\"\u001b[0m\u001b[0;34m,\u001b[0m\u001b[0;34m\"G\"\u001b[0m\u001b[0;34m)\u001b[0m\u001b[0;34m,\u001b[0m \u001b[0mcolor\u001b[0m\u001b[0;34m=\u001b[0m\u001b[0;34m\"#00ff00\"\u001b[0m\u001b[0;34m,\u001b[0m \u001b[0mlineType\u001b[0m\u001b[0;34m=\u001b[0m\u001b[0;34m\"Dot\"\u001b[0m\u001b[0;34m,\u001b[0m \u001b[0mmarker\u001b[0m\u001b[0;34m=\u001b[0m\u001b[0;34m\"triangle\"\u001b[0m\u001b[0;34m)\u001b[0m                     \u001b[0;34m+\u001b[0m \u001b[0mLine\u001b[0m\u001b[0;34m(\u001b[0m         \u001b[0mmapping\u001b[0m\u001b[0;34m(\u001b[0m\u001b[0;34m\"X\"\u001b[0m\u001b[0;34m,\u001b[0m\u001b[0;34m\"B\"\u001b[0m\u001b[0;34m)\u001b[0m\u001b[0;34m,\u001b[0m \u001b[0mcolor\u001b[0m\u001b[0;34m=\u001b[0m\u001b[0;34m\"#0000ff\"\u001b[0m\u001b[0;34m,\u001b[0m \u001b[0mlineType\u001b[0m\u001b[0;34m=\u001b[0m\u001b[0;34m\"Dot\"\u001b[0m\u001b[0;34m,\u001b[0m \u001b[0mmarker\u001b[0m\u001b[0;34m=\u001b[0m\u001b[0;34m\"triangle\"\u001b[0m\u001b[0;34m)\u001b[0m                     \u001b[0;34m+\u001b[0m \u001b[0mLine\u001b[0m\u001b[0;34m(\u001b[0m  \u001b[0mdata2\u001b[0m\u001b[0;34m,\u001b[0m \u001b[0mmapping\u001b[0m\u001b[0;34m(\u001b[0m\u001b[0;34m\"X\"\u001b[0m\u001b[0;34m,\u001b[0m\u001b[0;34m\"R\"\u001b[0m\u001b[0;34m)\u001b[0m\u001b[0;34m,\u001b[0m \u001b[0mcolor\u001b[0m\u001b[0;34m=\u001b[0m\u001b[0;34m\"#ff0000\"\u001b[0m\u001b[0;34m,\u001b[0m \u001b[0mlineWidth\u001b[0m\u001b[0;34m=\u001b[0m\u001b[0;36m1\u001b[0m\u001b[0;34m,\u001b[0m    \u001b[0mshowMarker\u001b[0m\u001b[0;34m=\u001b[0m\u001b[0;32mFalse\u001b[0m\u001b[0;34m)\u001b[0m                      \u001b[0;34m+\u001b[0m \u001b[0mLine\u001b[0m\u001b[0;34m(\u001b[0m  \u001b[0mdata2\u001b[0m\u001b[0;34m,\u001b[0m \u001b[0mmapping\u001b[0m\u001b[0;34m(\u001b[0m\u001b[0;34m\"X\"\u001b[0m\u001b[0;34m,\u001b[0m\u001b[0;34m\"G\"\u001b[0m\u001b[0;34m)\u001b[0m\u001b[0;34m,\u001b[0m \u001b[0mcolor\u001b[0m\u001b[0;34m=\u001b[0m\u001b[0;34m\"#00ff00\"\u001b[0m\u001b[0;34m,\u001b[0m \u001b[0mlineWidth\u001b[0m\u001b[0;34m=\u001b[0m\u001b[0;36m1\u001b[0m\u001b[0;34m,\u001b[0m    \u001b[0mshowMarker\u001b[0m\u001b[0;34m=\u001b[0m\u001b[0;32mFalse\u001b[0m\u001b[0;34m)\u001b[0m                      \u001b[0;34m+\u001b[0m \u001b[0mLine\u001b[0m\u001b[0;34m(\u001b[0m  \u001b[0mdata2\u001b[0m\u001b[0;34m,\u001b[0m \u001b[0mmapping\u001b[0m\u001b[0;34m(\u001b[0m\u001b[0;34m\"X\"\u001b[0m\u001b[0;34m,\u001b[0m\u001b[0;34m\"B\"\u001b[0m\u001b[0;34m)\u001b[0m\u001b[0;34m,\u001b[0m \u001b[0mcolor\u001b[0m\u001b[0;34m=\u001b[0m\u001b[0;34m\"#0000ff\"\u001b[0m\u001b[0;34m,\u001b[0m \u001b[0mlineWidth\u001b[0m\u001b[0;34m=\u001b[0m\u001b[0;36m1\u001b[0m\u001b[0;34m,\u001b[0m    \u001b[0mshowMarker\u001b[0m\u001b[0;34m=\u001b[0m\u001b[0;32mFalse\u001b[0m\u001b[0;34m)\u001b[0m                      \u001b[0;34m+\u001b[0m \u001b[0mPoints\u001b[0m\u001b[0;34m(\u001b[0m\u001b[0mdata1\u001b[0m\u001b[0;34m,\u001b[0m \u001b[0mmapping\u001b[0m\u001b[0;34m(\u001b[0m\u001b[0;34m\"X\"\u001b[0m\u001b[0;34m,\u001b[0m \u001b[0;34m\"Demo\"\u001b[0m\u001b[0;34m,\u001b[0m \u001b[0mcolor\u001b[0m\u001b[0;34m=\u001b[0m\u001b[0;34m\"X\"\u001b[0m\u001b[0;34m)\u001b[0m\u001b[0;34m,\u001b[0m \u001b[0mscales\u001b[0m\u001b[0;34m(\u001b[0m\u001b[0mcolor\u001b[0m\u001b[0;34m=\u001b[0m\u001b[0mbrewer\u001b[0m\u001b[0;34m(\u001b[0m\u001b[0mtyp\u001b[0m\u001b[0;34m,\u001b[0m \u001b[0mpalette\u001b[0m\u001b[0;34m)\u001b[0m\u001b[0;34m)\u001b[0m\u001b[0;34m,\u001b[0m                 \u001b[0mshape\u001b[0m\u001b[0;34m=\u001b[0m\u001b[0;34m\"circle\"\u001b[0m\u001b[0;34m,\u001b[0m \u001b[0msize\u001b[0m\u001b[0;34m=\u001b[0m\u001b[0;36m12\u001b[0m\u001b[0;34m)\u001b[0m         \u001b[0;34m+\u001b[0m \u001b[0mPoints\u001b[0m\u001b[0;34m(\u001b[0m\u001b[0mdata2\u001b[0m\u001b[0;34m,\u001b[0m \u001b[0mmapping\u001b[0m\u001b[0;34m(\u001b[0m\u001b[0;34m\"X\"\u001b[0m\u001b[0;34m,\u001b[0m \u001b[0;34m\"Demo\"\u001b[0m\u001b[0;34m,\u001b[0m \u001b[0mcolor\u001b[0m\u001b[0;34m=\u001b[0m\u001b[0;34m\"X\"\u001b[0m\u001b[0;34m)\u001b[0m\u001b[0;34m,\u001b[0m \u001b[0mscales\u001b[0m\u001b[0;34m(\u001b[0m\u001b[0mcolor\u001b[0m\u001b[0;34m=\u001b[0m\u001b[0mbrewer\u001b[0m\u001b[0;34m(\u001b[0m\u001b[0mtyp\u001b[0m\u001b[0;34m,\u001b[0m \u001b[0mpalette\u001b[0m\u001b[0;34m,\u001b[0m \u001b[0mdiscrete\u001b[0m\u001b[0;34m=\u001b[0m\u001b[0;32mFalse\u001b[0m\u001b[0;34m)\u001b[0m\u001b[0;34m)\u001b[0m\u001b[0;34m,\u001b[0m \u001b[0mshape\u001b[0m\u001b[0;34m=\u001b[0m\u001b[0;34m\"square\"\u001b[0m\u001b[0;34m,\u001b[0m \u001b[0msize\u001b[0m\u001b[0;34m=\u001b[0m\u001b[0;36m6\u001b[0m\u001b[0;34m)\u001b[0m\u001b[0;34m\u001b[0m\u001b[0m\n\u001b[0m\u001b[1;32m      3\u001b[0m     \u001b[0;32mreturn\u001b[0m \u001b[0mfig\u001b[0m\u001b[0;34m\u001b[0m\u001b[0m\n",
      "\u001b[0;31mNameError\u001b[0m: name 'data1' is not defined"
     ]
    }
   ],
   "source": [
    "typ, palette = \"div\", \"Spectral\"\n",
    "plotColor(\"div\", \"Spectral\")"
   ]
  },
  {
   "cell_type": "code",
   "execution_count": null,
   "metadata": {
    "collapsed": false
   },
   "outputs": [],
   "source": [
    "typ, palette = \"seq\", \"YlOrBr\"\n",
    "plotColor(rgbDF(typ, palette), rgbiDF(typ, palette, 1000))"
   ]
  },
  {
   "cell_type": "code",
   "execution_count": 11,
   "metadata": {
    "collapsed": false
   },
   "outputs": [],
   "source": [
    "colors = brewer(\"div\", \"Spectral\")(10)\n",
    "alpha = [0.8] * len(colors)"
   ]
  },
  {
   "cell_type": "code",
   "execution_count": 14,
   "metadata": {
    "collapsed": false
   },
   "outputs": [
    {
     "data": {
      "text/html": [
       "<div>\n",
       "<table border=\"1\" class=\"dataframe\">\n",
       "  <thead>\n",
       "    <tr style=\"text-align: right;\">\n",
       "      <th></th>\n",
       "      <th>alpha.1</th>\n",
       "      <th>color.0</th>\n",
       "    </tr>\n",
       "  </thead>\n",
       "  <tbody>\n",
       "    <tr>\n",
       "      <th>0</th>\n",
       "      <td>0.8</td>\n",
       "      <td>(158, 1, 66)</td>\n",
       "    </tr>\n",
       "    <tr>\n",
       "      <th>1</th>\n",
       "      <td>0.8</td>\n",
       "      <td>(213, 62, 79)</td>\n",
       "    </tr>\n",
       "    <tr>\n",
       "      <th>2</th>\n",
       "      <td>0.8</td>\n",
       "      <td>(244, 109, 67)</td>\n",
       "    </tr>\n",
       "    <tr>\n",
       "      <th>3</th>\n",
       "      <td>0.8</td>\n",
       "      <td>(253, 174, 97)</td>\n",
       "    </tr>\n",
       "    <tr>\n",
       "      <th>4</th>\n",
       "      <td>0.8</td>\n",
       "      <td>(254, 224, 139)</td>\n",
       "    </tr>\n",
       "    <tr>\n",
       "      <th>5</th>\n",
       "      <td>0.8</td>\n",
       "      <td>(230, 245, 152)</td>\n",
       "    </tr>\n",
       "    <tr>\n",
       "      <th>6</th>\n",
       "      <td>0.8</td>\n",
       "      <td>(171, 221, 164)</td>\n",
       "    </tr>\n",
       "    <tr>\n",
       "      <th>7</th>\n",
       "      <td>0.8</td>\n",
       "      <td>(102, 194, 165)</td>\n",
       "    </tr>\n",
       "    <tr>\n",
       "      <th>8</th>\n",
       "      <td>0.8</td>\n",
       "      <td>(50, 136, 189)</td>\n",
       "    </tr>\n",
       "    <tr>\n",
       "      <th>9</th>\n",
       "      <td>0.8</td>\n",
       "      <td>(94, 79, 162)</td>\n",
       "    </tr>\n",
       "  </tbody>\n",
       "</table>\n",
       "</div>"
      ],
      "text/plain": [
       "   alpha.1          color.0\n",
       "0      0.8     (158, 1, 66)\n",
       "1      0.8    (213, 62, 79)\n",
       "2      0.8   (244, 109, 67)\n",
       "3      0.8   (253, 174, 97)\n",
       "4      0.8  (254, 224, 139)\n",
       "5      0.8  (230, 245, 152)\n",
       "6      0.8  (171, 221, 164)\n",
       "7      0.8  (102, 194, 165)\n",
       "8      0.8   (50, 136, 189)\n",
       "9      0.8    (94, 79, 162)"
      ]
     },
     "execution_count": 14,
     "metadata": {},
     "output_type": "execute_result"
    }
   ],
   "source": [
    "pd.DataFrame({\"color.0\": brewer(\"div\", \"Spectral\")(10),\n",
    "              \"alpha.1\": alpha})"
   ]
  },
  {
   "cell_type": "code",
   "execution_count": 18,
   "metadata": {
    "collapsed": false
   },
   "outputs": [
    {
     "name": "stdout",
     "output_type": "stream",
     "text": [
      "158 - 1 - 66\n",
      "213 - 62 - 79\n",
      "244 - 109 - 67\n",
      "253 - 174 - 97\n",
      "254 - 224 - 139\n",
      "230 - 245 - 152\n",
      "171 - 221 - 164\n",
      "102 - 194 - 165\n",
      "50 - 136 - 189\n",
      "94 - 79 - 162\n"
     ]
    }
   ],
   "source": [
    "for r,g,b in colors:\n",
    "    print(r,\"-\", g,\"-\",b)"
   ]
  },
  {
   "cell_type": "code",
   "execution_count": 62,
   "metadata": {
    "collapsed": false
   },
   "outputs": [],
   "source": [
    "def conv(color, ignoreAlpha=False): \n",
    "    \n",
    "    if color[0] == \"#\":\n",
    "        if len(color) == 4:\n",
    "            rgba = (int(color[1:2]*2, 16), int(color[2:3]*2, 16), int(color[3:4]*2, 16), 1.0)\n",
    "        else:\n",
    "            rgba = (int(color[1:3], 16), int(color[3:5], 16), int(color[5:7], 16), 1.0)\n",
    "        \n",
    "    elif color.startswith(\"rgba\"):\n",
    "        r,g,b,a = color.replace(\" \", \"\")[5:-1].split(\",\")\n",
    "        rgba = (int(r), int(g), int(b), float(a))\n",
    "    \n",
    "    elif color.startswith(\"rgb\"):\n",
    "        r,g,b = color.replace(\" \", \"\")[4:-1].split(\",\")\n",
    "        rgba = (int(r), int(g), int(b), 1.0)\n",
    "\n",
    "    if ignoreAlpha:\n",
    "        return rgba[:3]\n",
    "    else:\n",
    "        return rgba"
   ]
  },
  {
   "cell_type": "code",
   "execution_count": 64,
   "metadata": {
    "collapsed": false
   },
   "outputs": [
    {
     "data": {
      "text/plain": [
       "(12, 3, 14, 0.8)"
      ]
     },
     "execution_count": 64,
     "metadata": {},
     "output_type": "execute_result"
    }
   ],
   "source": [
    "conv(\"rgba(12,3,14,0.8)\", False)"
   ]
  },
  {
   "cell_type": "code",
   "execution_count": 55,
   "metadata": {
    "collapsed": false
   },
   "outputs": [
    {
     "data": {
      "text/plain": [
       "(12, 3, 14, 1.0)"
      ]
     },
     "execution_count": 55,
     "metadata": {},
     "output_type": "execute_result"
    }
   ],
   "source": [
    "conv(\"rgb(12,3,14)\")"
   ]
  },
  {
   "cell_type": "code",
   "execution_count": 56,
   "metadata": {
    "collapsed": false
   },
   "outputs": [
    {
     "data": {
      "text/plain": [
       "(170, 187, 204, 1.0)"
      ]
     },
     "execution_count": 56,
     "metadata": {},
     "output_type": "execute_result"
    }
   ],
   "source": [
    "conv(\"#abc\")"
   ]
  },
  {
   "cell_type": "code",
   "execution_count": 57,
   "metadata": {
    "collapsed": false
   },
   "outputs": [
    {
     "data": {
      "text/plain": [
       "(10, 11, 12, 1.0)"
      ]
     },
     "execution_count": 57,
     "metadata": {},
     "output_type": "execute_result"
    }
   ],
   "source": [
    "conv(\"#0a0b0c\")"
   ]
  },
  {
   "cell_type": "code",
   "execution_count": 70,
   "metadata": {
    "collapsed": false
   },
   "outputs": [
    {
     "data": {
      "text/plain": [
       "(124, 181, 236, 1.0)"
      ]
     },
     "execution_count": 70,
     "metadata": {},
     "output_type": "execute_result"
    }
   ],
   "source": [
    "conv(\"#7cb5ec\")"
   ]
  },
  {
   "cell_type": "code",
   "execution_count": 71,
   "metadata": {
    "collapsed": false
   },
   "outputs": [
    {
     "data": {
      "text/plain": [
       "(124, 181, 236, 0.75)"
      ]
     },
     "execution_count": 71,
     "metadata": {},
     "output_type": "execute_result"
    }
   ],
   "source": [
    "_[:3] + (0.75,)"
   ]
  },
  {
   "cell_type": "code",
   "execution_count": 73,
   "metadata": {
    "collapsed": false
   },
   "outputs": [
    {
     "data": {
      "text/plain": [
       "[0.10000000000000001,\n",
       " 0.32500000000000001,\n",
       " 0.55000000000000004,\n",
       " 0.77500000000000002,\n",
       " 1.0]"
      ]
     },
     "execution_count": 73,
     "metadata": {},
     "output_type": "execute_result"
    }
   ],
   "source": [
    "list(np.linspace(0.1, 1, 5))"
   ]
  },
  {
   "cell_type": "code",
   "execution_count": 28,
   "metadata": {
    "collapsed": false
   },
   "outputs": [],
   "source": [
    "import numpy as np\n",
    "\n",
    "def alpha(discrete=True):\n",
    "    if discrete:\n",
    "        return lambda size: list(np.linspace(0.0, 1.0, size+2))[1:-1]\n",
    "    else:\n",
    "        def conv(array):\n",
    "            if len(array) == 0:\n",
    "                return []\n",
    "            \n",
    "            mina = min(array)\n",
    "            d = max(array) - mina\n",
    "            if d == 0:\n",
    "                return [0.5] * len(array)\n",
    "            else:\n",
    "                l = 1 / len(array)\n",
    "                f = (1 - 2*l) / d\n",
    "                b = (l - f * mina)\n",
    "                result = [b + f*a for a in array]\n",
    "        \n",
    "            return result\n",
    "        \n",
    "        return lambda array: conv(array)"
   ]
  },
  {
   "cell_type": "code",
   "execution_count": 29,
   "metadata": {
    "collapsed": false
   },
   "outputs": [
    {
     "data": {
      "text/plain": [
       "[0.10000000000000001,\n",
       " 0.20000000000000001,\n",
       " 0.30000000000000004,\n",
       " 0.40000000000000002,\n",
       " 0.5,\n",
       " 0.60000000000000009,\n",
       " 0.70000000000000007,\n",
       " 0.80000000000000004,\n",
       " 0.90000000000000002]"
      ]
     },
     "execution_count": 29,
     "metadata": {},
     "output_type": "execute_result"
    }
   ],
   "source": [
    "alpha()(9)"
   ]
  },
  {
   "cell_type": "code",
   "execution_count": 34,
   "metadata": {
    "collapsed": false
   },
   "outputs": [
    {
     "data": {
      "text/plain": [
       "[0.275,\n",
       " 0.725,\n",
       " 0.3875,\n",
       " 0.05,\n",
       " 0.1625,\n",
       " 0.275,\n",
       " 0.95,\n",
       " 0.6125,\n",
       " 0.3875,\n",
       " 0.5,\n",
       " 0.275,\n",
       " 0.725,\n",
       " 0.3875,\n",
       " 0.05,\n",
       " 0.1625,\n",
       " 0.275,\n",
       " 0.95,\n",
       " 0.6125,\n",
       " 0.3875,\n",
       " 0.5]"
      ]
     },
     "execution_count": 34,
     "metadata": {},
     "output_type": "execute_result"
    }
   ],
   "source": [
    "alpha(False)([3,7,4,1,2,3,9,6,4,5,3,7,4,1,2,3,9,6,4,5])"
   ]
  },
  {
   "cell_type": "code",
   "execution_count": 51,
   "metadata": {
    "collapsed": false
   },
   "outputs": [],
   "source": [
    "from hcplot.color import ColorBrewer\n",
    "\n",
    "def brewer(typ, palette, discrete=True):\n",
    "    if typ == \"qual\":\n",
    "        assert discrete, \"Qualitative palette cannot be used for non discrete data\"\n",
    "        return lambda size: getattr(ColorBrewer, typ)(palette, size=size)\n",
    "    else:\n",
    "        if discrete:\n",
    "            return lambda size: getattr(ColorBrewer, typ)(palette, True, size=size)\n",
    "        else:\n",
    "            def conv(array):\n",
    "                mina = min(array)\n",
    "                d = max(array) - mina\n",
    "                if d == 0:\n",
    "                    return getattr(ColorBrewer, typ)(palette, size=1) * len(array)\n",
    "                else:\n",
    "                    scaledArray = [(a-mina) / d for a in array]\n",
    "                    return getattr(ColorBrewer, typ)(palette, False, array=scaledArray)\n",
    "                \n",
    "            return lambda array: conv(array) \n"
   ]
  },
  {
   "cell_type": "code",
   "execution_count": 49,
   "metadata": {
    "collapsed": false
   },
   "outputs": [
    {
     "data": {
      "text/plain": [
       "[(255, 247, 236),\n",
       " (254, 232, 200),\n",
       " (253, 212, 158),\n",
       " (253, 187, 132),\n",
       " (252, 141, 89),\n",
       " (239, 101, 72),\n",
       " (215, 48, 31),\n",
       " (153, 0, 0)]"
      ]
     },
     "execution_count": 49,
     "metadata": {},
     "output_type": "execute_result"
    }
   ],
   "source": [
    "brewer(\"seq\", \"OrRd\", True)(8)"
   ]
  },
  {
   "cell_type": "code",
   "execution_count": 52,
   "metadata": {
    "collapsed": false
   },
   "outputs": [
    {
     "data": {
      "text/plain": [
       "[(253, 211, 160),\n",
       " (213, 48, 32),\n",
       " (252, 183, 129),\n",
       " (255, 247, 236),\n",
       " (254, 231, 199),\n",
       " (253, 211, 160),\n",
       " (127, 0, 0),\n",
       " (237, 98, 68),\n",
       " (252, 183, 129),\n",
       " (250, 142, 93),\n",
       " (253, 211, 160),\n",
       " (213, 48, 32),\n",
       " (252, 183, 129),\n",
       " (255, 247, 236),\n",
       " (254, 231, 199),\n",
       " (253, 211, 160),\n",
       " (127, 0, 0),\n",
       " (237, 98, 68),\n",
       " (252, 183, 129),\n",
       " (250, 142, 93)]"
      ]
     },
     "execution_count": 52,
     "metadata": {},
     "output_type": "execute_result"
    }
   ],
   "source": [
    "brewer(\"seq\", \"OrRd\", False)([3,7,4,1,2,3,9,6,4,5,3,7,4,1,2,3,9,6,4,5])"
   ]
  }
 ],
 "metadata": {
  "kernelspec": {
   "display_name": "Python 3",
   "language": "python",
   "name": "python3"
  },
  "language_info": {
   "codemirror_mode": {
    "name": "ipython",
    "version": 3
   },
   "file_extension": ".py",
   "mimetype": "text/x-python",
   "name": "python",
   "nbconvert_exporter": "python",
   "pygments_lexer": "ipython3",
   "version": "3.5.2"
  }
 },
 "nbformat": 4,
 "nbformat_minor": 2
}
