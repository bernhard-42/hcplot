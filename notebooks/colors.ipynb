{
 "cells": [
  {
   "cell_type": "code",
   "execution_count": null,
   "metadata": {
    "collapsed": false
   },
   "outputs": [],
   "source": [
    "from IPython.core.display import display, HTML\n",
    "display(HTML(\"<style>.container { width:90% !important; }</style>\"))"
   ]
  },
  {
   "cell_type": "code",
   "execution_count": null,
   "metadata": {
    "collapsed": false
   },
   "outputs": [],
   "source": [
    "from hcplot import loadLibraries, Figure, mapping, single, grid, matrix, wrap, scale\n",
    "from hcplot.geoms import Line, Points\n",
    "from hcplot.scales import Brewer, Alpha, D3\n",
    "from hcplot.utils.showpalette import showPalette\n",
    "loadLibraries()"
   ]
  },
  {
   "cell_type": "code",
   "execution_count": null,
   "metadata": {
    "collapsed": false
   },
   "outputs": [],
   "source": [
    "import numpy as np\n",
    "import pandas as pd\n",
    "\n",
    "def createDF(colors, x, y):\n",
    "    r, g, b = [[c[i] for c in colors] for i in range(3)]\n",
    "    return pd.DataFrame({\"X\":x, \"R\":r, \"G\":g, \"B\":b, \"Demo\": [y]*len(colors)})\n",
    "    \n",
    "def rgbDF(typ, palette, size):\n",
    "    colors1 = Brewer(typ, palette, True, False)(-1)\n",
    "    l1 = len(colors1)\n",
    "    x1 = list(range(l1))\n",
    "    \n",
    "    x2 = np.linspace(0, l1-1, size)\n",
    "    colors2 = Brewer(typ, palette, False, False)(x2)\n",
    "\n",
    "    return createDF(colors1, x1, -30), createDF(colors2, x2, -10)  \n"
   ]
  },
  {
   "cell_type": "code",
   "execution_count": null,
   "metadata": {
    "collapsed": false
   },
   "outputs": [],
   "source": [
    "def plotColor(typ, palette, size):\n",
    "    data1, data2 = rgbDF(typ, palette, size)\n",
    "    colorScale1 = Brewer(typ, palette)\n",
    "    colorScale2 = Brewer(typ, palette, discrete=False)\n",
    "    \n",
    "    fig = (Figure(width=1280, ratio=0.5)\n",
    "        +  Line  (data1, mapping(\"X\",\"R\"), color=\"red\",   lineType=\"Dot\", marker=\"triangle\") \n",
    "        +  Line  (data1, mapping(\"X\",\"G\"), color=\"green\", lineType=\"Dot\", marker=\"triangle\") \n",
    "        +  Line  (data1, mapping(\"X\",\"B\"), color=\"blue\",  lineType=\"Dot\", marker=\"triangle\") \n",
    "        +  Line  (data2, mapping(\"X\",\"R\"), color=\"red\",   lineWidth=1,    showMarker=False)  \n",
    "        +  Line  (data2, mapping(\"X\",\"G\"), color=\"green\", lineWidth=1,    showMarker=False)  \n",
    "        +  Line  (data2, mapping(\"X\",\"B\"), color=\"blue\",  lineWidth=1,    showMarker=False)  \n",
    "        +  Points(data1, mapping(\"X\", \"Demo\", color=\"X\"), scale(color=colorScale1), shape=\"circle\", size=12)\n",
    "        +  Points(data2, mapping(\"X\", \"Demo\", color=\"X\"), scale(color=colorScale2), shape=\"square\", size=6)\n",
    "    )    \n",
    "    return fig"
   ]
  },
  {
   "cell_type": "code",
   "execution_count": null,
   "metadata": {
    "collapsed": false
   },
   "outputs": [],
   "source": [
    "fig = plotColor(\"div\", \"Spectral\", 200)\n",
    "fig"
   ]
  },
  {
   "cell_type": "code",
   "execution_count": null,
   "metadata": {
    "collapsed": false
   },
   "outputs": [],
   "source": [
    "fig = plotColor(\"seq\", \"BuGn\", 200)\n",
    "fig"
   ]
  },
  {
   "cell_type": "code",
   "execution_count": null,
   "metadata": {
    "collapsed": false
   },
   "outputs": [],
   "source": [
    "showPalette(Brewer, \"seq\") # or \"qual\" or \"div\""
   ]
  },
  {
   "cell_type": "code",
   "execution_count": null,
   "metadata": {
    "collapsed": false
   },
   "outputs": [],
   "source": [
    "showPalette(D3, None)"
   ]
  },
  {
   "cell_type": "code",
   "execution_count": null,
   "metadata": {
    "collapsed": true
   },
   "outputs": [],
   "source": []
  }
 ],
 "metadata": {
  "kernelspec": {
   "display_name": "Python 3",
   "language": "python",
   "name": "python3"
  },
  "language_info": {
   "codemirror_mode": {
    "name": "ipython",
    "version": 3
   },
   "file_extension": ".py",
   "mimetype": "text/x-python",
   "name": "python",
   "nbconvert_exporter": "python",
   "pygments_lexer": "ipython3",
   "version": "3.5.2"
  }
 },
 "nbformat": 4,
 "nbformat_minor": 2
}
