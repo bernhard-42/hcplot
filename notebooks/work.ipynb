{
 "cells": [
  {
   "cell_type": "code",
   "execution_count": 1,
   "metadata": {
    "collapsed": false
   },
   "outputs": [
    {
     "data": {
      "text/html": [
       "<style>.container { width:90% !important; }</style>"
      ],
      "text/plain": [
       "<IPython.core.display.HTML object>"
      ]
     },
     "metadata": {},
     "output_type": "display_data"
    }
   ],
   "source": [
    "from IPython.core.display import display, HTML\n",
    "display(HTML(\"<style>.container { width:90% !important; }</style>\"))"
   ]
  },
  {
   "cell_type": "code",
   "execution_count": 2,
   "metadata": {
    "collapsed": false
   },
   "outputs": [
    {
     "name": "stdout",
     "output_type": "stream",
     "text": [
      "\n",
      "- Highsoft software products (www.highcharts.com) are not free for commercial and Governmental use.\n",
      "  (see https://shop.highsoft.com/faq#Non-Commercial-0 for conditions for Non-commercial use).\n",
      "- This product includes color specifications and designs developed by Cynthia Brewer\n",
      "  http://colorbrewer.org\n",
      "- D3 category colors and the interpolateRGB algorithm have been taken over from https://d3js.org/,\n",
      "  Copyright 2010-2017 Mike Bostock\n",
      "\n"
     ]
    },
    {
     "data": {
      "text/html": [
       "<style>.hcTable {\n",
       "    border-color:white !important; \n",
       "    border-width:0px !important;\n",
       "    border-spacing: 1px !important;\n",
       "}\n",
       "\n",
       "th.colHeader > div {\n",
       "  background-color:#f0f0f0;\n",
       "  text-align: center;\n",
       "}\n",
       "\n",
       "th.rowHeader > div {\n",
       "  background-color:#f0f0f0;\n",
       "  height: 100%;\n",
       "  width: inherit;\n",
       "  display: flex;\n",
       "  justify-content: center;\n",
       "  white-space: nowrap; \n",
       "  writing-mode: vertical-lr;\n",
       "}\n",
       "</style>"
      ],
      "text/plain": [
       "<IPython.core.display.HTML object>"
      ]
     },
     "metadata": {},
     "output_type": "display_data"
    },
    {
     "data": {
      "application/javascript": [
       "/**\n",
       "  * Copyright 2017 Bernhard Walter\n",
       "  *\n",
       "  * Licensed under the Apache License, Version 2.0 (the \"License\");\n",
       "  * you may not use this file except in compliance with the License.\n",
       "  * You may obtain a copy of the License at\n",
       "  *\n",
       "  *    http://www.apache.org/licenses/LICENSE-2.0\n",
       "  *\n",
       "  * Unless required by applicable law or agreed to in writing, software\n",
       "  * distributed under the License is distributed on an \"AS IS\" BASIS,\n",
       "  * WITHOUT WARRANTIES OR CONDITIONS OF ANY KIND, either express or implied.\n",
       "  * See the License for the specific language governing permissions and\n",
       "  * limitations under the License.\n",
       "  */\n",
       "\n",
       "require.config({\n",
       "    baseUrl: '/js',\n",
       "    shim: {\n",
       "        \"highcharts-more\":            ['highcharts'],\n",
       "        \"highcharts-export\":          ['highcharts'],\n",
       "        \"highcharts-offline-export\":  ['highcharts-export'],\n",
       "        \"highcharts-boost\":           ['highcharts']\n",
       "    },\n",
       "    paths: {\n",
       "        'highcharts':                 'http://code.highcharts.com/highcharts',\n",
       "        'highcharts-more':            'http://code.highcharts.com/highcharts-more',\n",
       "        'highcharts-export':          'http://code.highcharts.com/modules/exporting',\n",
       "        'highcharts-offline-export':  'http://code.highcharts.com/modules/offline-exporting',\n",
       "        'highcharts-boost':           'http://code.highcharts.com/modules/boost'\n",
       "    }\n",
       "});\n",
       "\n",
       "requirejs.onError = function (err) {\n",
       "    element.text(err.requireType, err.requireModules)\n",
       "}\n",
       "\n",
       "window.hc_charts = {}\n",
       "\n",
       "window.hc_charts.promise = new Promise(function(resolve, reject) {\n",
       "    var modules = ['highcharts', 'highcharts-more', 'highcharts-export', 'highcharts-offline-export', 'highcharts-boost'];\n",
       "    requirejs(modules, function(hc) {\n",
       "        element.text(\"Loaded HighCharts \" + Highcharts.version)\n",
       "        resolve(Highcharts)\n",
       "    });\n",
       "})"
      ],
      "text/plain": [
       "<IPython.core.display.Javascript object>"
      ]
     },
     "metadata": {},
     "output_type": "display_data"
    }
   ],
   "source": [
    "from hcplot import loadLibraries, Figure\n",
    "from hcplot.config import mapping, single, grid, matrix, wrap, scale\n",
    "from hcplot.geoms import Line, Points\n",
    "from hcplot.scales import Brewer, Alpha, D3, Shape, Size\n",
    "\n",
    "loadLibraries()"
   ]
  },
  {
   "cell_type": "code",
   "execution_count": 3,
   "metadata": {
    "collapsed": false
   },
   "outputs": [],
   "source": [
    "from ggplot import mpg, mtcars, diamonds"
   ]
  },
  {
   "cell_type": "code",
   "execution_count": 3,
   "metadata": {
    "collapsed": false
   },
   "outputs": [],
   "source": [
    "%%sh \n",
    "cd /tmp\n",
    "wget -q https://raw.githubusercontent.com/pandas-dev/pandas/master/pandas/tests/data/iris.csv"
   ]
  },
  {
   "cell_type": "code",
   "execution_count": 4,
   "metadata": {
    "collapsed": false,
    "scrolled": true
   },
   "outputs": [],
   "source": [
    "import pandas as pd\n",
    "iris = pd.read_csv('/tmp/iris.csv')"
   ]
  },
  {
   "cell_type": "code",
   "execution_count": 11,
   "metadata": {
    "collapsed": false
   },
   "outputs": [
    {
     "name": "stdout",
     "output_type": "stream",
     "text": [
      "<hcplot.scales.scale.Brewer object at 0x1068d9828> ['27,158,119', '217,95,2', '117,112,179', '231,41,138', '102,166,30', '230,171,2', '166,118,29']\n",
      "<hcplot.scales.scale.Alpha object at 0x1068d90f0> [ 0.1   0.55  1.  ]\n"
     ]
    },
    {
     "name": "stderr",
     "output_type": "stream",
     "text": [
      "/opt/miniconda/envs/py3/lib/python3.5/site-packages/sklearn/utils/validation.py:429: DataConversionWarning: Data with input dtype int64 was converted to float64 by MinMaxScaler.\n",
      "  warnings.warn(msg, _DataConversionWarning)\n"
     ]
    },
    {
     "data": {
      "text/html": [
       "<table id=\"hc_e676bbfe-8368-42bd-8443-446e9affac01\" class=\"hcTable\">\n",
       "  <tr id=\"hc_e676bbfe-8368-42bd-8443-446e9affac01_0\" class=\"hcTable\">\n",
       "\n",
       "    <td class=\"hcTable\">\n",
       "        <div id=\"hc_e676bbfe-8368-42bd-8443-446e9affac01_0-0\" style=\"width:562px; height:537px; padding:1px 0px 25px 1px;\"></div>\n",
       "    </td>\n",
       "\n",
       "  </tr>\n",
       "</table>\n",
       "\n",
       "<script>\n",
       "    window.hc_charts.promise.then(function(HC) {\n",
       "\n",
       "//      Chart 0-0\n",
       "        HC.chart(\"hc_e676bbfe-8368-42bd-8443-446e9affac01_0-0\", {\"title\": {\"text\": null}, \"yAxis\": {\"tickWidth\": 1, \"title\": {\"text\": null}, \"lineWidth\": 1, \"gridLineWidth\": 1, \"min\": 1.6, \"max\": 7.0}, \"credits\": {\"position\": {\"y\": -5}}, \"chart\": {\"marginBottom\": 40, \"spacingLeft\": 5, \"spacingBottom\": 5, \"spacingRight\": 5, \"spacingTop\": 5, \"zoomType\": \"xy\", \"height\": 542, \"width\": 552, \"marginLeft\": 50}, \"legend\": {\"enabled\": false}, \"exporting\": {\"enabled\": false}, \"xAxis\": {\"tickWidth\": 1, \"title\": {\"text\": null}, \"lineWidth\": 1, \"gridLineWidth\": 1, \"min\": 12, \"max\": 44}, \"series\": [{\"color\": \"rgba(124,181,236,1.000000)\", \"type\": \"scatter\", \"name\": \"displ\", \"data\": [{\"x\": 29, \"color\": \"rgba(217,95,2,0.550000)\", \"y\": 1.8, \"marker\": {\"radius\": 6.0}}, {\"x\": 29, \"color\": \"rgba(217,95,2,0.550000)\", \"y\": 1.8, \"marker\": {\"radius\": 8.0}}, {\"x\": 31, \"color\": \"rgba(217,95,2,0.550000)\", \"y\": 2.0, \"marker\": {\"radius\": 8.0}}, {\"x\": 30, \"color\": \"rgba(217,95,2,0.550000)\", \"y\": 2.0, \"marker\": {\"radius\": 8.0}}, {\"x\": 26, \"color\": \"rgba(217,95,2,0.550000)\", \"y\": 2.8, \"marker\": {\"radius\": 6.0}}, {\"x\": 26, \"color\": \"rgba(217,95,2,0.550000)\", \"y\": 2.8, \"marker\": {\"radius\": 6.0}}, {\"x\": 27, \"color\": \"rgba(217,95,2,0.550000)\", \"y\": 3.1, \"marker\": {\"radius\": 6.0}}, {\"x\": 26, \"color\": \"rgba(217,95,2,0.100000)\", \"y\": 1.8, \"marker\": {\"radius\": 6.0}}, {\"x\": 25, \"color\": \"rgba(217,95,2,0.100000)\", \"y\": 1.8, \"marker\": {\"radius\": 6.0}}, {\"x\": 28, \"color\": \"rgba(217,95,2,0.100000)\", \"y\": 2.0, \"marker\": {\"radius\": 8.0}}, {\"x\": 27, \"color\": \"rgba(217,95,2,0.100000)\", \"y\": 2.0, \"marker\": {\"radius\": 7.0}}, {\"x\": 25, \"color\": \"rgba(217,95,2,0.100000)\", \"y\": 2.8, \"marker\": {\"radius\": 5.0}}, {\"x\": 25, \"color\": \"rgba(217,95,2,0.100000)\", \"y\": 2.8, \"marker\": {\"radius\": 6.0}}, {\"x\": 25, \"color\": \"rgba(217,95,2,0.100000)\", \"y\": 3.1, \"marker\": {\"radius\": 6.0}}, {\"x\": 25, \"color\": \"rgba(217,95,2,0.100000)\", \"y\": 3.1, \"marker\": {\"radius\": 5.0}}, {\"x\": 24, \"color\": \"rgba(117,112,179,0.100000)\", \"y\": 2.8, \"marker\": {\"radius\": 5.0}}, {\"x\": 25, \"color\": \"rgba(117,112,179,0.100000)\", \"y\": 3.1, \"marker\": {\"radius\": 6.0}}, {\"x\": 23, \"color\": \"rgba(117,112,179,0.100000)\", \"y\": 4.2, \"marker\": {\"radius\": 6.0}}, {\"x\": 20, \"color\": \"rgba(166,118,29,1.000000)\", \"y\": 5.3, \"marker\": {\"radius\": 4.0}}, {\"x\": 15, \"color\": \"rgba(166,118,29,1.000000)\", \"y\": 5.3, \"marker\": {\"radius\": 3.0}}, {\"x\": 20, \"color\": \"rgba(166,118,29,1.000000)\", \"y\": 5.3, \"marker\": {\"radius\": 4.0}}, {\"x\": 17, \"color\": \"rgba(166,118,29,1.000000)\", \"y\": 5.7, \"marker\": {\"radius\": 4.0}}, {\"x\": 17, \"color\": \"rgba(166,118,29,1.000000)\", \"y\": 6.0, \"marker\": {\"radius\": 4.0}}, {\"x\": 26, \"color\": \"rgba(27,158,119,1.000000)\", \"y\": 5.7, \"marker\": {\"radius\": 6.0}}, {\"x\": 23, \"color\": \"rgba(27,158,119,1.000000)\", \"y\": 5.7, \"marker\": {\"radius\": 5.0}}, {\"x\": 26, \"color\": \"rgba(27,158,119,1.000000)\", \"y\": 6.2, \"marker\": {\"radius\": 6.0}}, {\"x\": 25, \"color\": \"rgba(27,158,119,1.000000)\", \"y\": 6.2, \"marker\": {\"radius\": 5.0}}, {\"x\": 24, \"color\": \"rgba(27,158,119,1.000000)\", \"y\": 7.0, \"marker\": {\"radius\": 5.0}}, {\"x\": 19, \"color\": \"rgba(166,118,29,0.100000)\", \"y\": 5.3, \"marker\": {\"radius\": 4.0}}, {\"x\": 14, \"color\": \"rgba(166,118,29,0.100000)\", \"y\": 5.3, \"marker\": {\"radius\": 3.0}}, {\"x\": 15, \"color\": \"rgba(166,118,29,0.100000)\", \"y\": 5.7, \"marker\": {\"radius\": 3.0}}, {\"x\": 17, \"color\": \"rgba(166,118,29,0.100000)\", \"y\": 6.5, \"marker\": {\"radius\": 4.0}}, {\"x\": 27, \"color\": \"rgba(117,112,179,0.550000)\", \"y\": 2.4, \"marker\": {\"radius\": 7.0}}, {\"x\": 30, \"color\": \"rgba(117,112,179,0.550000)\", \"y\": 2.4, \"marker\": {\"radius\": 8.0}}, {\"x\": 26, \"color\": \"rgba(117,112,179,0.550000)\", \"y\": 3.1, \"marker\": {\"radius\": 6.0}}, {\"x\": 29, \"color\": \"rgba(117,112,179,0.550000)\", \"y\": 3.5, \"marker\": {\"radius\": 6.0}}, {\"x\": 26, \"color\": \"rgba(117,112,179,0.550000)\", \"y\": 3.6, \"marker\": {\"radius\": 6.0}}, {\"x\": 24, \"color\": \"rgba(231,41,138,0.550000)\", \"y\": 2.4, \"marker\": {\"radius\": 6.0}}, {\"x\": 24, \"color\": \"rgba(231,41,138,0.550000)\", \"y\": 3.0, \"marker\": {\"radius\": 6.0}}, {\"x\": 22, \"color\": \"rgba(231,41,138,0.550000)\", \"y\": 3.3, \"marker\": {\"radius\": 6.0}}, {\"x\": 22, \"color\": \"rgba(231,41,138,0.550000)\", \"y\": 3.3, \"marker\": {\"radius\": 6.0}}, {\"x\": 24, \"color\": \"rgba(231,41,138,0.550000)\", \"y\": 3.3, \"marker\": {\"radius\": 6.0}}, {\"x\": 24, \"color\": \"rgba(231,41,138,0.550000)\", \"y\": 3.3, \"marker\": {\"radius\": 6.0}}, {\"x\": 17, \"color\": \"rgba(231,41,138,0.550000)\", \"y\": 3.3, \"marker\": {\"radius\": 3.0}}, {\"x\": 22, \"color\": \"rgba(231,41,138,0.550000)\", \"y\": 3.8, \"marker\": {\"radius\": 5.0}}, {\"x\": 21, \"color\": \"rgba(231,41,138,0.550000)\", \"y\": 3.8, \"marker\": {\"radius\": 5.0}}, {\"x\": 23, \"color\": \"rgba(231,41,138,0.550000)\", \"y\": 3.8, \"marker\": {\"radius\": 6.0}}, {\"x\": 23, \"color\": \"rgba(231,41,138,0.550000)\", \"y\": 4.0, \"marker\": {\"radius\": 6.0}}, {\"x\": 19, \"color\": \"rgba(102,166,30,0.100000)\", \"y\": 3.7, \"marker\": {\"radius\": 5.0}}, {\"x\": 18, \"color\": \"rgba(102,166,30,0.100000)\", \"y\": 3.7, \"marker\": {\"radius\": 4.0}}, {\"x\": 17, \"color\": \"rgba(102,166,30,0.100000)\", \"y\": 3.9, \"marker\": {\"radius\": 4.0}}, {\"x\": 17, \"color\": \"rgba(102,166,30,0.100000)\", \"y\": 3.9, \"marker\": {\"radius\": 4.0}}, {\"x\": 19, \"color\": \"rgba(102,166,30,0.100000)\", \"y\": 4.7, \"marker\": {\"radius\": 4.0}}, {\"x\": 19, \"color\": \"rgba(102,166,30,0.100000)\", \"y\": 4.7, \"marker\": {\"radius\": 4.0}}, {\"x\": 12, \"color\": \"rgba(102,166,30,0.100000)\", \"y\": 4.7, \"marker\": {\"radius\": 2.0}}, {\"x\": 17, \"color\": \"rgba(102,166,30,0.100000)\", \"y\": 5.2, \"marker\": {\"radius\": 3.0}}, {\"x\": 15, \"color\": \"rgba(102,166,30,0.100000)\", \"y\": 5.2, \"marker\": {\"radius\": 3.0}}, {\"x\": 17, \"color\": \"rgba(166,118,29,0.100000)\", \"y\": 3.9, \"marker\": {\"radius\": 4.0}}, {\"x\": 17, \"color\": \"rgba(166,118,29,0.100000)\", \"y\": 4.7, \"marker\": {\"radius\": 4.0}}, {\"x\": 12, \"color\": \"rgba(166,118,29,0.100000)\", \"y\": 4.7, \"marker\": {\"radius\": 2.0}}, {\"x\": 17, \"color\": \"rgba(166,118,29,0.100000)\", \"y\": 4.7, \"marker\": {\"radius\": 4.0}}, {\"x\": 16, \"color\": \"rgba(166,118,29,0.100000)\", \"y\": 5.2, \"marker\": {\"radius\": 3.0}}, {\"x\": 18, \"color\": \"rgba(166,118,29,0.100000)\", \"y\": 5.7, \"marker\": {\"radius\": 4.0}}, {\"x\": 15, \"color\": \"rgba(166,118,29,0.100000)\", \"y\": 5.9, \"marker\": {\"radius\": 3.0}}, {\"x\": 16, \"color\": \"rgba(102,166,30,0.100000)\", \"y\": 4.7, \"marker\": {\"radius\": 4.0}}, {\"x\": 12, \"color\": \"rgba(102,166,30,0.100000)\", \"y\": 4.7, \"marker\": {\"radius\": 2.0}}, {\"x\": 17, \"color\": \"rgba(102,166,30,0.100000)\", \"y\": 4.7, \"marker\": {\"radius\": 4.0}}, {\"x\": 17, \"color\": \"rgba(102,166,30,0.100000)\", \"y\": 4.7, \"marker\": {\"radius\": 4.0}}, {\"x\": 16, \"color\": \"rgba(102,166,30,0.100000)\", \"y\": 4.7, \"marker\": {\"radius\": 4.0}}, {\"x\": 12, \"color\": \"rgba(102,166,30,0.100000)\", \"y\": 4.7, \"marker\": {\"radius\": 2.0}}, {\"x\": 15, \"color\": \"rgba(102,166,30,0.100000)\", \"y\": 5.2, \"marker\": {\"radius\": 3.0}}, {\"x\": 16, \"color\": \"rgba(102,166,30,0.100000)\", \"y\": 5.2, \"marker\": {\"radius\": 3.0}}, {\"x\": 17, \"color\": \"rgba(102,166,30,0.100000)\", \"y\": 5.7, \"marker\": {\"radius\": 4.0}}, {\"x\": 15, \"color\": \"rgba(102,166,30,0.100000)\", \"y\": 5.9, \"marker\": {\"radius\": 3.0}}, {\"x\": 17, \"color\": \"rgba(166,118,29,1.000000)\", \"y\": 4.6, \"marker\": {\"radius\": 3.0}}, {\"x\": 17, \"color\": \"rgba(166,118,29,1.000000)\", \"y\": 5.4, \"marker\": {\"radius\": 3.0}}, {\"x\": 18, \"color\": \"rgba(166,118,29,1.000000)\", \"y\": 5.4, \"marker\": {\"radius\": 4.0}}, {\"x\": 17, \"color\": \"rgba(166,118,29,0.100000)\", \"y\": 4.0, \"marker\": {\"radius\": 4.0}}, {\"x\": 19, \"color\": \"rgba(166,118,29,0.100000)\", \"y\": 4.0, \"marker\": {\"radius\": 5.0}}, {\"x\": 17, \"color\": \"rgba(166,118,29,0.100000)\", \"y\": 4.0, \"marker\": {\"radius\": 4.0}}, {\"x\": 19, \"color\": \"rgba(166,118,29,0.100000)\", \"y\": 4.0, \"marker\": {\"radius\": 4.0}}, {\"x\": 19, \"color\": \"rgba(166,118,29,0.100000)\", \"y\": 4.6, \"marker\": {\"radius\": 4.0}}, {\"x\": 17, \"color\": \"rgba(166,118,29,0.100000)\", \"y\": 5.0, \"marker\": {\"radius\": 4.0}}, {\"x\": 17, \"color\": \"rgba(102,166,30,0.100000)\", \"y\": 4.2, \"marker\": {\"radius\": 4.0}}, {\"x\": 17, \"color\": \"rgba(102,166,30,0.100000)\", \"y\": 4.2, \"marker\": {\"radius\": 4.0}}, {\"x\": 16, \"color\": \"rgba(102,166,30,0.100000)\", \"y\": 4.6, \"marker\": {\"radius\": 4.0}}, {\"x\": 16, \"color\": \"rgba(102,166,30,0.100000)\", \"y\": 4.6, \"marker\": {\"radius\": 4.0}}, {\"x\": 17, \"color\": \"rgba(102,166,30,0.100000)\", \"y\": 4.6, \"marker\": {\"radius\": 4.0}}, {\"x\": 15, \"color\": \"rgba(102,166,30,0.100000)\", \"y\": 5.4, \"marker\": {\"radius\": 3.0}}, {\"x\": 17, \"color\": \"rgba(102,166,30,0.100000)\", \"y\": 5.4, \"marker\": {\"radius\": 4.0}}, {\"x\": 26, \"color\": \"rgba(230,171,2,1.000000)\", \"y\": 3.8, \"marker\": {\"radius\": 6.0}}, {\"x\": 25, \"color\": \"rgba(230,171,2,1.000000)\", \"y\": 3.8, \"marker\": {\"radius\": 6.0}}, {\"x\": 26, \"color\": \"rgba(230,171,2,1.000000)\", \"y\": 4.0, \"marker\": {\"radius\": 6.0}}, {\"x\": 24, \"color\": \"rgba(230,171,2,1.000000)\", \"y\": 4.0, \"marker\": {\"radius\": 6.0}}, {\"x\": 21, \"color\": \"rgba(230,171,2,1.000000)\", \"y\": 4.6, \"marker\": {\"radius\": 5.0}}, {\"x\": 22, \"color\": \"rgba(230,171,2,1.000000)\", \"y\": 4.6, \"marker\": {\"radius\": 5.0}}, {\"x\": 23, \"color\": \"rgba(230,171,2,1.000000)\", \"y\": 4.6, \"marker\": {\"radius\": 5.0}}, {\"x\": 22, \"color\": \"rgba(230,171,2,1.000000)\", \"y\": 4.6, \"marker\": {\"radius\": 5.0}}, {\"x\": 20, \"color\": \"rgba(230,171,2,1.000000)\", \"y\": 5.4, \"marker\": {\"radius\": 4.0}}, {\"x\": 33, \"color\": \"rgba(230,171,2,0.550000)\", \"y\": 1.6, \"marker\": {\"radius\": 12.0}}, {\"x\": 32, \"color\": \"rgba(230,171,2,0.550000)\", \"y\": 1.6, \"marker\": {\"radius\": 10.0}}, {\"x\": 32, \"color\": \"rgba(230,171,2,0.550000)\", \"y\": 1.6, \"marker\": {\"radius\": 10.0}}, {\"x\": 29, \"color\": \"rgba(230,171,2,0.550000)\", \"y\": 1.6, \"marker\": {\"radius\": 9.0}}, {\"x\": 32, \"color\": \"rgba(230,171,2,0.550000)\", \"y\": 1.6, \"marker\": {\"radius\": 10.0}}, {\"x\": 34, \"color\": \"rgba(230,171,2,0.550000)\", \"y\": 1.8, \"marker\": {\"radius\": 10.0}}, {\"x\": 36, \"color\": \"rgba(230,171,2,0.550000)\", \"y\": 1.8, \"marker\": {\"radius\": 10.0}}, {\"x\": 36, \"color\": \"rgba(230,171,2,0.550000)\", \"y\": 1.8, \"marker\": {\"radius\": 10.0}}, {\"x\": 29, \"color\": \"rgba(230,171,2,0.550000)\", \"y\": 2.0, \"marker\": {\"radius\": 8.0}}, {\"x\": 26, \"color\": \"rgba(117,112,179,0.550000)\", \"y\": 2.4, \"marker\": {\"radius\": 6.0}}, {\"x\": 27, \"color\": \"rgba(117,112,179,0.550000)\", \"y\": 2.4, \"marker\": {\"radius\": 6.0}}, {\"x\": 30, \"color\": \"rgba(117,112,179,0.550000)\", \"y\": 2.4, \"marker\": {\"radius\": 8.0}}, {\"x\": 31, \"color\": \"rgba(117,112,179,0.550000)\", \"y\": 2.4, \"marker\": {\"radius\": 8.0}}, {\"x\": 26, \"color\": \"rgba(117,112,179,0.550000)\", \"y\": 2.5, \"marker\": {\"radius\": 6.0}}, {\"x\": 26, \"color\": \"rgba(117,112,179,0.550000)\", \"y\": 2.5, \"marker\": {\"radius\": 6.0}}, {\"x\": 28, \"color\": \"rgba(117,112,179,0.550000)\", \"y\": 3.3, \"marker\": {\"radius\": 7.0}}, {\"x\": 26, \"color\": \"rgba(230,171,2,0.550000)\", \"y\": 2.0, \"marker\": {\"radius\": 7.0}}, {\"x\": 29, \"color\": \"rgba(230,171,2,0.550000)\", \"y\": 2.0, \"marker\": {\"radius\": 7.0}}, {\"x\": 28, \"color\": \"rgba(230,171,2,0.550000)\", \"y\": 2.0, \"marker\": {\"radius\": 8.0}}, {\"x\": 27, \"color\": \"rgba(230,171,2,0.550000)\", \"y\": 2.0, \"marker\": {\"radius\": 8.0}}, {\"x\": 24, \"color\": \"rgba(230,171,2,0.550000)\", \"y\": 2.7, \"marker\": {\"radius\": 6.0}}, {\"x\": 24, \"color\": \"rgba(230,171,2,0.550000)\", \"y\": 2.7, \"marker\": {\"radius\": 6.0}}, {\"x\": 24, \"color\": \"rgba(230,171,2,0.550000)\", \"y\": 2.7, \"marker\": {\"radius\": 6.0}}, {\"x\": 22, \"color\": \"rgba(166,118,29,0.100000)\", \"y\": 3.0, \"marker\": {\"radius\": 6.0}}, {\"x\": 19, \"color\": \"rgba(166,118,29,0.100000)\", \"y\": 3.7, \"marker\": {\"radius\": 5.0}}, {\"x\": 20, \"color\": \"rgba(166,118,29,0.100000)\", \"y\": 4.0, \"marker\": {\"radius\": 5.0}}, {\"x\": 17, \"color\": \"rgba(166,118,29,0.100000)\", \"y\": 4.7, \"marker\": {\"radius\": 4.0}}, {\"x\": 12, \"color\": \"rgba(166,118,29,0.100000)\", \"y\": 4.7, \"marker\": {\"radius\": 2.0}}, {\"x\": 19, \"color\": \"rgba(166,118,29,0.100000)\", \"y\": 4.7, \"marker\": {\"radius\": 4.0}}, {\"x\": 18, \"color\": \"rgba(166,118,29,0.100000)\", \"y\": 5.7, \"marker\": {\"radius\": 4.0}}, {\"x\": 14, \"color\": \"rgba(166,118,29,0.100000)\", \"y\": 6.1, \"marker\": {\"radius\": 3.0}}, {\"x\": 15, \"color\": \"rgba(166,118,29,0.100000)\", \"y\": 4.0, \"marker\": {\"radius\": 3.0}}, {\"x\": 18, \"color\": \"rgba(166,118,29,0.100000)\", \"y\": 4.2, \"marker\": {\"radius\": 4.0}}, {\"x\": 18, \"color\": \"rgba(166,118,29,0.100000)\", \"y\": 4.4, \"marker\": {\"radius\": 4.0}}, {\"x\": 15, \"color\": \"rgba(166,118,29,0.100000)\", \"y\": 4.6, \"marker\": {\"radius\": 3.0}}, {\"x\": 17, \"color\": \"rgba(166,118,29,1.000000)\", \"y\": 5.4, \"marker\": {\"radius\": 3.0}}, {\"x\": 16, \"color\": \"rgba(166,118,29,1.000000)\", \"y\": 5.4, \"marker\": {\"radius\": 3.0}}, {\"x\": 18, \"color\": \"rgba(166,118,29,1.000000)\", \"y\": 5.4, \"marker\": {\"radius\": 4.0}}, {\"x\": 17, \"color\": \"rgba(166,118,29,0.100000)\", \"y\": 4.0, \"marker\": {\"radius\": 4.0}}, {\"x\": 19, \"color\": \"rgba(166,118,29,0.100000)\", \"y\": 4.0, \"marker\": {\"radius\": 4.0}}, {\"x\": 19, \"color\": \"rgba(166,118,29,0.100000)\", \"y\": 4.6, \"marker\": {\"radius\": 4.0}}, {\"x\": 17, \"color\": \"rgba(166,118,29,0.100000)\", \"y\": 5.0, \"marker\": {\"radius\": 4.0}}, {\"x\": 29, \"color\": \"rgba(217,95,2,0.550000)\", \"y\": 2.4, \"marker\": {\"radius\": 8.0}}, {\"x\": 27, \"color\": \"rgba(217,95,2,0.550000)\", \"y\": 2.4, \"marker\": {\"radius\": 7.0}}, {\"x\": 31, \"color\": \"rgba(117,112,179,0.550000)\", \"y\": 2.5, \"marker\": {\"radius\": 9.0}}, {\"x\": 32, \"color\": \"rgba(117,112,179,0.550000)\", \"y\": 2.5, \"marker\": {\"radius\": 9.0}}, {\"x\": 27, \"color\": \"rgba(117,112,179,0.550000)\", \"y\": 3.5, \"marker\": {\"radius\": 7.0}}, {\"x\": 26, \"color\": \"rgba(117,112,179,0.550000)\", \"y\": 3.5, \"marker\": {\"radius\": 7.0}}, {\"x\": 26, \"color\": \"rgba(117,112,179,0.550000)\", \"y\": 3.0, \"marker\": {\"radius\": 6.0}}, {\"x\": 25, \"color\": \"rgba(117,112,179,0.550000)\", \"y\": 3.0, \"marker\": {\"radius\": 7.0}}, {\"x\": 25, \"color\": \"rgba(117,112,179,0.550000)\", \"y\": 3.5, \"marker\": {\"radius\": 7.0}}, {\"x\": 17, \"color\": \"rgba(166,118,29,0.100000)\", \"y\": 3.3, \"marker\": {\"radius\": 4.0}}, {\"x\": 17, \"color\": \"rgba(166,118,29,0.100000)\", \"y\": 3.3, \"marker\": {\"radius\": 5.0}}, {\"x\": 20, \"color\": \"rgba(166,118,29,0.100000)\", \"y\": 4.0, \"marker\": {\"radius\": 4.0}}, {\"x\": 18, \"color\": \"rgba(166,118,29,0.100000)\", \"y\": 5.6, \"marker\": {\"radius\": 4.0}}, {\"x\": 26, \"color\": \"rgba(117,112,179,0.550000)\", \"y\": 3.1, \"marker\": {\"radius\": 6.0}}, {\"x\": 26, \"color\": \"rgba(117,112,179,0.550000)\", \"y\": 3.8, \"marker\": {\"radius\": 6.0}}, {\"x\": 27, \"color\": \"rgba(117,112,179,0.550000)\", \"y\": 3.8, \"marker\": {\"radius\": 6.0}}, {\"x\": 28, \"color\": \"rgba(117,112,179,0.550000)\", \"y\": 3.8, \"marker\": {\"radius\": 6.0}}, {\"x\": 25, \"color\": \"rgba(117,112,179,0.550000)\", \"y\": 5.3, \"marker\": {\"radius\": 6.0}}, {\"x\": 25, \"color\": \"rgba(166,118,29,0.100000)\", \"y\": 2.5, \"marker\": {\"radius\": 6.0}}, {\"x\": 24, \"color\": \"rgba(166,118,29,0.100000)\", \"y\": 2.5, \"marker\": {\"radius\": 6.0}}, {\"x\": 27, \"color\": \"rgba(166,118,29,0.100000)\", \"y\": 2.5, \"marker\": {\"radius\": 8.0}}, {\"x\": 25, \"color\": \"rgba(166,118,29,0.100000)\", \"y\": 2.5, \"marker\": {\"radius\": 7.0}}, {\"x\": 26, \"color\": \"rgba(166,118,29,0.100000)\", \"y\": 2.5, \"marker\": {\"radius\": 8.0}}, {\"x\": 23, \"color\": \"rgba(166,118,29,0.100000)\", \"y\": 2.5, \"marker\": {\"radius\": 6.0}}, {\"x\": 26, \"color\": \"rgba(230,171,2,0.100000)\", \"y\": 2.2, \"marker\": {\"radius\": 8.0}}, {\"x\": 26, \"color\": \"rgba(230,171,2,0.100000)\", \"y\": 2.2, \"marker\": {\"radius\": 7.0}}, {\"x\": 26, \"color\": \"rgba(230,171,2,0.100000)\", \"y\": 2.5, \"marker\": {\"radius\": 7.0}}, {\"x\": 26, \"color\": \"rgba(230,171,2,0.100000)\", \"y\": 2.5, \"marker\": {\"radius\": 7.0}}, {\"x\": 25, \"color\": \"rgba(217,95,2,0.100000)\", \"y\": 2.5, \"marker\": {\"radius\": 8.0}}, {\"x\": 27, \"color\": \"rgba(217,95,2,0.100000)\", \"y\": 2.5, \"marker\": {\"radius\": 8.0}}, {\"x\": 25, \"color\": \"rgba(217,95,2,0.100000)\", \"y\": 2.5, \"marker\": {\"radius\": 7.0}}, {\"x\": 27, \"color\": \"rgba(217,95,2,0.100000)\", \"y\": 2.5, \"marker\": {\"radius\": 8.0}}, {\"x\": 20, \"color\": \"rgba(166,118,29,0.100000)\", \"y\": 2.7, \"marker\": {\"radius\": 5.0}}, {\"x\": 20, \"color\": \"rgba(166,118,29,0.100000)\", \"y\": 2.7, \"marker\": {\"radius\": 6.0}}, {\"x\": 19, \"color\": \"rgba(166,118,29,0.100000)\", \"y\": 3.4, \"marker\": {\"radius\": 5.0}}, {\"x\": 17, \"color\": \"rgba(166,118,29,0.100000)\", \"y\": 3.4, \"marker\": {\"radius\": 5.0}}, {\"x\": 20, \"color\": \"rgba(166,118,29,0.100000)\", \"y\": 4.0, \"marker\": {\"radius\": 6.0}}, {\"x\": 17, \"color\": \"rgba(166,118,29,0.100000)\", \"y\": 4.7, \"marker\": {\"radius\": 4.0}}, {\"x\": 29, \"color\": \"rgba(117,112,179,0.550000)\", \"y\": 2.2, \"marker\": {\"radius\": 8.0}}, {\"x\": 27, \"color\": \"rgba(117,112,179,0.550000)\", \"y\": 2.2, \"marker\": {\"radius\": 8.0}}, {\"x\": 31, \"color\": \"rgba(117,112,179,0.550000)\", \"y\": 2.4, \"marker\": {\"radius\": 8.0}}, {\"x\": 31, \"color\": \"rgba(117,112,179,0.550000)\", \"y\": 2.4, \"marker\": {\"radius\": 8.0}}, {\"x\": 26, \"color\": \"rgba(117,112,179,0.550000)\", \"y\": 3.0, \"marker\": {\"radius\": 6.0}}, {\"x\": 26, \"color\": \"rgba(117,112,179,0.550000)\", \"y\": 3.0, \"marker\": {\"radius\": 6.0}}, {\"x\": 28, \"color\": \"rgba(117,112,179,0.550000)\", \"y\": 3.5, \"marker\": {\"radius\": 7.0}}, {\"x\": 27, \"color\": \"rgba(217,95,2,0.550000)\", \"y\": 2.2, \"marker\": {\"radius\": 8.0}}, {\"x\": 29, \"color\": \"rgba(217,95,2,0.550000)\", \"y\": 2.2, \"marker\": {\"radius\": 8.0}}, {\"x\": 31, \"color\": \"rgba(217,95,2,0.550000)\", \"y\": 2.4, \"marker\": {\"radius\": 8.0}}, {\"x\": 31, \"color\": \"rgba(217,95,2,0.550000)\", \"y\": 2.4, \"marker\": {\"radius\": 8.0}}, {\"x\": 26, \"color\": \"rgba(217,95,2,0.550000)\", \"y\": 3.0, \"marker\": {\"radius\": 6.0}}, {\"x\": 26, \"color\": \"rgba(217,95,2,0.550000)\", \"y\": 3.0, \"marker\": {\"radius\": 6.0}}, {\"x\": 27, \"color\": \"rgba(217,95,2,0.550000)\", \"y\": 3.3, \"marker\": {\"radius\": 6.0}}, {\"x\": 30, \"color\": \"rgba(217,95,2,0.550000)\", \"y\": 1.8, \"marker\": {\"radius\": 10.0}}, {\"x\": 33, \"color\": \"rgba(217,95,2,0.550000)\", \"y\": 1.8, \"marker\": {\"radius\": 10.0}}, {\"x\": 35, \"color\": \"rgba(217,95,2,0.550000)\", \"y\": 1.8, \"marker\": {\"radius\": 10.0}}, {\"x\": 37, \"color\": \"rgba(217,95,2,0.550000)\", \"y\": 1.8, \"marker\": {\"radius\": 12.0}}, {\"x\": 35, \"color\": \"rgba(217,95,2,0.550000)\", \"y\": 1.8, \"marker\": {\"radius\": 10.0}}, {\"x\": 15, \"color\": \"rgba(166,118,29,0.100000)\", \"y\": 4.7, \"marker\": {\"radius\": 3.0}}, {\"x\": 18, \"color\": \"rgba(166,118,29,0.100000)\", \"y\": 5.7, \"marker\": {\"radius\": 4.0}}, {\"x\": 20, \"color\": \"rgba(102,166,30,0.100000)\", \"y\": 2.7, \"marker\": {\"radius\": 5.0}}, {\"x\": 20, \"color\": \"rgba(102,166,30,0.100000)\", \"y\": 2.7, \"marker\": {\"radius\": 6.0}}, {\"x\": 22, \"color\": \"rgba(102,166,30,0.100000)\", \"y\": 2.7, \"marker\": {\"radius\": 6.0}}, {\"x\": 17, \"color\": \"rgba(102,166,30,0.100000)\", \"y\": 3.4, \"marker\": {\"radius\": 5.0}}, {\"x\": 19, \"color\": \"rgba(102,166,30,0.100000)\", \"y\": 3.4, \"marker\": {\"radius\": 5.0}}, {\"x\": 18, \"color\": \"rgba(102,166,30,0.100000)\", \"y\": 4.0, \"marker\": {\"radius\": 5.0}}, {\"x\": 20, \"color\": \"rgba(102,166,30,0.100000)\", \"y\": 4.0, \"marker\": {\"radius\": 6.0}}, {\"x\": 29, \"color\": \"rgba(217,95,2,0.550000)\", \"y\": 2.0, \"marker\": {\"radius\": 8.0}}, {\"x\": 26, \"color\": \"rgba(217,95,2,0.550000)\", \"y\": 2.0, \"marker\": {\"radius\": 7.0}}, {\"x\": 29, \"color\": \"rgba(217,95,2,0.550000)\", \"y\": 2.0, \"marker\": {\"radius\": 8.0}}, {\"x\": 29, \"color\": \"rgba(217,95,2,0.550000)\", \"y\": 2.0, \"marker\": {\"radius\": 8.0}}, {\"x\": 24, \"color\": \"rgba(217,95,2,0.550000)\", \"y\": 2.8, \"marker\": {\"radius\": 6.0}}, {\"x\": 44, \"color\": \"rgba(217,95,2,0.550000)\", \"y\": 1.9, \"marker\": {\"radius\": 14.0}}, {\"x\": 29, \"color\": \"rgba(217,95,2,0.550000)\", \"y\": 2.0, \"marker\": {\"radius\": 8.0}}, {\"x\": 26, \"color\": \"rgba(217,95,2,0.550000)\", \"y\": 2.0, \"marker\": {\"radius\": 7.0}}, {\"x\": 29, \"color\": \"rgba(217,95,2,0.550000)\", \"y\": 2.0, \"marker\": {\"radius\": 8.0}}, {\"x\": 29, \"color\": \"rgba(217,95,2,0.550000)\", \"y\": 2.0, \"marker\": {\"radius\": 8.0}}, {\"x\": 29, \"color\": \"rgba(217,95,2,0.550000)\", \"y\": 2.5, \"marker\": {\"radius\": 8.0}}, {\"x\": 29, \"color\": \"rgba(217,95,2,0.550000)\", \"y\": 2.5, \"marker\": {\"radius\": 8.0}}, {\"x\": 23, \"color\": \"rgba(217,95,2,0.550000)\", \"y\": 2.8, \"marker\": {\"radius\": 6.0}}, {\"x\": 24, \"color\": \"rgba(217,95,2,0.550000)\", \"y\": 2.8, \"marker\": {\"radius\": 6.0}}, {\"x\": 44, \"color\": \"rgba(230,171,2,0.550000)\", \"y\": 1.9, \"marker\": {\"radius\": 15.0}}, {\"x\": 41, \"color\": \"rgba(230,171,2,0.550000)\", \"y\": 1.9, \"marker\": {\"radius\": 12.0}}, {\"x\": 29, \"color\": \"rgba(230,171,2,0.550000)\", \"y\": 2.0, \"marker\": {\"radius\": 8.0}}, {\"x\": 26, \"color\": \"rgba(230,171,2,0.550000)\", \"y\": 2.0, \"marker\": {\"radius\": 7.0}}, {\"x\": 28, \"color\": \"rgba(230,171,2,0.550000)\", \"y\": 2.5, \"marker\": {\"radius\": 8.0}}, {\"x\": 29, \"color\": \"rgba(230,171,2,0.550000)\", \"y\": 2.5, \"marker\": {\"radius\": 8.0}}, {\"x\": 29, \"color\": \"rgba(117,112,179,0.550000)\", \"y\": 1.8, \"marker\": {\"radius\": 8.0}}, {\"x\": 29, \"color\": \"rgba(117,112,179,0.550000)\", \"y\": 1.8, \"marker\": {\"radius\": 6.0}}, {\"x\": 28, \"color\": \"rgba(117,112,179,0.550000)\", \"y\": 2.0, \"marker\": {\"radius\": 7.0}}, {\"x\": 29, \"color\": \"rgba(117,112,179,0.550000)\", \"y\": 2.0, \"marker\": {\"radius\": 8.0}}, {\"x\": 26, \"color\": \"rgba(117,112,179,0.550000)\", \"y\": 2.8, \"marker\": {\"radius\": 6.0}}, {\"x\": 26, \"color\": \"rgba(117,112,179,0.550000)\", \"y\": 2.8, \"marker\": {\"radius\": 6.0}}, {\"x\": 26, \"color\": \"rgba(117,112,179,0.550000)\", \"y\": 3.6, \"marker\": {\"radius\": 6.0}}], \"marker\": {\"symbol\": \"diamond\", \"radius\": 5}}]});\n",
       "\n",
       "    });\n",
       "</script>\n"
      ],
      "text/plain": [
       "<hcplot.figure.Figure at 0x1068d9278>"
      ]
     },
     "execution_count": 11,
     "metadata": {},
     "output_type": "execute_result"
    }
   ],
   "source": [
    "fig = Figure(mpg, \n",
    "             mapping(x=\"hwy\", y=\"displ\", color=\"class\", size=\"cty\", alpha=\"drv\"),\n",
    "             scale(color=Brewer(\"qual\", \"Dark2\", discrete=True), \n",
    "                   size=Size(end=15, discrete=False)),\n",
    "             width=512, ratio=1) \\\n",
    "    + Points(size=5)\n",
    "fig"
   ]
  },
  {
   "cell_type": "code",
   "execution_count": 11,
   "metadata": {
    "collapsed": false
   },
   "outputs": [
    {
     "data": {
      "text/html": [
       "<table id=\"hc_b9ab4575-5518-4338-871a-01de3e2ffaa4\" class=\"hcTable\">\n",
       "  <tr id=\"hc_b9ab4575-5518-4338-871a-01de3e2ffaa4_0\" class=\"hcTable\">\n",
       "\n",
       "    <td class=\"hcTable\">\n",
       "        <div id=\"hc_b9ab4575-5518-4338-871a-01de3e2ffaa4_0-0\" style=\"width:562px; height:537px; padding:1px 0px 25px 1px;\"></div>\n",
       "    </td>\n",
       "\n",
       "  </tr>\n",
       "</table>\n",
       "\n",
       "<script>\n",
       "    window.hc_charts.promise.then(function(HC) {\n",
       "\n",
       "//      console.log(\"0-0\")\n",
       "        HC.chart(\"hc_b9ab4575-5518-4338-871a-01de3e2ffaa4_0-0\", {\"exporting\": {\"enabled\": false}, \"legend\": {\"enabled\": false}, \"credits\": {\"position\": {\"y\": -5}}, \"title\": {\"text\": null}, \"series\": [{\"marker\": {\"symbol\": \"diamond\", \"radius\": 5}, \"color\": \"rgba(124,181,236,1.000000)\", \"type\": \"scatter\", \"name\": \"displ\", \"data\": [{\"y\": 1.8, \"x\": 29, \"color\": \"rgb(217,95,2)\"}, {\"y\": 1.8, \"x\": 29, \"color\": \"rgb(217,95,2)\"}, {\"y\": 2.0, \"x\": 31, \"color\": \"rgb(217,95,2)\"}, {\"y\": 2.0, \"x\": 30, \"color\": \"rgb(217,95,2)\"}, {\"y\": 2.8, \"x\": 26, \"color\": \"rgb(217,95,2)\"}, {\"y\": 2.8, \"x\": 26, \"color\": \"rgb(217,95,2)\"}, {\"y\": 3.1, \"x\": 27, \"color\": \"rgb(217,95,2)\"}, {\"y\": 1.8, \"x\": 26, \"color\": \"rgb(217,95,2)\"}, {\"y\": 1.8, \"x\": 25, \"color\": \"rgb(217,95,2)\"}, {\"y\": 2.0, \"x\": 28, \"color\": \"rgb(217,95,2)\"}, {\"y\": 2.0, \"x\": 27, \"color\": \"rgb(217,95,2)\"}, {\"y\": 2.8, \"x\": 25, \"color\": \"rgb(217,95,2)\"}, {\"y\": 2.8, \"x\": 25, \"color\": \"rgb(217,95,2)\"}, {\"y\": 3.1, \"x\": 25, \"color\": \"rgb(217,95,2)\"}, {\"y\": 3.1, \"x\": 25, \"color\": \"rgb(217,95,2)\"}, {\"y\": 2.8, \"x\": 24, \"color\": \"rgb(117,112,179)\"}, {\"y\": 3.1, \"x\": 25, \"color\": \"rgb(117,112,179)\"}, {\"y\": 4.2, \"x\": 23, \"color\": \"rgb(117,112,179)\"}, {\"y\": 5.3, \"x\": 20, \"color\": \"rgb(166,118,29)\"}, {\"y\": 5.3, \"x\": 15, \"color\": \"rgb(166,118,29)\"}, {\"y\": 5.3, \"x\": 20, \"color\": \"rgb(166,118,29)\"}, {\"y\": 5.7, \"x\": 17, \"color\": \"rgb(166,118,29)\"}, {\"y\": 6.0, \"x\": 17, \"color\": \"rgb(166,118,29)\"}, {\"y\": 5.7, \"x\": 26, \"color\": \"rgb(27,158,119)\"}, {\"y\": 5.7, \"x\": 23, \"color\": \"rgb(27,158,119)\"}, {\"y\": 6.2, \"x\": 26, \"color\": \"rgb(27,158,119)\"}, {\"y\": 6.2, \"x\": 25, \"color\": \"rgb(27,158,119)\"}, {\"y\": 7.0, \"x\": 24, \"color\": \"rgb(27,158,119)\"}, {\"y\": 5.3, \"x\": 19, \"color\": \"rgb(166,118,29)\"}, {\"y\": 5.3, \"x\": 14, \"color\": \"rgb(166,118,29)\"}, {\"y\": 5.7, \"x\": 15, \"color\": \"rgb(166,118,29)\"}, {\"y\": 6.5, \"x\": 17, \"color\": \"rgb(166,118,29)\"}, {\"y\": 2.4, \"x\": 27, \"color\": \"rgb(117,112,179)\"}, {\"y\": 2.4, \"x\": 30, \"color\": \"rgb(117,112,179)\"}, {\"y\": 3.1, \"x\": 26, \"color\": \"rgb(117,112,179)\"}, {\"y\": 3.5, \"x\": 29, \"color\": \"rgb(117,112,179)\"}, {\"y\": 3.6, \"x\": 26, \"color\": \"rgb(117,112,179)\"}, {\"y\": 2.4, \"x\": 24, \"color\": \"rgb(231,41,138)\"}, {\"y\": 3.0, \"x\": 24, \"color\": \"rgb(231,41,138)\"}, {\"y\": 3.3, \"x\": 22, \"color\": \"rgb(231,41,138)\"}, {\"y\": 3.3, \"x\": 22, \"color\": \"rgb(231,41,138)\"}, {\"y\": 3.3, \"x\": 24, \"color\": \"rgb(231,41,138)\"}, {\"y\": 3.3, \"x\": 24, \"color\": \"rgb(231,41,138)\"}, {\"y\": 3.3, \"x\": 17, \"color\": \"rgb(231,41,138)\"}, {\"y\": 3.8, \"x\": 22, \"color\": \"rgb(231,41,138)\"}, {\"y\": 3.8, \"x\": 21, \"color\": \"rgb(231,41,138)\"}, {\"y\": 3.8, \"x\": 23, \"color\": \"rgb(231,41,138)\"}, {\"y\": 4.0, \"x\": 23, \"color\": \"rgb(231,41,138)\"}, {\"y\": 3.7, \"x\": 19, \"color\": \"rgb(102,166,30)\"}, {\"y\": 3.7, \"x\": 18, \"color\": \"rgb(102,166,30)\"}, {\"y\": 3.9, \"x\": 17, \"color\": \"rgb(102,166,30)\"}, {\"y\": 3.9, \"x\": 17, \"color\": \"rgb(102,166,30)\"}, {\"y\": 4.7, \"x\": 19, \"color\": \"rgb(102,166,30)\"}, {\"y\": 4.7, \"x\": 19, \"color\": \"rgb(102,166,30)\"}, {\"y\": 4.7, \"x\": 12, \"color\": \"rgb(102,166,30)\"}, {\"y\": 5.2, \"x\": 17, \"color\": \"rgb(102,166,30)\"}, {\"y\": 5.2, \"x\": 15, \"color\": \"rgb(102,166,30)\"}, {\"y\": 3.9, \"x\": 17, \"color\": \"rgb(166,118,29)\"}, {\"y\": 4.7, \"x\": 17, \"color\": \"rgb(166,118,29)\"}, {\"y\": 4.7, \"x\": 12, \"color\": \"rgb(166,118,29)\"}, {\"y\": 4.7, \"x\": 17, \"color\": \"rgb(166,118,29)\"}, {\"y\": 5.2, \"x\": 16, \"color\": \"rgb(166,118,29)\"}, {\"y\": 5.7, \"x\": 18, \"color\": \"rgb(166,118,29)\"}, {\"y\": 5.9, \"x\": 15, \"color\": \"rgb(166,118,29)\"}, {\"y\": 4.7, \"x\": 16, \"color\": \"rgb(102,166,30)\"}, {\"y\": 4.7, \"x\": 12, \"color\": \"rgb(102,166,30)\"}, {\"y\": 4.7, \"x\": 17, \"color\": \"rgb(102,166,30)\"}, {\"y\": 4.7, \"x\": 17, \"color\": \"rgb(102,166,30)\"}, {\"y\": 4.7, \"x\": 16, \"color\": \"rgb(102,166,30)\"}, {\"y\": 4.7, \"x\": 12, \"color\": \"rgb(102,166,30)\"}, {\"y\": 5.2, \"x\": 15, \"color\": \"rgb(102,166,30)\"}, {\"y\": 5.2, \"x\": 16, \"color\": \"rgb(102,166,30)\"}, {\"y\": 5.7, \"x\": 17, \"color\": \"rgb(102,166,30)\"}, {\"y\": 5.9, \"x\": 15, \"color\": \"rgb(102,166,30)\"}, {\"y\": 4.6, \"x\": 17, \"color\": \"rgb(166,118,29)\"}, {\"y\": 5.4, \"x\": 17, \"color\": \"rgb(166,118,29)\"}, {\"y\": 5.4, \"x\": 18, \"color\": \"rgb(166,118,29)\"}, {\"y\": 4.0, \"x\": 17, \"color\": \"rgb(166,118,29)\"}, {\"y\": 4.0, \"x\": 19, \"color\": \"rgb(166,118,29)\"}, {\"y\": 4.0, \"x\": 17, \"color\": \"rgb(166,118,29)\"}, {\"y\": 4.0, \"x\": 19, \"color\": \"rgb(166,118,29)\"}, {\"y\": 4.6, \"x\": 19, \"color\": \"rgb(166,118,29)\"}, {\"y\": 5.0, \"x\": 17, \"color\": \"rgb(166,118,29)\"}, {\"y\": 4.2, \"x\": 17, \"color\": \"rgb(102,166,30)\"}, {\"y\": 4.2, \"x\": 17, \"color\": \"rgb(102,166,30)\"}, {\"y\": 4.6, \"x\": 16, \"color\": \"rgb(102,166,30)\"}, {\"y\": 4.6, \"x\": 16, \"color\": \"rgb(102,166,30)\"}, {\"y\": 4.6, \"x\": 17, \"color\": \"rgb(102,166,30)\"}, {\"y\": 5.4, \"x\": 15, \"color\": \"rgb(102,166,30)\"}, {\"y\": 5.4, \"x\": 17, \"color\": \"rgb(102,166,30)\"}, {\"y\": 3.8, \"x\": 26, \"color\": \"rgb(230,171,2)\"}, {\"y\": 3.8, \"x\": 25, \"color\": \"rgb(230,171,2)\"}, {\"y\": 4.0, \"x\": 26, \"color\": \"rgb(230,171,2)\"}, {\"y\": 4.0, \"x\": 24, \"color\": \"rgb(230,171,2)\"}, {\"y\": 4.6, \"x\": 21, \"color\": \"rgb(230,171,2)\"}, {\"y\": 4.6, \"x\": 22, \"color\": \"rgb(230,171,2)\"}, {\"y\": 4.6, \"x\": 23, \"color\": \"rgb(230,171,2)\"}, {\"y\": 4.6, \"x\": 22, \"color\": \"rgb(230,171,2)\"}, {\"y\": 5.4, \"x\": 20, \"color\": \"rgb(230,171,2)\"}, {\"y\": 1.6, \"x\": 33, \"color\": \"rgb(230,171,2)\"}, {\"y\": 1.6, \"x\": 32, \"color\": \"rgb(230,171,2)\"}, {\"y\": 1.6, \"x\": 32, \"color\": \"rgb(230,171,2)\"}, {\"y\": 1.6, \"x\": 29, \"color\": \"rgb(230,171,2)\"}, {\"y\": 1.6, \"x\": 32, \"color\": \"rgb(230,171,2)\"}, {\"y\": 1.8, \"x\": 34, \"color\": \"rgb(230,171,2)\"}, {\"y\": 1.8, \"x\": 36, \"color\": \"rgb(230,171,2)\"}, {\"y\": 1.8, \"x\": 36, \"color\": \"rgb(230,171,2)\"}, {\"y\": 2.0, \"x\": 29, \"color\": \"rgb(230,171,2)\"}, {\"y\": 2.4, \"x\": 26, \"color\": \"rgb(117,112,179)\"}, {\"y\": 2.4, \"x\": 27, \"color\": \"rgb(117,112,179)\"}, {\"y\": 2.4, \"x\": 30, \"color\": \"rgb(117,112,179)\"}, {\"y\": 2.4, \"x\": 31, \"color\": \"rgb(117,112,179)\"}, {\"y\": 2.5, \"x\": 26, \"color\": \"rgb(117,112,179)\"}, {\"y\": 2.5, \"x\": 26, \"color\": \"rgb(117,112,179)\"}, {\"y\": 3.3, \"x\": 28, \"color\": \"rgb(117,112,179)\"}, {\"y\": 2.0, \"x\": 26, \"color\": \"rgb(230,171,2)\"}, {\"y\": 2.0, \"x\": 29, \"color\": \"rgb(230,171,2)\"}, {\"y\": 2.0, \"x\": 28, \"color\": \"rgb(230,171,2)\"}, {\"y\": 2.0, \"x\": 27, \"color\": \"rgb(230,171,2)\"}, {\"y\": 2.7, \"x\": 24, \"color\": \"rgb(230,171,2)\"}, {\"y\": 2.7, \"x\": 24, \"color\": \"rgb(230,171,2)\"}, {\"y\": 2.7, \"x\": 24, \"color\": \"rgb(230,171,2)\"}, {\"y\": 3.0, \"x\": 22, \"color\": \"rgb(166,118,29)\"}, {\"y\": 3.7, \"x\": 19, \"color\": \"rgb(166,118,29)\"}, {\"y\": 4.0, \"x\": 20, \"color\": \"rgb(166,118,29)\"}, {\"y\": 4.7, \"x\": 17, \"color\": \"rgb(166,118,29)\"}, {\"y\": 4.7, \"x\": 12, \"color\": \"rgb(166,118,29)\"}, {\"y\": 4.7, \"x\": 19, \"color\": \"rgb(166,118,29)\"}, {\"y\": 5.7, \"x\": 18, \"color\": \"rgb(166,118,29)\"}, {\"y\": 6.1, \"x\": 14, \"color\": \"rgb(166,118,29)\"}, {\"y\": 4.0, \"x\": 15, \"color\": \"rgb(166,118,29)\"}, {\"y\": 4.2, \"x\": 18, \"color\": \"rgb(166,118,29)\"}, {\"y\": 4.4, \"x\": 18, \"color\": \"rgb(166,118,29)\"}, {\"y\": 4.6, \"x\": 15, \"color\": \"rgb(166,118,29)\"}, {\"y\": 5.4, \"x\": 17, \"color\": \"rgb(166,118,29)\"}, {\"y\": 5.4, \"x\": 16, \"color\": \"rgb(166,118,29)\"}, {\"y\": 5.4, \"x\": 18, \"color\": \"rgb(166,118,29)\"}, {\"y\": 4.0, \"x\": 17, \"color\": \"rgb(166,118,29)\"}, {\"y\": 4.0, \"x\": 19, \"color\": \"rgb(166,118,29)\"}, {\"y\": 4.6, \"x\": 19, \"color\": \"rgb(166,118,29)\"}, {\"y\": 5.0, \"x\": 17, \"color\": \"rgb(166,118,29)\"}, {\"y\": 2.4, \"x\": 29, \"color\": \"rgb(217,95,2)\"}, {\"y\": 2.4, \"x\": 27, \"color\": \"rgb(217,95,2)\"}, {\"y\": 2.5, \"x\": 31, \"color\": \"rgb(117,112,179)\"}, {\"y\": 2.5, \"x\": 32, \"color\": \"rgb(117,112,179)\"}, {\"y\": 3.5, \"x\": 27, \"color\": \"rgb(117,112,179)\"}, {\"y\": 3.5, \"x\": 26, \"color\": \"rgb(117,112,179)\"}, {\"y\": 3.0, \"x\": 26, \"color\": \"rgb(117,112,179)\"}, {\"y\": 3.0, \"x\": 25, \"color\": \"rgb(117,112,179)\"}, {\"y\": 3.5, \"x\": 25, \"color\": \"rgb(117,112,179)\"}, {\"y\": 3.3, \"x\": 17, \"color\": \"rgb(166,118,29)\"}, {\"y\": 3.3, \"x\": 17, \"color\": \"rgb(166,118,29)\"}, {\"y\": 4.0, \"x\": 20, \"color\": \"rgb(166,118,29)\"}, {\"y\": 5.6, \"x\": 18, \"color\": \"rgb(166,118,29)\"}, {\"y\": 3.1, \"x\": 26, \"color\": \"rgb(117,112,179)\"}, {\"y\": 3.8, \"x\": 26, \"color\": \"rgb(117,112,179)\"}, {\"y\": 3.8, \"x\": 27, \"color\": \"rgb(117,112,179)\"}, {\"y\": 3.8, \"x\": 28, \"color\": \"rgb(117,112,179)\"}, {\"y\": 5.3, \"x\": 25, \"color\": \"rgb(117,112,179)\"}, {\"y\": 2.5, \"x\": 25, \"color\": \"rgb(166,118,29)\"}, {\"y\": 2.5, \"x\": 24, \"color\": \"rgb(166,118,29)\"}, {\"y\": 2.5, \"x\": 27, \"color\": \"rgb(166,118,29)\"}, {\"y\": 2.5, \"x\": 25, \"color\": \"rgb(166,118,29)\"}, {\"y\": 2.5, \"x\": 26, \"color\": \"rgb(166,118,29)\"}, {\"y\": 2.5, \"x\": 23, \"color\": \"rgb(166,118,29)\"}, {\"y\": 2.2, \"x\": 26, \"color\": \"rgb(230,171,2)\"}, {\"y\": 2.2, \"x\": 26, \"color\": \"rgb(230,171,2)\"}, {\"y\": 2.5, \"x\": 26, \"color\": \"rgb(230,171,2)\"}, {\"y\": 2.5, \"x\": 26, \"color\": \"rgb(230,171,2)\"}, {\"y\": 2.5, \"x\": 25, \"color\": \"rgb(217,95,2)\"}, {\"y\": 2.5, \"x\": 27, \"color\": \"rgb(217,95,2)\"}, {\"y\": 2.5, \"x\": 25, \"color\": \"rgb(217,95,2)\"}, {\"y\": 2.5, \"x\": 27, \"color\": \"rgb(217,95,2)\"}, {\"y\": 2.7, \"x\": 20, \"color\": \"rgb(166,118,29)\"}, {\"y\": 2.7, \"x\": 20, \"color\": \"rgb(166,118,29)\"}, {\"y\": 3.4, \"x\": 19, \"color\": \"rgb(166,118,29)\"}, {\"y\": 3.4, \"x\": 17, \"color\": \"rgb(166,118,29)\"}, {\"y\": 4.0, \"x\": 20, \"color\": \"rgb(166,118,29)\"}, {\"y\": 4.7, \"x\": 17, \"color\": \"rgb(166,118,29)\"}, {\"y\": 2.2, \"x\": 29, \"color\": \"rgb(117,112,179)\"}, {\"y\": 2.2, \"x\": 27, \"color\": \"rgb(117,112,179)\"}, {\"y\": 2.4, \"x\": 31, \"color\": \"rgb(117,112,179)\"}, {\"y\": 2.4, \"x\": 31, \"color\": \"rgb(117,112,179)\"}, {\"y\": 3.0, \"x\": 26, \"color\": \"rgb(117,112,179)\"}, {\"y\": 3.0, \"x\": 26, \"color\": \"rgb(117,112,179)\"}, {\"y\": 3.5, \"x\": 28, \"color\": \"rgb(117,112,179)\"}, {\"y\": 2.2, \"x\": 27, \"color\": \"rgb(217,95,2)\"}, {\"y\": 2.2, \"x\": 29, \"color\": \"rgb(217,95,2)\"}, {\"y\": 2.4, \"x\": 31, \"color\": \"rgb(217,95,2)\"}, {\"y\": 2.4, \"x\": 31, \"color\": \"rgb(217,95,2)\"}, {\"y\": 3.0, \"x\": 26, \"color\": \"rgb(217,95,2)\"}, {\"y\": 3.0, \"x\": 26, \"color\": \"rgb(217,95,2)\"}, {\"y\": 3.3, \"x\": 27, \"color\": \"rgb(217,95,2)\"}, {\"y\": 1.8, \"x\": 30, \"color\": \"rgb(217,95,2)\"}, {\"y\": 1.8, \"x\": 33, \"color\": \"rgb(217,95,2)\"}, {\"y\": 1.8, \"x\": 35, \"color\": \"rgb(217,95,2)\"}, {\"y\": 1.8, \"x\": 37, \"color\": \"rgb(217,95,2)\"}, {\"y\": 1.8, \"x\": 35, \"color\": \"rgb(217,95,2)\"}, {\"y\": 4.7, \"x\": 15, \"color\": \"rgb(166,118,29)\"}, {\"y\": 5.7, \"x\": 18, \"color\": \"rgb(166,118,29)\"}, {\"y\": 2.7, \"x\": 20, \"color\": \"rgb(102,166,30)\"}, {\"y\": 2.7, \"x\": 20, \"color\": \"rgb(102,166,30)\"}, {\"y\": 2.7, \"x\": 22, \"color\": \"rgb(102,166,30)\"}, {\"y\": 3.4, \"x\": 17, \"color\": \"rgb(102,166,30)\"}, {\"y\": 3.4, \"x\": 19, \"color\": \"rgb(102,166,30)\"}, {\"y\": 4.0, \"x\": 18, \"color\": \"rgb(102,166,30)\"}, {\"y\": 4.0, \"x\": 20, \"color\": \"rgb(102,166,30)\"}, {\"y\": 2.0, \"x\": 29, \"color\": \"rgb(217,95,2)\"}, {\"y\": 2.0, \"x\": 26, \"color\": \"rgb(217,95,2)\"}, {\"y\": 2.0, \"x\": 29, \"color\": \"rgb(217,95,2)\"}, {\"y\": 2.0, \"x\": 29, \"color\": \"rgb(217,95,2)\"}, {\"y\": 2.8, \"x\": 24, \"color\": \"rgb(217,95,2)\"}, {\"y\": 1.9, \"x\": 44, \"color\": \"rgb(217,95,2)\"}, {\"y\": 2.0, \"x\": 29, \"color\": \"rgb(217,95,2)\"}, {\"y\": 2.0, \"x\": 26, \"color\": \"rgb(217,95,2)\"}, {\"y\": 2.0, \"x\": 29, \"color\": \"rgb(217,95,2)\"}, {\"y\": 2.0, \"x\": 29, \"color\": \"rgb(217,95,2)\"}, {\"y\": 2.5, \"x\": 29, \"color\": \"rgb(217,95,2)\"}, {\"y\": 2.5, \"x\": 29, \"color\": \"rgb(217,95,2)\"}, {\"y\": 2.8, \"x\": 23, \"color\": \"rgb(217,95,2)\"}, {\"y\": 2.8, \"x\": 24, \"color\": \"rgb(217,95,2)\"}, {\"y\": 1.9, \"x\": 44, \"color\": \"rgb(230,171,2)\"}, {\"y\": 1.9, \"x\": 41, \"color\": \"rgb(230,171,2)\"}, {\"y\": 2.0, \"x\": 29, \"color\": \"rgb(230,171,2)\"}, {\"y\": 2.0, \"x\": 26, \"color\": \"rgb(230,171,2)\"}, {\"y\": 2.5, \"x\": 28, \"color\": \"rgb(230,171,2)\"}, {\"y\": 2.5, \"x\": 29, \"color\": \"rgb(230,171,2)\"}, {\"y\": 1.8, \"x\": 29, \"color\": \"rgb(117,112,179)\"}, {\"y\": 1.8, \"x\": 29, \"color\": \"rgb(117,112,179)\"}, {\"y\": 2.0, \"x\": 28, \"color\": \"rgb(117,112,179)\"}, {\"y\": 2.0, \"x\": 29, \"color\": \"rgb(117,112,179)\"}, {\"y\": 2.8, \"x\": 26, \"color\": \"rgb(117,112,179)\"}, {\"y\": 2.8, \"x\": 26, \"color\": \"rgb(117,112,179)\"}, {\"y\": 3.6, \"x\": 26, \"color\": \"rgb(117,112,179)\"}]}], \"xAxis\": {\"gridLineWidth\": 1, \"title\": {\"text\": null}, \"min\": 12, \"tickWidth\": 1, \"max\": 44, \"lineWidth\": 1}, \"chart\": {\"width\": 552, \"spacingLeft\": 5, \"spacingRight\": 5, \"marginBottom\": 40, \"zoomType\": \"xy\", \"spacingTop\": 5, \"spacingBottom\": 5, \"marginLeft\": 50, \"height\": 542}, \"yAxis\": {\"gridLineWidth\": 1, \"title\": {\"text\": null}, \"min\": 1.6, \"tickWidth\": 1, \"max\": 7.0, \"lineWidth\": 1}});\n",
       "\n",
       "    });\n",
       "</script>\n"
      ],
      "text/plain": [
       "<hcplot.figure.Figure at 0x111e46d68>"
      ]
     },
     "execution_count": 11,
     "metadata": {},
     "output_type": "execute_result"
    }
   ],
   "source": [
    "fig = Figure(mpg, \n",
    "             mapping(x=\"hwy\", y=\"displ\", color=\"class\"),\n",
    "             scale(color=Brewer(\"qual\", \"Dark2\", True)),\n",
    "             width=512, ratio=1) \\\n",
    "    + Points(size=5)\n",
    "fig"
   ]
  },
  {
   "cell_type": "code",
   "execution_count": null,
   "metadata": {
    "collapsed": false,
    "scrolled": false
   },
   "outputs": [],
   "source": [
    "fig.layers[0].data.df"
   ]
  },
  {
   "cell_type": "markdown",
   "metadata": {},
   "source": [
    "# BASE"
   ]
  },
  {
   "cell_type": "markdown",
   "metadata": {},
   "source": [
    "# LAYER"
   ]
  },
  {
   "cell_type": "markdown",
   "metadata": {},
   "source": [
    "# LINE"
   ]
  },
  {
   "cell_type": "markdown",
   "metadata": {},
   "source": [
    "# FIGURE"
   ]
  },
  {
   "cell_type": "markdown",
   "metadata": {},
   "source": [
    "# COLOR"
   ]
  },
  {
   "cell_type": "markdown",
   "metadata": {},
   "source": [
    "# SCALE"
   ]
  },
  {
   "cell_type": "markdown",
   "metadata": {},
   "source": [
    "# UTILS"
   ]
  },
  {
   "cell_type": "markdown",
   "metadata": {},
   "source": [
    "# DATA"
   ]
  },
  {
   "cell_type": "markdown",
   "metadata": {},
   "source": [
    "# TEMPLATES"
   ]
  },
  {
   "cell_type": "code",
   "execution_count": 4,
   "metadata": {
    "collapsed": false,
    "scrolled": false
   },
   "outputs": [],
   "source": [
    "from hcplot.utils.color import rgbSpline, rgb2str\n",
    "from sklearn.preprocessing import MinMaxScaler\n",
    "\n",
    "\n",
    "class ColorBrewer(object):\n",
    "    \"\"\"\n",
    "    Source: http://colorbrewer2.org/#type=sequential&scheme=BuGn&n=3\n",
    "\n",
    "    \"\"\"\n",
    "    divScheme = {\n",
    "        \"Spectral\": [None, None, None,\n",
    "            [(252,141, 89), (255,255,191), (153,213,148)],                                                                                                                                           # noqa E501,E231,E201\n",
    "            [(215, 25, 28), (253,174, 97), (171,221,164), ( 43,131,186)],                                                                                                                            # noqa E501,E231,E201\n",
    "            [(215, 25, 28), (253,174, 97), (255,255,191), (171,221,164), ( 43,131,186)],                                                                                                             # noqa E501,E231,E201\n",
    "            [(213, 62, 79), (252,141, 89), (254,224,139), (230,245,152), (153,213,148), ( 50,136,189)],                                                                                              # noqa E501,E231,E201\n",
    "            [(213, 62, 79), (252,141, 89), (254,224,139), (255,255,191), (230,245,152), (153,213,148), ( 50,136,189)],                                                                               # noqa E501,E231,E201\n",
    "            [(213, 62, 79), (244,109, 67), (253,174, 97), (254,224,139), (230,245,152), (171,221,164), (102,194,165), ( 50,136,189)],                                                                # noqa E501,E231,E201\n",
    "            [(213, 62, 79), (244,109, 67), (253,174, 97), (254,224,139), (255,255,191), (230,245,152), (171,221,164), (102,194,165), ( 50,136,189)],                                                 # noqa E501,E231,E201\n",
    "            [(158,  1, 66), (213, 62, 79), (244,109, 67), (253,174, 97), (254,224,139), (230,245,152), (171,221,164), (102,194,165), ( 50,136,189), ( 94, 79,162)],                                  # noqa E501,E231,E201\n",
    "            [(158,  1, 66), (213, 62, 79), (244,109, 67), (253,174, 97), (254,224,139), (255,255,191), (230,245,152), (171,221,164), (102,194,165), ( 50,136,189), ( 94, 79,162)]                    # noqa E501,E231,E201\n",
    "        ],\n",
    "        \"RdYlGn\": [None, None, None,\n",
    "            [(252,141, 89), (255,255,191), (145,207, 96)],                                                                                                                                           # noqa E501,E231,E201\n",
    "            [(215, 25, 28), (253,174, 97), (166,217,106), ( 26,150, 65)],                                                                                                                            # noqa E501,E231,E201\n",
    "            [(215, 25, 28), (253,174, 97), (255,255,191), (166,217,106), ( 26,150, 65)],                                                                                                             # noqa E501,E231,E201\n",
    "            [(215, 48, 39), (252,141, 89), (254,224,139), (217,239,139), (145,207, 96), ( 26,152, 80)],                                                                                              # noqa E501,E231,E201\n",
    "            [(215, 48, 39), (252,141, 89), (254,224,139), (255,255,191), (217,239,139), (145,207, 96), ( 26,152, 80)],                                                                               # noqa E501,E231,E201\n",
    "            [(215, 48, 39), (244,109, 67), (253,174, 97), (254,224,139), (217,239,139), (166,217,106), (102,189, 99), ( 26,152, 80)],                                                                # noqa E501,E231,E201\n",
    "            [(215, 48, 39), (244,109, 67), (253,174, 97), (254,224,139), (255,255,191), (217,239,139), (166,217,106), (102,189, 99), ( 26,152, 80)],                                                 # noqa E501,E231,E201\n",
    "            [(165,  0, 38), (215, 48, 39), (244,109, 67), (253,174, 97), (254,224,139), (217,239,139), (166,217,106), (102,189, 99), ( 26,152, 80), (  0,104, 55)],                                  # noqa E501,E231,E201\n",
    "            [(165,  0, 38), (215, 48, 39), (244,109, 67), (253,174, 97), (254,224,139), (255,255,191), (217,239,139), (166,217,106), (102,189, 99), ( 26,152, 80), (  0,104, 55)]                    # noqa E501,E231,E201\n",
    "        ]\n",
    "    }\n",
    "\n",
    "    qualScheme = {\n",
    "        \"Accent\": [None, None, None,\n",
    "            [(127,201,127), (190,174,212), (253,192,134)],                                                                                                                                           # noqa E501,E231,E201\n",
    "            [(127,201,127), (190,174,212), (253,192,134), (255,255,153)],                                                                                                                            # noqa E501,E231,E201\n",
    "            [(127,201,127), (190,174,212), (253,192,134), (255,255,153), ( 56,108,176)],                                                                                                             # noqa E501,E231,E201\n",
    "            [(127,201,127), (190,174,212), (253,192,134), (255,255,153), ( 56,108,176), (240,  2,127)],                                                                                              # noqa E501,E231,E201\n",
    "            [(127,201,127), (190,174,212), (253,192,134), (255,255,153), ( 56,108,176), (240,  2,127), (191, 91, 23)],                                                                               # noqa E501,E231,E201\n",
    "            [(127,201,127), (190,174,212), (253,192,134), (255,255,153), ( 56,108,176), (240,  2,127), (191, 91, 23), (102,102,102)]                                                                 # noqa E501,E231,E201\n",
    "         ],\n",
    "        \"Set1\": [None, None, None,\n",
    "            [(228, 26, 28), ( 55,126,184), ( 77,175, 74)],                                                                                                                                           # noqa E501,E231,E201\n",
    "            [(228, 26, 28), ( 55,126,184), ( 77,175, 74), (152, 78,163)],                                                                                                                            # noqa E501,E231,E201\n",
    "            [(228, 26, 28), ( 55,126,184), ( 77,175, 74), (152, 78,163), (255,127,  0)],                                                                                                             # noqa E501,E231,E201\n",
    "            [(228, 26, 28), ( 55,126,184), ( 77,175, 74), (152, 78,163), (255,127,  0), (255,255, 51)],                                                                                              # noqa E501,E231,E201\n",
    "            [(228, 26, 28), ( 55,126,184), ( 77,175, 74), (152, 78,163), (255,127,  0), (255,255, 51), (166, 86, 40)],                                                                               # noqa E501,E231,E201\n",
    "            [(228, 26, 28), ( 55,126,184), ( 77,175, 74), (152, 78,163), (255,127,  0), (255,255, 51), (166, 86, 40), (247,129,191)],                                                                # noqa E501,E231,E201\n",
    "            [(228, 26, 28), ( 55,126,184), ( 77,175, 74), (152, 78,163), (255,127,  0), (255,255, 51), (166, 86, 40), (247,129,191), (153,153,153)]                                                  # noqa E501,E231,E201\n",
    "         ]\n",
    "    }\n",
    "\n",
    "    seqScheme = {\n",
    "        \"OrRd\": [None, None, None,\n",
    "            [(254,232,200), (253,187,132), (227, 74, 51)],                                                                                                                                           # noqa E501,E231,E201\n",
    "            [(254,240,217), (253,204,138), (252,141, 89), (215, 48, 31)],                                                                                                                            # noqa E501,E231,E201\n",
    "            [(254,240,217), (253,204,138), (252,141, 89), (227, 74, 51), (179,  0,  0)],                                                                                                             # noqa E501,E231,E201\n",
    "            [(254,240,217), (253,212,158), (253,187,132), (252,141, 89), (227, 74, 51), (179,  0,  0)],                                                                                              # noqa E501,E231,E201\n",
    "            [(254,240,217), (253,212,158), (253,187,132), (252,141, 89), (239,101, 72), (215, 48, 31), (153,  0,  0)],                                                                               # noqa E501,E231,E201\n",
    "            [(255,247,236), (254,232,200), (253,212,158), (253,187,132), (252,141, 89), (239,101, 72), (215, 48, 31), (153,  0,  0)],                                                                # noqa E501,E231,E201\n",
    "            [(255,247,236), (254,232,200), (253,212,158), (253,187,132), (252,141, 89), (239,101, 72), (215, 48, 31), (179,  0,  0), (127,  0,  0)]                                                  # noqa E501,E231,E201\n",
    "         ],\n",
    "        \"PuBu\": [None, None, None,\n",
    "            [(236,231,242), (166,189,219), ( 43,140,190)],                                                                                                                                           # noqa E501,E231,E201\n",
    "            [(241,238,246), (189,201,225), (116,169,207), (  5,112,176)],                                                                                                                            # noqa E501,E231,E201\n",
    "            [(241,238,246), (189,201,225), (116,169,207), ( 43,140,190), (  4, 90,141)],                                                                                                             # noqa E501,E231,E201\n",
    "            [(241,238,246), (208,209,230), (166,189,219), (116,169,207), ( 43,140,190), (  4, 90,141)],                                                                                              # noqa E501,E231,E201\n",
    "            [(241,238,246), (208,209,230), (166,189,219), (116,169,207), ( 54,144,192), (  5,112,176), (  3, 78,123)],                                                                               # noqa E501,E231,E201\n",
    "            [(255,247,251), (236,231,242), (208,209,230), (166,189,219), (116,169,207), ( 54,144,192), (  5,112,176), (  3, 78,123)],                                                                # noqa E501,E231,E201\n",
    "            [(255,247,251), (236,231,242), (208,209,230), (166,189,219), (116,169,207), ( 54,144,192), (  5,112,176), (  4, 90,141), (  2, 56, 88)]                                                  # noqa E501,E231,E201\n",
    "         ]\n",
    "   }\n",
    "\n",
    "    #\n",
    "    # Get interpolated results for non-discrete case\n",
    "    #\n",
    "\n",
    "    @classmethod\n",
    "    def _interpolate(cls, scheme, palette, series):\n",
    "        colors = scheme.get(palette)[-1]\n",
    "        f = rgbSpline()(colors)\n",
    "        scaledSeries = MinMaxScaler([0.0, 1.0]).fit_transform(series.values.reshape(-1, 1))\n",
    "        return [f(a) for a in scaledSeries]\n",
    "\n",
    "\n",
    "    #\n",
    "    # Get discrete results\n",
    "    #\n",
    "\n",
    "    @classmethod\n",
    "    def _get(cls, scheme, palette, size):\n",
    "        colors = scheme.get(palette)\n",
    "        if colors is None:\n",
    "            return []\n",
    "        elif size is None:\n",
    "            return colors\n",
    "        elif size == -1:\n",
    "            return colors[-1]\n",
    "        elif size < 3:\n",
    "            return colors[3][:size]\n",
    "        elif size < len(colors):\n",
    "            return colors[size]\n",
    "        else:\n",
    "            print(\"Warning: size too large for scheme, stacking largest color list to match size\")\n",
    "            colors = colors[-1]\n",
    "            factor = math.ceil(size / (len(colors) - 3))\n",
    "            return (colors * factor)[:size]\n",
    "\n",
    "    #\n",
    "    # Accessors\n",
    "    #\n",
    "\n",
    "    @classmethod\n",
    "    def div(cls, palette, sizeOrSeries, asString=False):\n",
    "        if isinstance(sizeOrSeries, int):\n",
    "            result = cls._get(cls.divScheme, palette, size=sizeOrSeries)\n",
    "        else:\n",
    "            result = cls._interpolate(cls.divScheme, palette, series=sizeOrSeries)\n",
    "        return rgb2str(result) if asString else result\n",
    "\n",
    "    @classmethod\n",
    "    def seq(cls, palette, sizeOrSeries, asString=False):\n",
    "        if isinstance(sizeOrSeries, int):\n",
    "            result = cls._get(cls.seqScheme, palette, size=sizeOrSeries)\n",
    "        else:\n",
    "            result = cls._interpolate(cls.seqScheme, palette, series=sizeOrSeries)\n",
    "        return rgb2str(result) if asString else result\n",
    "\n",
    "    @classmethod\n",
    "    def qual(cls, palette, sizeOrSeries, asString=False):\n",
    "        assert isinstance(sizeOrSeries, int), \"Qualitative palette cannot be used for non-discrete data\"\n",
    "        result = cls._get(cls.qualScheme, palette, size=sizeOrSeries)\n",
    "        return rgb2str(result) if asString else result\n"
   ]
  },
  {
   "cell_type": "code",
   "execution_count": 14,
   "metadata": {
    "collapsed": false
   },
   "outputs": [],
   "source": [
    "import random\n",
    "import pandas as pd\n",
    "\n",
    "data = {\"X\": [random.randint(-5,5) for i in range(20)],\n",
    "        \"Y\": [random.randint(10,100) for i in range(20)]}\n",
    "df = pd.DataFrame(data)"
   ]
  },
  {
   "cell_type": "code",
   "execution_count": 8,
   "metadata": {
    "collapsed": false
   },
   "outputs": [
    {
     "name": "stderr",
     "output_type": "stream",
     "text": [
      "/opt/miniconda/envs/py3/lib/python3.5/site-packages/sklearn/utils/validation.py:429: DataConversionWarning: Data with input dtype int64 was converted to float64 by MinMaxScaler.\n",
      "  warnings.warn(msg, _DataConversionWarning)\n"
     ]
    },
    {
     "data": {
      "text/html": [
       "<div>\n",
       "<table border=\"1\" class=\"dataframe\">\n",
       "  <thead>\n",
       "    <tr style=\"text-align: right;\">\n",
       "      <th></th>\n",
       "      <th>X</th>\n",
       "      <th>Y</th>\n",
       "      <th>color</th>\n",
       "    </tr>\n",
       "  </thead>\n",
       "  <tbody>\n",
       "    <tr>\n",
       "      <th>9</th>\n",
       "      <td>-5</td>\n",
       "      <td>63</td>\n",
       "      <td>158,1,66</td>\n",
       "    </tr>\n",
       "    <tr>\n",
       "      <th>2</th>\n",
       "      <td>-5</td>\n",
       "      <td>35</td>\n",
       "      <td>158,1,66</td>\n",
       "    </tr>\n",
       "    <tr>\n",
       "      <th>5</th>\n",
       "      <td>-5</td>\n",
       "      <td>31</td>\n",
       "      <td>158,1,66</td>\n",
       "    </tr>\n",
       "    <tr>\n",
       "      <th>13</th>\n",
       "      <td>-4</td>\n",
       "      <td>91</td>\n",
       "      <td>209,59,74</td>\n",
       "    </tr>\n",
       "    <tr>\n",
       "      <th>11</th>\n",
       "      <td>-3</td>\n",
       "      <td>29</td>\n",
       "      <td>240,111,74</td>\n",
       "    </tr>\n",
       "    <tr>\n",
       "      <th>16</th>\n",
       "      <td>-2</td>\n",
       "      <td>97</td>\n",
       "      <td>251,171,99</td>\n",
       "    </tr>\n",
       "    <tr>\n",
       "      <th>3</th>\n",
       "      <td>-2</td>\n",
       "      <td>89</td>\n",
       "      <td>251,171,99</td>\n",
       "    </tr>\n",
       "    <tr>\n",
       "      <th>19</th>\n",
       "      <td>-1</td>\n",
       "      <td>74</td>\n",
       "      <td>254,220,140</td>\n",
       "    </tr>\n",
       "    <tr>\n",
       "      <th>6</th>\n",
       "      <td>-1</td>\n",
       "      <td>29</td>\n",
       "      <td>254,220,140</td>\n",
       "    </tr>\n",
       "    <tr>\n",
       "      <th>10</th>\n",
       "      <td>0</td>\n",
       "      <td>31</td>\n",
       "      <td>250,248,175</td>\n",
       "    </tr>\n",
       "    <tr>\n",
       "      <th>17</th>\n",
       "      <td>0</td>\n",
       "      <td>26</td>\n",
       "      <td>250,248,175</td>\n",
       "    </tr>\n",
       "    <tr>\n",
       "      <th>14</th>\n",
       "      <td>1</td>\n",
       "      <td>74</td>\n",
       "      <td>224,242,160</td>\n",
       "    </tr>\n",
       "    <tr>\n",
       "      <th>15</th>\n",
       "      <td>1</td>\n",
       "      <td>52</td>\n",
       "      <td>224,242,160</td>\n",
       "    </tr>\n",
       "    <tr>\n",
       "      <th>0</th>\n",
       "      <td>1</td>\n",
       "      <td>11</td>\n",
       "      <td>224,242,160</td>\n",
       "    </tr>\n",
       "    <tr>\n",
       "      <th>7</th>\n",
       "      <td>2</td>\n",
       "      <td>89</td>\n",
       "      <td>169,220,162</td>\n",
       "    </tr>\n",
       "    <tr>\n",
       "      <th>4</th>\n",
       "      <td>3</td>\n",
       "      <td>95</td>\n",
       "      <td>104,188,168</td>\n",
       "    </tr>\n",
       "    <tr>\n",
       "      <th>8</th>\n",
       "      <td>4</td>\n",
       "      <td>12</td>\n",
       "      <td>66,136,180</td>\n",
       "    </tr>\n",
       "    <tr>\n",
       "      <th>12</th>\n",
       "      <td>4</td>\n",
       "      <td>53</td>\n",
       "      <td>66,136,180</td>\n",
       "    </tr>\n",
       "    <tr>\n",
       "      <th>18</th>\n",
       "      <td>5</td>\n",
       "      <td>79</td>\n",
       "      <td>94,79,162</td>\n",
       "    </tr>\n",
       "    <tr>\n",
       "      <th>1</th>\n",
       "      <td>5</td>\n",
       "      <td>88</td>\n",
       "      <td>94,79,162</td>\n",
       "    </tr>\n",
       "  </tbody>\n",
       "</table>\n",
       "</div>"
      ],
      "text/plain": [
       "    X   Y        color\n",
       "9  -5  63     158,1,66\n",
       "2  -5  35     158,1,66\n",
       "5  -5  31     158,1,66\n",
       "13 -4  91    209,59,74\n",
       "11 -3  29   240,111,74\n",
       "16 -2  97   251,171,99\n",
       "3  -2  89   251,171,99\n",
       "19 -1  74  254,220,140\n",
       "6  -1  29  254,220,140\n",
       "10  0  31  250,248,175\n",
       "17  0  26  250,248,175\n",
       "14  1  74  224,242,160\n",
       "15  1  52  224,242,160\n",
       "0   1  11  224,242,160\n",
       "7   2  89  169,220,162\n",
       "4   3  95  104,188,168\n",
       "8   4  12   66,136,180\n",
       "12  4  53   66,136,180\n",
       "18  5  79    94,79,162\n",
       "1   5  88    94,79,162"
      ]
     },
     "execution_count": 8,
     "metadata": {},
     "output_type": "execute_result"
    }
   ],
   "source": [
    "df[\"color\"] = ColorBrewer.div(\"Spectral\", df[\"X\"], asString=True)\n",
    "df.sort_values(\"X\")"
   ]
  },
  {
   "cell_type": "code",
   "execution_count": null,
   "metadata": {
    "collapsed": false
   },
   "outputs": [],
   "source": [
    "df[\"color2\"] = ColorBrewer.div(\"Spectral\", df[\"X\"], asString=True)\n",
    "df.sort_values(\"X\")"
   ]
  },
  {
   "cell_type": "code",
   "execution_count": 109,
   "metadata": {
    "collapsed": false
   },
   "outputs": [
    {
     "name": "stderr",
     "output_type": "stream",
     "text": [
      "/opt/miniconda/envs/py3/lib/python3.5/site-packages/sklearn/utils/validation.py:429: DataConversionWarning: Data with input dtype int64 was converted to float64 by MinMaxScaler.\n",
      "  warnings.warn(msg, _DataConversionWarning)\n"
     ]
    },
    {
     "ename": "ValueError",
     "evalue": "setting an array element with a sequence.",
     "output_type": "error",
     "traceback": [
      "\u001b[0;31m---------------------------------------------------------------------------\u001b[0m",
      "\u001b[0;31mValueError\u001b[0m                                Traceback (most recent call last)",
      "\u001b[0;32m<ipython-input-109-62258de88263>\u001b[0m in \u001b[0;36m<module>\u001b[0;34m()\u001b[0m\n\u001b[0;32m----> 1\u001b[0;31m \u001b[0mColorBrewer\u001b[0m\u001b[0;34m.\u001b[0m\u001b[0mdiv\u001b[0m\u001b[0;34m(\u001b[0m\u001b[0;34m\"Spectral\"\u001b[0m\u001b[0;34m,\u001b[0m \u001b[0mdf\u001b[0m\u001b[0;34m[\u001b[0m\u001b[0;34m\"X\"\u001b[0m\u001b[0;34m]\u001b[0m\u001b[0;34m,\u001b[0m \u001b[0masString\u001b[0m\u001b[0;34m=\u001b[0m\u001b[0;32mTrue\u001b[0m\u001b[0;34m)\u001b[0m\u001b[0;34m\u001b[0m\u001b[0m\n\u001b[0m",
      "\u001b[0;32m<ipython-input-107-99185d1d1007>\u001b[0m in \u001b[0;36mdiv\u001b[0;34m(cls, palette, sizeOrSeries, asString)\u001b[0m\n\u001b[1;32m    127\u001b[0m             \u001b[0mresult\u001b[0m \u001b[0;34m=\u001b[0m \u001b[0mcls\u001b[0m\u001b[0;34m.\u001b[0m\u001b[0m_get\u001b[0m\u001b[0;34m(\u001b[0m\u001b[0mcls\u001b[0m\u001b[0;34m.\u001b[0m\u001b[0mdivScheme\u001b[0m\u001b[0;34m,\u001b[0m \u001b[0mpalette\u001b[0m\u001b[0;34m,\u001b[0m \u001b[0msize\u001b[0m\u001b[0;34m=\u001b[0m\u001b[0msizeOrSeries\u001b[0m\u001b[0;34m)\u001b[0m\u001b[0;34m\u001b[0m\u001b[0m\n\u001b[1;32m    128\u001b[0m         \u001b[0;32melse\u001b[0m\u001b[0;34m:\u001b[0m\u001b[0;34m\u001b[0m\u001b[0m\n\u001b[0;32m--> 129\u001b[0;31m             \u001b[0mresult\u001b[0m \u001b[0;34m=\u001b[0m \u001b[0mcls\u001b[0m\u001b[0;34m.\u001b[0m\u001b[0m_interpolate\u001b[0m\u001b[0;34m(\u001b[0m\u001b[0mcls\u001b[0m\u001b[0;34m.\u001b[0m\u001b[0mdivScheme\u001b[0m\u001b[0;34m,\u001b[0m \u001b[0mpalette\u001b[0m\u001b[0;34m,\u001b[0m \u001b[0mseries\u001b[0m\u001b[0;34m=\u001b[0m\u001b[0msizeOrSeries\u001b[0m\u001b[0;34m)\u001b[0m\u001b[0;34m\u001b[0m\u001b[0m\n\u001b[0m\u001b[1;32m    130\u001b[0m         \u001b[0;32mreturn\u001b[0m \u001b[0mrgb2str\u001b[0m\u001b[0;34m(\u001b[0m\u001b[0mresult\u001b[0m\u001b[0;34m)\u001b[0m \u001b[0;32mif\u001b[0m \u001b[0masString\u001b[0m \u001b[0;32melse\u001b[0m \u001b[0mresult\u001b[0m\u001b[0;34m\u001b[0m\u001b[0m\n\u001b[1;32m    131\u001b[0m \u001b[0;34m\u001b[0m\u001b[0m\n",
      "\u001b[0;32m<ipython-input-107-99185d1d1007>\u001b[0m in \u001b[0;36m_interpolate\u001b[0;34m(cls, scheme, palette, series)\u001b[0m\n\u001b[1;32m     83\u001b[0m         \u001b[0mcolors\u001b[0m \u001b[0;34m=\u001b[0m \u001b[0mscheme\u001b[0m\u001b[0;34m.\u001b[0m\u001b[0mget\u001b[0m\u001b[0;34m(\u001b[0m\u001b[0mpalette\u001b[0m\u001b[0;34m)\u001b[0m\u001b[0;34m[\u001b[0m\u001b[0;34m-\u001b[0m\u001b[0;36m1\u001b[0m\u001b[0;34m]\u001b[0m\u001b[0;34m\u001b[0m\u001b[0m\n\u001b[1;32m     84\u001b[0m         \u001b[0mf\u001b[0m \u001b[0;34m=\u001b[0m \u001b[0mrgbSpline\u001b[0m\u001b[0;34m(\u001b[0m\u001b[0;34m)\u001b[0m\u001b[0;34m(\u001b[0m\u001b[0mcolors\u001b[0m\u001b[0;34m)\u001b[0m\u001b[0;34m\u001b[0m\u001b[0m\n\u001b[0;32m---> 85\u001b[0;31m         \u001b[0;32mreturn\u001b[0m \u001b[0mnp\u001b[0m\u001b[0;34m.\u001b[0m\u001b[0mfromiter\u001b[0m\u001b[0;34m(\u001b[0m\u001b[0;34m(\u001b[0m\u001b[0mf\u001b[0m\u001b[0;34m(\u001b[0m\u001b[0mxi\u001b[0m\u001b[0;34m)\u001b[0m \u001b[0;32mfor\u001b[0m \u001b[0mxi\u001b[0m \u001b[0;32min\u001b[0m \u001b[0mseries\u001b[0m\u001b[0;34m)\u001b[0m\u001b[0;34m,\u001b[0m \u001b[0mseries\u001b[0m\u001b[0;34m.\u001b[0m\u001b[0mdtype\u001b[0m\u001b[0;34m,\u001b[0m \u001b[0mcount\u001b[0m\u001b[0;34m=\u001b[0m\u001b[0mlen\u001b[0m\u001b[0;34m(\u001b[0m\u001b[0mseries\u001b[0m\u001b[0;34m)\u001b[0m\u001b[0;34m)\u001b[0m\u001b[0;34m\u001b[0m\u001b[0m\n\u001b[0m\u001b[1;32m     86\u001b[0m \u001b[0;34m\u001b[0m\u001b[0m\n\u001b[1;32m     87\u001b[0m \u001b[0;31m#        mina = min(series)\u001b[0m\u001b[0;34m\u001b[0m\u001b[0;34m\u001b[0m\u001b[0m\n",
      "\u001b[0;31mValueError\u001b[0m: setting an array element with a sequence."
     ]
    }
   ],
   "source": [
    "ColorBrewer.div(\"Spectral\", df[\"X\"], asString=True)"
   ]
  },
  {
   "cell_type": "code",
   "execution_count": 115,
   "metadata": {
    "collapsed": false
   },
   "outputs": [
    {
     "name": "stdout",
     "output_type": "stream",
     "text": [
      "1 loop, best of 3: 312 ms per loop\n"
     ]
    }
   ],
   "source": [
    "import math\n",
    "f = math.sqrt\n",
    "df = pd.DataFrame({\"X\": [x/10.0 for x in range(2000000)]})\n",
    "%timeit [f(x) for x in df[\"X\"]]"
   ]
  },
  {
   "cell_type": "code",
   "execution_count": 118,
   "metadata": {
    "collapsed": false
   },
   "outputs": [
    {
     "name": "stdout",
     "output_type": "stream",
     "text": [
      "1 loop, best of 3: 406 ms per loop\n"
     ]
    }
   ],
   "source": [
    "%timeit np.fromiter((f(xi) for xi in df[\"X\"]), df[\"X\"].dtype) # , count=len(df[\"X\"]))"
   ]
  },
  {
   "cell_type": "code",
   "execution_count": 11,
   "metadata": {
    "collapsed": true
   },
   "outputs": [],
   "source": [
    "from sklearn.preprocessing import MinMaxScaler\n",
    "import numpy as np"
   ]
  },
  {
   "cell_type": "code",
   "execution_count": 21,
   "metadata": {
    "collapsed": false
   },
   "outputs": [
    {
     "data": {
      "text/plain": [
       "array([[ 0.1       ],\n",
       "       [ 0.14736842],\n",
       "       [ 0.19473684],\n",
       "       [ 0.24210526],\n",
       "       [ 0.28947368],\n",
       "       [ 0.33684211],\n",
       "       [ 0.38421053],\n",
       "       [ 0.43157895],\n",
       "       [ 0.47894737],\n",
       "       [ 0.52631579],\n",
       "       [ 0.57368421],\n",
       "       [ 0.62105263],\n",
       "       [ 0.66842105],\n",
       "       [ 0.71578947],\n",
       "       [ 0.76315789],\n",
       "       [ 0.81052632],\n",
       "       [ 0.85789474],\n",
       "       [ 0.90526316],\n",
       "       [ 0.95263158],\n",
       "       [ 1.        ]])"
      ]
     },
     "execution_count": 21,
     "metadata": {},
     "output_type": "execute_result"
    }
   ],
   "source": [
    "MinMaxScaler([0.1, 1.0]).fit_transform(np.linspace(-5, 5, 20).reshape(-1,1))"
   ]
  },
  {
   "cell_type": "code",
   "execution_count": 22,
   "metadata": {
    "collapsed": false
   },
   "outputs": [
    {
     "name": "stderr",
     "output_type": "stream",
     "text": [
      "/opt/miniconda/envs/py3/lib/python3.5/site-packages/sklearn/utils/validation.py:429: DataConversionWarning: Data with input dtype int64 was converted to float64 by MinMaxScaler.\n",
      "  warnings.warn(msg, _DataConversionWarning)\n"
     ]
    },
    {
     "data": {
      "text/plain": [
       "array([[ 0.9],\n",
       "       [ 0.2],\n",
       "       [ 0.4],\n",
       "       [ 0.9],\n",
       "       [ 1. ],\n",
       "       [ 0.1],\n",
       "       [ 0.8],\n",
       "       [ 0.6],\n",
       "       [ 0.4],\n",
       "       [ 0.3],\n",
       "       [ 0.2],\n",
       "       [ 0.3],\n",
       "       [ 0.8],\n",
       "       [ 0.5],\n",
       "       [ 0.8],\n",
       "       [ 0.4],\n",
       "       [ 0.2],\n",
       "       [ 0.2],\n",
       "       [ 0.3],\n",
       "       [ 0.1]])"
      ]
     },
     "execution_count": 22,
     "metadata": {},
     "output_type": "execute_result"
    }
   ],
   "source": [
    "MinMaxScaler([0.1, 1.0]).fit_transform(df[\"X\"].values.reshape(-1,1))"
   ]
  },
  {
   "cell_type": "code",
   "execution_count": 27,
   "metadata": {
    "collapsed": false
   },
   "outputs": [
    {
     "name": "stderr",
     "output_type": "stream",
     "text": [
      "/opt/miniconda/envs/py3/lib/python3.5/site-packages/sklearn/utils/validation.py:429: DataConversionWarning: Data with input dtype int64 was converted to float64 by MinMaxScaler.\n",
      "  warnings.warn(msg, _DataConversionWarning)\n"
     ]
    },
    {
     "data": {
      "text/plain": [
       "array([[ 0.1       ],\n",
       "       [ 0.14736842],\n",
       "       [ 0.19473684],\n",
       "       [ 0.24210526],\n",
       "       [ 0.28947368],\n",
       "       [ 0.33684211],\n",
       "       [ 0.38421053],\n",
       "       [ 0.43157895],\n",
       "       [ 0.47894737],\n",
       "       [ 0.52631579],\n",
       "       [ 0.57368421],\n",
       "       [ 0.62105263],\n",
       "       [ 0.66842105],\n",
       "       [ 0.71578947],\n",
       "       [ 0.76315789],\n",
       "       [ 0.81052632],\n",
       "       [ 0.85789474],\n",
       "       [ 0.90526316],\n",
       "       [ 0.95263158],\n",
       "       [ 1.        ]])"
      ]
     },
     "execution_count": 27,
     "metadata": {},
     "output_type": "execute_result"
    }
   ],
   "source": [
    "MinMaxScaler([0.1, 1.0]).fit_transform(np.array(list(range(20))).reshape(-1,1))"
   ]
  },
  {
   "cell_type": "code",
   "execution_count": 25,
   "metadata": {
    "collapsed": true
   },
   "outputs": [],
   "source": [
    "np.array?"
   ]
  },
  {
   "cell_type": "code",
   "execution_count": 19,
   "metadata": {
    "collapsed": false
   },
   "outputs": [
    {
     "data": {
      "text/plain": [
       "pandas.core.series.Series"
      ]
     },
     "execution_count": 19,
     "metadata": {},
     "output_type": "execute_result"
    }
   ],
   "source": [
    "type(df[\"X\"])"
   ]
  },
  {
   "cell_type": "code",
   "execution_count": 20,
   "metadata": {
    "collapsed": false
   },
   "outputs": [
    {
     "data": {
      "text/plain": [
       "numpy.ndarray"
      ]
     },
     "execution_count": 20,
     "metadata": {},
     "output_type": "execute_result"
    }
   ],
   "source": [
    "type(np.linspace(-5, 5, 20))"
   ]
  },
  {
   "cell_type": "code",
   "execution_count": 36,
   "metadata": {
    "collapsed": true
   },
   "outputs": [],
   "source": [
    "def c(s):\n",
    "    if isinstance(s, (list, tuple)):\n",
    "        return np.array(s).reshape(-1, 1)\n",
    "    elif isinstance(s, np.ndarray):\n",
    "        return s.reshape(-1, 1)\n",
    "    elif isinstance(s, pd.core.series.Series):\n",
    "        return s.values.reshape(-1, 1)"
   ]
  },
  {
   "cell_type": "code",
   "execution_count": null,
   "metadata": {
    "collapsed": true
   },
   "outputs": [],
   "source": []
  },
  {
   "cell_type": "code",
   "execution_count": 59,
   "metadata": {
    "collapsed": true
   },
   "outputs": [],
   "source": [
    "def linscaler(start, end, array):\n",
    "    amin = min(array)\n",
    "    diff = max(array) - min(array)\n",
    "    return lambda x: (x - amin) / diff"
   ]
  },
  {
   "cell_type": "code",
   "execution_count": 68,
   "metadata": {
    "collapsed": true
   },
   "outputs": [],
   "source": [
    "l = 1000000\n",
    "a = [i/10 for i in range(l)]\n",
    "n = np.linspace(0, 1000, l)\n",
    "df = pd.DataFrame({\"X\":np.linspace(0, 1000, l)})\n",
    "d = df[\"X\"]"
   ]
  },
  {
   "cell_type": "code",
   "execution_count": 71,
   "metadata": {
    "collapsed": false
   },
   "outputs": [],
   "source": [
    "def test1(s):\n",
    "    return MinMaxScaler([0.1, 1.0]).fit_transform(c(s))\n",
    "\n",
    "def test2(s):\n",
    "    f = linscaler(0.1, 1.0, s)\n",
    "    return [f(x) for x in s]"
   ]
  },
  {
   "cell_type": "code",
   "execution_count": 74,
   "metadata": {
    "collapsed": false
   },
   "outputs": [
    {
     "name": "stdout",
     "output_type": "stream",
     "text": [
      "10 loops, best of 3: 46.9 ms per loop\n",
      "1 loop, best of 3: 276 ms per loop\n"
     ]
    }
   ],
   "source": [
    "%timeit test1(a)\n",
    "%timeit test2(a)"
   ]
  },
  {
   "cell_type": "code",
   "execution_count": 75,
   "metadata": {
    "collapsed": false
   },
   "outputs": [
    {
     "name": "stdout",
     "output_type": "stream",
     "text": [
      "100 loops, best of 3: 9.14 ms per loop\n",
      "1 loop, best of 3: 615 ms per loop\n"
     ]
    }
   ],
   "source": [
    "%timeit test1(s)\n",
    "%timeit test2(s)"
   ]
  },
  {
   "cell_type": "code",
   "execution_count": 76,
   "metadata": {
    "collapsed": false
   },
   "outputs": [
    {
     "name": "stdout",
     "output_type": "stream",
     "text": [
      "100 loops, best of 3: 8.91 ms per loop\n",
      "1 loop, best of 3: 610 ms per loop\n"
     ]
    }
   ],
   "source": [
    "%timeit test1(d)\n",
    "%timeit test2(d)"
   ]
  },
  {
   "cell_type": "code",
   "execution_count": null,
   "metadata": {
    "collapsed": false,
    "scrolled": false
   },
   "outputs": [],
   "source": [
    "MinMaxScaler([2, 20]).fit_transform(c(mpg[\"displ\"])).round()"
   ]
  },
  {
   "cell_type": "code",
   "execution_count": 81,
   "metadata": {
    "collapsed": false
   },
   "outputs": [
    {
     "data": {
      "text/plain": [
       "array([  2.,   3.,   3.,   4.,   4.,   5.,   6.,   6.,   7.,   8.,   8.,\n",
       "         9.,   9.,  10.,  11.,  11.,  12.,  13.,  13.,  14.,  14.,  15.,\n",
       "        16.,  16.,  17.,  18.,  18.,  19.,  19.,  20.])"
      ]
     },
     "execution_count": 81,
     "metadata": {},
     "output_type": "execute_result"
    }
   ],
   "source": [
    "np.linspace(2,20, 30).round()"
   ]
  },
  {
   "cell_type": "code",
   "execution_count": 7,
   "metadata": {
    "collapsed": true
   },
   "outputs": [],
   "source": [
    "import numpy as np"
   ]
  },
  {
   "cell_type": "code",
   "execution_count": 13,
   "metadata": {
    "collapsed": false
   },
   "outputs": [
    {
     "data": {
      "text/plain": [
       "array([ 3,  6,  9, 12, 15])"
      ]
     },
     "execution_count": 13,
     "metadata": {},
     "output_type": "execute_result"
    }
   ],
   "source": [
    "incr = 3\n",
    "start = 3\n",
    "size = 5\n",
    "np.arange(start, start + incr * size, incr)"
   ]
  },
  {
   "cell_type": "code",
   "execution_count": null,
   "metadata": {
    "collapsed": true
   },
   "outputs": [],
   "source": []
  }
 ],
 "metadata": {
  "kernelspec": {
   "display_name": "Python 3",
   "language": "python",
   "name": "python3"
  },
  "language_info": {
   "codemirror_mode": {
    "name": "ipython",
    "version": 3
   },
   "file_extension": ".py",
   "mimetype": "text/x-python",
   "name": "python",
   "nbconvert_exporter": "python",
   "pygments_lexer": "ipython3",
   "version": "3.5.2"
  }
 },
 "nbformat": 4,
 "nbformat_minor": 2
}
